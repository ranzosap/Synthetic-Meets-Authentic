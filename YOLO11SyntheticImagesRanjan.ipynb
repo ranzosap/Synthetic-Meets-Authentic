{
 "cells": [
  {
   "cell_type": "code",
   "execution_count": 1,
   "id": "b832f7d9-bf51-45ba-8213-de8a1db1a046",
   "metadata": {},
   "outputs": [
    {
     "name": "stdout",
     "output_type": "stream",
     "text": [
      "Requirement already satisfied: ultralytics in /home/mzc/anaconda3/lib/python3.11/site-packages (8.0.196)\n",
      "Collecting ultralytics\n",
      "  Downloading ultralytics-8.3.0-py3-none-any.whl.metadata (34 kB)\n",
      "Requirement already satisfied: numpy<2.0.0,>=1.23.0 in /home/mzc/anaconda3/lib/python3.11/site-packages (from ultralytics) (1.26.4)\n",
      "Requirement already satisfied: matplotlib>=3.3.0 in /home/mzc/anaconda3/lib/python3.11/site-packages (from ultralytics) (3.8.0)\n",
      "Requirement already satisfied: opencv-python>=4.6.0 in /home/mzc/anaconda3/lib/python3.11/site-packages (from ultralytics) (4.10.0.84)\n",
      "Requirement already satisfied: pillow>=7.1.2 in /home/mzc/anaconda3/lib/python3.11/site-packages (from ultralytics) (10.2.0)\n",
      "Requirement already satisfied: pyyaml>=5.3.1 in /home/mzc/anaconda3/lib/python3.11/site-packages (from ultralytics) (6.0.1)\n",
      "Requirement already satisfied: requests>=2.23.0 in /home/mzc/anaconda3/lib/python3.11/site-packages (from ultralytics) (2.31.0)\n",
      "Requirement already satisfied: scipy>=1.4.1 in /home/mzc/anaconda3/lib/python3.11/site-packages (from ultralytics) (1.11.4)\n",
      "Requirement already satisfied: torch>=1.8.0 in /home/mzc/anaconda3/lib/python3.11/site-packages (from ultralytics) (2.4.1)\n",
      "Requirement already satisfied: torchvision>=0.9.0 in /home/mzc/anaconda3/lib/python3.11/site-packages (from ultralytics) (0.19.1)\n",
      "Requirement already satisfied: tqdm>=4.64.0 in /home/mzc/anaconda3/lib/python3.11/site-packages (from ultralytics) (4.65.0)\n",
      "Requirement already satisfied: psutil in /home/mzc/anaconda3/lib/python3.11/site-packages (from ultralytics) (5.9.0)\n",
      "Requirement already satisfied: py-cpuinfo in /home/mzc/anaconda3/lib/python3.11/site-packages (from ultralytics) (9.0.0)\n",
      "Requirement already satisfied: pandas>=1.1.4 in /home/mzc/anaconda3/lib/python3.11/site-packages (from ultralytics) (2.1.4)\n",
      "Requirement already satisfied: seaborn>=0.11.0 in /home/mzc/anaconda3/lib/python3.11/site-packages (from ultralytics) (0.12.2)\n",
      "Requirement already satisfied: ultralytics-thop>=2.0.0 in /home/mzc/anaconda3/lib/python3.11/site-packages (from ultralytics) (2.0.6)\n",
      "Requirement already satisfied: contourpy>=1.0.1 in /home/mzc/anaconda3/lib/python3.11/site-packages (from matplotlib>=3.3.0->ultralytics) (1.2.0)\n",
      "Requirement already satisfied: cycler>=0.10 in /home/mzc/anaconda3/lib/python3.11/site-packages (from matplotlib>=3.3.0->ultralytics) (0.11.0)\n",
      "Requirement already satisfied: fonttools>=4.22.0 in /home/mzc/anaconda3/lib/python3.11/site-packages (from matplotlib>=3.3.0->ultralytics) (4.25.0)\n",
      "Requirement already satisfied: kiwisolver>=1.0.1 in /home/mzc/anaconda3/lib/python3.11/site-packages (from matplotlib>=3.3.0->ultralytics) (1.4.4)\n",
      "Requirement already satisfied: packaging>=20.0 in /home/mzc/anaconda3/lib/python3.11/site-packages (from matplotlib>=3.3.0->ultralytics) (24.1)\n",
      "Requirement already satisfied: pyparsing>=2.3.1 in /home/mzc/anaconda3/lib/python3.11/site-packages (from matplotlib>=3.3.0->ultralytics) (3.0.9)\n",
      "Requirement already satisfied: python-dateutil>=2.7 in /home/mzc/anaconda3/lib/python3.11/site-packages (from matplotlib>=3.3.0->ultralytics) (2.8.2)\n",
      "Requirement already satisfied: pytz>=2020.1 in /home/mzc/anaconda3/lib/python3.11/site-packages (from pandas>=1.1.4->ultralytics) (2023.3.post1)\n",
      "Requirement already satisfied: tzdata>=2022.1 in /home/mzc/anaconda3/lib/python3.11/site-packages (from pandas>=1.1.4->ultralytics) (2023.3)\n",
      "Requirement already satisfied: charset-normalizer<4,>=2 in /home/mzc/anaconda3/lib/python3.11/site-packages (from requests>=2.23.0->ultralytics) (2.0.4)\n",
      "Requirement already satisfied: idna<4,>=2.5 in /home/mzc/anaconda3/lib/python3.11/site-packages (from requests>=2.23.0->ultralytics) (3.7)\n",
      "Requirement already satisfied: urllib3<3,>=1.21.1 in /home/mzc/anaconda3/lib/python3.11/site-packages (from requests>=2.23.0->ultralytics) (1.26.20)\n",
      "Requirement already satisfied: certifi>=2017.4.17 in /home/mzc/anaconda3/lib/python3.11/site-packages (from requests>=2.23.0->ultralytics) (2024.2.2)\n",
      "Requirement already satisfied: filelock in /home/mzc/anaconda3/lib/python3.11/site-packages (from torch>=1.8.0->ultralytics) (3.13.1)\n",
      "Requirement already satisfied: typing-extensions>=4.8.0 in /home/mzc/anaconda3/lib/python3.11/site-packages (from torch>=1.8.0->ultralytics) (4.12.2)\n",
      "Requirement already satisfied: sympy in /home/mzc/anaconda3/lib/python3.11/site-packages (from torch>=1.8.0->ultralytics) (1.12)\n",
      "Requirement already satisfied: networkx in /home/mzc/anaconda3/lib/python3.11/site-packages (from torch>=1.8.0->ultralytics) (3.1)\n",
      "Requirement already satisfied: jinja2 in /home/mzc/anaconda3/lib/python3.11/site-packages (from torch>=1.8.0->ultralytics) (3.1.3)\n",
      "Requirement already satisfied: fsspec in /home/mzc/anaconda3/lib/python3.11/site-packages (from torch>=1.8.0->ultralytics) (2023.10.0)\n",
      "Requirement already satisfied: nvidia-cuda-nvrtc-cu12==12.1.105 in /home/mzc/anaconda3/lib/python3.11/site-packages (from torch>=1.8.0->ultralytics) (12.1.105)\n",
      "Requirement already satisfied: nvidia-cuda-runtime-cu12==12.1.105 in /home/mzc/anaconda3/lib/python3.11/site-packages (from torch>=1.8.0->ultralytics) (12.1.105)\n",
      "Requirement already satisfied: nvidia-cuda-cupti-cu12==12.1.105 in /home/mzc/anaconda3/lib/python3.11/site-packages (from torch>=1.8.0->ultralytics) (12.1.105)\n",
      "Requirement already satisfied: nvidia-cudnn-cu12==9.1.0.70 in /home/mzc/anaconda3/lib/python3.11/site-packages (from torch>=1.8.0->ultralytics) (9.1.0.70)\n",
      "Requirement already satisfied: nvidia-cublas-cu12==12.1.3.1 in /home/mzc/anaconda3/lib/python3.11/site-packages (from torch>=1.8.0->ultralytics) (12.1.3.1)\n",
      "Requirement already satisfied: nvidia-cufft-cu12==11.0.2.54 in /home/mzc/anaconda3/lib/python3.11/site-packages (from torch>=1.8.0->ultralytics) (11.0.2.54)\n",
      "Requirement already satisfied: nvidia-curand-cu12==10.3.2.106 in /home/mzc/anaconda3/lib/python3.11/site-packages (from torch>=1.8.0->ultralytics) (10.3.2.106)\n",
      "Requirement already satisfied: nvidia-cusolver-cu12==11.4.5.107 in /home/mzc/anaconda3/lib/python3.11/site-packages (from torch>=1.8.0->ultralytics) (11.4.5.107)\n",
      "Requirement already satisfied: nvidia-cusparse-cu12==12.1.0.106 in /home/mzc/anaconda3/lib/python3.11/site-packages (from torch>=1.8.0->ultralytics) (12.1.0.106)\n",
      "Requirement already satisfied: nvidia-nccl-cu12==2.20.5 in /home/mzc/anaconda3/lib/python3.11/site-packages (from torch>=1.8.0->ultralytics) (2.20.5)\n",
      "Requirement already satisfied: nvidia-nvtx-cu12==12.1.105 in /home/mzc/anaconda3/lib/python3.11/site-packages (from torch>=1.8.0->ultralytics) (12.1.105)\n",
      "Requirement already satisfied: triton==3.0.0 in /home/mzc/anaconda3/lib/python3.11/site-packages (from torch>=1.8.0->ultralytics) (3.0.0)\n",
      "Requirement already satisfied: nvidia-nvjitlink-cu12 in /home/mzc/anaconda3/lib/python3.11/site-packages (from nvidia-cusolver-cu12==11.4.5.107->torch>=1.8.0->ultralytics) (12.6.68)\n",
      "Requirement already satisfied: six>=1.5 in /home/mzc/anaconda3/lib/python3.11/site-packages (from python-dateutil>=2.7->matplotlib>=3.3.0->ultralytics) (1.16.0)\n",
      "Requirement already satisfied: MarkupSafe>=2.0 in /home/mzc/anaconda3/lib/python3.11/site-packages (from jinja2->torch>=1.8.0->ultralytics) (2.1.3)\n",
      "Requirement already satisfied: mpmath>=0.19 in /home/mzc/anaconda3/lib/python3.11/site-packages (from sympy->torch>=1.8.0->ultralytics) (1.3.0)\n",
      "Downloading ultralytics-8.3.0-py3-none-any.whl (881 kB)\n",
      "\u001b[2K   \u001b[38;2;114;156;31m━━━━━━━━━━━━━━━━━━━━━━━━━━━━━━━━━━━━━━━━\u001b[0m \u001b[32m881.3/881.3 kB\u001b[0m \u001b[31m8.4 MB/s\u001b[0m eta \u001b[36m0:00:00\u001b[0m[31m6.7 MB/s\u001b[0m eta \u001b[36m0:00:01\u001b[0m\n",
      "\u001b[?25hInstalling collected packages: ultralytics\n",
      "  Attempting uninstall: ultralytics\n",
      "    Found existing installation: ultralytics 8.0.196\n",
      "    Uninstalling ultralytics-8.0.196:\n",
      "      Successfully uninstalled ultralytics-8.0.196\n",
      "Successfully installed ultralytics-8.3.0\n"
     ]
    }
   ],
   "source": [
    "!pip install ultralytics --upgrade\n"
   ]
  },
  {
   "cell_type": "code",
   "execution_count": 2,
   "id": "7081bf29-5523-4641-a732-f7d23bda9b5f",
   "metadata": {},
   "outputs": [
    {
     "name": "stdout",
     "output_type": "stream",
     "text": [
      "Creating new Ultralytics Settings v0.0.6 file ✅ \n",
      "View Ultralytics Settings with 'yolo settings' or at '/home/mzc/.config/Ultralytics/settings.json'\n",
      "Update Settings with 'yolo settings key=value', i.e. 'yolo settings runs_dir=path/to/dir'. For help see https://docs.ultralytics.com/quickstart/#ultralytics-settings.\n"
     ]
    }
   ],
   "source": [
    "from ultralytics import YOLO\n",
    "import os\n"
   ]
  },
  {
   "cell_type": "code",
   "execution_count": 3,
   "id": "4da0d767-34b3-4076-8620-66d686aea9c6",
   "metadata": {},
   "outputs": [],
   "source": [
    "# Path to the dataset YAML file\n",
    "data_path = '/media/mzc/e4fcae9b-7400-4641-a800-034f249f8d14/mzc/aiIMAGEGENERATED/data.yaml'\n",
    "\n",
    "# Directory where the training results will be saved\n",
    "save_dir = '/media/mzc/e4fcae9b-7400-4641-a800-034f249f8d14/mzc/yolo11/YOLO11nTraining'\n",
    "\n",
    "# Create the directory if it doesn't exist\n",
    "os.makedirs(save_dir, exist_ok=True)\n"
   ]
  },
  {
   "cell_type": "code",
   "execution_count": 4,
   "id": "e358cf21-ea1f-4297-981d-a8ed29c1bd61",
   "metadata": {},
   "outputs": [
    {
     "name": "stdout",
     "output_type": "stream",
     "text": [
      "Downloading https://github.com/ultralytics/assets/releases/download/v8.3.0/yolo11n.pt to 'yolo11n.pt'...\n"
     ]
    },
    {
     "name": "stderr",
     "output_type": "stream",
     "text": [
      "100%|██████████████████████████████████████| 5.36M/5.36M [00:00<00:00, 13.1MB/s]\n"
     ]
    }
   ],
   "source": [
    "# Initialize the YOLO11n model\n",
    "model = YOLO(\"yolo11n.pt\")  # YOLO11 nano model"
   ]
  },
  {
   "cell_type": "code",
   "execution_count": 5,
   "id": "873e25cd-e478-49bb-bcb3-60586f254a4f",
   "metadata": {},
   "outputs": [
    {
     "name": "stdout",
     "output_type": "stream",
     "text": [
      "Ultralytics 8.3.0 🚀 Python-3.11.7 torch-2.4.1+cu121 CUDA:0 (NVIDIA TITAN Xp COLLECTORS EDITION, 12189MiB)\n",
      "\u001b[34m\u001b[1mengine/trainer: \u001b[0mtask=detect, mode=train, model=yolo11n.pt, data=/media/mzc/e4fcae9b-7400-4641-a800-034f249f8d14/mzc/aiIMAGEGENERATED/data.yaml, epochs=100, time=None, patience=100, batch=8, imgsz=640, save=True, save_period=10, cache=False, device=None, workers=8, project=/media/mzc/e4fcae9b-7400-4641-a800-034f249f8d14/mzc/yolo11/YOLO11nTraining, name=YOLO11n_Training, exist_ok=False, pretrained=True, optimizer=auto, verbose=True, seed=0, deterministic=True, single_cls=False, rect=False, cos_lr=False, close_mosaic=10, resume=False, amp=True, fraction=1.0, profile=False, freeze=None, multi_scale=False, overlap_mask=True, mask_ratio=4, dropout=0.0, val=True, split=val, save_json=False, save_hybrid=False, conf=None, iou=0.7, max_det=300, half=False, dnn=False, plots=True, source=None, vid_stride=1, stream_buffer=False, visualize=False, augment=False, agnostic_nms=False, classes=None, retina_masks=False, embed=None, show=False, save_frames=False, save_txt=False, save_conf=False, save_crop=False, show_labels=True, show_conf=True, show_boxes=True, line_width=None, format=torchscript, keras=False, optimize=False, int8=False, dynamic=False, simplify=True, opset=None, workspace=4, nms=False, lr0=0.01, lrf=0.01, momentum=0.937, weight_decay=0.0005, warmup_epochs=3.0, warmup_momentum=0.8, warmup_bias_lr=0.1, box=7.5, cls=0.5, dfl=1.5, pose=12.0, kobj=1.0, label_smoothing=0.0, nbs=64, hsv_h=0.015, hsv_s=0.7, hsv_v=0.4, degrees=0.0, translate=0.1, scale=0.5, shear=0.0, perspective=0.0, flipud=0.0, fliplr=0.5, bgr=0.0, mosaic=1.0, mixup=0.0, copy_paste=0.0, copy_paste_mode=flip, auto_augment=randaugment, erasing=0.4, crop_fraction=1.0, cfg=None, tracker=botsort.yaml, save_dir=/media/mzc/e4fcae9b-7400-4641-a800-034f249f8d14/mzc/yolo11/YOLO11nTraining/YOLO11n_Training\n",
      "Overriding model.yaml nc=80 with nc=1\n",
      "\n",
      "                   from  n    params  module                                       arguments                     \n",
      "  0                  -1  1       464  ultralytics.nn.modules.conv.Conv             [3, 16, 3, 2]                 \n",
      "  1                  -1  1      4672  ultralytics.nn.modules.conv.Conv             [16, 32, 3, 2]                \n",
      "  2                  -1  1      6640  ultralytics.nn.modules.block.C3k2            [32, 64, 1, False, 0.25]      \n",
      "  3                  -1  1     36992  ultralytics.nn.modules.conv.Conv             [64, 64, 3, 2]                \n",
      "  4                  -1  1     26080  ultralytics.nn.modules.block.C3k2            [64, 128, 1, False, 0.25]     \n",
      "  5                  -1  1    147712  ultralytics.nn.modules.conv.Conv             [128, 128, 3, 2]              \n",
      "  6                  -1  1     87040  ultralytics.nn.modules.block.C3k2            [128, 128, 1, True]           \n",
      "  7                  -1  1    295424  ultralytics.nn.modules.conv.Conv             [128, 256, 3, 2]              \n",
      "  8                  -1  1    346112  ultralytics.nn.modules.block.C3k2            [256, 256, 1, True]           \n",
      "  9                  -1  1    164608  ultralytics.nn.modules.block.SPPF            [256, 256, 5]                 \n",
      " 10                  -1  1    249728  ultralytics.nn.modules.block.C2PSA           [256, 256, 1]                 \n",
      " 11                  -1  1         0  torch.nn.modules.upsampling.Upsample         [None, 2, 'nearest']          \n",
      " 12             [-1, 6]  1         0  ultralytics.nn.modules.conv.Concat           [1]                           \n",
      " 13                  -1  1    111296  ultralytics.nn.modules.block.C3k2            [384, 128, 1, False]          \n",
      " 14                  -1  1         0  torch.nn.modules.upsampling.Upsample         [None, 2, 'nearest']          \n",
      " 15             [-1, 4]  1         0  ultralytics.nn.modules.conv.Concat           [1]                           \n",
      " 16                  -1  1     32096  ultralytics.nn.modules.block.C3k2            [256, 64, 1, False]           \n",
      " 17                  -1  1     36992  ultralytics.nn.modules.conv.Conv             [64, 64, 3, 2]                \n",
      " 18            [-1, 13]  1         0  ultralytics.nn.modules.conv.Concat           [1]                           \n",
      " 19                  -1  1     86720  ultralytics.nn.modules.block.C3k2            [192, 128, 1, False]          \n",
      " 20                  -1  1    147712  ultralytics.nn.modules.conv.Conv             [128, 128, 3, 2]              \n",
      " 21            [-1, 10]  1         0  ultralytics.nn.modules.conv.Concat           [1]                           \n",
      " 22                  -1  1    378880  ultralytics.nn.modules.block.C3k2            [384, 256, 1, True]           \n",
      " 23        [16, 19, 22]  1    430867  ultralytics.nn.modules.head.Detect           [1, [64, 128, 256]]           \n",
      "YOLO11n summary: 319 layers, 2,590,035 parameters, 2,590,019 gradients, 6.4 GFLOPs\n",
      "\n",
      "Transferred 448/499 items from pretrained weights\n",
      "Freezing layer 'model.23.dfl.conv.weight'\n",
      "\u001b[34m\u001b[1mAMP: \u001b[0mrunning Automatic Mixed Precision (AMP) checks with YOLOv8n...\n",
      "Downloading https://github.com/ultralytics/assets/releases/download/v8.3.0/yolov8n.pt to 'yolov8n.pt'...\n"
     ]
    },
    {
     "name": "stderr",
     "output_type": "stream",
     "text": [
      "100%|██████████████████████████████████████| 6.25M/6.25M [00:00<00:00, 26.3MB/s]\n"
     ]
    },
    {
     "name": "stdout",
     "output_type": "stream",
     "text": [
      "\u001b[34m\u001b[1mAMP: \u001b[0mchecks passed ✅\n"
     ]
    },
    {
     "name": "stderr",
     "output_type": "stream",
     "text": [
      "\u001b[34m\u001b[1mtrain: \u001b[0mScanning /media/mzc/e4fcae9b-7400-4641-a800-034f249f8d14/mzc/aiIMAGEGENER\u001b[0m\n",
      "\u001b[34m\u001b[1mval: \u001b[0mScanning /media/mzc/e4fcae9b-7400-4641-a800-034f249f8d14/mzc/aiIMAGEGENERAT\u001b[0m\n"
     ]
    },
    {
     "name": "stdout",
     "output_type": "stream",
     "text": [
      "Plotting labels to /media/mzc/e4fcae9b-7400-4641-a800-034f249f8d14/mzc/yolo11/YOLO11nTraining/YOLO11n_Training/labels.jpg... \n",
      "\u001b[34m\u001b[1moptimizer:\u001b[0m 'optimizer=auto' found, ignoring 'lr0=0.01' and 'momentum=0.937' and determining best 'optimizer', 'lr0' and 'momentum' automatically... \n",
      "\u001b[34m\u001b[1moptimizer:\u001b[0m AdamW(lr=0.002, momentum=0.9) with parameter groups 81 weight(decay=0.0), 88 weight(decay=0.0005), 87 bias(decay=0.0)\n",
      "Image sizes 640 train, 640 val\n",
      "Using 8 dataloader workers\n",
      "Logging results to \u001b[1m/media/mzc/e4fcae9b-7400-4641-a800-034f249f8d14/mzc/yolo11/YOLO11nTraining/YOLO11n_Training\u001b[0m\n",
      "Starting training for 100 epochs...\n",
      "\n",
      "      Epoch    GPU_mem   box_loss   cls_loss   dfl_loss  Instances       Size\n"
     ]
    },
    {
     "name": "stderr",
     "output_type": "stream",
     "text": [
      "      1/100      1.43G      1.182      1.553      1.261         23        640: 1\n",
      "                 Class     Images  Instances      Box(P          R      mAP50  m"
     ]
    },
    {
     "name": "stdout",
     "output_type": "stream",
     "text": [
      "                   all        255       2036      0.861      0.765      0.855      0.533\n"
     ]
    },
    {
     "name": "stderr",
     "output_type": "stream",
     "text": [
      "\n"
     ]
    },
    {
     "name": "stdout",
     "output_type": "stream",
     "text": [
      "\n",
      "      Epoch    GPU_mem   box_loss   cls_loss   dfl_loss  Instances       Size\n"
     ]
    },
    {
     "name": "stderr",
     "output_type": "stream",
     "text": [
      "      2/100      1.46G      1.155     0.9504      1.218         33        640: 1\n",
      "                 Class     Images  Instances      Box(P          R      mAP50  m"
     ]
    },
    {
     "name": "stdout",
     "output_type": "stream",
     "text": [
      "                   all        255       2036      0.856      0.862      0.915      0.596\n"
     ]
    },
    {
     "name": "stderr",
     "output_type": "stream",
     "text": [
      "\n"
     ]
    },
    {
     "name": "stdout",
     "output_type": "stream",
     "text": [
      "\n",
      "      Epoch    GPU_mem   box_loss   cls_loss   dfl_loss  Instances       Size\n"
     ]
    },
    {
     "name": "stderr",
     "output_type": "stream",
     "text": [
      "      3/100      1.45G      1.162     0.8988      1.221         26        640: 1\n",
      "                 Class     Images  Instances      Box(P          R      mAP50  m"
     ]
    },
    {
     "name": "stdout",
     "output_type": "stream",
     "text": [
      "                   all        255       2036      0.827      0.824      0.874      0.552\n"
     ]
    },
    {
     "name": "stderr",
     "output_type": "stream",
     "text": [
      "\n"
     ]
    },
    {
     "name": "stdout",
     "output_type": "stream",
     "text": [
      "\n",
      "      Epoch    GPU_mem   box_loss   cls_loss   dfl_loss  Instances       Size\n"
     ]
    },
    {
     "name": "stderr",
     "output_type": "stream",
     "text": [
      "      4/100      1.46G      1.137     0.8475       1.21         22        640: 1\n",
      "                 Class     Images  Instances      Box(P          R      mAP50  m\n"
     ]
    },
    {
     "name": "stdout",
     "output_type": "stream",
     "text": [
      "                   all        255       2036      0.843      0.831      0.893      0.583\n",
      "\n",
      "      Epoch    GPU_mem   box_loss   cls_loss   dfl_loss  Instances       Size\n"
     ]
    },
    {
     "name": "stderr",
     "output_type": "stream",
     "text": [
      "      5/100      1.47G      1.137     0.8003      1.204         58        640: 1\n",
      "                 Class     Images  Instances      Box(P          R      mAP50  m"
     ]
    },
    {
     "name": "stdout",
     "output_type": "stream",
     "text": [
      "                   all        255       2036       0.88      0.832      0.907       0.61\n"
     ]
    },
    {
     "name": "stderr",
     "output_type": "stream",
     "text": [
      "\n"
     ]
    },
    {
     "name": "stdout",
     "output_type": "stream",
     "text": [
      "\n",
      "      Epoch    GPU_mem   box_loss   cls_loss   dfl_loss  Instances       Size\n"
     ]
    },
    {
     "name": "stderr",
     "output_type": "stream",
     "text": [
      "      6/100      1.47G       1.12     0.7616      1.202         19        640: 1\n",
      "                 Class     Images  Instances      Box(P          R      mAP50  m"
     ]
    },
    {
     "name": "stdout",
     "output_type": "stream",
     "text": [
      "                   all        255       2036      0.887      0.832      0.916      0.596\n"
     ]
    },
    {
     "name": "stderr",
     "output_type": "stream",
     "text": [
      "\n"
     ]
    },
    {
     "name": "stdout",
     "output_type": "stream",
     "text": [
      "\n",
      "      Epoch    GPU_mem   box_loss   cls_loss   dfl_loss  Instances       Size\n"
     ]
    },
    {
     "name": "stderr",
     "output_type": "stream",
     "text": [
      "      7/100      1.46G      1.114     0.7419      1.192         33        640: 1\n",
      "                 Class     Images  Instances      Box(P          R      mAP50  m\n"
     ]
    },
    {
     "name": "stdout",
     "output_type": "stream",
     "text": [
      "                   all        255       2036      0.895      0.877      0.941      0.628\n",
      "\n",
      "      Epoch    GPU_mem   box_loss   cls_loss   dfl_loss  Instances       Size\n"
     ]
    },
    {
     "name": "stderr",
     "output_type": "stream",
     "text": [
      "      8/100      1.45G      1.101     0.7211       1.19         38        640: 1\n",
      "                 Class     Images  Instances      Box(P          R      mAP50  m\n"
     ]
    },
    {
     "name": "stdout",
     "output_type": "stream",
     "text": [
      "                   all        255       2036      0.875      0.869      0.932      0.612\n",
      "\n",
      "      Epoch    GPU_mem   box_loss   cls_loss   dfl_loss  Instances       Size\n"
     ]
    },
    {
     "name": "stderr",
     "output_type": "stream",
     "text": [
      "      9/100      1.45G      1.089     0.6972      1.188         61        640: 1\n",
      "                 Class     Images  Instances      Box(P          R      mAP50  m"
     ]
    },
    {
     "name": "stdout",
     "output_type": "stream",
     "text": [
      "                   all        255       2036      0.881      0.861      0.932       0.62\n"
     ]
    },
    {
     "name": "stderr",
     "output_type": "stream",
     "text": [
      "\n"
     ]
    },
    {
     "name": "stdout",
     "output_type": "stream",
     "text": [
      "\n",
      "      Epoch    GPU_mem   box_loss   cls_loss   dfl_loss  Instances       Size\n"
     ]
    },
    {
     "name": "stderr",
     "output_type": "stream",
     "text": [
      "     10/100      1.45G      1.069     0.6796      1.174         41        640: 1\n",
      "                 Class     Images  Instances      Box(P          R      mAP50  m"
     ]
    },
    {
     "name": "stdout",
     "output_type": "stream",
     "text": [
      "                   all        255       2036      0.893       0.85      0.937      0.624\n"
     ]
    },
    {
     "name": "stderr",
     "output_type": "stream",
     "text": [
      "\n"
     ]
    },
    {
     "name": "stdout",
     "output_type": "stream",
     "text": [
      "\n",
      "      Epoch    GPU_mem   box_loss   cls_loss   dfl_loss  Instances       Size\n"
     ]
    },
    {
     "name": "stderr",
     "output_type": "stream",
     "text": [
      "     11/100      1.46G      1.079     0.6794      1.187         44        640: 1\n",
      "                 Class     Images  Instances      Box(P          R      mAP50  m"
     ]
    },
    {
     "name": "stdout",
     "output_type": "stream",
     "text": [
      "                   all        255       2036       0.91       0.85      0.935      0.631\n"
     ]
    },
    {
     "name": "stderr",
     "output_type": "stream",
     "text": [
      "\n"
     ]
    },
    {
     "name": "stdout",
     "output_type": "stream",
     "text": [
      "\n",
      "      Epoch    GPU_mem   box_loss   cls_loss   dfl_loss  Instances       Size\n"
     ]
    },
    {
     "name": "stderr",
     "output_type": "stream",
     "text": [
      "     12/100      1.45G      1.072     0.6618      1.173         30        640: 1\n",
      "                 Class     Images  Instances      Box(P          R      mAP50  m"
     ]
    },
    {
     "name": "stdout",
     "output_type": "stream",
     "text": [
      "                   all        255       2036      0.917      0.847      0.943      0.637\n"
     ]
    },
    {
     "name": "stderr",
     "output_type": "stream",
     "text": [
      "\n"
     ]
    },
    {
     "name": "stdout",
     "output_type": "stream",
     "text": [
      "\n",
      "      Epoch    GPU_mem   box_loss   cls_loss   dfl_loss  Instances       Size\n"
     ]
    },
    {
     "name": "stderr",
     "output_type": "stream",
     "text": [
      "     13/100      1.47G       1.07     0.6585      1.171         14        640: 1\n",
      "                 Class     Images  Instances      Box(P          R      mAP50  m"
     ]
    },
    {
     "name": "stdout",
     "output_type": "stream",
     "text": [
      "                   all        255       2036      0.915      0.857      0.934      0.619\n"
     ]
    },
    {
     "name": "stderr",
     "output_type": "stream",
     "text": [
      "\n"
     ]
    },
    {
     "name": "stdout",
     "output_type": "stream",
     "text": [
      "\n",
      "      Epoch    GPU_mem   box_loss   cls_loss   dfl_loss  Instances       Size\n"
     ]
    },
    {
     "name": "stderr",
     "output_type": "stream",
     "text": [
      "     14/100      1.47G      1.044     0.6246       1.16         25        640: 1\n",
      "                 Class     Images  Instances      Box(P          R      mAP50  m"
     ]
    },
    {
     "name": "stdout",
     "output_type": "stream",
     "text": [
      "                   all        255       2036      0.902      0.855      0.934      0.632\n"
     ]
    },
    {
     "name": "stderr",
     "output_type": "stream",
     "text": [
      "\n"
     ]
    },
    {
     "name": "stdout",
     "output_type": "stream",
     "text": [
      "\n",
      "      Epoch    GPU_mem   box_loss   cls_loss   dfl_loss  Instances       Size\n"
     ]
    },
    {
     "name": "stderr",
     "output_type": "stream",
     "text": [
      "     15/100      1.46G       1.04     0.6284      1.167         26        640: 1\n",
      "                 Class     Images  Instances      Box(P          R      mAP50  m"
     ]
    },
    {
     "name": "stdout",
     "output_type": "stream",
     "text": [
      "                   all        255       2036      0.895      0.863       0.94      0.636\n"
     ]
    },
    {
     "name": "stderr",
     "output_type": "stream",
     "text": [
      "\n"
     ]
    },
    {
     "name": "stdout",
     "output_type": "stream",
     "text": [
      "\n",
      "      Epoch    GPU_mem   box_loss   cls_loss   dfl_loss  Instances       Size\n"
     ]
    },
    {
     "name": "stderr",
     "output_type": "stream",
     "text": [
      "     16/100      1.46G      1.054     0.6293      1.174         51        640: 1\n",
      "                 Class     Images  Instances      Box(P          R      mAP50  m"
     ]
    },
    {
     "name": "stdout",
     "output_type": "stream",
     "text": [
      "                   all        255       2036      0.909       0.85      0.936      0.619\n"
     ]
    },
    {
     "name": "stderr",
     "output_type": "stream",
     "text": [
      "\n"
     ]
    },
    {
     "name": "stdout",
     "output_type": "stream",
     "text": [
      "\n",
      "      Epoch    GPU_mem   box_loss   cls_loss   dfl_loss  Instances       Size\n"
     ]
    },
    {
     "name": "stderr",
     "output_type": "stream",
     "text": [
      "     17/100      1.45G      1.038     0.6136      1.158         43        640: 1\n",
      "                 Class     Images  Instances      Box(P          R      mAP50  m"
     ]
    },
    {
     "name": "stdout",
     "output_type": "stream",
     "text": [
      "                   all        255       2036      0.917      0.847      0.939      0.617\n"
     ]
    },
    {
     "name": "stderr",
     "output_type": "stream",
     "text": [
      "\n"
     ]
    },
    {
     "name": "stdout",
     "output_type": "stream",
     "text": [
      "\n",
      "      Epoch    GPU_mem   box_loss   cls_loss   dfl_loss  Instances       Size\n"
     ]
    },
    {
     "name": "stderr",
     "output_type": "stream",
     "text": [
      "     18/100      1.48G      1.036     0.6146      1.162         17        640: 1\n",
      "                 Class     Images  Instances      Box(P          R      mAP50  m"
     ]
    },
    {
     "name": "stdout",
     "output_type": "stream",
     "text": [
      "                   all        255       2036      0.908       0.87      0.949      0.651\n"
     ]
    },
    {
     "name": "stderr",
     "output_type": "stream",
     "text": [
      "\n"
     ]
    },
    {
     "name": "stdout",
     "output_type": "stream",
     "text": [
      "\n",
      "      Epoch    GPU_mem   box_loss   cls_loss   dfl_loss  Instances       Size\n"
     ]
    },
    {
     "name": "stderr",
     "output_type": "stream",
     "text": [
      "     19/100      1.44G      1.017     0.5969       1.15         25        640: 1\n",
      "                 Class     Images  Instances      Box(P          R      mAP50  m"
     ]
    },
    {
     "name": "stdout",
     "output_type": "stream",
     "text": [
      "                   all        255       2036      0.914      0.865      0.948      0.642\n"
     ]
    },
    {
     "name": "stderr",
     "output_type": "stream",
     "text": [
      "\n"
     ]
    },
    {
     "name": "stdout",
     "output_type": "stream",
     "text": [
      "\n",
      "      Epoch    GPU_mem   box_loss   cls_loss   dfl_loss  Instances       Size\n"
     ]
    },
    {
     "name": "stderr",
     "output_type": "stream",
     "text": [
      "     20/100      1.46G      1.023     0.5974      1.151         35        640: 1\n",
      "                 Class     Images  Instances      Box(P          R      mAP50  m"
     ]
    },
    {
     "name": "stdout",
     "output_type": "stream",
     "text": [
      "                   all        255       2036      0.889      0.892      0.952      0.639\n"
     ]
    },
    {
     "name": "stderr",
     "output_type": "stream",
     "text": [
      "\n"
     ]
    },
    {
     "name": "stdout",
     "output_type": "stream",
     "text": [
      "\n",
      "      Epoch    GPU_mem   box_loss   cls_loss   dfl_loss  Instances       Size\n"
     ]
    },
    {
     "name": "stderr",
     "output_type": "stream",
     "text": [
      "     21/100      1.46G      1.019      0.587      1.145         35        640: 1\n",
      "                 Class     Images  Instances      Box(P          R      mAP50  m"
     ]
    },
    {
     "name": "stdout",
     "output_type": "stream",
     "text": [
      "                   all        255       2036      0.894      0.875      0.947      0.642\n"
     ]
    },
    {
     "name": "stderr",
     "output_type": "stream",
     "text": [
      "\n"
     ]
    },
    {
     "name": "stdout",
     "output_type": "stream",
     "text": [
      "\n",
      "      Epoch    GPU_mem   box_loss   cls_loss   dfl_loss  Instances       Size\n"
     ]
    },
    {
     "name": "stderr",
     "output_type": "stream",
     "text": [
      "     22/100      1.44G      1.029     0.5998      1.155         29        640: 1\n",
      "                 Class     Images  Instances      Box(P          R      mAP50  m"
     ]
    },
    {
     "name": "stdout",
     "output_type": "stream",
     "text": [
      "                   all        255       2036      0.899      0.869      0.949       0.64\n"
     ]
    },
    {
     "name": "stderr",
     "output_type": "stream",
     "text": [
      "\n"
     ]
    },
    {
     "name": "stdout",
     "output_type": "stream",
     "text": [
      "\n",
      "      Epoch    GPU_mem   box_loss   cls_loss   dfl_loss  Instances       Size\n"
     ]
    },
    {
     "name": "stderr",
     "output_type": "stream",
     "text": [
      "     23/100      1.46G      1.018     0.5893      1.151         24        640: 1\n",
      "                 Class     Images  Instances      Box(P          R      mAP50  m"
     ]
    },
    {
     "name": "stdout",
     "output_type": "stream",
     "text": [
      "                   all        255       2036      0.901      0.871      0.947      0.654\n"
     ]
    },
    {
     "name": "stderr",
     "output_type": "stream",
     "text": [
      "\n"
     ]
    },
    {
     "name": "stdout",
     "output_type": "stream",
     "text": [
      "\n",
      "      Epoch    GPU_mem   box_loss   cls_loss   dfl_loss  Instances       Size\n"
     ]
    },
    {
     "name": "stderr",
     "output_type": "stream",
     "text": [
      "     24/100      1.44G      1.017     0.5922       1.15         33        640: 1\n",
      "                 Class     Images  Instances      Box(P          R      mAP50  m"
     ]
    },
    {
     "name": "stdout",
     "output_type": "stream",
     "text": [
      "                   all        255       2036      0.896      0.871      0.948       0.65\n"
     ]
    },
    {
     "name": "stderr",
     "output_type": "stream",
     "text": [
      "\n"
     ]
    },
    {
     "name": "stdout",
     "output_type": "stream",
     "text": [
      "\n",
      "      Epoch    GPU_mem   box_loss   cls_loss   dfl_loss  Instances       Size\n"
     ]
    },
    {
     "name": "stderr",
     "output_type": "stream",
     "text": [
      "     25/100      1.47G      1.017      0.597       1.15         49        640: 1\n",
      "                 Class     Images  Instances      Box(P          R      mAP50  m"
     ]
    },
    {
     "name": "stdout",
     "output_type": "stream",
     "text": [
      "                   all        255       2036      0.912      0.875      0.946      0.649\n"
     ]
    },
    {
     "name": "stderr",
     "output_type": "stream",
     "text": [
      "\n"
     ]
    },
    {
     "name": "stdout",
     "output_type": "stream",
     "text": [
      "\n",
      "      Epoch    GPU_mem   box_loss   cls_loss   dfl_loss  Instances       Size\n"
     ]
    },
    {
     "name": "stderr",
     "output_type": "stream",
     "text": [
      "     26/100      1.45G      1.003     0.5712      1.136         25        640: 1\n",
      "                 Class     Images  Instances      Box(P          R      mAP50  m"
     ]
    },
    {
     "name": "stdout",
     "output_type": "stream",
     "text": [
      "                   all        255       2036      0.894      0.855      0.933       0.63\n"
     ]
    },
    {
     "name": "stderr",
     "output_type": "stream",
     "text": [
      "\n"
     ]
    },
    {
     "name": "stdout",
     "output_type": "stream",
     "text": [
      "\n",
      "      Epoch    GPU_mem   box_loss   cls_loss   dfl_loss  Instances       Size\n"
     ]
    },
    {
     "name": "stderr",
     "output_type": "stream",
     "text": [
      "     27/100      1.44G      1.008     0.5676      1.141         20        640: 1\n",
      "                 Class     Images  Instances      Box(P          R      mAP50  m"
     ]
    },
    {
     "name": "stdout",
     "output_type": "stream",
     "text": [
      "                   all        255       2036      0.894      0.871      0.944      0.649\n"
     ]
    },
    {
     "name": "stderr",
     "output_type": "stream",
     "text": [
      "\n"
     ]
    },
    {
     "name": "stdout",
     "output_type": "stream",
     "text": [
      "\n",
      "      Epoch    GPU_mem   box_loss   cls_loss   dfl_loss  Instances       Size\n"
     ]
    },
    {
     "name": "stderr",
     "output_type": "stream",
     "text": [
      "     28/100      1.47G          1     0.5709      1.136         58        640: 1\n",
      "                 Class     Images  Instances      Box(P          R      mAP50  m"
     ]
    },
    {
     "name": "stdout",
     "output_type": "stream",
     "text": [
      "                   all        255       2036      0.897      0.873      0.953      0.661\n"
     ]
    },
    {
     "name": "stderr",
     "output_type": "stream",
     "text": [
      "\n"
     ]
    },
    {
     "name": "stdout",
     "output_type": "stream",
     "text": [
      "\n",
      "      Epoch    GPU_mem   box_loss   cls_loss   dfl_loss  Instances       Size\n"
     ]
    },
    {
     "name": "stderr",
     "output_type": "stream",
     "text": [
      "     29/100      1.46G     0.9928     0.5573       1.14         34        640: 1\n",
      "                 Class     Images  Instances      Box(P          R      mAP50  m"
     ]
    },
    {
     "name": "stdout",
     "output_type": "stream",
     "text": [
      "                   all        255       2036      0.886      0.894      0.946      0.656\n"
     ]
    },
    {
     "name": "stderr",
     "output_type": "stream",
     "text": [
      "\n"
     ]
    },
    {
     "name": "stdout",
     "output_type": "stream",
     "text": [
      "\n",
      "      Epoch    GPU_mem   box_loss   cls_loss   dfl_loss  Instances       Size\n"
     ]
    },
    {
     "name": "stderr",
     "output_type": "stream",
     "text": [
      "     30/100      1.46G      1.008     0.5629      1.147         18        640: 1\n",
      "                 Class     Images  Instances      Box(P          R      mAP50  m"
     ]
    },
    {
     "name": "stdout",
     "output_type": "stream",
     "text": [
      "                   all        255       2036      0.884       0.89      0.944       0.64\n"
     ]
    },
    {
     "name": "stderr",
     "output_type": "stream",
     "text": [
      "\n"
     ]
    },
    {
     "name": "stdout",
     "output_type": "stream",
     "text": [
      "\n",
      "      Epoch    GPU_mem   box_loss   cls_loss   dfl_loss  Instances       Size\n"
     ]
    },
    {
     "name": "stderr",
     "output_type": "stream",
     "text": [
      "     31/100      1.44G      1.004     0.5634      1.138         26        640: 1\n",
      "                 Class     Images  Instances      Box(P          R      mAP50  m"
     ]
    },
    {
     "name": "stdout",
     "output_type": "stream",
     "text": [
      "                   all        255       2036      0.905      0.869       0.95      0.649\n"
     ]
    },
    {
     "name": "stderr",
     "output_type": "stream",
     "text": [
      "\n"
     ]
    },
    {
     "name": "stdout",
     "output_type": "stream",
     "text": [
      "\n",
      "      Epoch    GPU_mem   box_loss   cls_loss   dfl_loss  Instances       Size\n"
     ]
    },
    {
     "name": "stderr",
     "output_type": "stream",
     "text": [
      "     32/100      1.45G     0.9865     0.5516      1.129         32        640: 1\n",
      "                 Class     Images  Instances      Box(P          R      mAP50  m"
     ]
    },
    {
     "name": "stdout",
     "output_type": "stream",
     "text": [
      "                   all        255       2036       0.92      0.865      0.952      0.662\n"
     ]
    },
    {
     "name": "stderr",
     "output_type": "stream",
     "text": [
      "\n"
     ]
    },
    {
     "name": "stdout",
     "output_type": "stream",
     "text": [
      "\n",
      "      Epoch    GPU_mem   box_loss   cls_loss   dfl_loss  Instances       Size\n"
     ]
    },
    {
     "name": "stderr",
     "output_type": "stream",
     "text": [
      "     33/100      1.47G     0.9855     0.5396      1.126         51        640: 1\n",
      "                 Class     Images  Instances      Box(P          R      mAP50  m"
     ]
    },
    {
     "name": "stdout",
     "output_type": "stream",
     "text": [
      "                   all        255       2036      0.908       0.87      0.947      0.653\n"
     ]
    },
    {
     "name": "stderr",
     "output_type": "stream",
     "text": [
      "\n"
     ]
    },
    {
     "name": "stdout",
     "output_type": "stream",
     "text": [
      "\n",
      "      Epoch    GPU_mem   box_loss   cls_loss   dfl_loss  Instances       Size\n"
     ]
    },
    {
     "name": "stderr",
     "output_type": "stream",
     "text": [
      "     34/100      1.46G     0.9815      0.544       1.12         25        640: 1\n",
      "                 Class     Images  Instances      Box(P          R      mAP50  m"
     ]
    },
    {
     "name": "stdout",
     "output_type": "stream",
     "text": [
      "                   all        255       2036      0.902      0.883      0.951      0.658\n"
     ]
    },
    {
     "name": "stderr",
     "output_type": "stream",
     "text": [
      "\n"
     ]
    },
    {
     "name": "stdout",
     "output_type": "stream",
     "text": [
      "\n",
      "      Epoch    GPU_mem   box_loss   cls_loss   dfl_loss  Instances       Size\n"
     ]
    },
    {
     "name": "stderr",
     "output_type": "stream",
     "text": [
      "     35/100      1.47G     0.9777     0.5434      1.116         35        640: 1\n",
      "                 Class     Images  Instances      Box(P          R      mAP50  m"
     ]
    },
    {
     "name": "stdout",
     "output_type": "stream",
     "text": [
      "                   all        255       2036      0.889      0.896      0.956      0.657\n"
     ]
    },
    {
     "name": "stderr",
     "output_type": "stream",
     "text": [
      "\n"
     ]
    },
    {
     "name": "stdout",
     "output_type": "stream",
     "text": [
      "\n",
      "      Epoch    GPU_mem   box_loss   cls_loss   dfl_loss  Instances       Size\n"
     ]
    },
    {
     "name": "stderr",
     "output_type": "stream",
     "text": [
      "     36/100      1.46G     0.9776     0.5523       1.13         26        640: 1\n",
      "                 Class     Images  Instances      Box(P          R      mAP50  m"
     ]
    },
    {
     "name": "stdout",
     "output_type": "stream",
     "text": [
      "                   all        255       2036       0.91      0.884      0.953      0.655\n"
     ]
    },
    {
     "name": "stderr",
     "output_type": "stream",
     "text": [
      "\n"
     ]
    },
    {
     "name": "stdout",
     "output_type": "stream",
     "text": [
      "\n",
      "      Epoch    GPU_mem   box_loss   cls_loss   dfl_loss  Instances       Size\n"
     ]
    },
    {
     "name": "stderr",
     "output_type": "stream",
     "text": [
      "     37/100      1.47G     0.9785     0.5369      1.122         20        640: 1\n",
      "                 Class     Images  Instances      Box(P          R      mAP50  m"
     ]
    },
    {
     "name": "stdout",
     "output_type": "stream",
     "text": [
      "                   all        255       2036      0.896      0.875      0.939      0.647\n"
     ]
    },
    {
     "name": "stderr",
     "output_type": "stream",
     "text": [
      "\n"
     ]
    },
    {
     "name": "stdout",
     "output_type": "stream",
     "text": [
      "\n",
      "      Epoch    GPU_mem   box_loss   cls_loss   dfl_loss  Instances       Size\n"
     ]
    },
    {
     "name": "stderr",
     "output_type": "stream",
     "text": [
      "     38/100      1.47G     0.9578     0.5281      1.113         40        640: 1\n",
      "                 Class     Images  Instances      Box(P          R      mAP50  m"
     ]
    },
    {
     "name": "stdout",
     "output_type": "stream",
     "text": [
      "                   all        255       2036      0.895      0.889      0.947      0.658\n"
     ]
    },
    {
     "name": "stderr",
     "output_type": "stream",
     "text": [
      "\n"
     ]
    },
    {
     "name": "stdout",
     "output_type": "stream",
     "text": [
      "\n",
      "      Epoch    GPU_mem   box_loss   cls_loss   dfl_loss  Instances       Size\n"
     ]
    },
    {
     "name": "stderr",
     "output_type": "stream",
     "text": [
      "     39/100      1.45G     0.9623     0.5291      1.124         23        640: 1\n",
      "                 Class     Images  Instances      Box(P          R      mAP50  m"
     ]
    },
    {
     "name": "stdout",
     "output_type": "stream",
     "text": [
      "                   all        255       2036      0.913      0.879      0.945      0.648\n"
     ]
    },
    {
     "name": "stderr",
     "output_type": "stream",
     "text": [
      "\n"
     ]
    },
    {
     "name": "stdout",
     "output_type": "stream",
     "text": [
      "\n",
      "      Epoch    GPU_mem   box_loss   cls_loss   dfl_loss  Instances       Size\n"
     ]
    },
    {
     "name": "stderr",
     "output_type": "stream",
     "text": [
      "     40/100      1.44G     0.9587     0.5204      1.116         40        640: 1\n",
      "                 Class     Images  Instances      Box(P          R      mAP50  m"
     ]
    },
    {
     "name": "stdout",
     "output_type": "stream",
     "text": [
      "                   all        255       2036      0.906      0.876      0.949      0.649\n"
     ]
    },
    {
     "name": "stderr",
     "output_type": "stream",
     "text": [
      "\n"
     ]
    },
    {
     "name": "stdout",
     "output_type": "stream",
     "text": [
      "\n",
      "      Epoch    GPU_mem   box_loss   cls_loss   dfl_loss  Instances       Size\n"
     ]
    },
    {
     "name": "stderr",
     "output_type": "stream",
     "text": [
      "     41/100      1.46G     0.9607     0.5267      1.118         48        640: 1\n",
      "                 Class     Images  Instances      Box(P          R      mAP50  m"
     ]
    },
    {
     "name": "stdout",
     "output_type": "stream",
     "text": [
      "                   all        255       2036      0.909      0.894      0.957      0.656\n"
     ]
    },
    {
     "name": "stderr",
     "output_type": "stream",
     "text": [
      "\n"
     ]
    },
    {
     "name": "stdout",
     "output_type": "stream",
     "text": [
      "\n",
      "      Epoch    GPU_mem   box_loss   cls_loss   dfl_loss  Instances       Size\n"
     ]
    },
    {
     "name": "stderr",
     "output_type": "stream",
     "text": [
      "     42/100      1.45G     0.9633     0.5154      1.116         17        640: 1\n",
      "                 Class     Images  Instances      Box(P          R      mAP50  m"
     ]
    },
    {
     "name": "stdout",
     "output_type": "stream",
     "text": [
      "                   all        255       2036      0.909      0.878      0.952      0.657\n"
     ]
    },
    {
     "name": "stderr",
     "output_type": "stream",
     "text": [
      "\n"
     ]
    },
    {
     "name": "stdout",
     "output_type": "stream",
     "text": [
      "\n",
      "      Epoch    GPU_mem   box_loss   cls_loss   dfl_loss  Instances       Size\n"
     ]
    },
    {
     "name": "stderr",
     "output_type": "stream",
     "text": [
      "     43/100      1.45G     0.9585     0.5188      1.113         38        640: 1\n",
      "                 Class     Images  Instances      Box(P          R      mAP50  m"
     ]
    },
    {
     "name": "stdout",
     "output_type": "stream",
     "text": [
      "                   all        255       2036      0.919      0.863      0.948      0.654\n"
     ]
    },
    {
     "name": "stderr",
     "output_type": "stream",
     "text": [
      "\n"
     ]
    },
    {
     "name": "stdout",
     "output_type": "stream",
     "text": [
      "\n",
      "      Epoch    GPU_mem   box_loss   cls_loss   dfl_loss  Instances       Size\n"
     ]
    },
    {
     "name": "stderr",
     "output_type": "stream",
     "text": [
      "     44/100      1.44G     0.9501     0.5138       1.11         35        640: 1\n",
      "                 Class     Images  Instances      Box(P          R      mAP50  m\n"
     ]
    },
    {
     "name": "stdout",
     "output_type": "stream",
     "text": [
      "                   all        255       2036      0.922      0.866      0.955      0.657\n",
      "\n",
      "      Epoch    GPU_mem   box_loss   cls_loss   dfl_loss  Instances       Size\n"
     ]
    },
    {
     "name": "stderr",
     "output_type": "stream",
     "text": [
      "     45/100      1.48G     0.9316      0.505      1.106         37        640: 1\n",
      "                 Class     Images  Instances      Box(P          R      mAP50  m"
     ]
    },
    {
     "name": "stdout",
     "output_type": "stream",
     "text": [
      "                   all        255       2036      0.912      0.879       0.95      0.666\n"
     ]
    },
    {
     "name": "stderr",
     "output_type": "stream",
     "text": [
      "\n"
     ]
    },
    {
     "name": "stdout",
     "output_type": "stream",
     "text": [
      "\n",
      "      Epoch    GPU_mem   box_loss   cls_loss   dfl_loss  Instances       Size\n"
     ]
    },
    {
     "name": "stderr",
     "output_type": "stream",
     "text": [
      "     46/100      1.46G     0.9378     0.5127      1.109         37        640: 1\n",
      "                 Class     Images  Instances      Box(P          R      mAP50  m"
     ]
    },
    {
     "name": "stdout",
     "output_type": "stream",
     "text": [
      "                   all        255       2036      0.923      0.874      0.957       0.66\n"
     ]
    },
    {
     "name": "stderr",
     "output_type": "stream",
     "text": [
      "\n"
     ]
    },
    {
     "name": "stdout",
     "output_type": "stream",
     "text": [
      "\n",
      "      Epoch    GPU_mem   box_loss   cls_loss   dfl_loss  Instances       Size\n"
     ]
    },
    {
     "name": "stderr",
     "output_type": "stream",
     "text": [
      "     47/100      1.47G     0.9407     0.5083      1.104         50        640: 1\n",
      "                 Class     Images  Instances      Box(P          R      mAP50  m"
     ]
    },
    {
     "name": "stdout",
     "output_type": "stream",
     "text": [
      "                   all        255       2036      0.885      0.904      0.953      0.664\n"
     ]
    },
    {
     "name": "stderr",
     "output_type": "stream",
     "text": [
      "\n"
     ]
    },
    {
     "name": "stdout",
     "output_type": "stream",
     "text": [
      "\n",
      "      Epoch    GPU_mem   box_loss   cls_loss   dfl_loss  Instances       Size\n"
     ]
    },
    {
     "name": "stderr",
     "output_type": "stream",
     "text": [
      "     48/100      1.44G     0.9459     0.5012      1.098         56        640: 1\n",
      "                 Class     Images  Instances      Box(P          R      mAP50  m"
     ]
    },
    {
     "name": "stdout",
     "output_type": "stream",
     "text": [
      "                   all        255       2036      0.908      0.879      0.952      0.663\n"
     ]
    },
    {
     "name": "stderr",
     "output_type": "stream",
     "text": [
      "\n"
     ]
    },
    {
     "name": "stdout",
     "output_type": "stream",
     "text": [
      "\n",
      "      Epoch    GPU_mem   box_loss   cls_loss   dfl_loss  Instances       Size\n"
     ]
    },
    {
     "name": "stderr",
     "output_type": "stream",
     "text": [
      "     49/100      1.46G     0.9249     0.5055      1.101         25        640: 1\n",
      "                 Class     Images  Instances      Box(P          R      mAP50  m"
     ]
    },
    {
     "name": "stdout",
     "output_type": "stream",
     "text": [
      "                   all        255       2036      0.888      0.892       0.95      0.653\n"
     ]
    },
    {
     "name": "stderr",
     "output_type": "stream",
     "text": [
      "\n"
     ]
    },
    {
     "name": "stdout",
     "output_type": "stream",
     "text": [
      "\n",
      "      Epoch    GPU_mem   box_loss   cls_loss   dfl_loss  Instances       Size\n"
     ]
    },
    {
     "name": "stderr",
     "output_type": "stream",
     "text": [
      "     50/100      1.45G     0.9428     0.5029      1.106         26        640: 1\n",
      "                 Class     Images  Instances      Box(P          R      mAP50  m"
     ]
    },
    {
     "name": "stdout",
     "output_type": "stream",
     "text": [
      "                   all        255       2036      0.899      0.885      0.944      0.656\n"
     ]
    },
    {
     "name": "stderr",
     "output_type": "stream",
     "text": [
      "\n"
     ]
    },
    {
     "name": "stdout",
     "output_type": "stream",
     "text": [
      "\n",
      "      Epoch    GPU_mem   box_loss   cls_loss   dfl_loss  Instances       Size\n"
     ]
    },
    {
     "name": "stderr",
     "output_type": "stream",
     "text": [
      "     51/100      1.47G     0.9377      0.503      1.102         49        640: 1\n",
      "                 Class     Images  Instances      Box(P          R      mAP50  m"
     ]
    },
    {
     "name": "stdout",
     "output_type": "stream",
     "text": [
      "                   all        255       2036      0.897      0.894      0.952      0.661\n"
     ]
    },
    {
     "name": "stderr",
     "output_type": "stream",
     "text": [
      "\n"
     ]
    },
    {
     "name": "stdout",
     "output_type": "stream",
     "text": [
      "\n",
      "      Epoch    GPU_mem   box_loss   cls_loss   dfl_loss  Instances       Size\n"
     ]
    },
    {
     "name": "stderr",
     "output_type": "stream",
     "text": [
      "     52/100      1.46G      0.927     0.4927      1.106         48        640: 1\n",
      "                 Class     Images  Instances      Box(P          R      mAP50  m"
     ]
    },
    {
     "name": "stdout",
     "output_type": "stream",
     "text": [
      "                   all        255       2036      0.899      0.884      0.948      0.657\n"
     ]
    },
    {
     "name": "stderr",
     "output_type": "stream",
     "text": [
      "\n"
     ]
    },
    {
     "name": "stdout",
     "output_type": "stream",
     "text": [
      "\n",
      "      Epoch    GPU_mem   box_loss   cls_loss   dfl_loss  Instances       Size\n"
     ]
    },
    {
     "name": "stderr",
     "output_type": "stream",
     "text": [
      "     53/100      1.45G     0.9216      0.491      1.091         30        640: 1\n",
      "                 Class     Images  Instances      Box(P          R      mAP50  m"
     ]
    },
    {
     "name": "stdout",
     "output_type": "stream",
     "text": [
      "                   all        255       2036      0.921      0.859      0.949      0.661\n"
     ]
    },
    {
     "name": "stderr",
     "output_type": "stream",
     "text": [
      "\n"
     ]
    },
    {
     "name": "stdout",
     "output_type": "stream",
     "text": [
      "\n",
      "      Epoch    GPU_mem   box_loss   cls_loss   dfl_loss  Instances       Size\n"
     ]
    },
    {
     "name": "stderr",
     "output_type": "stream",
     "text": [
      "     54/100      1.45G     0.9164     0.4884      1.094         35        640: 1\n",
      "                 Class     Images  Instances      Box(P          R      mAP50  m"
     ]
    },
    {
     "name": "stdout",
     "output_type": "stream",
     "text": [
      "                   all        255       2036      0.919      0.865      0.952      0.665\n"
     ]
    },
    {
     "name": "stderr",
     "output_type": "stream",
     "text": [
      "\n"
     ]
    },
    {
     "name": "stdout",
     "output_type": "stream",
     "text": [
      "\n",
      "      Epoch    GPU_mem   box_loss   cls_loss   dfl_loss  Instances       Size\n"
     ]
    },
    {
     "name": "stderr",
     "output_type": "stream",
     "text": [
      "     55/100      1.44G     0.9316     0.4903        1.1         41        640: 1\n",
      "                 Class     Images  Instances      Box(P          R      mAP50  m"
     ]
    },
    {
     "name": "stdout",
     "output_type": "stream",
     "text": [
      "                   all        255       2036      0.904      0.876      0.952      0.664\n"
     ]
    },
    {
     "name": "stderr",
     "output_type": "stream",
     "text": [
      "\n"
     ]
    },
    {
     "name": "stdout",
     "output_type": "stream",
     "text": [
      "\n",
      "      Epoch    GPU_mem   box_loss   cls_loss   dfl_loss  Instances       Size\n"
     ]
    },
    {
     "name": "stderr",
     "output_type": "stream",
     "text": [
      "     56/100      1.47G     0.9214     0.4833      1.098         38        640: 1\n",
      "                 Class     Images  Instances      Box(P          R      mAP50  m"
     ]
    },
    {
     "name": "stdout",
     "output_type": "stream",
     "text": [
      "                   all        255       2036      0.894      0.887      0.952      0.661\n"
     ]
    },
    {
     "name": "stderr",
     "output_type": "stream",
     "text": [
      "\n"
     ]
    },
    {
     "name": "stdout",
     "output_type": "stream",
     "text": [
      "\n",
      "      Epoch    GPU_mem   box_loss   cls_loss   dfl_loss  Instances       Size\n"
     ]
    },
    {
     "name": "stderr",
     "output_type": "stream",
     "text": [
      "     57/100      1.45G     0.9051     0.4776      1.089         38        640: 1\n",
      "                 Class     Images  Instances      Box(P          R      mAP50  m"
     ]
    },
    {
     "name": "stdout",
     "output_type": "stream",
     "text": [
      "                   all        255       2036       0.91      0.884      0.952      0.663\n"
     ]
    },
    {
     "name": "stderr",
     "output_type": "stream",
     "text": [
      "\n"
     ]
    },
    {
     "name": "stdout",
     "output_type": "stream",
     "text": [
      "\n",
      "      Epoch    GPU_mem   box_loss   cls_loss   dfl_loss  Instances       Size\n"
     ]
    },
    {
     "name": "stderr",
     "output_type": "stream",
     "text": [
      "     58/100      1.45G     0.9111      0.479      1.088         55        640: 1\n",
      "                 Class     Images  Instances      Box(P          R      mAP50  m"
     ]
    },
    {
     "name": "stdout",
     "output_type": "stream",
     "text": [
      "                   all        255       2036      0.914      0.873      0.955      0.666\n"
     ]
    },
    {
     "name": "stderr",
     "output_type": "stream",
     "text": [
      "\n"
     ]
    },
    {
     "name": "stdout",
     "output_type": "stream",
     "text": [
      "\n",
      "      Epoch    GPU_mem   box_loss   cls_loss   dfl_loss  Instances       Size\n"
     ]
    },
    {
     "name": "stderr",
     "output_type": "stream",
     "text": [
      "     59/100      1.46G     0.8947      0.472      1.083         44        640: 1\n",
      "                 Class     Images  Instances      Box(P          R      mAP50  m"
     ]
    },
    {
     "name": "stdout",
     "output_type": "stream",
     "text": [
      "                   all        255       2036      0.902      0.878       0.95      0.662\n"
     ]
    },
    {
     "name": "stderr",
     "output_type": "stream",
     "text": [
      "\n"
     ]
    },
    {
     "name": "stdout",
     "output_type": "stream",
     "text": [
      "\n",
      "      Epoch    GPU_mem   box_loss   cls_loss   dfl_loss  Instances       Size\n"
     ]
    },
    {
     "name": "stderr",
     "output_type": "stream",
     "text": [
      "     60/100      1.45G      0.907     0.4782      1.085         19        640: 1\n",
      "                 Class     Images  Instances      Box(P          R      mAP50  m"
     ]
    },
    {
     "name": "stdout",
     "output_type": "stream",
     "text": [
      "                   all        255       2036      0.889      0.883      0.947      0.646\n"
     ]
    },
    {
     "name": "stderr",
     "output_type": "stream",
     "text": [
      "\n"
     ]
    },
    {
     "name": "stdout",
     "output_type": "stream",
     "text": [
      "\n",
      "      Epoch    GPU_mem   box_loss   cls_loss   dfl_loss  Instances       Size\n"
     ]
    },
    {
     "name": "stderr",
     "output_type": "stream",
     "text": [
      "     61/100      1.46G     0.9094     0.4793      1.086         45        640: 1\n",
      "                 Class     Images  Instances      Box(P          R      mAP50  m"
     ]
    },
    {
     "name": "stdout",
     "output_type": "stream",
     "text": [
      "                   all        255       2036      0.894      0.889      0.951      0.668\n"
     ]
    },
    {
     "name": "stderr",
     "output_type": "stream",
     "text": [
      "\n"
     ]
    },
    {
     "name": "stdout",
     "output_type": "stream",
     "text": [
      "\n",
      "      Epoch    GPU_mem   box_loss   cls_loss   dfl_loss  Instances       Size\n"
     ]
    },
    {
     "name": "stderr",
     "output_type": "stream",
     "text": [
      "     62/100      1.45G     0.8967     0.4701      1.082         33        640: 1\n",
      "                 Class     Images  Instances      Box(P          R      mAP50  m"
     ]
    },
    {
     "name": "stdout",
     "output_type": "stream",
     "text": [
      "                   all        255       2036      0.897      0.892      0.952      0.661\n"
     ]
    },
    {
     "name": "stderr",
     "output_type": "stream",
     "text": [
      "\n"
     ]
    },
    {
     "name": "stdout",
     "output_type": "stream",
     "text": [
      "\n",
      "      Epoch    GPU_mem   box_loss   cls_loss   dfl_loss  Instances       Size\n"
     ]
    },
    {
     "name": "stderr",
     "output_type": "stream",
     "text": [
      "     63/100      1.45G     0.8926     0.4677      1.079         32        640: 1\n",
      "                 Class     Images  Instances      Box(P          R      mAP50  m"
     ]
    },
    {
     "name": "stdout",
     "output_type": "stream",
     "text": [
      "                   all        255       2036      0.904      0.873      0.953      0.666\n"
     ]
    },
    {
     "name": "stderr",
     "output_type": "stream",
     "text": [
      "\n"
     ]
    },
    {
     "name": "stdout",
     "output_type": "stream",
     "text": [
      "\n",
      "      Epoch    GPU_mem   box_loss   cls_loss   dfl_loss  Instances       Size\n"
     ]
    },
    {
     "name": "stderr",
     "output_type": "stream",
     "text": [
      "     64/100      1.46G     0.8974     0.4741      1.087         25        640: 1\n",
      "                 Class     Images  Instances      Box(P          R      mAP50  m"
     ]
    },
    {
     "name": "stdout",
     "output_type": "stream",
     "text": [
      "                   all        255       2036      0.918      0.861       0.95      0.667\n"
     ]
    },
    {
     "name": "stderr",
     "output_type": "stream",
     "text": [
      "\n"
     ]
    },
    {
     "name": "stdout",
     "output_type": "stream",
     "text": [
      "\n",
      "      Epoch    GPU_mem   box_loss   cls_loss   dfl_loss  Instances       Size\n"
     ]
    },
    {
     "name": "stderr",
     "output_type": "stream",
     "text": [
      "     65/100      1.45G     0.8853     0.4621      1.082         55        640: 1\n",
      "                 Class     Images  Instances      Box(P          R      mAP50  m"
     ]
    },
    {
     "name": "stdout",
     "output_type": "stream",
     "text": [
      "                   all        255       2036      0.899      0.894      0.953      0.668\n"
     ]
    },
    {
     "name": "stderr",
     "output_type": "stream",
     "text": [
      "\n"
     ]
    },
    {
     "name": "stdout",
     "output_type": "stream",
     "text": [
      "\n",
      "      Epoch    GPU_mem   box_loss   cls_loss   dfl_loss  Instances       Size\n"
     ]
    },
    {
     "name": "stderr",
     "output_type": "stream",
     "text": [
      "     66/100      1.46G     0.8836     0.4584      1.081         29        640: 1\n",
      "                 Class     Images  Instances      Box(P          R      mAP50  m"
     ]
    },
    {
     "name": "stdout",
     "output_type": "stream",
     "text": [
      "                   all        255       2036      0.894      0.893      0.954      0.662\n"
     ]
    },
    {
     "name": "stderr",
     "output_type": "stream",
     "text": [
      "\n"
     ]
    },
    {
     "name": "stdout",
     "output_type": "stream",
     "text": [
      "\n",
      "      Epoch    GPU_mem   box_loss   cls_loss   dfl_loss  Instances       Size\n"
     ]
    },
    {
     "name": "stderr",
     "output_type": "stream",
     "text": [
      "     67/100      1.45G     0.8837     0.4634      1.074         31        640: 1\n",
      "                 Class     Images  Instances      Box(P          R      mAP50  m"
     ]
    },
    {
     "name": "stdout",
     "output_type": "stream",
     "text": [
      "                   all        255       2036      0.909      0.877      0.952      0.661\n"
     ]
    },
    {
     "name": "stderr",
     "output_type": "stream",
     "text": [
      "\n"
     ]
    },
    {
     "name": "stdout",
     "output_type": "stream",
     "text": [
      "\n",
      "      Epoch    GPU_mem   box_loss   cls_loss   dfl_loss  Instances       Size\n"
     ]
    },
    {
     "name": "stderr",
     "output_type": "stream",
     "text": [
      "     68/100      1.47G     0.8741     0.4553       1.07         61        640: 1\n",
      "                 Class     Images  Instances      Box(P          R      mAP50  m"
     ]
    },
    {
     "name": "stdout",
     "output_type": "stream",
     "text": [
      "                   all        255       2036      0.898      0.899      0.955      0.673\n"
     ]
    },
    {
     "name": "stderr",
     "output_type": "stream",
     "text": [
      "\n"
     ]
    },
    {
     "name": "stdout",
     "output_type": "stream",
     "text": [
      "\n",
      "      Epoch    GPU_mem   box_loss   cls_loss   dfl_loss  Instances       Size\n"
     ]
    },
    {
     "name": "stderr",
     "output_type": "stream",
     "text": [
      "     69/100      1.45G     0.8744     0.4557      1.075         36        640: 1\n",
      "                 Class     Images  Instances      Box(P          R      mAP50  m"
     ]
    },
    {
     "name": "stdout",
     "output_type": "stream",
     "text": [
      "                   all        255       2036      0.916      0.882      0.958      0.678\n"
     ]
    },
    {
     "name": "stderr",
     "output_type": "stream",
     "text": [
      "\n"
     ]
    },
    {
     "name": "stdout",
     "output_type": "stream",
     "text": [
      "\n",
      "      Epoch    GPU_mem   box_loss   cls_loss   dfl_loss  Instances       Size\n"
     ]
    },
    {
     "name": "stderr",
     "output_type": "stream",
     "text": [
      "     70/100      1.47G     0.8759      0.452      1.074         20        640: 1\n",
      "                 Class     Images  Instances      Box(P          R      mAP50  m"
     ]
    },
    {
     "name": "stdout",
     "output_type": "stream",
     "text": [
      "                   all        255       2036      0.909      0.883       0.96      0.674\n"
     ]
    },
    {
     "name": "stderr",
     "output_type": "stream",
     "text": [
      "\n"
     ]
    },
    {
     "name": "stdout",
     "output_type": "stream",
     "text": [
      "\n",
      "      Epoch    GPU_mem   box_loss   cls_loss   dfl_loss  Instances       Size\n"
     ]
    },
    {
     "name": "stderr",
     "output_type": "stream",
     "text": [
      "     71/100      1.49G     0.8734     0.4534      1.082         28        640: 1\n",
      "                 Class     Images  Instances      Box(P          R      mAP50  m"
     ]
    },
    {
     "name": "stdout",
     "output_type": "stream",
     "text": [
      "                   all        255       2036      0.899      0.894      0.956      0.664\n"
     ]
    },
    {
     "name": "stderr",
     "output_type": "stream",
     "text": [
      "\n"
     ]
    },
    {
     "name": "stdout",
     "output_type": "stream",
     "text": [
      "\n",
      "      Epoch    GPU_mem   box_loss   cls_loss   dfl_loss  Instances       Size\n"
     ]
    },
    {
     "name": "stderr",
     "output_type": "stream",
     "text": [
      "     72/100      1.46G     0.8643     0.4479      1.063         17        640: 1\n",
      "                 Class     Images  Instances      Box(P          R      mAP50  m"
     ]
    },
    {
     "name": "stdout",
     "output_type": "stream",
     "text": [
      "                   all        255       2036      0.916       0.87      0.953      0.671\n"
     ]
    },
    {
     "name": "stderr",
     "output_type": "stream",
     "text": [
      "\n"
     ]
    },
    {
     "name": "stdout",
     "output_type": "stream",
     "text": [
      "\n",
      "      Epoch    GPU_mem   box_loss   cls_loss   dfl_loss  Instances       Size\n"
     ]
    },
    {
     "name": "stderr",
     "output_type": "stream",
     "text": [
      "     73/100      1.44G     0.8522     0.4451      1.064         38        640: 1\n",
      "                 Class     Images  Instances      Box(P          R      mAP50  m"
     ]
    },
    {
     "name": "stdout",
     "output_type": "stream",
     "text": [
      "                   all        255       2036      0.904       0.89      0.951      0.661\n"
     ]
    },
    {
     "name": "stderr",
     "output_type": "stream",
     "text": [
      "\n"
     ]
    },
    {
     "name": "stdout",
     "output_type": "stream",
     "text": [
      "\n",
      "      Epoch    GPU_mem   box_loss   cls_loss   dfl_loss  Instances       Size\n"
     ]
    },
    {
     "name": "stderr",
     "output_type": "stream",
     "text": [
      "     74/100      1.47G     0.8661     0.4497       1.07         50        640: 1\n",
      "                 Class     Images  Instances      Box(P          R      mAP50  m"
     ]
    },
    {
     "name": "stdout",
     "output_type": "stream",
     "text": [
      "                   all        255       2036      0.909      0.864      0.952      0.667\n"
     ]
    },
    {
     "name": "stderr",
     "output_type": "stream",
     "text": [
      "\n"
     ]
    },
    {
     "name": "stdout",
     "output_type": "stream",
     "text": [
      "\n",
      "      Epoch    GPU_mem   box_loss   cls_loss   dfl_loss  Instances       Size\n"
     ]
    },
    {
     "name": "stderr",
     "output_type": "stream",
     "text": [
      "     75/100      1.44G     0.8572     0.4422      1.067         36        640: 1\n",
      "                 Class     Images  Instances      Box(P          R      mAP50  m"
     ]
    },
    {
     "name": "stdout",
     "output_type": "stream",
     "text": [
      "                   all        255       2036      0.914      0.874      0.952      0.667\n"
     ]
    },
    {
     "name": "stderr",
     "output_type": "stream",
     "text": [
      "\n"
     ]
    },
    {
     "name": "stdout",
     "output_type": "stream",
     "text": [
      "\n",
      "      Epoch    GPU_mem   box_loss   cls_loss   dfl_loss  Instances       Size\n"
     ]
    },
    {
     "name": "stderr",
     "output_type": "stream",
     "text": [
      "     76/100      1.47G     0.8621     0.4436      1.063         33        640: 1\n",
      "                 Class     Images  Instances      Box(P          R      mAP50  m"
     ]
    },
    {
     "name": "stdout",
     "output_type": "stream",
     "text": [
      "                   all        255       2036        0.9       0.89      0.955      0.666\n"
     ]
    },
    {
     "name": "stderr",
     "output_type": "stream",
     "text": [
      "\n"
     ]
    },
    {
     "name": "stdout",
     "output_type": "stream",
     "text": [
      "\n",
      "      Epoch    GPU_mem   box_loss   cls_loss   dfl_loss  Instances       Size\n"
     ]
    },
    {
     "name": "stderr",
     "output_type": "stream",
     "text": [
      "     77/100      1.48G      0.846     0.4391      1.061         51        640: 1\n",
      "                 Class     Images  Instances      Box(P          R      mAP50  m"
     ]
    },
    {
     "name": "stdout",
     "output_type": "stream",
     "text": [
      "                   all        255       2036      0.912      0.877      0.949      0.659\n"
     ]
    },
    {
     "name": "stderr",
     "output_type": "stream",
     "text": [
      "\n"
     ]
    },
    {
     "name": "stdout",
     "output_type": "stream",
     "text": [
      "\n",
      "      Epoch    GPU_mem   box_loss   cls_loss   dfl_loss  Instances       Size\n"
     ]
    },
    {
     "name": "stderr",
     "output_type": "stream",
     "text": [
      "     78/100      1.45G     0.8586     0.4426      1.065         30        640: 1\n",
      "                 Class     Images  Instances      Box(P          R      mAP50  m"
     ]
    },
    {
     "name": "stdout",
     "output_type": "stream",
     "text": [
      "                   all        255       2036      0.898      0.885      0.949      0.663\n"
     ]
    },
    {
     "name": "stderr",
     "output_type": "stream",
     "text": [
      "\n"
     ]
    },
    {
     "name": "stdout",
     "output_type": "stream",
     "text": [
      "\n",
      "      Epoch    GPU_mem   box_loss   cls_loss   dfl_loss  Instances       Size\n"
     ]
    },
    {
     "name": "stderr",
     "output_type": "stream",
     "text": [
      "     79/100      1.46G     0.8359     0.4297      1.054         16        640: 1\n",
      "                 Class     Images  Instances      Box(P          R      mAP50  m"
     ]
    },
    {
     "name": "stdout",
     "output_type": "stream",
     "text": [
      "                   all        255       2036      0.888      0.892       0.95      0.669\n"
     ]
    },
    {
     "name": "stderr",
     "output_type": "stream",
     "text": [
      "\n"
     ]
    },
    {
     "name": "stdout",
     "output_type": "stream",
     "text": [
      "\n",
      "      Epoch    GPU_mem   box_loss   cls_loss   dfl_loss  Instances       Size\n"
     ]
    },
    {
     "name": "stderr",
     "output_type": "stream",
     "text": [
      "     80/100      1.47G     0.8386     0.4304      1.051         46        640: 1\n",
      "                 Class     Images  Instances      Box(P          R      mAP50  m"
     ]
    },
    {
     "name": "stdout",
     "output_type": "stream",
     "text": [
      "                   all        255       2036        0.9       0.88      0.953      0.668\n"
     ]
    },
    {
     "name": "stderr",
     "output_type": "stream",
     "text": [
      "\n"
     ]
    },
    {
     "name": "stdout",
     "output_type": "stream",
     "text": [
      "\n",
      "      Epoch    GPU_mem   box_loss   cls_loss   dfl_loss  Instances       Size\n"
     ]
    },
    {
     "name": "stderr",
     "output_type": "stream",
     "text": [
      "     81/100      1.45G     0.8356     0.4338      1.053         37        640: 1\n",
      "                 Class     Images  Instances      Box(P          R      mAP50  m"
     ]
    },
    {
     "name": "stdout",
     "output_type": "stream",
     "text": [
      "                   all        255       2036      0.904      0.882      0.952      0.666\n"
     ]
    },
    {
     "name": "stderr",
     "output_type": "stream",
     "text": [
      "\n"
     ]
    },
    {
     "name": "stdout",
     "output_type": "stream",
     "text": [
      "\n",
      "      Epoch    GPU_mem   box_loss   cls_loss   dfl_loss  Instances       Size\n"
     ]
    },
    {
     "name": "stderr",
     "output_type": "stream",
     "text": [
      "     82/100      1.45G     0.8418     0.4305      1.054         38        640: 1\n",
      "                 Class     Images  Instances      Box(P          R      mAP50  m"
     ]
    },
    {
     "name": "stdout",
     "output_type": "stream",
     "text": [
      "                   all        255       2036      0.913      0.873      0.954      0.675\n"
     ]
    },
    {
     "name": "stderr",
     "output_type": "stream",
     "text": [
      "\n"
     ]
    },
    {
     "name": "stdout",
     "output_type": "stream",
     "text": [
      "\n",
      "      Epoch    GPU_mem   box_loss   cls_loss   dfl_loss  Instances       Size\n"
     ]
    },
    {
     "name": "stderr",
     "output_type": "stream",
     "text": [
      "     83/100      1.46G      0.821     0.4227      1.051         29        640: 1\n",
      "                 Class     Images  Instances      Box(P          R      mAP50  m"
     ]
    },
    {
     "name": "stdout",
     "output_type": "stream",
     "text": [
      "                   all        255       2036      0.905       0.88      0.953      0.668\n"
     ]
    },
    {
     "name": "stderr",
     "output_type": "stream",
     "text": [
      "\n"
     ]
    },
    {
     "name": "stdout",
     "output_type": "stream",
     "text": [
      "\n",
      "      Epoch    GPU_mem   box_loss   cls_loss   dfl_loss  Instances       Size\n"
     ]
    },
    {
     "name": "stderr",
     "output_type": "stream",
     "text": [
      "     84/100      1.46G     0.8314     0.4195      1.046         26        640: 1\n",
      "                 Class     Images  Instances      Box(P          R      mAP50  m"
     ]
    },
    {
     "name": "stdout",
     "output_type": "stream",
     "text": [
      "                   all        255       2036       0.88      0.893      0.948      0.667\n"
     ]
    },
    {
     "name": "stderr",
     "output_type": "stream",
     "text": [
      "\n"
     ]
    },
    {
     "name": "stdout",
     "output_type": "stream",
     "text": [
      "\n",
      "      Epoch    GPU_mem   box_loss   cls_loss   dfl_loss  Instances       Size\n"
     ]
    },
    {
     "name": "stderr",
     "output_type": "stream",
     "text": [
      "     85/100      1.47G     0.8196     0.4237      1.041         34        640: 1\n",
      "                 Class     Images  Instances      Box(P          R      mAP50  m"
     ]
    },
    {
     "name": "stdout",
     "output_type": "stream",
     "text": [
      "                   all        255       2036      0.915      0.878      0.952      0.666\n"
     ]
    },
    {
     "name": "stderr",
     "output_type": "stream",
     "text": [
      "\n"
     ]
    },
    {
     "name": "stdout",
     "output_type": "stream",
     "text": [
      "\n",
      "      Epoch    GPU_mem   box_loss   cls_loss   dfl_loss  Instances       Size\n"
     ]
    },
    {
     "name": "stderr",
     "output_type": "stream",
     "text": [
      "     86/100      1.46G     0.8252     0.4192      1.048         39        640: 1\n",
      "                 Class     Images  Instances      Box(P          R      mAP50  m"
     ]
    },
    {
     "name": "stdout",
     "output_type": "stream",
     "text": [
      "                   all        255       2036      0.919      0.872      0.951       0.67\n"
     ]
    },
    {
     "name": "stderr",
     "output_type": "stream",
     "text": [
      "\n"
     ]
    },
    {
     "name": "stdout",
     "output_type": "stream",
     "text": [
      "\n",
      "      Epoch    GPU_mem   box_loss   cls_loss   dfl_loss  Instances       Size\n"
     ]
    },
    {
     "name": "stderr",
     "output_type": "stream",
     "text": [
      "     87/100      1.47G     0.8152      0.415      1.041         38        640: 1\n",
      "                 Class     Images  Instances      Box(P          R      mAP50  m"
     ]
    },
    {
     "name": "stdout",
     "output_type": "stream",
     "text": [
      "                   all        255       2036      0.907      0.879       0.95      0.671\n"
     ]
    },
    {
     "name": "stderr",
     "output_type": "stream",
     "text": [
      "\n"
     ]
    },
    {
     "name": "stdout",
     "output_type": "stream",
     "text": [
      "\n",
      "      Epoch    GPU_mem   box_loss   cls_loss   dfl_loss  Instances       Size\n"
     ]
    },
    {
     "name": "stderr",
     "output_type": "stream",
     "text": [
      "     88/100      1.46G     0.8225     0.4219       1.05         20        640: 1\n",
      "                 Class     Images  Instances      Box(P          R      mAP50  m"
     ]
    },
    {
     "name": "stdout",
     "output_type": "stream",
     "text": [
      "                   all        255       2036      0.919      0.862      0.948      0.664\n"
     ]
    },
    {
     "name": "stderr",
     "output_type": "stream",
     "text": [
      "\n"
     ]
    },
    {
     "name": "stdout",
     "output_type": "stream",
     "text": [
      "\n",
      "      Epoch    GPU_mem   box_loss   cls_loss   dfl_loss  Instances       Size\n"
     ]
    },
    {
     "name": "stderr",
     "output_type": "stream",
     "text": [
      "     89/100      1.47G     0.8129     0.4112      1.042         27        640: 1\n",
      "                 Class     Images  Instances      Box(P          R      mAP50  m"
     ]
    },
    {
     "name": "stdout",
     "output_type": "stream",
     "text": [
      "                   all        255       2036      0.903      0.877      0.949      0.669\n"
     ]
    },
    {
     "name": "stderr",
     "output_type": "stream",
     "text": [
      "\n"
     ]
    },
    {
     "name": "stdout",
     "output_type": "stream",
     "text": [
      "\n",
      "      Epoch    GPU_mem   box_loss   cls_loss   dfl_loss  Instances       Size\n"
     ]
    },
    {
     "name": "stderr",
     "output_type": "stream",
     "text": [
      "     90/100      1.45G      0.811     0.4129      1.043         29        640: 1\n",
      "                 Class     Images  Instances      Box(P          R      mAP50  m"
     ]
    },
    {
     "name": "stdout",
     "output_type": "stream",
     "text": [
      "                   all        255       2036      0.907      0.869      0.948       0.67\n"
     ]
    },
    {
     "name": "stderr",
     "output_type": "stream",
     "text": [
      "\n"
     ]
    },
    {
     "name": "stdout",
     "output_type": "stream",
     "text": [
      "Closing dataloader mosaic\n",
      "\n",
      "      Epoch    GPU_mem   box_loss   cls_loss   dfl_loss  Instances       Size\n"
     ]
    },
    {
     "name": "stderr",
     "output_type": "stream",
     "text": [
      "     91/100      1.46G     0.7777     0.3601      1.017         15        640: 1\n",
      "                 Class     Images  Instances      Box(P          R      mAP50  m"
     ]
    },
    {
     "name": "stdout",
     "output_type": "stream",
     "text": [
      "                   all        255       2036      0.891      0.879      0.942      0.661\n"
     ]
    },
    {
     "name": "stderr",
     "output_type": "stream",
     "text": [
      "\n"
     ]
    },
    {
     "name": "stdout",
     "output_type": "stream",
     "text": [
      "\n",
      "      Epoch    GPU_mem   box_loss   cls_loss   dfl_loss  Instances       Size\n"
     ]
    },
    {
     "name": "stderr",
     "output_type": "stream",
     "text": [
      "     92/100      1.45G     0.7611     0.3492      1.007         15        640: 1\n",
      "                 Class     Images  Instances      Box(P          R      mAP50  m"
     ]
    },
    {
     "name": "stdout",
     "output_type": "stream",
     "text": [
      "                   all        255       2036      0.899      0.867      0.944      0.659\n"
     ]
    },
    {
     "name": "stderr",
     "output_type": "stream",
     "text": [
      "\n"
     ]
    },
    {
     "name": "stdout",
     "output_type": "stream",
     "text": [
      "\n",
      "      Epoch    GPU_mem   box_loss   cls_loss   dfl_loss  Instances       Size\n"
     ]
    },
    {
     "name": "stderr",
     "output_type": "stream",
     "text": [
      "     93/100      1.46G     0.7552     0.3491      1.011         16        640: 1\n",
      "                 Class     Images  Instances      Box(P          R      mAP50  m"
     ]
    },
    {
     "name": "stdout",
     "output_type": "stream",
     "text": [
      "                   all        255       2036      0.898       0.87      0.943      0.663\n"
     ]
    },
    {
     "name": "stderr",
     "output_type": "stream",
     "text": [
      "\n"
     ]
    },
    {
     "name": "stdout",
     "output_type": "stream",
     "text": [
      "\n",
      "      Epoch    GPU_mem   box_loss   cls_loss   dfl_loss  Instances       Size\n"
     ]
    },
    {
     "name": "stderr",
     "output_type": "stream",
     "text": [
      "     94/100      1.45G     0.7544     0.3469      1.006         21        640: 1\n",
      "                 Class     Images  Instances      Box(P          R      mAP50  m"
     ]
    },
    {
     "name": "stdout",
     "output_type": "stream",
     "text": [
      "                   all        255       2036      0.901      0.874      0.946      0.664\n"
     ]
    },
    {
     "name": "stderr",
     "output_type": "stream",
     "text": [
      "\n"
     ]
    },
    {
     "name": "stdout",
     "output_type": "stream",
     "text": [
      "\n",
      "      Epoch    GPU_mem   box_loss   cls_loss   dfl_loss  Instances       Size\n"
     ]
    },
    {
     "name": "stderr",
     "output_type": "stream",
     "text": [
      "     95/100      1.45G     0.7454     0.3435     0.9991         14        640: 1\n",
      "                 Class     Images  Instances      Box(P          R      mAP50  m"
     ]
    },
    {
     "name": "stdout",
     "output_type": "stream",
     "text": [
      "                   all        255       2036      0.899      0.878      0.947      0.668\n"
     ]
    },
    {
     "name": "stderr",
     "output_type": "stream",
     "text": [
      "\n"
     ]
    },
    {
     "name": "stdout",
     "output_type": "stream",
     "text": [
      "\n",
      "      Epoch    GPU_mem   box_loss   cls_loss   dfl_loss  Instances       Size\n"
     ]
    },
    {
     "name": "stderr",
     "output_type": "stream",
     "text": [
      "     96/100      1.45G     0.7451     0.3389      1.002         18        640: 1\n",
      "                 Class     Images  Instances      Box(P          R      mAP50  m"
     ]
    },
    {
     "name": "stdout",
     "output_type": "stream",
     "text": [
      "                   all        255       2036      0.893      0.884      0.949      0.668\n"
     ]
    },
    {
     "name": "stderr",
     "output_type": "stream",
     "text": [
      "\n"
     ]
    },
    {
     "name": "stdout",
     "output_type": "stream",
     "text": [
      "\n",
      "      Epoch    GPU_mem   box_loss   cls_loss   dfl_loss  Instances       Size\n"
     ]
    },
    {
     "name": "stderr",
     "output_type": "stream",
     "text": [
      "     97/100      1.45G     0.7349     0.3367     0.9991         40        640: 1\n",
      "                 Class     Images  Instances      Box(P          R      mAP50  m"
     ]
    },
    {
     "name": "stdout",
     "output_type": "stream",
     "text": [
      "                   all        255       2036      0.917      0.859      0.947      0.668\n"
     ]
    },
    {
     "name": "stderr",
     "output_type": "stream",
     "text": [
      "\n"
     ]
    },
    {
     "name": "stdout",
     "output_type": "stream",
     "text": [
      "\n",
      "      Epoch    GPU_mem   box_loss   cls_loss   dfl_loss  Instances       Size\n"
     ]
    },
    {
     "name": "stderr",
     "output_type": "stream",
     "text": [
      "     98/100      1.45G     0.7315      0.337     0.9998         13        640: 1\n",
      "                 Class     Images  Instances      Box(P          R      mAP50  m"
     ]
    },
    {
     "name": "stdout",
     "output_type": "stream",
     "text": [
      "                   all        255       2036      0.904      0.867      0.948      0.669\n"
     ]
    },
    {
     "name": "stderr",
     "output_type": "stream",
     "text": [
      "\n"
     ]
    },
    {
     "name": "stdout",
     "output_type": "stream",
     "text": [
      "\n",
      "      Epoch    GPU_mem   box_loss   cls_loss   dfl_loss  Instances       Size\n"
     ]
    },
    {
     "name": "stderr",
     "output_type": "stream",
     "text": [
      "     99/100      1.45G     0.7296     0.3326     0.9928         21        640: 1\n",
      "                 Class     Images  Instances      Box(P          R      mAP50  m"
     ]
    },
    {
     "name": "stdout",
     "output_type": "stream",
     "text": [
      "                   all        255       2036       0.91      0.864      0.948       0.67\n"
     ]
    },
    {
     "name": "stderr",
     "output_type": "stream",
     "text": [
      "\n"
     ]
    },
    {
     "name": "stdout",
     "output_type": "stream",
     "text": [
      "\n",
      "      Epoch    GPU_mem   box_loss   cls_loss   dfl_loss  Instances       Size\n"
     ]
    },
    {
     "name": "stderr",
     "output_type": "stream",
     "text": [
      "    100/100      1.46G     0.7332      0.336     0.9906         17        640: 1\n",
      "                 Class     Images  Instances      Box(P          R      mAP50  m"
     ]
    },
    {
     "name": "stdout",
     "output_type": "stream",
     "text": [
      "                   all        255       2036      0.906      0.874      0.947      0.669\n"
     ]
    },
    {
     "name": "stderr",
     "output_type": "stream",
     "text": [
      "\n"
     ]
    },
    {
     "name": "stdout",
     "output_type": "stream",
     "text": [
      "\n",
      "100 epochs completed in 0.471 hours.\n",
      "Optimizer stripped from /media/mzc/e4fcae9b-7400-4641-a800-034f249f8d14/mzc/yolo11/YOLO11nTraining/YOLO11n_Training/weights/last.pt, 5.5MB\n",
      "Optimizer stripped from /media/mzc/e4fcae9b-7400-4641-a800-034f249f8d14/mzc/yolo11/YOLO11nTraining/YOLO11n_Training/weights/best.pt, 5.5MB\n",
      "\n",
      "Validating /media/mzc/e4fcae9b-7400-4641-a800-034f249f8d14/mzc/yolo11/YOLO11nTraining/YOLO11n_Training/weights/best.pt...\n",
      "Ultralytics 8.3.0 🚀 Python-3.11.7 torch-2.4.1+cu121 CUDA:0 (NVIDIA TITAN Xp COLLECTORS EDITION, 12189MiB)\n",
      "YOLO11n summary (fused): 238 layers, 2,582,347 parameters, 0 gradients, 6.3 GFLOPs\n"
     ]
    },
    {
     "name": "stderr",
     "output_type": "stream",
     "text": [
      "                 Class     Images  Instances      Box(P          R      mAP50  m\n"
     ]
    },
    {
     "name": "stdout",
     "output_type": "stream",
     "text": [
      "                   all        255       2036      0.916      0.879      0.958      0.678\n",
      "Speed: 0.2ms preprocess, 3.2ms inference, 0.0ms loss, 0.9ms postprocess per image\n",
      "Results saved to \u001b[1m/media/mzc/e4fcae9b-7400-4641-a800-034f249f8d14/mzc/yolo11/YOLO11nTraining/YOLO11n_Training\u001b[0m\n"
     ]
    }
   ],
   "source": [
    "# Start training the model\n",
    "results = model.train(data=data_path, epochs=100, imgsz=640, batch=8, save=True, save_period=10, project=save_dir, name=\"YOLO11n_Training\")\n"
   ]
  },
  {
   "cell_type": "code",
   "execution_count": 6,
   "id": "8efb72e3-7d12-4a58-a432-9cc116a7300c",
   "metadata": {},
   "outputs": [],
   "source": [
    "# Path to your dataset YAML file\n",
    "data_path = '/media/mzc/e4fcae9b-7400-4641-a800-034f249f8d14/mzc/aiIMAGEGENERATED/data.yaml'\n",
    "\n",
    "# Directory to save YOLO11s training results\n",
    "save_dir = '/media/mzc/e4fcae9b-7400-4641-a800-034f249f8d14/mzc/yolo11/YOLO11nTraining/YOLO11s_Training'\n",
    "\n",
    "# Create the directory if it doesn't exist\n",
    "os.makedirs(save_dir, exist_ok=True)\n"
   ]
  },
  {
   "cell_type": "code",
   "execution_count": 7,
   "id": "efd37e3e-74aa-4986-8b78-28aaddd4d0ca",
   "metadata": {},
   "outputs": [
    {
     "name": "stdout",
     "output_type": "stream",
     "text": [
      "Downloading https://github.com/ultralytics/assets/releases/download/v8.3.0/yolo11s.pt to 'yolo11s.pt'...\n"
     ]
    },
    {
     "name": "stderr",
     "output_type": "stream",
     "text": [
      "100%|██████████████████████████████████████| 18.4M/18.4M [00:00<00:00, 39.1MB/s]\n"
     ]
    }
   ],
   "source": [
    "# Initialize the YOLO11s model\n",
    "model = YOLO(\"yolo11s.pt\")  # YOLO11 small model\n"
   ]
  },
  {
   "cell_type": "code",
   "execution_count": 8,
   "id": "cee8c5a7-613d-4f02-9c3a-4340c26a216e",
   "metadata": {},
   "outputs": [
    {
     "name": "stdout",
     "output_type": "stream",
     "text": [
      "Ultralytics 8.3.0 🚀 Python-3.11.7 torch-2.4.1+cu121 CUDA:0 (NVIDIA TITAN Xp COLLECTORS EDITION, 12189MiB)\n",
      "\u001b[34m\u001b[1mengine/trainer: \u001b[0mtask=detect, mode=train, model=yolo11s.pt, data=/media/mzc/e4fcae9b-7400-4641-a800-034f249f8d14/mzc/aiIMAGEGENERATED/data.yaml, epochs=100, time=None, patience=100, batch=8, imgsz=640, save=True, save_period=10, cache=False, device=None, workers=8, project=/media/mzc/e4fcae9b-7400-4641-a800-034f249f8d14/mzc/yolo11/YOLO11nTraining/YOLO11s_Training, name=YOLO11s_Training, exist_ok=False, pretrained=True, optimizer=auto, verbose=True, seed=0, deterministic=True, single_cls=False, rect=False, cos_lr=False, close_mosaic=10, resume=False, amp=True, fraction=1.0, profile=False, freeze=None, multi_scale=False, overlap_mask=True, mask_ratio=4, dropout=0.0, val=True, split=val, save_json=False, save_hybrid=False, conf=None, iou=0.7, max_det=300, half=False, dnn=False, plots=True, source=None, vid_stride=1, stream_buffer=False, visualize=False, augment=False, agnostic_nms=False, classes=None, retina_masks=False, embed=None, show=False, save_frames=False, save_txt=False, save_conf=False, save_crop=False, show_labels=True, show_conf=True, show_boxes=True, line_width=None, format=torchscript, keras=False, optimize=False, int8=False, dynamic=False, simplify=True, opset=None, workspace=4, nms=False, lr0=0.01, lrf=0.01, momentum=0.937, weight_decay=0.0005, warmup_epochs=3.0, warmup_momentum=0.8, warmup_bias_lr=0.1, box=7.5, cls=0.5, dfl=1.5, pose=12.0, kobj=1.0, label_smoothing=0.0, nbs=64, hsv_h=0.015, hsv_s=0.7, hsv_v=0.4, degrees=0.0, translate=0.1, scale=0.5, shear=0.0, perspective=0.0, flipud=0.0, fliplr=0.5, bgr=0.0, mosaic=1.0, mixup=0.0, copy_paste=0.0, copy_paste_mode=flip, auto_augment=randaugment, erasing=0.4, crop_fraction=1.0, cfg=None, tracker=botsort.yaml, save_dir=/media/mzc/e4fcae9b-7400-4641-a800-034f249f8d14/mzc/yolo11/YOLO11nTraining/YOLO11s_Training/YOLO11s_Training\n",
      "Overriding model.yaml nc=80 with nc=1\n",
      "\n",
      "                   from  n    params  module                                       arguments                     \n",
      "  0                  -1  1       928  ultralytics.nn.modules.conv.Conv             [3, 32, 3, 2]                 \n",
      "  1                  -1  1     18560  ultralytics.nn.modules.conv.Conv             [32, 64, 3, 2]                \n",
      "  2                  -1  1     26080  ultralytics.nn.modules.block.C3k2            [64, 128, 1, False, 0.25]     \n",
      "  3                  -1  1    147712  ultralytics.nn.modules.conv.Conv             [128, 128, 3, 2]              \n",
      "  4                  -1  1    103360  ultralytics.nn.modules.block.C3k2            [128, 256, 1, False, 0.25]    \n",
      "  5                  -1  1    590336  ultralytics.nn.modules.conv.Conv             [256, 256, 3, 2]              \n",
      "  6                  -1  1    346112  ultralytics.nn.modules.block.C3k2            [256, 256, 1, True]           \n",
      "  7                  -1  1   1180672  ultralytics.nn.modules.conv.Conv             [256, 512, 3, 2]              \n",
      "  8                  -1  1   1380352  ultralytics.nn.modules.block.C3k2            [512, 512, 1, True]           \n",
      "  9                  -1  1    656896  ultralytics.nn.modules.block.SPPF            [512, 512, 5]                 \n",
      " 10                  -1  1    990976  ultralytics.nn.modules.block.C2PSA           [512, 512, 1]                 \n",
      " 11                  -1  1         0  torch.nn.modules.upsampling.Upsample         [None, 2, 'nearest']          \n",
      " 12             [-1, 6]  1         0  ultralytics.nn.modules.conv.Concat           [1]                           \n",
      " 13                  -1  1    443776  ultralytics.nn.modules.block.C3k2            [768, 256, 1, False]          \n",
      " 14                  -1  1         0  torch.nn.modules.upsampling.Upsample         [None, 2, 'nearest']          \n",
      " 15             [-1, 4]  1         0  ultralytics.nn.modules.conv.Concat           [1]                           \n",
      " 16                  -1  1    127680  ultralytics.nn.modules.block.C3k2            [512, 128, 1, False]          \n",
      " 17                  -1  1    147712  ultralytics.nn.modules.conv.Conv             [128, 128, 3, 2]              \n",
      " 18            [-1, 13]  1         0  ultralytics.nn.modules.conv.Concat           [1]                           \n",
      " 19                  -1  1    345472  ultralytics.nn.modules.block.C3k2            [384, 256, 1, False]          \n",
      " 20                  -1  1    590336  ultralytics.nn.modules.conv.Conv             [256, 256, 3, 2]              \n",
      " 21            [-1, 10]  1         0  ultralytics.nn.modules.conv.Concat           [1]                           \n",
      " 22                  -1  1   1511424  ultralytics.nn.modules.block.C3k2            [768, 512, 1, True]           \n",
      " 23        [16, 19, 22]  1    819795  ultralytics.nn.modules.head.Detect           [1, [128, 256, 512]]          \n",
      "YOLO11s summary: 319 layers, 9,428,179 parameters, 9,428,163 gradients, 21.5 GFLOPs\n",
      "\n",
      "Transferred 493/499 items from pretrained weights\n",
      "Freezing layer 'model.23.dfl.conv.weight'\n",
      "\u001b[34m\u001b[1mAMP: \u001b[0mrunning Automatic Mixed Precision (AMP) checks with YOLOv8n...\n",
      "\u001b[34m\u001b[1mAMP: \u001b[0mchecks passed ✅\n"
     ]
    },
    {
     "name": "stderr",
     "output_type": "stream",
     "text": [
      "\u001b[34m\u001b[1mtrain: \u001b[0mScanning /media/mzc/e4fcae9b-7400-4641-a800-034f249f8d14/mzc/aiIMAGEGENER\u001b[0m\n",
      "\u001b[34m\u001b[1mval: \u001b[0mScanning /media/mzc/e4fcae9b-7400-4641-a800-034f249f8d14/mzc/aiIMAGEGENERAT\u001b[0m\n"
     ]
    },
    {
     "name": "stdout",
     "output_type": "stream",
     "text": [
      "Plotting labels to /media/mzc/e4fcae9b-7400-4641-a800-034f249f8d14/mzc/yolo11/YOLO11nTraining/YOLO11s_Training/YOLO11s_Training/labels.jpg... \n",
      "\u001b[34m\u001b[1moptimizer:\u001b[0m 'optimizer=auto' found, ignoring 'lr0=0.01' and 'momentum=0.937' and determining best 'optimizer', 'lr0' and 'momentum' automatically... \n",
      "\u001b[34m\u001b[1moptimizer:\u001b[0m AdamW(lr=0.002, momentum=0.9) with parameter groups 81 weight(decay=0.0), 88 weight(decay=0.0005), 87 bias(decay=0.0)\n",
      "Image sizes 640 train, 640 val\n",
      "Using 8 dataloader workers\n",
      "Logging results to \u001b[1m/media/mzc/e4fcae9b-7400-4641-a800-034f249f8d14/mzc/yolo11/YOLO11nTraining/YOLO11s_Training/YOLO11s_Training\u001b[0m\n",
      "Starting training for 100 epochs...\n",
      "\n",
      "      Epoch    GPU_mem   box_loss   cls_loss   dfl_loss  Instances       Size\n"
     ]
    },
    {
     "name": "stderr",
     "output_type": "stream",
     "text": [
      "      1/100      2.55G      1.189       1.09      1.308         23        640: 1\n",
      "                 Class     Images  Instances      Box(P          R      mAP50  m"
     ]
    },
    {
     "name": "stdout",
     "output_type": "stream",
     "text": [
      "                   all        255       2036      0.782      0.701      0.765      0.452\n"
     ]
    },
    {
     "name": "stderr",
     "output_type": "stream",
     "text": [
      "\n"
     ]
    },
    {
     "name": "stdout",
     "output_type": "stream",
     "text": [
      "\n",
      "      Epoch    GPU_mem   box_loss   cls_loss   dfl_loss  Instances       Size\n"
     ]
    },
    {
     "name": "stderr",
     "output_type": "stream",
     "text": [
      "      2/100      2.52G       1.17     0.8032      1.255         33        640: 1\n",
      "                 Class     Images  Instances      Box(P          R      mAP50  m"
     ]
    },
    {
     "name": "stdout",
     "output_type": "stream",
     "text": [
      "                   all        255       2036      0.879      0.779      0.879      0.569\n"
     ]
    },
    {
     "name": "stderr",
     "output_type": "stream",
     "text": [
      "\n"
     ]
    },
    {
     "name": "stdout",
     "output_type": "stream",
     "text": [
      "\n",
      "      Epoch    GPU_mem   box_loss   cls_loss   dfl_loss  Instances       Size\n"
     ]
    },
    {
     "name": "stderr",
     "output_type": "stream",
     "text": [
      "      3/100      2.56G      1.163     0.7821      1.264         26        640: 1\n",
      "                 Class     Images  Instances      Box(P          R      mAP50  m"
     ]
    },
    {
     "name": "stdout",
     "output_type": "stream",
     "text": [
      "                   all        255       2036       0.88      0.854      0.906      0.571\n"
     ]
    },
    {
     "name": "stderr",
     "output_type": "stream",
     "text": [
      "\n"
     ]
    },
    {
     "name": "stdout",
     "output_type": "stream",
     "text": [
      "\n",
      "      Epoch    GPU_mem   box_loss   cls_loss   dfl_loss  Instances       Size\n"
     ]
    },
    {
     "name": "stderr",
     "output_type": "stream",
     "text": [
      "      4/100      2.52G      1.152     0.7654      1.249         22        640: 1\n",
      "                 Class     Images  Instances      Box(P          R      mAP50  m"
     ]
    },
    {
     "name": "stdout",
     "output_type": "stream",
     "text": [
      "                   all        255       2036      0.842      0.715      0.798      0.494\n"
     ]
    },
    {
     "name": "stderr",
     "output_type": "stream",
     "text": [
      "\n"
     ]
    },
    {
     "name": "stdout",
     "output_type": "stream",
     "text": [
      "\n",
      "      Epoch    GPU_mem   box_loss   cls_loss   dfl_loss  Instances       Size\n"
     ]
    },
    {
     "name": "stderr",
     "output_type": "stream",
     "text": [
      "      5/100      2.58G      1.148     0.7355      1.249         58        640: 1\n",
      "                 Class     Images  Instances      Box(P          R      mAP50  m"
     ]
    },
    {
     "name": "stdout",
     "output_type": "stream",
     "text": [
      "                   all        255       2036      0.885      0.832      0.911      0.589\n"
     ]
    },
    {
     "name": "stderr",
     "output_type": "stream",
     "text": [
      "\n"
     ]
    },
    {
     "name": "stdout",
     "output_type": "stream",
     "text": [
      "\n",
      "      Epoch    GPU_mem   box_loss   cls_loss   dfl_loss  Instances       Size\n"
     ]
    },
    {
     "name": "stderr",
     "output_type": "stream",
     "text": [
      "      6/100      2.54G      1.133     0.7209      1.244         19        640: 1\n",
      "                 Class     Images  Instances      Box(P          R      mAP50  m"
     ]
    },
    {
     "name": "stdout",
     "output_type": "stream",
     "text": [
      "                   all        255       2036      0.876      0.859      0.903      0.592\n"
     ]
    },
    {
     "name": "stderr",
     "output_type": "stream",
     "text": [
      "\n"
     ]
    },
    {
     "name": "stdout",
     "output_type": "stream",
     "text": [
      "\n",
      "      Epoch    GPU_mem   box_loss   cls_loss   dfl_loss  Instances       Size\n"
     ]
    },
    {
     "name": "stderr",
     "output_type": "stream",
     "text": [
      "      7/100      2.52G      1.122     0.6945      1.228         33        640: 1\n",
      "                 Class     Images  Instances      Box(P          R      mAP50  m"
     ]
    },
    {
     "name": "stdout",
     "output_type": "stream",
     "text": [
      "                   all        255       2036      0.899      0.826      0.908      0.615\n"
     ]
    },
    {
     "name": "stderr",
     "output_type": "stream",
     "text": [
      "\n"
     ]
    },
    {
     "name": "stdout",
     "output_type": "stream",
     "text": [
      "\n",
      "      Epoch    GPU_mem   box_loss   cls_loss   dfl_loss  Instances       Size\n"
     ]
    },
    {
     "name": "stderr",
     "output_type": "stream",
     "text": [
      "      8/100      2.56G      1.112      0.689      1.219         38        640: 1\n",
      "                 Class     Images  Instances      Box(P          R      mAP50  m"
     ]
    },
    {
     "name": "stdout",
     "output_type": "stream",
     "text": [
      "                   all        255       2036      0.883      0.863      0.933      0.619\n"
     ]
    },
    {
     "name": "stderr",
     "output_type": "stream",
     "text": [
      "\n"
     ]
    },
    {
     "name": "stdout",
     "output_type": "stream",
     "text": [
      "\n",
      "      Epoch    GPU_mem   box_loss   cls_loss   dfl_loss  Instances       Size\n"
     ]
    },
    {
     "name": "stderr",
     "output_type": "stream",
     "text": [
      "      9/100      2.52G      1.093     0.6658      1.215         61        640: 1\n",
      "                 Class     Images  Instances      Box(P          R      mAP50  m"
     ]
    },
    {
     "name": "stdout",
     "output_type": "stream",
     "text": [
      "                   all        255       2036      0.892       0.87      0.936      0.625\n"
     ]
    },
    {
     "name": "stderr",
     "output_type": "stream",
     "text": [
      "\n"
     ]
    },
    {
     "name": "stdout",
     "output_type": "stream",
     "text": [
      "\n",
      "      Epoch    GPU_mem   box_loss   cls_loss   dfl_loss  Instances       Size\n"
     ]
    },
    {
     "name": "stderr",
     "output_type": "stream",
     "text": [
      "     10/100      2.51G      1.097     0.6585      1.219         41        640: 1\n",
      "                 Class     Images  Instances      Box(P          R      mAP50  m"
     ]
    },
    {
     "name": "stdout",
     "output_type": "stream",
     "text": [
      "                   all        255       2036      0.905      0.848      0.944      0.628\n"
     ]
    },
    {
     "name": "stderr",
     "output_type": "stream",
     "text": [
      "\n"
     ]
    },
    {
     "name": "stdout",
     "output_type": "stream",
     "text": [
      "\n",
      "      Epoch    GPU_mem   box_loss   cls_loss   dfl_loss  Instances       Size\n"
     ]
    },
    {
     "name": "stderr",
     "output_type": "stream",
     "text": [
      "     11/100      2.53G      1.091     0.6493      1.212         44        640: 1\n",
      "                 Class     Images  Instances      Box(P          R      mAP50  m"
     ]
    },
    {
     "name": "stdout",
     "output_type": "stream",
     "text": [
      "                   all        255       2036      0.893      0.862      0.936      0.634\n"
     ]
    },
    {
     "name": "stderr",
     "output_type": "stream",
     "text": [
      "\n"
     ]
    },
    {
     "name": "stdout",
     "output_type": "stream",
     "text": [
      "\n",
      "      Epoch    GPU_mem   box_loss   cls_loss   dfl_loss  Instances       Size\n"
     ]
    },
    {
     "name": "stderr",
     "output_type": "stream",
     "text": [
      "     12/100      2.51G      1.074     0.6448      1.202         30        640: 1\n",
      "                 Class     Images  Instances      Box(P          R      mAP50  m"
     ]
    },
    {
     "name": "stdout",
     "output_type": "stream",
     "text": [
      "                   all        255       2036        0.9      0.864      0.943      0.645\n"
     ]
    },
    {
     "name": "stderr",
     "output_type": "stream",
     "text": [
      "\n"
     ]
    },
    {
     "name": "stdout",
     "output_type": "stream",
     "text": [
      "\n",
      "      Epoch    GPU_mem   box_loss   cls_loss   dfl_loss  Instances       Size\n"
     ]
    },
    {
     "name": "stderr",
     "output_type": "stream",
     "text": [
      "     13/100      2.58G      1.064     0.6396      1.194         14        640: 1\n",
      "                 Class     Images  Instances      Box(P          R      mAP50  m"
     ]
    },
    {
     "name": "stdout",
     "output_type": "stream",
     "text": [
      "                   all        255       2036      0.881      0.869      0.936       0.64\n"
     ]
    },
    {
     "name": "stderr",
     "output_type": "stream",
     "text": [
      "\n"
     ]
    },
    {
     "name": "stdout",
     "output_type": "stream",
     "text": [
      "\n",
      "      Epoch    GPU_mem   box_loss   cls_loss   dfl_loss  Instances       Size\n"
     ]
    },
    {
     "name": "stderr",
     "output_type": "stream",
     "text": [
      "     14/100      2.54G      1.054      0.609      1.192         25        640: 1\n",
      "                 Class     Images  Instances      Box(P          R      mAP50  m"
     ]
    },
    {
     "name": "stdout",
     "output_type": "stream",
     "text": [
      "                   all        255       2036      0.885      0.863      0.939       0.64\n"
     ]
    },
    {
     "name": "stderr",
     "output_type": "stream",
     "text": [
      "\n"
     ]
    },
    {
     "name": "stdout",
     "output_type": "stream",
     "text": [
      "\n",
      "      Epoch    GPU_mem   box_loss   cls_loss   dfl_loss  Instances       Size\n"
     ]
    },
    {
     "name": "stderr",
     "output_type": "stream",
     "text": [
      "     15/100      2.53G      1.059     0.6125      1.201         26        640: 1\n",
      "                 Class     Images  Instances      Box(P          R      mAP50  m"
     ]
    },
    {
     "name": "stdout",
     "output_type": "stream",
     "text": [
      "                   all        255       2036       0.92      0.855      0.946      0.637\n"
     ]
    },
    {
     "name": "stderr",
     "output_type": "stream",
     "text": [
      "\n"
     ]
    },
    {
     "name": "stdout",
     "output_type": "stream",
     "text": [
      "\n",
      "      Epoch    GPU_mem   box_loss   cls_loss   dfl_loss  Instances       Size\n"
     ]
    },
    {
     "name": "stderr",
     "output_type": "stream",
     "text": [
      "     16/100      2.52G      1.062     0.6184      1.208         51        640: 1\n",
      "                 Class     Images  Instances      Box(P          R      mAP50  m"
     ]
    },
    {
     "name": "stdout",
     "output_type": "stream",
     "text": [
      "                   all        255       2036      0.908      0.856      0.945      0.652\n"
     ]
    },
    {
     "name": "stderr",
     "output_type": "stream",
     "text": [
      "\n"
     ]
    },
    {
     "name": "stdout",
     "output_type": "stream",
     "text": [
      "\n",
      "      Epoch    GPU_mem   box_loss   cls_loss   dfl_loss  Instances       Size\n"
     ]
    },
    {
     "name": "stderr",
     "output_type": "stream",
     "text": [
      "     17/100      2.52G      1.041     0.5936      1.181         43        640: 1\n",
      "                 Class     Images  Instances      Box(P          R      mAP50  m"
     ]
    },
    {
     "name": "stdout",
     "output_type": "stream",
     "text": [
      "                   all        255       2036      0.898      0.849      0.935      0.608\n"
     ]
    },
    {
     "name": "stderr",
     "output_type": "stream",
     "text": [
      "\n"
     ]
    },
    {
     "name": "stdout",
     "output_type": "stream",
     "text": [
      "\n",
      "      Epoch    GPU_mem   box_loss   cls_loss   dfl_loss  Instances       Size\n"
     ]
    },
    {
     "name": "stderr",
     "output_type": "stream",
     "text": [
      "     18/100      2.54G      1.055      0.605      1.192         17        640: 1\n",
      "                 Class     Images  Instances      Box(P          R      mAP50  m"
     ]
    },
    {
     "name": "stdout",
     "output_type": "stream",
     "text": [
      "                   all        255       2036      0.908      0.861      0.948      0.648\n"
     ]
    },
    {
     "name": "stderr",
     "output_type": "stream",
     "text": [
      "\n"
     ]
    },
    {
     "name": "stdout",
     "output_type": "stream",
     "text": [
      "\n",
      "      Epoch    GPU_mem   box_loss   cls_loss   dfl_loss  Instances       Size\n"
     ]
    },
    {
     "name": "stderr",
     "output_type": "stream",
     "text": [
      "     19/100      2.55G      1.024     0.5782       1.18         25        640: 1\n",
      "                 Class     Images  Instances      Box(P          R      mAP50  m"
     ]
    },
    {
     "name": "stdout",
     "output_type": "stream",
     "text": [
      "                   all        255       2036      0.897       0.85      0.942      0.644\n"
     ]
    },
    {
     "name": "stderr",
     "output_type": "stream",
     "text": [
      "\n"
     ]
    },
    {
     "name": "stdout",
     "output_type": "stream",
     "text": [
      "\n",
      "      Epoch    GPU_mem   box_loss   cls_loss   dfl_loss  Instances       Size\n"
     ]
    },
    {
     "name": "stderr",
     "output_type": "stream",
     "text": [
      "     20/100      2.53G       1.03     0.5946      1.184         35        640: 1\n",
      "                 Class     Images  Instances      Box(P          R      mAP50  m"
     ]
    },
    {
     "name": "stdout",
     "output_type": "stream",
     "text": [
      "                   all        255       2036      0.888      0.871      0.938      0.633\n"
     ]
    },
    {
     "name": "stderr",
     "output_type": "stream",
     "text": [
      "\n"
     ]
    },
    {
     "name": "stdout",
     "output_type": "stream",
     "text": [
      "\n",
      "      Epoch    GPU_mem   box_loss   cls_loss   dfl_loss  Instances       Size\n"
     ]
    },
    {
     "name": "stderr",
     "output_type": "stream",
     "text": [
      "     21/100      2.52G      1.021     0.5773      1.177         35        640: 1\n",
      "                 Class     Images  Instances      Box(P          R      mAP50  m"
     ]
    },
    {
     "name": "stdout",
     "output_type": "stream",
     "text": [
      "                   all        255       2036      0.913      0.851      0.944      0.655\n"
     ]
    },
    {
     "name": "stderr",
     "output_type": "stream",
     "text": [
      "\n"
     ]
    },
    {
     "name": "stdout",
     "output_type": "stream",
     "text": [
      "\n",
      "      Epoch    GPU_mem   box_loss   cls_loss   dfl_loss  Instances       Size\n"
     ]
    },
    {
     "name": "stderr",
     "output_type": "stream",
     "text": [
      "     22/100      2.51G      1.019     0.5833      1.175         29        640: 1\n",
      "                 Class     Images  Instances      Box(P          R      mAP50  m"
     ]
    },
    {
     "name": "stdout",
     "output_type": "stream",
     "text": [
      "                   all        255       2036      0.914      0.852      0.948      0.655\n"
     ]
    },
    {
     "name": "stderr",
     "output_type": "stream",
     "text": [
      "\n"
     ]
    },
    {
     "name": "stdout",
     "output_type": "stream",
     "text": [
      "\n",
      "      Epoch    GPU_mem   box_loss   cls_loss   dfl_loss  Instances       Size\n"
     ]
    },
    {
     "name": "stderr",
     "output_type": "stream",
     "text": [
      "     23/100      2.56G      1.011     0.5717      1.168         24        640: 1\n",
      "                 Class     Images  Instances      Box(P          R      mAP50  m"
     ]
    },
    {
     "name": "stdout",
     "output_type": "stream",
     "text": [
      "                   all        255       2036      0.891      0.881      0.945      0.653\n"
     ]
    },
    {
     "name": "stderr",
     "output_type": "stream",
     "text": [
      "\n"
     ]
    },
    {
     "name": "stdout",
     "output_type": "stream",
     "text": [
      "\n",
      "      Epoch    GPU_mem   box_loss   cls_loss   dfl_loss  Instances       Size\n"
     ]
    },
    {
     "name": "stderr",
     "output_type": "stream",
     "text": [
      "     24/100      2.56G       1.01     0.5699      1.167         33        640: 1\n",
      "                 Class     Images  Instances      Box(P          R      mAP50  m"
     ]
    },
    {
     "name": "stdout",
     "output_type": "stream",
     "text": [
      "                   all        255       2036        0.9      0.879      0.946      0.653\n"
     ]
    },
    {
     "name": "stderr",
     "output_type": "stream",
     "text": [
      "\n"
     ]
    },
    {
     "name": "stdout",
     "output_type": "stream",
     "text": [
      "\n",
      "      Epoch    GPU_mem   box_loss   cls_loss   dfl_loss  Instances       Size\n"
     ]
    },
    {
     "name": "stderr",
     "output_type": "stream",
     "text": [
      "     25/100      2.54G      1.009     0.5763      1.166         49        640: 1\n",
      "                 Class     Images  Instances      Box(P          R      mAP50  m"
     ]
    },
    {
     "name": "stdout",
     "output_type": "stream",
     "text": [
      "                   all        255       2036        0.9      0.878      0.947      0.655\n"
     ]
    },
    {
     "name": "stderr",
     "output_type": "stream",
     "text": [
      "\n"
     ]
    },
    {
     "name": "stdout",
     "output_type": "stream",
     "text": [
      "\n",
      "      Epoch    GPU_mem   box_loss   cls_loss   dfl_loss  Instances       Size\n"
     ]
    },
    {
     "name": "stderr",
     "output_type": "stream",
     "text": [
      "     26/100      2.55G     0.9931     0.5538      1.157         25        640: 1\n",
      "                 Class     Images  Instances      Box(P          R      mAP50  m"
     ]
    },
    {
     "name": "stdout",
     "output_type": "stream",
     "text": [
      "                   all        255       2036      0.908      0.852      0.935      0.649\n"
     ]
    },
    {
     "name": "stderr",
     "output_type": "stream",
     "text": [
      "\n"
     ]
    },
    {
     "name": "stdout",
     "output_type": "stream",
     "text": [
      "\n",
      "      Epoch    GPU_mem   box_loss   cls_loss   dfl_loss  Instances       Size\n"
     ]
    },
    {
     "name": "stderr",
     "output_type": "stream",
     "text": [
      "     27/100      2.55G     0.9992     0.5533      1.164         20        640: 1\n",
      "                 Class     Images  Instances      Box(P          R      mAP50  m"
     ]
    },
    {
     "name": "stdout",
     "output_type": "stream",
     "text": [
      "                   all        255       2036      0.887      0.876      0.942      0.647\n"
     ]
    },
    {
     "name": "stderr",
     "output_type": "stream",
     "text": [
      "\n"
     ]
    },
    {
     "name": "stdout",
     "output_type": "stream",
     "text": [
      "\n",
      "      Epoch    GPU_mem   box_loss   cls_loss   dfl_loss  Instances       Size\n"
     ]
    },
    {
     "name": "stderr",
     "output_type": "stream",
     "text": [
      "     28/100      2.54G     0.9969      0.557      1.156         58        640: 1\n",
      "                 Class     Images  Instances      Box(P          R      mAP50  m"
     ]
    },
    {
     "name": "stdout",
     "output_type": "stream",
     "text": [
      "                   all        255       2036      0.913      0.868      0.951      0.659\n"
     ]
    },
    {
     "name": "stderr",
     "output_type": "stream",
     "text": [
      "\n"
     ]
    },
    {
     "name": "stdout",
     "output_type": "stream",
     "text": [
      "\n",
      "      Epoch    GPU_mem   box_loss   cls_loss   dfl_loss  Instances       Size\n"
     ]
    },
    {
     "name": "stderr",
     "output_type": "stream",
     "text": [
      "     29/100      2.53G     0.9901     0.5515      1.156         34        640: 1\n",
      "                 Class     Images  Instances      Box(P          R      mAP50  m"
     ]
    },
    {
     "name": "stdout",
     "output_type": "stream",
     "text": [
      "                   all        255       2036      0.904      0.874       0.95      0.662\n"
     ]
    },
    {
     "name": "stderr",
     "output_type": "stream",
     "text": [
      "\n"
     ]
    },
    {
     "name": "stdout",
     "output_type": "stream",
     "text": [
      "\n",
      "      Epoch    GPU_mem   box_loss   cls_loss   dfl_loss  Instances       Size\n"
     ]
    },
    {
     "name": "stderr",
     "output_type": "stream",
     "text": [
      "     30/100      2.52G       0.99      0.537      1.153         18        640: 1\n",
      "                 Class     Images  Instances      Box(P          R      mAP50  m"
     ]
    },
    {
     "name": "stdout",
     "output_type": "stream",
     "text": [
      "                   all        255       2036      0.891      0.895      0.954      0.666\n"
     ]
    },
    {
     "name": "stderr",
     "output_type": "stream",
     "text": [
      "\n"
     ]
    },
    {
     "name": "stdout",
     "output_type": "stream",
     "text": [
      "\n",
      "      Epoch    GPU_mem   box_loss   cls_loss   dfl_loss  Instances       Size\n"
     ]
    },
    {
     "name": "stderr",
     "output_type": "stream",
     "text": [
      "     31/100      2.51G     0.9895     0.5404      1.151         26        640: 1\n",
      "                 Class     Images  Instances      Box(P          R      mAP50  m"
     ]
    },
    {
     "name": "stdout",
     "output_type": "stream",
     "text": [
      "                   all        255       2036      0.903      0.892      0.951      0.655\n"
     ]
    },
    {
     "name": "stderr",
     "output_type": "stream",
     "text": [
      "\n"
     ]
    },
    {
     "name": "stdout",
     "output_type": "stream",
     "text": [
      "\n",
      "      Epoch    GPU_mem   box_loss   cls_loss   dfl_loss  Instances       Size\n"
     ]
    },
    {
     "name": "stderr",
     "output_type": "stream",
     "text": [
      "     32/100      2.52G     0.9807     0.5404       1.15         32        640: 1\n",
      "                 Class     Images  Instances      Box(P          R      mAP50  m"
     ]
    },
    {
     "name": "stdout",
     "output_type": "stream",
     "text": [
      "                   all        255       2036      0.904      0.881      0.955      0.663\n"
     ]
    },
    {
     "name": "stderr",
     "output_type": "stream",
     "text": [
      "\n"
     ]
    },
    {
     "name": "stdout",
     "output_type": "stream",
     "text": [
      "\n",
      "      Epoch    GPU_mem   box_loss   cls_loss   dfl_loss  Instances       Size\n"
     ]
    },
    {
     "name": "stderr",
     "output_type": "stream",
     "text": [
      "     33/100      2.58G      0.972     0.5243       1.15         51        640: 1\n",
      "                 Class     Images  Instances      Box(P          R      mAP50  m"
     ]
    },
    {
     "name": "stdout",
     "output_type": "stream",
     "text": [
      "                   all        255       2036      0.915      0.858      0.946      0.659\n"
     ]
    },
    {
     "name": "stderr",
     "output_type": "stream",
     "text": [
      "\n"
     ]
    },
    {
     "name": "stdout",
     "output_type": "stream",
     "text": [
      "\n",
      "      Epoch    GPU_mem   box_loss   cls_loss   dfl_loss  Instances       Size\n"
     ]
    },
    {
     "name": "stderr",
     "output_type": "stream",
     "text": [
      "     34/100      2.57G     0.9702     0.5323      1.139         25        640: 1\n",
      "                 Class     Images  Instances      Box(P          R      mAP50  m"
     ]
    },
    {
     "name": "stdout",
     "output_type": "stream",
     "text": [
      "                   all        255       2036      0.902      0.879      0.946      0.657\n"
     ]
    },
    {
     "name": "stderr",
     "output_type": "stream",
     "text": [
      "\n"
     ]
    },
    {
     "name": "stdout",
     "output_type": "stream",
     "text": [
      "\n",
      "      Epoch    GPU_mem   box_loss   cls_loss   dfl_loss  Instances       Size\n"
     ]
    },
    {
     "name": "stderr",
     "output_type": "stream",
     "text": [
      "     35/100      2.54G     0.9572     0.5259      1.129         35        640: 1\n",
      "                 Class     Images  Instances      Box(P          R      mAP50  m"
     ]
    },
    {
     "name": "stdout",
     "output_type": "stream",
     "text": [
      "                   all        255       2036      0.889       0.89       0.95      0.658\n"
     ]
    },
    {
     "name": "stderr",
     "output_type": "stream",
     "text": [
      "\n"
     ]
    },
    {
     "name": "stdout",
     "output_type": "stream",
     "text": [
      "\n",
      "      Epoch    GPU_mem   box_loss   cls_loss   dfl_loss  Instances       Size\n"
     ]
    },
    {
     "name": "stderr",
     "output_type": "stream",
     "text": [
      "     36/100      2.53G     0.9611     0.5301      1.145         26        640: 1\n",
      "                 Class     Images  Instances      Box(P          R      mAP50  m"
     ]
    },
    {
     "name": "stdout",
     "output_type": "stream",
     "text": [
      "                   all        255       2036        0.9      0.893      0.954      0.661\n"
     ]
    },
    {
     "name": "stderr",
     "output_type": "stream",
     "text": [
      "\n"
     ]
    },
    {
     "name": "stdout",
     "output_type": "stream",
     "text": [
      "\n",
      "      Epoch    GPU_mem   box_loss   cls_loss   dfl_loss  Instances       Size\n"
     ]
    },
    {
     "name": "stderr",
     "output_type": "stream",
     "text": [
      "     37/100      2.49G     0.9606     0.5152      1.136         20        640: 1\n",
      "                 Class     Images  Instances      Box(P          R      mAP50  m"
     ]
    },
    {
     "name": "stdout",
     "output_type": "stream",
     "text": [
      "                   all        255       2036      0.885      0.895      0.948      0.655\n"
     ]
    },
    {
     "name": "stderr",
     "output_type": "stream",
     "text": [
      "\n"
     ]
    },
    {
     "name": "stdout",
     "output_type": "stream",
     "text": [
      "\n",
      "      Epoch    GPU_mem   box_loss   cls_loss   dfl_loss  Instances       Size\n"
     ]
    },
    {
     "name": "stderr",
     "output_type": "stream",
     "text": [
      "     38/100      2.58G     0.9423     0.5041      1.128         40        640: 1\n",
      "                 Class     Images  Instances      Box(P          R      mAP50  m"
     ]
    },
    {
     "name": "stdout",
     "output_type": "stream",
     "text": [
      "                   all        255       2036      0.893      0.893       0.95      0.659\n"
     ]
    },
    {
     "name": "stderr",
     "output_type": "stream",
     "text": [
      "\n"
     ]
    },
    {
     "name": "stdout",
     "output_type": "stream",
     "text": [
      "\n",
      "      Epoch    GPU_mem   box_loss   cls_loss   dfl_loss  Instances       Size\n"
     ]
    },
    {
     "name": "stderr",
     "output_type": "stream",
     "text": [
      "     39/100      2.55G     0.9532     0.5115      1.134         23        640: 1\n",
      "                 Class     Images  Instances      Box(P          R      mAP50  m"
     ]
    },
    {
     "name": "stdout",
     "output_type": "stream",
     "text": [
      "                   all        255       2036      0.896      0.868       0.93      0.641\n"
     ]
    },
    {
     "name": "stderr",
     "output_type": "stream",
     "text": [
      "\n"
     ]
    },
    {
     "name": "stdout",
     "output_type": "stream",
     "text": [
      "\n",
      "      Epoch    GPU_mem   box_loss   cls_loss   dfl_loss  Instances       Size\n"
     ]
    },
    {
     "name": "stderr",
     "output_type": "stream",
     "text": [
      "     40/100      2.51G     0.9396      0.501      1.126         40        640: 1\n",
      "                 Class     Images  Instances      Box(P          R      mAP50  m"
     ]
    },
    {
     "name": "stdout",
     "output_type": "stream",
     "text": [
      "                   all        255       2036      0.918      0.867      0.952       0.67\n"
     ]
    },
    {
     "name": "stderr",
     "output_type": "stream",
     "text": [
      "\n"
     ]
    },
    {
     "name": "stdout",
     "output_type": "stream",
     "text": [
      "\n",
      "      Epoch    GPU_mem   box_loss   cls_loss   dfl_loss  Instances       Size\n"
     ]
    },
    {
     "name": "stderr",
     "output_type": "stream",
     "text": [
      "     41/100      2.56G     0.9423     0.5054      1.132         48        640: 1\n",
      "                 Class     Images  Instances      Box(P          R      mAP50  m"
     ]
    },
    {
     "name": "stdout",
     "output_type": "stream",
     "text": [
      "                   all        255       2036      0.916      0.865      0.942      0.652\n"
     ]
    },
    {
     "name": "stderr",
     "output_type": "stream",
     "text": [
      "\n"
     ]
    },
    {
     "name": "stdout",
     "output_type": "stream",
     "text": [
      "\n",
      "      Epoch    GPU_mem   box_loss   cls_loss   dfl_loss  Instances       Size\n"
     ]
    },
    {
     "name": "stderr",
     "output_type": "stream",
     "text": [
      "     42/100      2.56G     0.9468     0.4987      1.123         17        640: 1\n",
      "                 Class     Images  Instances      Box(P          R      mAP50  m"
     ]
    },
    {
     "name": "stdout",
     "output_type": "stream",
     "text": [
      "                   all        255       2036      0.927      0.866      0.951      0.652\n"
     ]
    },
    {
     "name": "stderr",
     "output_type": "stream",
     "text": [
      "\n"
     ]
    },
    {
     "name": "stdout",
     "output_type": "stream",
     "text": [
      "\n",
      "      Epoch    GPU_mem   box_loss   cls_loss   dfl_loss  Instances       Size\n"
     ]
    },
    {
     "name": "stderr",
     "output_type": "stream",
     "text": [
      "     43/100      2.51G     0.9448     0.4957      1.122         38        640: 1\n",
      "                 Class     Images  Instances      Box(P          R      mAP50  m"
     ]
    },
    {
     "name": "stdout",
     "output_type": "stream",
     "text": [
      "                   all        255       2036      0.901      0.877      0.947      0.667\n"
     ]
    },
    {
     "name": "stderr",
     "output_type": "stream",
     "text": [
      "\n"
     ]
    },
    {
     "name": "stdout",
     "output_type": "stream",
     "text": [
      "\n",
      "      Epoch    GPU_mem   box_loss   cls_loss   dfl_loss  Instances       Size\n"
     ]
    },
    {
     "name": "stderr",
     "output_type": "stream",
     "text": [
      "     44/100      2.55G     0.9331     0.4968      1.126         35        640: 1\n",
      "                 Class     Images  Instances      Box(P          R      mAP50  m"
     ]
    },
    {
     "name": "stdout",
     "output_type": "stream",
     "text": [
      "                   all        255       2036      0.902      0.881      0.951      0.667\n"
     ]
    },
    {
     "name": "stderr",
     "output_type": "stream",
     "text": [
      "\n"
     ]
    },
    {
     "name": "stdout",
     "output_type": "stream",
     "text": [
      "\n",
      "      Epoch    GPU_mem   box_loss   cls_loss   dfl_loss  Instances       Size\n"
     ]
    },
    {
     "name": "stderr",
     "output_type": "stream",
     "text": [
      "     45/100      2.55G     0.9134     0.4824      1.115         37        640: 1\n",
      "                 Class     Images  Instances      Box(P          R      mAP50  m"
     ]
    },
    {
     "name": "stdout",
     "output_type": "stream",
     "text": [
      "                   all        255       2036      0.894      0.896      0.951       0.66\n"
     ]
    },
    {
     "name": "stderr",
     "output_type": "stream",
     "text": [
      "\n"
     ]
    },
    {
     "name": "stdout",
     "output_type": "stream",
     "text": [
      "\n",
      "      Epoch    GPU_mem   box_loss   cls_loss   dfl_loss  Instances       Size\n"
     ]
    },
    {
     "name": "stderr",
     "output_type": "stream",
     "text": [
      "     46/100      2.57G     0.9231     0.4904      1.121         37        640: 1\n",
      "                 Class     Images  Instances      Box(P          R      mAP50  m"
     ]
    },
    {
     "name": "stdout",
     "output_type": "stream",
     "text": [
      "                   all        255       2036      0.886      0.901      0.953      0.666\n"
     ]
    },
    {
     "name": "stderr",
     "output_type": "stream",
     "text": [
      "\n"
     ]
    },
    {
     "name": "stdout",
     "output_type": "stream",
     "text": [
      "\n",
      "      Epoch    GPU_mem   box_loss   cls_loss   dfl_loss  Instances       Size\n"
     ]
    },
    {
     "name": "stderr",
     "output_type": "stream",
     "text": [
      "     47/100      2.54G     0.9233     0.4891      1.112         50        640: 1\n",
      "                 Class     Images  Instances      Box(P          R      mAP50  m"
     ]
    },
    {
     "name": "stdout",
     "output_type": "stream",
     "text": [
      "                   all        255       2036      0.905       0.87      0.949       0.68\n"
     ]
    },
    {
     "name": "stderr",
     "output_type": "stream",
     "text": [
      "\n"
     ]
    },
    {
     "name": "stdout",
     "output_type": "stream",
     "text": [
      "\n",
      "      Epoch    GPU_mem   box_loss   cls_loss   dfl_loss  Instances       Size\n"
     ]
    },
    {
     "name": "stderr",
     "output_type": "stream",
     "text": [
      "     48/100      2.55G     0.9209     0.4787      1.105         56        640: 1\n",
      "                 Class     Images  Instances      Box(P          R      mAP50  m"
     ]
    },
    {
     "name": "stdout",
     "output_type": "stream",
     "text": [
      "                   all        255       2036      0.899      0.872      0.942      0.658\n"
     ]
    },
    {
     "name": "stderr",
     "output_type": "stream",
     "text": [
      "\n"
     ]
    },
    {
     "name": "stdout",
     "output_type": "stream",
     "text": [
      "\n",
      "      Epoch    GPU_mem   box_loss   cls_loss   dfl_loss  Instances       Size\n"
     ]
    },
    {
     "name": "stderr",
     "output_type": "stream",
     "text": [
      "     49/100      2.53G     0.8939     0.4738      1.104         25        640: 1\n",
      "                 Class     Images  Instances      Box(P          R      mAP50  m"
     ]
    },
    {
     "name": "stdout",
     "output_type": "stream",
     "text": [
      "                   all        255       2036       0.91      0.871      0.948      0.662\n"
     ]
    },
    {
     "name": "stderr",
     "output_type": "stream",
     "text": [
      "\n"
     ]
    },
    {
     "name": "stdout",
     "output_type": "stream",
     "text": [
      "\n",
      "      Epoch    GPU_mem   box_loss   cls_loss   dfl_loss  Instances       Size\n"
     ]
    },
    {
     "name": "stderr",
     "output_type": "stream",
     "text": [
      "     50/100      2.51G     0.9125     0.4755      1.108         26        640: 1\n",
      "                 Class     Images  Instances      Box(P          R      mAP50  m"
     ]
    },
    {
     "name": "stdout",
     "output_type": "stream",
     "text": [
      "                   all        255       2036      0.901      0.887      0.954      0.671\n"
     ]
    },
    {
     "name": "stderr",
     "output_type": "stream",
     "text": [
      "\n"
     ]
    },
    {
     "name": "stdout",
     "output_type": "stream",
     "text": [
      "\n",
      "      Epoch    GPU_mem   box_loss   cls_loss   dfl_loss  Instances       Size\n"
     ]
    },
    {
     "name": "stderr",
     "output_type": "stream",
     "text": [
      "     51/100      2.54G     0.9113      0.474      1.108         49        640: 1\n",
      "                 Class     Images  Instances      Box(P          R      mAP50  m"
     ]
    },
    {
     "name": "stdout",
     "output_type": "stream",
     "text": [
      "                   all        255       2036      0.896      0.877      0.946      0.662\n"
     ]
    },
    {
     "name": "stderr",
     "output_type": "stream",
     "text": [
      "\n"
     ]
    },
    {
     "name": "stdout",
     "output_type": "stream",
     "text": [
      "\n",
      "      Epoch    GPU_mem   box_loss   cls_loss   dfl_loss  Instances       Size\n"
     ]
    },
    {
     "name": "stderr",
     "output_type": "stream",
     "text": [
      "     52/100      2.53G     0.9016     0.4655      1.115         48        640: 1\n",
      "                 Class     Images  Instances      Box(P          R      mAP50  m"
     ]
    },
    {
     "name": "stdout",
     "output_type": "stream",
     "text": [
      "                   all        255       2036      0.893      0.883      0.938      0.643\n"
     ]
    },
    {
     "name": "stderr",
     "output_type": "stream",
     "text": [
      "\n"
     ]
    },
    {
     "name": "stdout",
     "output_type": "stream",
     "text": [
      "\n",
      "      Epoch    GPU_mem   box_loss   cls_loss   dfl_loss  Instances       Size\n"
     ]
    },
    {
     "name": "stderr",
     "output_type": "stream",
     "text": [
      "     53/100      2.52G      0.891     0.4662      1.101         30        640: 1\n",
      "                 Class     Images  Instances      Box(P          R      mAP50  m"
     ]
    },
    {
     "name": "stdout",
     "output_type": "stream",
     "text": [
      "                   all        255       2036      0.905       0.87      0.944       0.66\n"
     ]
    },
    {
     "name": "stderr",
     "output_type": "stream",
     "text": [
      "\n"
     ]
    },
    {
     "name": "stdout",
     "output_type": "stream",
     "text": [
      "\n",
      "      Epoch    GPU_mem   box_loss   cls_loss   dfl_loss  Instances       Size\n"
     ]
    },
    {
     "name": "stderr",
     "output_type": "stream",
     "text": [
      "     54/100      2.55G     0.8874     0.4655      1.092         35        640: 1\n",
      "                 Class     Images  Instances      Box(P          R      mAP50  m"
     ]
    },
    {
     "name": "stdout",
     "output_type": "stream",
     "text": [
      "                   all        255       2036      0.903      0.879       0.95      0.667\n"
     ]
    },
    {
     "name": "stderr",
     "output_type": "stream",
     "text": [
      "\n"
     ]
    },
    {
     "name": "stdout",
     "output_type": "stream",
     "text": [
      "\n",
      "      Epoch    GPU_mem   box_loss   cls_loss   dfl_loss  Instances       Size\n"
     ]
    },
    {
     "name": "stderr",
     "output_type": "stream",
     "text": [
      "     55/100      2.51G      0.903     0.4673      1.106         41        640: 1\n",
      "                 Class     Images  Instances      Box(P          R      mAP50  m"
     ]
    },
    {
     "name": "stdout",
     "output_type": "stream",
     "text": [
      "                   all        255       2036        0.9      0.867      0.945      0.656\n"
     ]
    },
    {
     "name": "stderr",
     "output_type": "stream",
     "text": [
      "\n"
     ]
    },
    {
     "name": "stdout",
     "output_type": "stream",
     "text": [
      "\n",
      "      Epoch    GPU_mem   box_loss   cls_loss   dfl_loss  Instances       Size\n"
     ]
    },
    {
     "name": "stderr",
     "output_type": "stream",
     "text": [
      "     56/100      2.53G     0.8857     0.4625        1.1         38        640: 1\n",
      "                 Class     Images  Instances      Box(P          R      mAP50  m"
     ]
    },
    {
     "name": "stdout",
     "output_type": "stream",
     "text": [
      "                   all        255       2036      0.903      0.897      0.953      0.669\n"
     ]
    },
    {
     "name": "stderr",
     "output_type": "stream",
     "text": [
      "\n"
     ]
    },
    {
     "name": "stdout",
     "output_type": "stream",
     "text": [
      "\n",
      "      Epoch    GPU_mem   box_loss   cls_loss   dfl_loss  Instances       Size\n"
     ]
    },
    {
     "name": "stderr",
     "output_type": "stream",
     "text": [
      "     57/100      2.52G     0.8767      0.452      1.097         38        640: 1\n",
      "                 Class     Images  Instances      Box(P          R      mAP50  m"
     ]
    },
    {
     "name": "stdout",
     "output_type": "stream",
     "text": [
      "                   all        255       2036      0.915       0.87      0.948      0.663\n"
     ]
    },
    {
     "name": "stderr",
     "output_type": "stream",
     "text": [
      "\n"
     ]
    },
    {
     "name": "stdout",
     "output_type": "stream",
     "text": [
      "\n",
      "      Epoch    GPU_mem   box_loss   cls_loss   dfl_loss  Instances       Size\n"
     ]
    },
    {
     "name": "stderr",
     "output_type": "stream",
     "text": [
      "     58/100      2.51G     0.8821     0.4587      1.099         55        640: 1\n",
      "                 Class     Images  Instances      Box(P          R      mAP50  m"
     ]
    },
    {
     "name": "stdout",
     "output_type": "stream",
     "text": [
      "                   all        255       2036      0.874      0.905      0.952      0.671\n"
     ]
    },
    {
     "name": "stderr",
     "output_type": "stream",
     "text": [
      "\n"
     ]
    },
    {
     "name": "stdout",
     "output_type": "stream",
     "text": [
      "\n",
      "      Epoch    GPU_mem   box_loss   cls_loss   dfl_loss  Instances       Size\n"
     ]
    },
    {
     "name": "stderr",
     "output_type": "stream",
     "text": [
      "     59/100      2.54G     0.8618      0.445      1.087         44        640: 1\n",
      "                 Class     Images  Instances      Box(P          R      mAP50  m"
     ]
    },
    {
     "name": "stdout",
     "output_type": "stream",
     "text": [
      "                   all        255       2036      0.893       0.88      0.946      0.663\n"
     ]
    },
    {
     "name": "stderr",
     "output_type": "stream",
     "text": [
      "\n"
     ]
    },
    {
     "name": "stdout",
     "output_type": "stream",
     "text": [
      "\n",
      "      Epoch    GPU_mem   box_loss   cls_loss   dfl_loss  Instances       Size\n"
     ]
    },
    {
     "name": "stderr",
     "output_type": "stream",
     "text": [
      "     60/100      2.51G     0.8713     0.4525      1.092         19        640: 1\n",
      "                 Class     Images  Instances      Box(P          R      mAP50  m"
     ]
    },
    {
     "name": "stdout",
     "output_type": "stream",
     "text": [
      "                   all        255       2036      0.912      0.869      0.947      0.668\n"
     ]
    },
    {
     "name": "stderr",
     "output_type": "stream",
     "text": [
      "\n"
     ]
    },
    {
     "name": "stdout",
     "output_type": "stream",
     "text": [
      "\n",
      "      Epoch    GPU_mem   box_loss   cls_loss   dfl_loss  Instances       Size\n"
     ]
    },
    {
     "name": "stderr",
     "output_type": "stream",
     "text": [
      "     61/100      2.57G     0.8675      0.448      1.083         45        640: 1\n",
      "                 Class     Images  Instances      Box(P          R      mAP50  m"
     ]
    },
    {
     "name": "stdout",
     "output_type": "stream",
     "text": [
      "                   all        255       2036       0.88      0.897      0.945      0.659\n"
     ]
    },
    {
     "name": "stderr",
     "output_type": "stream",
     "text": [
      "\n"
     ]
    },
    {
     "name": "stdout",
     "output_type": "stream",
     "text": [
      "\n",
      "      Epoch    GPU_mem   box_loss   cls_loss   dfl_loss  Instances       Size\n"
     ]
    },
    {
     "name": "stderr",
     "output_type": "stream",
     "text": [
      "     62/100      2.51G     0.8601     0.4389      1.078         33        640: 1\n",
      "                 Class     Images  Instances      Box(P          R      mAP50  m"
     ]
    },
    {
     "name": "stdout",
     "output_type": "stream",
     "text": [
      "                   all        255       2036      0.894      0.887      0.949      0.664\n"
     ]
    },
    {
     "name": "stderr",
     "output_type": "stream",
     "text": [
      "\n"
     ]
    },
    {
     "name": "stdout",
     "output_type": "stream",
     "text": [
      "\n",
      "      Epoch    GPU_mem   box_loss   cls_loss   dfl_loss  Instances       Size\n"
     ]
    },
    {
     "name": "stderr",
     "output_type": "stream",
     "text": [
      "     63/100      2.51G     0.8542     0.4398      1.069         32        640: 1\n",
      "                 Class     Images  Instances      Box(P          R      mAP50  m"
     ]
    },
    {
     "name": "stdout",
     "output_type": "stream",
     "text": [
      "                   all        255       2036      0.893      0.898      0.947      0.665\n"
     ]
    },
    {
     "name": "stderr",
     "output_type": "stream",
     "text": [
      "\n"
     ]
    },
    {
     "name": "stdout",
     "output_type": "stream",
     "text": [
      "\n",
      "      Epoch    GPU_mem   box_loss   cls_loss   dfl_loss  Instances       Size\n"
     ]
    },
    {
     "name": "stderr",
     "output_type": "stream",
     "text": [
      "     64/100      2.53G     0.8528     0.4393      1.072         25        640: 1\n",
      "                 Class     Images  Instances      Box(P          R      mAP50  m"
     ]
    },
    {
     "name": "stdout",
     "output_type": "stream",
     "text": [
      "                   all        255       2036      0.895      0.883      0.949      0.672\n"
     ]
    },
    {
     "name": "stderr",
     "output_type": "stream",
     "text": [
      "\n"
     ]
    },
    {
     "name": "stdout",
     "output_type": "stream",
     "text": [
      "\n",
      "      Epoch    GPU_mem   box_loss   cls_loss   dfl_loss  Instances       Size\n"
     ]
    },
    {
     "name": "stderr",
     "output_type": "stream",
     "text": [
      "     65/100      2.51G     0.8522     0.4306       1.08         55        640: 1\n",
      "                 Class     Images  Instances      Box(P          R      mAP50  m"
     ]
    },
    {
     "name": "stdout",
     "output_type": "stream",
     "text": [
      "                   all        255       2036        0.9      0.882      0.943      0.661\n"
     ]
    },
    {
     "name": "stderr",
     "output_type": "stream",
     "text": [
      "\n"
     ]
    },
    {
     "name": "stdout",
     "output_type": "stream",
     "text": [
      "\n",
      "      Epoch    GPU_mem   box_loss   cls_loss   dfl_loss  Instances       Size\n"
     ]
    },
    {
     "name": "stderr",
     "output_type": "stream",
     "text": [
      "     66/100      2.49G     0.8438     0.4298      1.077         29        640: 1\n",
      "                 Class     Images  Instances      Box(P          R      mAP50  m"
     ]
    },
    {
     "name": "stdout",
     "output_type": "stream",
     "text": [
      "                   all        255       2036      0.906      0.874      0.947      0.663\n"
     ]
    },
    {
     "name": "stderr",
     "output_type": "stream",
     "text": [
      "\n"
     ]
    },
    {
     "name": "stdout",
     "output_type": "stream",
     "text": [
      "\n",
      "      Epoch    GPU_mem   box_loss   cls_loss   dfl_loss  Instances       Size\n"
     ]
    },
    {
     "name": "stderr",
     "output_type": "stream",
     "text": [
      "     67/100      2.48G     0.8452     0.4302      1.072         31        640: 1\n",
      "                 Class     Images  Instances      Box(P          R      mAP50  m"
     ]
    },
    {
     "name": "stdout",
     "output_type": "stream",
     "text": [
      "                   all        255       2036      0.885      0.883      0.946      0.661\n"
     ]
    },
    {
     "name": "stderr",
     "output_type": "stream",
     "text": [
      "\n"
     ]
    },
    {
     "name": "stdout",
     "output_type": "stream",
     "text": [
      "\n",
      "      Epoch    GPU_mem   box_loss   cls_loss   dfl_loss  Instances       Size\n"
     ]
    },
    {
     "name": "stderr",
     "output_type": "stream",
     "text": [
      "     68/100      2.58G     0.8306     0.4294      1.068         61        640: 1\n",
      "                 Class     Images  Instances      Box(P          R      mAP50  m"
     ]
    },
    {
     "name": "stdout",
     "output_type": "stream",
     "text": [
      "                   all        255       2036      0.915      0.867      0.945      0.663\n"
     ]
    },
    {
     "name": "stderr",
     "output_type": "stream",
     "text": [
      "\n"
     ]
    },
    {
     "name": "stdout",
     "output_type": "stream",
     "text": [
      "\n",
      "      Epoch    GPU_mem   box_loss   cls_loss   dfl_loss  Instances       Size\n"
     ]
    },
    {
     "name": "stderr",
     "output_type": "stream",
     "text": [
      "     69/100      2.52G     0.8332     0.4266      1.066         36        640: 1\n",
      "                 Class     Images  Instances      Box(P          R      mAP50  m"
     ]
    },
    {
     "name": "stdout",
     "output_type": "stream",
     "text": [
      "                   all        255       2036      0.896      0.888       0.95      0.666\n"
     ]
    },
    {
     "name": "stderr",
     "output_type": "stream",
     "text": [
      "\n"
     ]
    },
    {
     "name": "stdout",
     "output_type": "stream",
     "text": [
      "\n",
      "      Epoch    GPU_mem   box_loss   cls_loss   dfl_loss  Instances       Size\n"
     ]
    },
    {
     "name": "stderr",
     "output_type": "stream",
     "text": [
      "     70/100       2.5G     0.8304     0.4257      1.068         20        640: 1\n",
      "                 Class     Images  Instances      Box(P          R      mAP50  m"
     ]
    },
    {
     "name": "stdout",
     "output_type": "stream",
     "text": [
      "                   all        255       2036      0.897      0.873      0.946      0.669\n"
     ]
    },
    {
     "name": "stderr",
     "output_type": "stream",
     "text": [
      "\n"
     ]
    },
    {
     "name": "stdout",
     "output_type": "stream",
     "text": [
      "\n",
      "      Epoch    GPU_mem   box_loss   cls_loss   dfl_loss  Instances       Size\n"
     ]
    },
    {
     "name": "stderr",
     "output_type": "stream",
     "text": [
      "     71/100      2.51G     0.8309     0.4247      1.079         28        640: 1\n",
      "                 Class     Images  Instances      Box(P          R      mAP50  m"
     ]
    },
    {
     "name": "stdout",
     "output_type": "stream",
     "text": [
      "                   all        255       2036      0.911      0.886      0.948      0.655\n"
     ]
    },
    {
     "name": "stderr",
     "output_type": "stream",
     "text": [
      "\n"
     ]
    },
    {
     "name": "stdout",
     "output_type": "stream",
     "text": [
      "\n",
      "      Epoch    GPU_mem   box_loss   cls_loss   dfl_loss  Instances       Size\n"
     ]
    },
    {
     "name": "stderr",
     "output_type": "stream",
     "text": [
      "     72/100      2.53G     0.8174      0.415      1.056         17        640: 1\n",
      "                 Class     Images  Instances      Box(P          R      mAP50  m"
     ]
    },
    {
     "name": "stdout",
     "output_type": "stream",
     "text": [
      "                   all        255       2036      0.907      0.865      0.949      0.669\n"
     ]
    },
    {
     "name": "stderr",
     "output_type": "stream",
     "text": [
      "\n"
     ]
    },
    {
     "name": "stdout",
     "output_type": "stream",
     "text": [
      "\n",
      "      Epoch    GPU_mem   box_loss   cls_loss   dfl_loss  Instances       Size\n"
     ]
    },
    {
     "name": "stderr",
     "output_type": "stream",
     "text": [
      "     73/100      2.51G     0.8025     0.4104      1.054         38        640: 1\n",
      "                 Class     Images  Instances      Box(P          R      mAP50  m"
     ]
    },
    {
     "name": "stdout",
     "output_type": "stream",
     "text": [
      "                   all        255       2036        0.9      0.871      0.945      0.662\n"
     ]
    },
    {
     "name": "stderr",
     "output_type": "stream",
     "text": [
      "\n"
     ]
    },
    {
     "name": "stdout",
     "output_type": "stream",
     "text": [
      "\n",
      "      Epoch    GPU_mem   box_loss   cls_loss   dfl_loss  Instances       Size\n"
     ]
    },
    {
     "name": "stderr",
     "output_type": "stream",
     "text": [
      "     74/100      2.53G     0.8158     0.4122      1.059         50        640: 1\n",
      "                 Class     Images  Instances      Box(P          R      mAP50  m"
     ]
    },
    {
     "name": "stdout",
     "output_type": "stream",
     "text": [
      "                   all        255       2036       0.91      0.869      0.948      0.666\n"
     ]
    },
    {
     "name": "stderr",
     "output_type": "stream",
     "text": [
      "\n"
     ]
    },
    {
     "name": "stdout",
     "output_type": "stream",
     "text": [
      "\n",
      "      Epoch    GPU_mem   box_loss   cls_loss   dfl_loss  Instances       Size\n"
     ]
    },
    {
     "name": "stderr",
     "output_type": "stream",
     "text": [
      "     75/100      2.51G     0.8055     0.4037       1.05         36        640: 1\n",
      "                 Class     Images  Instances      Box(P          R      mAP50  m"
     ]
    },
    {
     "name": "stdout",
     "output_type": "stream",
     "text": [
      "                   all        255       2036       0.91      0.874      0.949      0.669\n"
     ]
    },
    {
     "name": "stderr",
     "output_type": "stream",
     "text": [
      "\n"
     ]
    },
    {
     "name": "stdout",
     "output_type": "stream",
     "text": [
      "\n",
      "      Epoch    GPU_mem   box_loss   cls_loss   dfl_loss  Instances       Size\n"
     ]
    },
    {
     "name": "stderr",
     "output_type": "stream",
     "text": [
      "     76/100      2.57G     0.8057     0.4101      1.055         33        640: 1\n",
      "                 Class     Images  Instances      Box(P          R      mAP50  m"
     ]
    },
    {
     "name": "stdout",
     "output_type": "stream",
     "text": [
      "                   all        255       2036      0.889      0.894      0.946      0.667\n"
     ]
    },
    {
     "name": "stderr",
     "output_type": "stream",
     "text": [
      "\n"
     ]
    },
    {
     "name": "stdout",
     "output_type": "stream",
     "text": [
      "\n",
      "      Epoch    GPU_mem   box_loss   cls_loss   dfl_loss  Instances       Size\n"
     ]
    },
    {
     "name": "stderr",
     "output_type": "stream",
     "text": [
      "     77/100      2.58G     0.7906     0.4044       1.05         51        640: 1\n",
      "                 Class     Images  Instances      Box(P          R      mAP50  m"
     ]
    },
    {
     "name": "stdout",
     "output_type": "stream",
     "text": [
      "                   all        255       2036      0.889      0.888      0.941      0.658\n"
     ]
    },
    {
     "name": "stderr",
     "output_type": "stream",
     "text": [
      "\n"
     ]
    },
    {
     "name": "stdout",
     "output_type": "stream",
     "text": [
      "\n",
      "      Epoch    GPU_mem   box_loss   cls_loss   dfl_loss  Instances       Size\n"
     ]
    },
    {
     "name": "stderr",
     "output_type": "stream",
     "text": [
      "     78/100      2.51G     0.7951      0.405      1.047         30        640: 1\n",
      "                 Class     Images  Instances      Box(P          R      mAP50  m"
     ]
    },
    {
     "name": "stdout",
     "output_type": "stream",
     "text": [
      "                   all        255       2036      0.903      0.871      0.944       0.66\n"
     ]
    },
    {
     "name": "stderr",
     "output_type": "stream",
     "text": [
      "\n"
     ]
    },
    {
     "name": "stdout",
     "output_type": "stream",
     "text": [
      "\n",
      "      Epoch    GPU_mem   box_loss   cls_loss   dfl_loss  Instances       Size\n"
     ]
    },
    {
     "name": "stderr",
     "output_type": "stream",
     "text": [
      "     79/100      2.52G     0.7837     0.3956      1.041         16        640: 1\n",
      "                 Class     Images  Instances      Box(P          R      mAP50  m"
     ]
    },
    {
     "name": "stdout",
     "output_type": "stream",
     "text": [
      "                   all        255       2036      0.891      0.886      0.947      0.669\n"
     ]
    },
    {
     "name": "stderr",
     "output_type": "stream",
     "text": [
      "\n"
     ]
    },
    {
     "name": "stdout",
     "output_type": "stream",
     "text": [
      "\n",
      "      Epoch    GPU_mem   box_loss   cls_loss   dfl_loss  Instances       Size\n"
     ]
    },
    {
     "name": "stderr",
     "output_type": "stream",
     "text": [
      "     80/100      2.54G     0.7841     0.3942      1.042         46        640: 1\n",
      "                 Class     Images  Instances      Box(P          R      mAP50  m"
     ]
    },
    {
     "name": "stdout",
     "output_type": "stream",
     "text": [
      "                   all        255       2036      0.906      0.873       0.95      0.666\n"
     ]
    },
    {
     "name": "stderr",
     "output_type": "stream",
     "text": [
      "\n"
     ]
    },
    {
     "name": "stdout",
     "output_type": "stream",
     "text": [
      "\n",
      "      Epoch    GPU_mem   box_loss   cls_loss   dfl_loss  Instances       Size\n"
     ]
    },
    {
     "name": "stderr",
     "output_type": "stream",
     "text": [
      "     81/100      2.51G     0.7741     0.3957      1.041         37        640: 1\n",
      "                 Class     Images  Instances      Box(P          R      mAP50  m"
     ]
    },
    {
     "name": "stdout",
     "output_type": "stream",
     "text": [
      "                   all        255       2036      0.899      0.888      0.952      0.674\n"
     ]
    },
    {
     "name": "stderr",
     "output_type": "stream",
     "text": [
      "\n"
     ]
    },
    {
     "name": "stdout",
     "output_type": "stream",
     "text": [
      "\n",
      "      Epoch    GPU_mem   box_loss   cls_loss   dfl_loss  Instances       Size\n"
     ]
    },
    {
     "name": "stderr",
     "output_type": "stream",
     "text": [
      "     82/100      2.51G     0.7806     0.3923      1.037         38        640: 1\n",
      "                 Class     Images  Instances      Box(P          R      mAP50  m"
     ]
    },
    {
     "name": "stdout",
     "output_type": "stream",
     "text": [
      "                   all        255       2036      0.908      0.865      0.945       0.67\n"
     ]
    },
    {
     "name": "stderr",
     "output_type": "stream",
     "text": [
      "\n"
     ]
    },
    {
     "name": "stdout",
     "output_type": "stream",
     "text": [
      "\n",
      "      Epoch    GPU_mem   box_loss   cls_loss   dfl_loss  Instances       Size\n"
     ]
    },
    {
     "name": "stderr",
     "output_type": "stream",
     "text": [
      "     83/100      2.57G     0.7643     0.3844      1.038         29        640: 1\n",
      "                 Class     Images  Instances      Box(P          R      mAP50  m"
     ]
    },
    {
     "name": "stdout",
     "output_type": "stream",
     "text": [
      "                   all        255       2036      0.895      0.887      0.944      0.663\n"
     ]
    },
    {
     "name": "stderr",
     "output_type": "stream",
     "text": [
      "\n"
     ]
    },
    {
     "name": "stdout",
     "output_type": "stream",
     "text": [
      "\n",
      "      Epoch    GPU_mem   box_loss   cls_loss   dfl_loss  Instances       Size\n"
     ]
    },
    {
     "name": "stderr",
     "output_type": "stream",
     "text": [
      "     84/100      2.53G     0.7725     0.3852      1.034         26        640: 1\n",
      "                 Class     Images  Instances      Box(P          R      mAP50  m"
     ]
    },
    {
     "name": "stdout",
     "output_type": "stream",
     "text": [
      "                   all        255       2036       0.88      0.895      0.945      0.662\n"
     ]
    },
    {
     "name": "stderr",
     "output_type": "stream",
     "text": [
      "\n"
     ]
    },
    {
     "name": "stdout",
     "output_type": "stream",
     "text": [
      "\n",
      "      Epoch    GPU_mem   box_loss   cls_loss   dfl_loss  Instances       Size\n"
     ]
    },
    {
     "name": "stderr",
     "output_type": "stream",
     "text": [
      "     85/100      2.54G     0.7584     0.3882      1.028         34        640: 1\n",
      "                 Class     Images  Instances      Box(P          R      mAP50  m"
     ]
    },
    {
     "name": "stdout",
     "output_type": "stream",
     "text": [
      "                   all        255       2036      0.909      0.871      0.946      0.665\n"
     ]
    },
    {
     "name": "stderr",
     "output_type": "stream",
     "text": [
      "\n"
     ]
    },
    {
     "name": "stdout",
     "output_type": "stream",
     "text": [
      "\n",
      "      Epoch    GPU_mem   box_loss   cls_loss   dfl_loss  Instances       Size\n"
     ]
    },
    {
     "name": "stderr",
     "output_type": "stream",
     "text": [
      "     86/100      2.52G     0.7624     0.3846      1.033         39        640: 1\n",
      "                 Class     Images  Instances      Box(P          R      mAP50  m"
     ]
    },
    {
     "name": "stdout",
     "output_type": "stream",
     "text": [
      "                   all        255       2036      0.909      0.882      0.948      0.665\n"
     ]
    },
    {
     "name": "stderr",
     "output_type": "stream",
     "text": [
      "\n"
     ]
    },
    {
     "name": "stdout",
     "output_type": "stream",
     "text": [
      "\n",
      "      Epoch    GPU_mem   box_loss   cls_loss   dfl_loss  Instances       Size\n"
     ]
    },
    {
     "name": "stderr",
     "output_type": "stream",
     "text": [
      "     87/100      2.57G     0.7583     0.3787      1.027         38        640: 1\n",
      "                 Class     Images  Instances      Box(P          R      mAP50  m"
     ]
    },
    {
     "name": "stdout",
     "output_type": "stream",
     "text": [
      "                   all        255       2036      0.889      0.893      0.948      0.667\n"
     ]
    },
    {
     "name": "stderr",
     "output_type": "stream",
     "text": [
      "\n"
     ]
    },
    {
     "name": "stdout",
     "output_type": "stream",
     "text": [
      "\n",
      "      Epoch    GPU_mem   box_loss   cls_loss   dfl_loss  Instances       Size\n"
     ]
    },
    {
     "name": "stderr",
     "output_type": "stream",
     "text": [
      "     88/100      2.53G      0.758     0.3794      1.029         20        640: 1\n",
      "                 Class     Images  Instances      Box(P          R      mAP50  m"
     ]
    },
    {
     "name": "stdout",
     "output_type": "stream",
     "text": [
      "                   all        255       2036       0.91      0.868      0.944      0.665\n"
     ]
    },
    {
     "name": "stderr",
     "output_type": "stream",
     "text": [
      "\n"
     ]
    },
    {
     "name": "stdout",
     "output_type": "stream",
     "text": [
      "\n",
      "      Epoch    GPU_mem   box_loss   cls_loss   dfl_loss  Instances       Size\n"
     ]
    },
    {
     "name": "stderr",
     "output_type": "stream",
     "text": [
      "     89/100      2.54G     0.7444     0.3714      1.021         27        640: 1\n",
      "                 Class     Images  Instances      Box(P          R      mAP50  m"
     ]
    },
    {
     "name": "stdout",
     "output_type": "stream",
     "text": [
      "                   all        255       2036      0.914      0.865      0.945      0.666\n"
     ]
    },
    {
     "name": "stderr",
     "output_type": "stream",
     "text": [
      "\n"
     ]
    },
    {
     "name": "stdout",
     "output_type": "stream",
     "text": [
      "\n",
      "      Epoch    GPU_mem   box_loss   cls_loss   dfl_loss  Instances       Size\n"
     ]
    },
    {
     "name": "stderr",
     "output_type": "stream",
     "text": [
      "     90/100      2.51G     0.7447     0.3754      1.026         29        640: 1\n",
      "                 Class     Images  Instances      Box(P          R      mAP50  m"
     ]
    },
    {
     "name": "stdout",
     "output_type": "stream",
     "text": [
      "                   all        255       2036      0.908      0.869      0.946      0.671\n"
     ]
    },
    {
     "name": "stderr",
     "output_type": "stream",
     "text": [
      "\n"
     ]
    },
    {
     "name": "stdout",
     "output_type": "stream",
     "text": [
      "Closing dataloader mosaic\n",
      "\n",
      "      Epoch    GPU_mem   box_loss   cls_loss   dfl_loss  Instances       Size\n"
     ]
    },
    {
     "name": "stderr",
     "output_type": "stream",
     "text": [
      "     91/100      2.56G     0.7129     0.3234      1.001         15        640: 1\n",
      "                 Class     Images  Instances      Box(P          R      mAP50  m"
     ]
    },
    {
     "name": "stdout",
     "output_type": "stream",
     "text": [
      "                   all        255       2036      0.884      0.889      0.943      0.666\n"
     ]
    },
    {
     "name": "stderr",
     "output_type": "stream",
     "text": [
      "\n"
     ]
    },
    {
     "name": "stdout",
     "output_type": "stream",
     "text": [
      "\n",
      "      Epoch    GPU_mem   box_loss   cls_loss   dfl_loss  Instances       Size\n"
     ]
    },
    {
     "name": "stderr",
     "output_type": "stream",
     "text": [
      "     92/100      2.56G     0.7005     0.3139      0.992         15        640: 1\n",
      "                 Class     Images  Instances      Box(P          R      mAP50  m"
     ]
    },
    {
     "name": "stdout",
     "output_type": "stream",
     "text": [
      "                   all        255       2036      0.913      0.863      0.947      0.676\n"
     ]
    },
    {
     "name": "stderr",
     "output_type": "stream",
     "text": [
      "\n"
     ]
    },
    {
     "name": "stdout",
     "output_type": "stream",
     "text": [
      "\n",
      "      Epoch    GPU_mem   box_loss   cls_loss   dfl_loss  Instances       Size\n"
     ]
    },
    {
     "name": "stderr",
     "output_type": "stream",
     "text": [
      "     93/100      2.52G     0.6962     0.3177     0.9929         16        640: 1\n",
      "                 Class     Images  Instances      Box(P          R      mAP50  m"
     ]
    },
    {
     "name": "stdout",
     "output_type": "stream",
     "text": [
      "                   all        255       2036      0.898      0.877      0.943      0.677\n"
     ]
    },
    {
     "name": "stderr",
     "output_type": "stream",
     "text": [
      "\n"
     ]
    },
    {
     "name": "stdout",
     "output_type": "stream",
     "text": [
      "\n",
      "      Epoch    GPU_mem   box_loss   cls_loss   dfl_loss  Instances       Size\n"
     ]
    },
    {
     "name": "stderr",
     "output_type": "stream",
     "text": [
      "     94/100      2.57G     0.6886     0.3133     0.9883         21        640: 1\n",
      "                 Class     Images  Instances      Box(P          R      mAP50  m"
     ]
    },
    {
     "name": "stdout",
     "output_type": "stream",
     "text": [
      "                   all        255       2036      0.908      0.864      0.941      0.673\n"
     ]
    },
    {
     "name": "stderr",
     "output_type": "stream",
     "text": [
      "\n"
     ]
    },
    {
     "name": "stdout",
     "output_type": "stream",
     "text": [
      "\n",
      "      Epoch    GPU_mem   box_loss   cls_loss   dfl_loss  Instances       Size\n"
     ]
    },
    {
     "name": "stderr",
     "output_type": "stream",
     "text": [
      "     95/100      2.52G     0.6803     0.3105     0.9802         14        640: 1\n",
      "                 Class     Images  Instances      Box(P          R      mAP50  m"
     ]
    },
    {
     "name": "stdout",
     "output_type": "stream",
     "text": [
      "                   all        255       2036        0.9      0.878      0.945      0.677\n"
     ]
    },
    {
     "name": "stderr",
     "output_type": "stream",
     "text": [
      "\n"
     ]
    },
    {
     "name": "stdout",
     "output_type": "stream",
     "text": [
      "\n",
      "      Epoch    GPU_mem   box_loss   cls_loss   dfl_loss  Instances       Size\n"
     ]
    },
    {
     "name": "stderr",
     "output_type": "stream",
     "text": [
      "     96/100      2.57G      0.678     0.3057     0.9804         18        640: 1\n",
      "                 Class     Images  Instances      Box(P          R      mAP50  m"
     ]
    },
    {
     "name": "stdout",
     "output_type": "stream",
     "text": [
      "                   all        255       2036      0.893      0.883      0.945      0.677\n"
     ]
    },
    {
     "name": "stderr",
     "output_type": "stream",
     "text": [
      "\n"
     ]
    },
    {
     "name": "stdout",
     "output_type": "stream",
     "text": [
      "\n",
      "      Epoch    GPU_mem   box_loss   cls_loss   dfl_loss  Instances       Size\n"
     ]
    },
    {
     "name": "stderr",
     "output_type": "stream",
     "text": [
      "     97/100      2.53G     0.6742     0.3013     0.9788         40        640: 1\n",
      "                 Class     Images  Instances      Box(P          R      mAP50  m"
     ]
    },
    {
     "name": "stdout",
     "output_type": "stream",
     "text": [
      "                   all        255       2036      0.888      0.891      0.944      0.676\n"
     ]
    },
    {
     "name": "stderr",
     "output_type": "stream",
     "text": [
      "\n"
     ]
    },
    {
     "name": "stdout",
     "output_type": "stream",
     "text": [
      "\n",
      "      Epoch    GPU_mem   box_loss   cls_loss   dfl_loss  Instances       Size\n"
     ]
    },
    {
     "name": "stderr",
     "output_type": "stream",
     "text": [
      "     98/100      2.53G     0.6628     0.3012     0.9778         13        640: 1\n",
      "                 Class     Images  Instances      Box(P          R      mAP50  m"
     ]
    },
    {
     "name": "stdout",
     "output_type": "stream",
     "text": [
      "                   all        255       2036      0.909      0.873      0.945      0.676\n"
     ]
    },
    {
     "name": "stderr",
     "output_type": "stream",
     "text": [
      "\n"
     ]
    },
    {
     "name": "stdout",
     "output_type": "stream",
     "text": [
      "\n",
      "      Epoch    GPU_mem   box_loss   cls_loss   dfl_loss  Instances       Size\n"
     ]
    },
    {
     "name": "stderr",
     "output_type": "stream",
     "text": [
      "     99/100      2.53G     0.6614     0.2975     0.9703         21        640: 1\n",
      "                 Class     Images  Instances      Box(P          R      mAP50  m"
     ]
    },
    {
     "name": "stdout",
     "output_type": "stream",
     "text": [
      "                   all        255       2036      0.903      0.877      0.945      0.678\n"
     ]
    },
    {
     "name": "stderr",
     "output_type": "stream",
     "text": [
      "\n"
     ]
    },
    {
     "name": "stdout",
     "output_type": "stream",
     "text": [
      "\n",
      "      Epoch    GPU_mem   box_loss   cls_loss   dfl_loss  Instances       Size\n"
     ]
    },
    {
     "name": "stderr",
     "output_type": "stream",
     "text": [
      "    100/100      2.52G     0.6589     0.3021     0.9668         17        640: 1\n",
      "                 Class     Images  Instances      Box(P          R      mAP50  m"
     ]
    },
    {
     "name": "stdout",
     "output_type": "stream",
     "text": [
      "                   all        255       2036      0.914      0.869      0.945      0.677\n"
     ]
    },
    {
     "name": "stderr",
     "output_type": "stream",
     "text": [
      "\n"
     ]
    },
    {
     "name": "stdout",
     "output_type": "stream",
     "text": [
      "\n",
      "100 epochs completed in 0.801 hours.\n",
      "Optimizer stripped from /media/mzc/e4fcae9b-7400-4641-a800-034f249f8d14/mzc/yolo11/YOLO11nTraining/YOLO11s_Training/YOLO11s_Training/weights/last.pt, 19.2MB\n",
      "Optimizer stripped from /media/mzc/e4fcae9b-7400-4641-a800-034f249f8d14/mzc/yolo11/YOLO11nTraining/YOLO11s_Training/YOLO11s_Training/weights/best.pt, 19.2MB\n",
      "\n",
      "Validating /media/mzc/e4fcae9b-7400-4641-a800-034f249f8d14/mzc/yolo11/YOLO11nTraining/YOLO11s_Training/YOLO11s_Training/weights/best.pt...\n",
      "Ultralytics 8.3.0 🚀 Python-3.11.7 torch-2.4.1+cu121 CUDA:0 (NVIDIA TITAN Xp COLLECTORS EDITION, 12189MiB)\n",
      "YOLO11s summary (fused): 238 layers, 9,413,187 parameters, 0 gradients, 21.3 GFLOPs\n"
     ]
    },
    {
     "name": "stderr",
     "output_type": "stream",
     "text": [
      "                 Class     Images  Instances      Box(P          R      mAP50  m\n"
     ]
    },
    {
     "name": "stdout",
     "output_type": "stream",
     "text": [
      "                   all        255       2036      0.907       0.87      0.949       0.68\n",
      "Speed: 0.2ms preprocess, 6.3ms inference, 0.0ms loss, 1.0ms postprocess per image\n",
      "Results saved to \u001b[1m/media/mzc/e4fcae9b-7400-4641-a800-034f249f8d14/mzc/yolo11/YOLO11nTraining/YOLO11s_Training/YOLO11s_Training\u001b[0m\n"
     ]
    }
   ],
   "source": [
    "# Start training YOLO11s model\n",
    "results = model.train(\n",
    "    data=data_path, \n",
    "    epochs=100, \n",
    "    imgsz=640, \n",
    "    batch=8, \n",
    "    save=True, \n",
    "    save_period=10,  # Save model every 10 epochs\n",
    "    project=save_dir, \n",
    "    name=\"YOLO11s_Training\"\n",
    ")\n"
   ]
  },
  {
   "cell_type": "code",
   "execution_count": 9,
   "id": "3c90dccf-a3ce-4737-b478-29f17bf19c7e",
   "metadata": {},
   "outputs": [],
   "source": [
    "# Path to the dataset YAML file\n",
    "data_path = '/media/mzc/e4fcae9b-7400-4641-a800-034f249f8d14/mzc/aiIMAGEGENERATED/data.yaml'\n",
    "\n",
    "# Directory to save YOLO11m training results\n",
    "save_dir = '/media/mzc/e4fcae9b-7400-4641-a800-034f249f8d14/mzc/yolo11/YOLO11nTraining/YOLO11m_Training'\n",
    "\n",
    "# Create the directory if it doesn't exist\n",
    "os.makedirs(save_dir, exist_ok=True)\n"
   ]
  },
  {
   "cell_type": "code",
   "execution_count": 10,
   "id": "d38dcb48-3536-4c1f-8987-c4e99f547f6e",
   "metadata": {},
   "outputs": [
    {
     "name": "stdout",
     "output_type": "stream",
     "text": [
      "Downloading https://github.com/ultralytics/assets/releases/download/v8.3.0/yolo11m.pt to 'yolo11m.pt'...\n"
     ]
    },
    {
     "name": "stderr",
     "output_type": "stream",
     "text": [
      "100%|██████████████████████████████████████| 38.8M/38.8M [00:01<00:00, 36.3MB/s]\n"
     ]
    }
   ],
   "source": [
    "# Initialize the YOLO11m model\n",
    "model = YOLO('yolo11m.pt')  # YOLO11 medium model\n"
   ]
  },
  {
   "cell_type": "code",
   "execution_count": 11,
   "id": "f5e5840a-5745-4d75-9f06-74ab9c0105fa",
   "metadata": {},
   "outputs": [
    {
     "name": "stdout",
     "output_type": "stream",
     "text": [
      "New https://pypi.org/project/ultralytics/8.3.1 available 😃 Update with 'pip install -U ultralytics'\n",
      "Ultralytics 8.3.0 🚀 Python-3.11.7 torch-2.4.1+cu121 CUDA:0 (NVIDIA TITAN Xp COLLECTORS EDITION, 12189MiB)\n",
      "\u001b[34m\u001b[1mengine/trainer: \u001b[0mtask=detect, mode=train, model=yolo11m.pt, data=/media/mzc/e4fcae9b-7400-4641-a800-034f249f8d14/mzc/aiIMAGEGENERATED/data.yaml, epochs=100, time=None, patience=100, batch=8, imgsz=640, save=True, save_period=10, cache=False, device=None, workers=8, project=/media/mzc/e4fcae9b-7400-4641-a800-034f249f8d14/mzc/yolo11/YOLO11nTraining/YOLO11m_Training, name=YOLO11m_Training, exist_ok=False, pretrained=True, optimizer=auto, verbose=True, seed=0, deterministic=True, single_cls=False, rect=False, cos_lr=False, close_mosaic=10, resume=False, amp=True, fraction=1.0, profile=False, freeze=None, multi_scale=False, overlap_mask=True, mask_ratio=4, dropout=0.0, val=True, split=val, save_json=False, save_hybrid=False, conf=None, iou=0.7, max_det=300, half=False, dnn=False, plots=True, source=None, vid_stride=1, stream_buffer=False, visualize=False, augment=False, agnostic_nms=False, classes=None, retina_masks=False, embed=None, show=False, save_frames=False, save_txt=False, save_conf=False, save_crop=False, show_labels=True, show_conf=True, show_boxes=True, line_width=None, format=torchscript, keras=False, optimize=False, int8=False, dynamic=False, simplify=True, opset=None, workspace=4, nms=False, lr0=0.01, lrf=0.01, momentum=0.937, weight_decay=0.0005, warmup_epochs=3.0, warmup_momentum=0.8, warmup_bias_lr=0.1, box=7.5, cls=0.5, dfl=1.5, pose=12.0, kobj=1.0, label_smoothing=0.0, nbs=64, hsv_h=0.015, hsv_s=0.7, hsv_v=0.4, degrees=0.0, translate=0.1, scale=0.5, shear=0.0, perspective=0.0, flipud=0.0, fliplr=0.5, bgr=0.0, mosaic=1.0, mixup=0.0, copy_paste=0.0, copy_paste_mode=flip, auto_augment=randaugment, erasing=0.4, crop_fraction=1.0, cfg=None, tracker=botsort.yaml, save_dir=/media/mzc/e4fcae9b-7400-4641-a800-034f249f8d14/mzc/yolo11/YOLO11nTraining/YOLO11m_Training/YOLO11m_Training\n",
      "Overriding model.yaml nc=80 with nc=1\n",
      "\n",
      "                   from  n    params  module                                       arguments                     \n",
      "  0                  -1  1      1856  ultralytics.nn.modules.conv.Conv             [3, 64, 3, 2]                 \n",
      "  1                  -1  1     73984  ultralytics.nn.modules.conv.Conv             [64, 128, 3, 2]               \n",
      "  2                  -1  1    111872  ultralytics.nn.modules.block.C3k2            [128, 256, 1, True, 0.25]     \n",
      "  3                  -1  1    590336  ultralytics.nn.modules.conv.Conv             [256, 256, 3, 2]              \n",
      "  4                  -1  1    444928  ultralytics.nn.modules.block.C3k2            [256, 512, 1, True, 0.25]     \n",
      "  5                  -1  1   2360320  ultralytics.nn.modules.conv.Conv             [512, 512, 3, 2]              \n",
      "  6                  -1  1   1380352  ultralytics.nn.modules.block.C3k2            [512, 512, 1, True]           \n",
      "  7                  -1  1   2360320  ultralytics.nn.modules.conv.Conv             [512, 512, 3, 2]              \n",
      "  8                  -1  1   1380352  ultralytics.nn.modules.block.C3k2            [512, 512, 1, True]           \n",
      "  9                  -1  1    656896  ultralytics.nn.modules.block.SPPF            [512, 512, 5]                 \n",
      " 10                  -1  1    990976  ultralytics.nn.modules.block.C2PSA           [512, 512, 1]                 \n",
      " 11                  -1  1         0  torch.nn.modules.upsampling.Upsample         [None, 2, 'nearest']          \n",
      " 12             [-1, 6]  1         0  ultralytics.nn.modules.conv.Concat           [1]                           \n",
      " 13                  -1  1   1642496  ultralytics.nn.modules.block.C3k2            [1024, 512, 1, True]          \n",
      " 14                  -1  1         0  torch.nn.modules.upsampling.Upsample         [None, 2, 'nearest']          \n",
      " 15             [-1, 4]  1         0  ultralytics.nn.modules.conv.Concat           [1]                           \n",
      " 16                  -1  1    542720  ultralytics.nn.modules.block.C3k2            [1024, 256, 1, True]          \n",
      " 17                  -1  1    590336  ultralytics.nn.modules.conv.Conv             [256, 256, 3, 2]              \n",
      " 18            [-1, 13]  1         0  ultralytics.nn.modules.conv.Concat           [1]                           \n",
      " 19                  -1  1   1511424  ultralytics.nn.modules.block.C3k2            [768, 512, 1, True]           \n",
      " 20                  -1  1   2360320  ultralytics.nn.modules.conv.Conv             [512, 512, 3, 2]              \n",
      " 21            [-1, 10]  1         0  ultralytics.nn.modules.conv.Concat           [1]                           \n",
      " 22                  -1  1   1642496  ultralytics.nn.modules.block.C3k2            [1024, 512, 1, True]          \n",
      " 23        [16, 19, 22]  1   1411795  ultralytics.nn.modules.head.Detect           [1, [256, 512, 512]]          \n",
      "YOLO11m summary: 409 layers, 20,053,779 parameters, 20,053,763 gradients, 68.2 GFLOPs\n",
      "\n",
      "Transferred 643/649 items from pretrained weights\n",
      "Freezing layer 'model.23.dfl.conv.weight'\n",
      "\u001b[34m\u001b[1mAMP: \u001b[0mrunning Automatic Mixed Precision (AMP) checks with YOLOv8n...\n",
      "\u001b[34m\u001b[1mAMP: \u001b[0mchecks passed ✅\n"
     ]
    },
    {
     "name": "stderr",
     "output_type": "stream",
     "text": [
      "\u001b[34m\u001b[1mtrain: \u001b[0mScanning /media/mzc/e4fcae9b-7400-4641-a800-034f249f8d14/mzc/aiIMAGEGENER\u001b[0m\n",
      "\u001b[34m\u001b[1mval: \u001b[0mScanning /media/mzc/e4fcae9b-7400-4641-a800-034f249f8d14/mzc/aiIMAGEGENERAT\u001b[0m\n"
     ]
    },
    {
     "name": "stdout",
     "output_type": "stream",
     "text": [
      "Plotting labels to /media/mzc/e4fcae9b-7400-4641-a800-034f249f8d14/mzc/yolo11/YOLO11nTraining/YOLO11m_Training/YOLO11m_Training/labels.jpg... \n",
      "\u001b[34m\u001b[1moptimizer:\u001b[0m 'optimizer=auto' found, ignoring 'lr0=0.01' and 'momentum=0.937' and determining best 'optimizer', 'lr0' and 'momentum' automatically... \n",
      "\u001b[34m\u001b[1moptimizer:\u001b[0m AdamW(lr=0.002, momentum=0.9) with parameter groups 106 weight(decay=0.0), 113 weight(decay=0.0005), 112 bias(decay=0.0)\n",
      "Image sizes 640 train, 640 val\n",
      "Using 8 dataloader workers\n",
      "Logging results to \u001b[1m/media/mzc/e4fcae9b-7400-4641-a800-034f249f8d14/mzc/yolo11/YOLO11nTraining/YOLO11m_Training/YOLO11m_Training\u001b[0m\n",
      "Starting training for 100 epochs...\n",
      "\n",
      "      Epoch    GPU_mem   box_loss   cls_loss   dfl_loss  Instances       Size\n"
     ]
    },
    {
     "name": "stderr",
     "output_type": "stream",
     "text": [
      "      1/100      4.83G      1.201     0.9909      1.331         23        640: 1\n",
      "                 Class     Images  Instances      Box(P          R      mAP50  m"
     ]
    },
    {
     "name": "stdout",
     "output_type": "stream",
     "text": [
      "                   all        255       2036      0.605      0.678      0.563      0.303\n"
     ]
    },
    {
     "name": "stderr",
     "output_type": "stream",
     "text": [
      "\n"
     ]
    },
    {
     "name": "stdout",
     "output_type": "stream",
     "text": [
      "\n",
      "      Epoch    GPU_mem   box_loss   cls_loss   dfl_loss  Instances       Size\n"
     ]
    },
    {
     "name": "stderr",
     "output_type": "stream",
     "text": [
      "      2/100      5.17G      1.223     0.8359      1.354         33        640: 1\n",
      "                 Class     Images  Instances      Box(P          R      mAP50  m"
     ]
    },
    {
     "name": "stdout",
     "output_type": "stream",
     "text": [
      "                   all        255       2036      0.793      0.773      0.822      0.491\n"
     ]
    },
    {
     "name": "stderr",
     "output_type": "stream",
     "text": [
      "\n"
     ]
    },
    {
     "name": "stdout",
     "output_type": "stream",
     "text": [
      "\n",
      "      Epoch    GPU_mem   box_loss   cls_loss   dfl_loss  Instances       Size\n"
     ]
    },
    {
     "name": "stderr",
     "output_type": "stream",
     "text": [
      "      3/100      5.18G      1.212     0.8418      1.355         26        640: 1\n",
      "                 Class     Images  Instances      Box(P          R      mAP50  m"
     ]
    },
    {
     "name": "stdout",
     "output_type": "stream",
     "text": [
      "                   all        255       2036      0.868      0.823      0.909      0.576\n"
     ]
    },
    {
     "name": "stderr",
     "output_type": "stream",
     "text": [
      "\n"
     ]
    },
    {
     "name": "stdout",
     "output_type": "stream",
     "text": [
      "\n",
      "      Epoch    GPU_mem   box_loss   cls_loss   dfl_loss  Instances       Size\n"
     ]
    },
    {
     "name": "stderr",
     "output_type": "stream",
     "text": [
      "      4/100      4.97G      1.197     0.7917      1.341         22        640: 1\n",
      "                 Class     Images  Instances      Box(P          R      mAP50  m"
     ]
    },
    {
     "name": "stdout",
     "output_type": "stream",
     "text": [
      "                   all        255       2036      0.885      0.839       0.92      0.602\n"
     ]
    },
    {
     "name": "stderr",
     "output_type": "stream",
     "text": [
      "\n"
     ]
    },
    {
     "name": "stdout",
     "output_type": "stream",
     "text": [
      "\n",
      "      Epoch    GPU_mem   box_loss   cls_loss   dfl_loss  Instances       Size\n"
     ]
    },
    {
     "name": "stderr",
     "output_type": "stream",
     "text": [
      "      5/100      4.98G      1.195     0.7781      1.335         58        640: 1\n",
      "                 Class     Images  Instances      Box(P          R      mAP50  m"
     ]
    },
    {
     "name": "stdout",
     "output_type": "stream",
     "text": [
      "                   all        255       2036      0.872       0.83      0.909       0.59\n"
     ]
    },
    {
     "name": "stderr",
     "output_type": "stream",
     "text": [
      "\n"
     ]
    },
    {
     "name": "stdout",
     "output_type": "stream",
     "text": [
      "\n",
      "      Epoch    GPU_mem   box_loss   cls_loss   dfl_loss  Instances       Size\n"
     ]
    },
    {
     "name": "stderr",
     "output_type": "stream",
     "text": [
      "      6/100      4.98G      1.153     0.7417       1.32         19        640: 1\n",
      "                 Class     Images  Instances      Box(P          R      mAP50  m"
     ]
    },
    {
     "name": "stdout",
     "output_type": "stream",
     "text": [
      "                   all        255       2036      0.856      0.831      0.884      0.562\n"
     ]
    },
    {
     "name": "stderr",
     "output_type": "stream",
     "text": [
      "\n"
     ]
    },
    {
     "name": "stdout",
     "output_type": "stream",
     "text": [
      "\n",
      "      Epoch    GPU_mem   box_loss   cls_loss   dfl_loss  Instances       Size\n"
     ]
    },
    {
     "name": "stderr",
     "output_type": "stream",
     "text": [
      "      7/100      4.95G      1.151     0.7183      1.305         33        640: 1\n",
      "                 Class     Images  Instances      Box(P          R      mAP50  m"
     ]
    },
    {
     "name": "stdout",
     "output_type": "stream",
     "text": [
      "                   all        255       2036      0.901      0.842      0.931      0.624\n"
     ]
    },
    {
     "name": "stderr",
     "output_type": "stream",
     "text": [
      "\n"
     ]
    },
    {
     "name": "stdout",
     "output_type": "stream",
     "text": [
      "\n",
      "      Epoch    GPU_mem   box_loss   cls_loss   dfl_loss  Instances       Size\n"
     ]
    },
    {
     "name": "stderr",
     "output_type": "stream",
     "text": [
      "      8/100      4.96G      1.132     0.7112      1.298         38        640: 1\n",
      "                 Class     Images  Instances      Box(P          R      mAP50  m"
     ]
    },
    {
     "name": "stdout",
     "output_type": "stream",
     "text": [
      "                   all        255       2036      0.876      0.846      0.917      0.605\n"
     ]
    },
    {
     "name": "stderr",
     "output_type": "stream",
     "text": [
      "\n"
     ]
    },
    {
     "name": "stdout",
     "output_type": "stream",
     "text": [
      "\n",
      "      Epoch    GPU_mem   box_loss   cls_loss   dfl_loss  Instances       Size\n"
     ]
    },
    {
     "name": "stderr",
     "output_type": "stream",
     "text": [
      "      9/100      4.97G      1.123     0.6928      1.299         61        640: 1\n",
      "                 Class     Images  Instances      Box(P          R      mAP50  m"
     ]
    },
    {
     "name": "stdout",
     "output_type": "stream",
     "text": [
      "                   all        255       2036      0.876      0.836       0.92      0.616\n"
     ]
    },
    {
     "name": "stderr",
     "output_type": "stream",
     "text": [
      "\n"
     ]
    },
    {
     "name": "stdout",
     "output_type": "stream",
     "text": [
      "\n",
      "      Epoch    GPU_mem   box_loss   cls_loss   dfl_loss  Instances       Size\n"
     ]
    },
    {
     "name": "stderr",
     "output_type": "stream",
     "text": [
      "     10/100      4.96G      1.113     0.6752      1.282         41        640: 1\n",
      "                 Class     Images  Instances      Box(P          R      mAP50  m"
     ]
    },
    {
     "name": "stdout",
     "output_type": "stream",
     "text": [
      "                   all        255       2036        0.9      0.861      0.939      0.627\n"
     ]
    },
    {
     "name": "stderr",
     "output_type": "stream",
     "text": [
      "\n"
     ]
    },
    {
     "name": "stdout",
     "output_type": "stream",
     "text": [
      "\n",
      "      Epoch    GPU_mem   box_loss   cls_loss   dfl_loss  Instances       Size\n"
     ]
    },
    {
     "name": "stderr",
     "output_type": "stream",
     "text": [
      "     11/100      4.96G      1.108     0.6745      1.279         44        640: 1\n",
      "                 Class     Images  Instances      Box(P          R      mAP50  m"
     ]
    },
    {
     "name": "stdout",
     "output_type": "stream",
     "text": [
      "                   all        255       2036      0.878      0.838      0.917      0.607\n"
     ]
    },
    {
     "name": "stderr",
     "output_type": "stream",
     "text": [
      "\n"
     ]
    },
    {
     "name": "stdout",
     "output_type": "stream",
     "text": [
      "\n",
      "      Epoch    GPU_mem   box_loss   cls_loss   dfl_loss  Instances       Size\n"
     ]
    },
    {
     "name": "stderr",
     "output_type": "stream",
     "text": [
      "     12/100      4.95G      1.099     0.6628      1.271         30        640: 1\n",
      "                 Class     Images  Instances      Box(P          R      mAP50  m"
     ]
    },
    {
     "name": "stdout",
     "output_type": "stream",
     "text": [
      "                   all        255       2036      0.878      0.864      0.934      0.635\n"
     ]
    },
    {
     "name": "stderr",
     "output_type": "stream",
     "text": [
      "\n"
     ]
    },
    {
     "name": "stdout",
     "output_type": "stream",
     "text": [
      "\n",
      "      Epoch    GPU_mem   box_loss   cls_loss   dfl_loss  Instances       Size\n"
     ]
    },
    {
     "name": "stderr",
     "output_type": "stream",
     "text": [
      "     13/100         5G      1.091     0.6588      1.271         14        640: 1\n",
      "                 Class     Images  Instances      Box(P          R      mAP50  m"
     ]
    },
    {
     "name": "stdout",
     "output_type": "stream",
     "text": [
      "                   all        255       2036       0.89      0.869      0.938       0.63\n"
     ]
    },
    {
     "name": "stderr",
     "output_type": "stream",
     "text": [
      "\n"
     ]
    },
    {
     "name": "stdout",
     "output_type": "stream",
     "text": [
      "\n",
      "      Epoch    GPU_mem   box_loss   cls_loss   dfl_loss  Instances       Size\n"
     ]
    },
    {
     "name": "stderr",
     "output_type": "stream",
     "text": [
      "     14/100         5G      1.073     0.6264      1.264         25        640: 1\n",
      "                 Class     Images  Instances      Box(P          R      mAP50  m"
     ]
    },
    {
     "name": "stdout",
     "output_type": "stream",
     "text": [
      "                   all        255       2036      0.922      0.845      0.933       0.64\n"
     ]
    },
    {
     "name": "stderr",
     "output_type": "stream",
     "text": [
      "\n"
     ]
    },
    {
     "name": "stdout",
     "output_type": "stream",
     "text": [
      "\n",
      "      Epoch    GPU_mem   box_loss   cls_loss   dfl_loss  Instances       Size\n"
     ]
    },
    {
     "name": "stderr",
     "output_type": "stream",
     "text": [
      "     15/100      4.97G      1.068     0.6187       1.26         26        640: 1\n",
      "                 Class     Images  Instances      Box(P          R      mAP50  m"
     ]
    },
    {
     "name": "stdout",
     "output_type": "stream",
     "text": [
      "                   all        255       2036       0.91      0.847      0.936      0.638\n"
     ]
    },
    {
     "name": "stderr",
     "output_type": "stream",
     "text": [
      "\n"
     ]
    },
    {
     "name": "stdout",
     "output_type": "stream",
     "text": [
      "\n",
      "      Epoch    GPU_mem   box_loss   cls_loss   dfl_loss  Instances       Size\n"
     ]
    },
    {
     "name": "stderr",
     "output_type": "stream",
     "text": [
      "     16/100      5.18G      1.078     0.6263      1.266         51        640: 1\n",
      "                 Class     Images  Instances      Box(P          R      mAP50  m"
     ]
    },
    {
     "name": "stdout",
     "output_type": "stream",
     "text": [
      "                   all        255       2036      0.899      0.848      0.935      0.633\n"
     ]
    },
    {
     "name": "stderr",
     "output_type": "stream",
     "text": [
      "\n"
     ]
    },
    {
     "name": "stdout",
     "output_type": "stream",
     "text": [
      "\n",
      "      Epoch    GPU_mem   box_loss   cls_loss   dfl_loss  Instances       Size\n"
     ]
    },
    {
     "name": "stderr",
     "output_type": "stream",
     "text": [
      "     17/100      4.95G      1.051     0.6039      1.241         43        640: 1\n",
      "                 Class     Images  Instances      Box(P          R      mAP50  m"
     ]
    },
    {
     "name": "stdout",
     "output_type": "stream",
     "text": [
      "                   all        255       2036       0.88      0.851      0.922      0.597\n"
     ]
    },
    {
     "name": "stderr",
     "output_type": "stream",
     "text": [
      "\n"
     ]
    },
    {
     "name": "stdout",
     "output_type": "stream",
     "text": [
      "\n",
      "      Epoch    GPU_mem   box_loss   cls_loss   dfl_loss  Instances       Size\n"
     ]
    },
    {
     "name": "stderr",
     "output_type": "stream",
     "text": [
      "     18/100      5.01G      1.059     0.6058      1.254         17        640: 1\n",
      "                 Class     Images  Instances      Box(P          R      mAP50  m"
     ]
    },
    {
     "name": "stdout",
     "output_type": "stream",
     "text": [
      "                   all        255       2036      0.902      0.872      0.947      0.644\n"
     ]
    },
    {
     "name": "stderr",
     "output_type": "stream",
     "text": [
      "\n"
     ]
    },
    {
     "name": "stdout",
     "output_type": "stream",
     "text": [
      "\n",
      "      Epoch    GPU_mem   box_loss   cls_loss   dfl_loss  Instances       Size\n"
     ]
    },
    {
     "name": "stderr",
     "output_type": "stream",
     "text": [
      "     19/100      4.96G      1.039     0.5808      1.236         25        640: 1\n",
      "                 Class     Images  Instances      Box(P          R      mAP50  m"
     ]
    },
    {
     "name": "stdout",
     "output_type": "stream",
     "text": [
      "                   all        255       2036      0.899      0.865      0.945      0.644\n"
     ]
    },
    {
     "name": "stderr",
     "output_type": "stream",
     "text": [
      "\n"
     ]
    },
    {
     "name": "stdout",
     "output_type": "stream",
     "text": [
      "\n",
      "      Epoch    GPU_mem   box_loss   cls_loss   dfl_loss  Instances       Size\n"
     ]
    },
    {
     "name": "stderr",
     "output_type": "stream",
     "text": [
      "     20/100      4.97G      1.048     0.5991       1.24         35        640: 1\n",
      "                 Class     Images  Instances      Box(P          R      mAP50  m"
     ]
    },
    {
     "name": "stdout",
     "output_type": "stream",
     "text": [
      "                   all        255       2036      0.892      0.861      0.943       0.64\n"
     ]
    },
    {
     "name": "stderr",
     "output_type": "stream",
     "text": [
      "\n"
     ]
    },
    {
     "name": "stdout",
     "output_type": "stream",
     "text": [
      "\n",
      "      Epoch    GPU_mem   box_loss   cls_loss   dfl_loss  Instances       Size\n"
     ]
    },
    {
     "name": "stderr",
     "output_type": "stream",
     "text": [
      "     21/100      5.18G      1.038      0.581       1.24         35        640: 1\n",
      "                 Class     Images  Instances      Box(P          R      mAP50  m"
     ]
    },
    {
     "name": "stdout",
     "output_type": "stream",
     "text": [
      "                   all        255       2036      0.881      0.862      0.942      0.647\n"
     ]
    },
    {
     "name": "stderr",
     "output_type": "stream",
     "text": [
      "\n"
     ]
    },
    {
     "name": "stdout",
     "output_type": "stream",
     "text": [
      "\n",
      "      Epoch    GPU_mem   box_loss   cls_loss   dfl_loss  Instances       Size\n"
     ]
    },
    {
     "name": "stderr",
     "output_type": "stream",
     "text": [
      "     22/100      5.15G      1.038     0.5823      1.246         29        640: 1\n",
      "                 Class     Images  Instances      Box(P          R      mAP50  m"
     ]
    },
    {
     "name": "stdout",
     "output_type": "stream",
     "text": [
      "                   all        255       2036      0.908      0.861      0.936      0.628\n"
     ]
    },
    {
     "name": "stderr",
     "output_type": "stream",
     "text": [
      "\n"
     ]
    },
    {
     "name": "stdout",
     "output_type": "stream",
     "text": [
      "\n",
      "      Epoch    GPU_mem   box_loss   cls_loss   dfl_loss  Instances       Size\n"
     ]
    },
    {
     "name": "stderr",
     "output_type": "stream",
     "text": [
      "     23/100      5.18G       1.03     0.5725      1.232         24        640: 1\n",
      "                 Class     Images  Instances      Box(P          R      mAP50  m"
     ]
    },
    {
     "name": "stdout",
     "output_type": "stream",
     "text": [
      "                   all        255       2036      0.885       0.87      0.946      0.654\n"
     ]
    },
    {
     "name": "stderr",
     "output_type": "stream",
     "text": [
      "\n"
     ]
    },
    {
     "name": "stdout",
     "output_type": "stream",
     "text": [
      "\n",
      "      Epoch    GPU_mem   box_loss   cls_loss   dfl_loss  Instances       Size\n"
     ]
    },
    {
     "name": "stderr",
     "output_type": "stream",
     "text": [
      "     24/100      4.97G      1.037      0.587       1.23         33        640: 1\n",
      "                 Class     Images  Instances      Box(P          R      mAP50  m"
     ]
    },
    {
     "name": "stdout",
     "output_type": "stream",
     "text": [
      "                   all        255       2036      0.905      0.863      0.946      0.649\n"
     ]
    },
    {
     "name": "stderr",
     "output_type": "stream",
     "text": [
      "\n"
     ]
    },
    {
     "name": "stdout",
     "output_type": "stream",
     "text": [
      "\n",
      "      Epoch    GPU_mem   box_loss   cls_loss   dfl_loss  Instances       Size\n"
     ]
    },
    {
     "name": "stderr",
     "output_type": "stream",
     "text": [
      "     25/100      4.98G      1.029     0.5834      1.229         49        640: 1\n",
      "                 Class     Images  Instances      Box(P          R      mAP50  m"
     ]
    },
    {
     "name": "stdout",
     "output_type": "stream",
     "text": [
      "                   all        255       2036       0.92      0.854      0.949      0.654\n"
     ]
    },
    {
     "name": "stderr",
     "output_type": "stream",
     "text": [
      "\n"
     ]
    },
    {
     "name": "stdout",
     "output_type": "stream",
     "text": [
      "\n",
      "      Epoch    GPU_mem   box_loss   cls_loss   dfl_loss  Instances       Size\n"
     ]
    },
    {
     "name": "stderr",
     "output_type": "stream",
     "text": [
      "     26/100      4.95G       1.01     0.5598       1.21         25        640: 1\n",
      "                 Class     Images  Instances      Box(P          R      mAP50  m"
     ]
    },
    {
     "name": "stdout",
     "output_type": "stream",
     "text": [
      "                   all        255       2036      0.915      0.858      0.945      0.655\n"
     ]
    },
    {
     "name": "stderr",
     "output_type": "stream",
     "text": [
      "\n"
     ]
    },
    {
     "name": "stdout",
     "output_type": "stream",
     "text": [
      "\n",
      "      Epoch    GPU_mem   box_loss   cls_loss   dfl_loss  Instances       Size\n"
     ]
    },
    {
     "name": "stderr",
     "output_type": "stream",
     "text": [
      "     27/100      4.95G      1.016     0.5597      1.219         20        640: 1\n",
      "                 Class     Images  Instances      Box(P          R      mAP50  m"
     ]
    },
    {
     "name": "stdout",
     "output_type": "stream",
     "text": [
      "                   all        255       2036      0.899      0.874      0.948      0.654\n"
     ]
    },
    {
     "name": "stderr",
     "output_type": "stream",
     "text": [
      "\n"
     ]
    },
    {
     "name": "stdout",
     "output_type": "stream",
     "text": [
      "\n",
      "      Epoch    GPU_mem   box_loss   cls_loss   dfl_loss  Instances       Size\n"
     ]
    },
    {
     "name": "stderr",
     "output_type": "stream",
     "text": [
      "     28/100         5G      1.014     0.5558       1.21         58        640: 1\n",
      "                 Class     Images  Instances      Box(P          R      mAP50  m"
     ]
    },
    {
     "name": "stdout",
     "output_type": "stream",
     "text": [
      "                   all        255       2036      0.885      0.888      0.948      0.657\n"
     ]
    },
    {
     "name": "stderr",
     "output_type": "stream",
     "text": [
      "\n"
     ]
    },
    {
     "name": "stdout",
     "output_type": "stream",
     "text": [
      "\n",
      "      Epoch    GPU_mem   box_loss   cls_loss   dfl_loss  Instances       Size\n"
     ]
    },
    {
     "name": "stderr",
     "output_type": "stream",
     "text": [
      "     29/100      5.18G       1.01     0.5502      1.214         34        640: 1\n",
      "                 Class     Images  Instances      Box(P          R      mAP50  m"
     ]
    },
    {
     "name": "stdout",
     "output_type": "stream",
     "text": [
      "                   all        255       2036      0.905      0.849       0.94      0.636\n"
     ]
    },
    {
     "name": "stderr",
     "output_type": "stream",
     "text": [
      "\n"
     ]
    },
    {
     "name": "stdout",
     "output_type": "stream",
     "text": [
      "\n",
      "      Epoch    GPU_mem   box_loss   cls_loss   dfl_loss  Instances       Size\n"
     ]
    },
    {
     "name": "stderr",
     "output_type": "stream",
     "text": [
      "     30/100      4.96G      1.018     0.5504      1.216         18        640: 1\n",
      "                 Class     Images  Instances      Box(P          R      mAP50  m"
     ]
    },
    {
     "name": "stdout",
     "output_type": "stream",
     "text": [
      "                   all        255       2036      0.886      0.887      0.949      0.645\n"
     ]
    },
    {
     "name": "stderr",
     "output_type": "stream",
     "text": [
      "\n"
     ]
    },
    {
     "name": "stdout",
     "output_type": "stream",
     "text": [
      "\n",
      "      Epoch    GPU_mem   box_loss   cls_loss   dfl_loss  Instances       Size\n"
     ]
    },
    {
     "name": "stderr",
     "output_type": "stream",
     "text": [
      "     31/100      4.96G      1.012     0.5493      1.219         26        640: 1\n",
      "                 Class     Images  Instances      Box(P          R      mAP50  m"
     ]
    },
    {
     "name": "stdout",
     "output_type": "stream",
     "text": [
      "                   all        255       2036      0.879      0.889      0.951      0.663\n"
     ]
    },
    {
     "name": "stderr",
     "output_type": "stream",
     "text": [
      "\n"
     ]
    },
    {
     "name": "stdout",
     "output_type": "stream",
     "text": [
      "\n",
      "      Epoch    GPU_mem   box_loss   cls_loss   dfl_loss  Instances       Size\n"
     ]
    },
    {
     "name": "stderr",
     "output_type": "stream",
     "text": [
      "     32/100      4.96G     0.9889     0.5383        1.2         32        640: 1\n",
      "                 Class     Images  Instances      Box(P          R      mAP50  m"
     ]
    },
    {
     "name": "stdout",
     "output_type": "stream",
     "text": [
      "                   all        255       2036      0.889      0.901      0.956      0.662\n"
     ]
    },
    {
     "name": "stderr",
     "output_type": "stream",
     "text": [
      "\n"
     ]
    },
    {
     "name": "stdout",
     "output_type": "stream",
     "text": [
      "\n",
      "      Epoch    GPU_mem   box_loss   cls_loss   dfl_loss  Instances       Size\n"
     ]
    },
    {
     "name": "stderr",
     "output_type": "stream",
     "text": [
      "     33/100       5.2G      0.995     0.5326      1.215         51        640: 1\n",
      "                 Class     Images  Instances      Box(P          R      mAP50  m"
     ]
    },
    {
     "name": "stdout",
     "output_type": "stream",
     "text": [
      "                   all        255       2036        0.9      0.875      0.944      0.653\n"
     ]
    },
    {
     "name": "stderr",
     "output_type": "stream",
     "text": [
      "\n"
     ]
    },
    {
     "name": "stdout",
     "output_type": "stream",
     "text": [
      "\n",
      "      Epoch    GPU_mem   box_loss   cls_loss   dfl_loss  Instances       Size\n"
     ]
    },
    {
     "name": "stderr",
     "output_type": "stream",
     "text": [
      "     34/100      4.97G     0.9934     0.5357        1.2         25        640: 1\n",
      "                 Class     Images  Instances      Box(P          R      mAP50  m"
     ]
    },
    {
     "name": "stdout",
     "output_type": "stream",
     "text": [
      "                   all        255       2036      0.914      0.878      0.949      0.652\n"
     ]
    },
    {
     "name": "stderr",
     "output_type": "stream",
     "text": [
      "\n"
     ]
    },
    {
     "name": "stdout",
     "output_type": "stream",
     "text": [
      "\n",
      "      Epoch    GPU_mem   box_loss   cls_loss   dfl_loss  Instances       Size\n"
     ]
    },
    {
     "name": "stderr",
     "output_type": "stream",
     "text": [
      "     35/100      5.21G     0.9872     0.5353      1.197         35        640: 1\n",
      "                 Class     Images  Instances      Box(P          R      mAP50  m"
     ]
    },
    {
     "name": "stdout",
     "output_type": "stream",
     "text": [
      "                   all        255       2036      0.874      0.901       0.95      0.663\n"
     ]
    },
    {
     "name": "stderr",
     "output_type": "stream",
     "text": [
      "\n"
     ]
    },
    {
     "name": "stdout",
     "output_type": "stream",
     "text": [
      "\n",
      "      Epoch    GPU_mem   box_loss   cls_loss   dfl_loss  Instances       Size\n"
     ]
    },
    {
     "name": "stderr",
     "output_type": "stream",
     "text": [
      "     36/100      4.96G     0.9865     0.5398      1.206         26        640: 1\n",
      "                 Class     Images  Instances      Box(P          R      mAP50  m"
     ]
    },
    {
     "name": "stdout",
     "output_type": "stream",
     "text": [
      "                   all        255       2036       0.89      0.874      0.941      0.655\n"
     ]
    },
    {
     "name": "stderr",
     "output_type": "stream",
     "text": [
      "\n"
     ]
    },
    {
     "name": "stdout",
     "output_type": "stream",
     "text": [
      "\n",
      "      Epoch    GPU_mem   box_loss   cls_loss   dfl_loss  Instances       Size\n"
     ]
    },
    {
     "name": "stderr",
     "output_type": "stream",
     "text": [
      "     37/100      4.98G     0.9878     0.5308      1.193         20        640: 1\n",
      "                 Class     Images  Instances      Box(P          R      mAP50  m"
     ]
    },
    {
     "name": "stdout",
     "output_type": "stream",
     "text": [
      "                   all        255       2036      0.916      0.873      0.955      0.666\n"
     ]
    },
    {
     "name": "stderr",
     "output_type": "stream",
     "text": [
      "\n"
     ]
    },
    {
     "name": "stdout",
     "output_type": "stream",
     "text": [
      "\n",
      "      Epoch    GPU_mem   box_loss   cls_loss   dfl_loss  Instances       Size\n"
     ]
    },
    {
     "name": "stderr",
     "output_type": "stream",
     "text": [
      "     38/100      4.99G     0.9664     0.5173      1.187         40        640: 1\n",
      "                 Class     Images  Instances      Box(P          R      mAP50  m"
     ]
    },
    {
     "name": "stdout",
     "output_type": "stream",
     "text": [
      "                   all        255       2036      0.912      0.865      0.951      0.658\n"
     ]
    },
    {
     "name": "stderr",
     "output_type": "stream",
     "text": [
      "\n"
     ]
    },
    {
     "name": "stdout",
     "output_type": "stream",
     "text": [
      "\n",
      "      Epoch    GPU_mem   box_loss   cls_loss   dfl_loss  Instances       Size\n"
     ]
    },
    {
     "name": "stderr",
     "output_type": "stream",
     "text": [
      "     39/100      4.96G     0.9711     0.5143      1.193         23        640: 1\n",
      "                 Class     Images  Instances      Box(P          R      mAP50  m"
     ]
    },
    {
     "name": "stdout",
     "output_type": "stream",
     "text": [
      "                   all        255       2036      0.911      0.858      0.941      0.651\n"
     ]
    },
    {
     "name": "stderr",
     "output_type": "stream",
     "text": [
      "\n"
     ]
    },
    {
     "name": "stdout",
     "output_type": "stream",
     "text": [
      "\n",
      "      Epoch    GPU_mem   box_loss   cls_loss   dfl_loss  Instances       Size\n"
     ]
    },
    {
     "name": "stderr",
     "output_type": "stream",
     "text": [
      "     40/100      4.95G     0.9669     0.5078      1.186         40        640: 1\n",
      "                 Class     Images  Instances      Box(P          R      mAP50  m"
     ]
    },
    {
     "name": "stdout",
     "output_type": "stream",
     "text": [
      "                   all        255       2036      0.896      0.883      0.953       0.66\n"
     ]
    },
    {
     "name": "stderr",
     "output_type": "stream",
     "text": [
      "\n"
     ]
    },
    {
     "name": "stdout",
     "output_type": "stream",
     "text": [
      "\n",
      "      Epoch    GPU_mem   box_loss   cls_loss   dfl_loss  Instances       Size\n"
     ]
    },
    {
     "name": "stderr",
     "output_type": "stream",
     "text": [
      "     41/100      4.95G     0.9693     0.5165       1.19         48        640: 1\n",
      "                 Class     Images  Instances      Box(P          R      mAP50  m"
     ]
    },
    {
     "name": "stdout",
     "output_type": "stream",
     "text": [
      "                   all        255       2036      0.894      0.867      0.934      0.644\n"
     ]
    },
    {
     "name": "stderr",
     "output_type": "stream",
     "text": [
      "\n"
     ]
    },
    {
     "name": "stdout",
     "output_type": "stream",
     "text": [
      "\n",
      "      Epoch    GPU_mem   box_loss   cls_loss   dfl_loss  Instances       Size\n"
     ]
    },
    {
     "name": "stderr",
     "output_type": "stream",
     "text": [
      "     42/100      4.96G     0.9711     0.5121       1.18         17        640: 1\n",
      "                 Class     Images  Instances      Box(P          R      mAP50  m"
     ]
    },
    {
     "name": "stdout",
     "output_type": "stream",
     "text": [
      "                   all        255       2036       0.89      0.887      0.947       0.65\n"
     ]
    },
    {
     "name": "stderr",
     "output_type": "stream",
     "text": [
      "\n"
     ]
    },
    {
     "name": "stdout",
     "output_type": "stream",
     "text": [
      "\n",
      "      Epoch    GPU_mem   box_loss   cls_loss   dfl_loss  Instances       Size\n"
     ]
    },
    {
     "name": "stderr",
     "output_type": "stream",
     "text": [
      "     43/100      4.95G      0.962     0.5037      1.174         38        640: 1\n",
      "                 Class     Images  Instances      Box(P          R      mAP50  m"
     ]
    },
    {
     "name": "stdout",
     "output_type": "stream",
     "text": [
      "                   all        255       2036      0.888      0.888       0.95      0.667\n"
     ]
    },
    {
     "name": "stderr",
     "output_type": "stream",
     "text": [
      "\n"
     ]
    },
    {
     "name": "stdout",
     "output_type": "stream",
     "text": [
      "\n",
      "      Epoch    GPU_mem   box_loss   cls_loss   dfl_loss  Instances       Size\n"
     ]
    },
    {
     "name": "stderr",
     "output_type": "stream",
     "text": [
      "     44/100      5.16G     0.9455     0.4978      1.175         35        640: 1\n",
      "                 Class     Images  Instances      Box(P          R      mAP50  m"
     ]
    },
    {
     "name": "stdout",
     "output_type": "stream",
     "text": [
      "                   all        255       2036      0.907      0.879      0.953      0.666\n"
     ]
    },
    {
     "name": "stderr",
     "output_type": "stream",
     "text": [
      "\n"
     ]
    },
    {
     "name": "stdout",
     "output_type": "stream",
     "text": [
      "\n",
      "      Epoch    GPU_mem   box_loss   cls_loss   dfl_loss  Instances       Size\n"
     ]
    },
    {
     "name": "stderr",
     "output_type": "stream",
     "text": [
      "     45/100      4.99G     0.9337     0.4888      1.171         37        640: 1\n",
      "                 Class     Images  Instances      Box(P          R      mAP50  m"
     ]
    },
    {
     "name": "stdout",
     "output_type": "stream",
     "text": [
      "                   all        255       2036      0.905      0.884      0.952      0.671\n"
     ]
    },
    {
     "name": "stderr",
     "output_type": "stream",
     "text": [
      "\n"
     ]
    },
    {
     "name": "stdout",
     "output_type": "stream",
     "text": [
      "\n",
      "      Epoch    GPU_mem   box_loss   cls_loss   dfl_loss  Instances       Size\n"
     ]
    },
    {
     "name": "stderr",
     "output_type": "stream",
     "text": [
      "     46/100      4.96G     0.9446     0.4957      1.173         37        640: 1\n",
      "                 Class     Images  Instances      Box(P          R      mAP50  m"
     ]
    },
    {
     "name": "stdout",
     "output_type": "stream",
     "text": [
      "                   all        255       2036      0.888      0.882      0.949      0.655\n"
     ]
    },
    {
     "name": "stderr",
     "output_type": "stream",
     "text": [
      "\n"
     ]
    },
    {
     "name": "stdout",
     "output_type": "stream",
     "text": [
      "\n",
      "      Epoch    GPU_mem   box_loss   cls_loss   dfl_loss  Instances       Size\n"
     ]
    },
    {
     "name": "stderr",
     "output_type": "stream",
     "text": [
      "     47/100      4.99G     0.9443     0.4953      1.161         50        640: 1\n",
      "                 Class     Images  Instances      Box(P          R      mAP50  m"
     ]
    },
    {
     "name": "stdout",
     "output_type": "stream",
     "text": [
      "                   all        255       2036        0.9      0.877      0.953      0.668\n"
     ]
    },
    {
     "name": "stderr",
     "output_type": "stream",
     "text": [
      "\n"
     ]
    },
    {
     "name": "stdout",
     "output_type": "stream",
     "text": [
      "\n",
      "      Epoch    GPU_mem   box_loss   cls_loss   dfl_loss  Instances       Size\n"
     ]
    },
    {
     "name": "stderr",
     "output_type": "stream",
     "text": [
      "     48/100      4.95G     0.9531     0.4872      1.162         56        640: 1\n",
      "                 Class     Images  Instances      Box(P          R      mAP50  m"
     ]
    },
    {
     "name": "stdout",
     "output_type": "stream",
     "text": [
      "                   all        255       2036      0.893      0.871      0.939      0.642\n"
     ]
    },
    {
     "name": "stderr",
     "output_type": "stream",
     "text": [
      "\n"
     ]
    },
    {
     "name": "stdout",
     "output_type": "stream",
     "text": [
      "\n",
      "      Epoch    GPU_mem   box_loss   cls_loss   dfl_loss  Instances       Size\n"
     ]
    },
    {
     "name": "stderr",
     "output_type": "stream",
     "text": [
      "     49/100      4.97G     0.9214     0.4886      1.164         25        640: 1\n",
      "                 Class     Images  Instances      Box(P          R      mAP50  m"
     ]
    },
    {
     "name": "stdout",
     "output_type": "stream",
     "text": [
      "                   all        255       2036      0.901      0.876      0.949      0.653\n"
     ]
    },
    {
     "name": "stderr",
     "output_type": "stream",
     "text": [
      "\n"
     ]
    },
    {
     "name": "stdout",
     "output_type": "stream",
     "text": [
      "\n",
      "      Epoch    GPU_mem   box_loss   cls_loss   dfl_loss  Instances       Size\n"
     ]
    },
    {
     "name": "stderr",
     "output_type": "stream",
     "text": [
      "     50/100      4.95G     0.9384      0.481      1.171         26        640: 1\n",
      "                 Class     Images  Instances      Box(P          R      mAP50  m"
     ]
    },
    {
     "name": "stdout",
     "output_type": "stream",
     "text": [
      "                   all        255       2036      0.911       0.87      0.944      0.649\n"
     ]
    },
    {
     "name": "stderr",
     "output_type": "stream",
     "text": [
      "\n"
     ]
    },
    {
     "name": "stdout",
     "output_type": "stream",
     "text": [
      "\n",
      "      Epoch    GPU_mem   box_loss   cls_loss   dfl_loss  Instances       Size\n"
     ]
    },
    {
     "name": "stderr",
     "output_type": "stream",
     "text": [
      "     51/100         5G     0.9366     0.4829      1.159         49        640: 1\n",
      "                 Class     Images  Instances      Box(P          R      mAP50  m"
     ]
    },
    {
     "name": "stdout",
     "output_type": "stream",
     "text": [
      "                   all        255       2036      0.872      0.901       0.95      0.667\n"
     ]
    },
    {
     "name": "stderr",
     "output_type": "stream",
     "text": [
      "\n"
     ]
    },
    {
     "name": "stdout",
     "output_type": "stream",
     "text": [
      "\n",
      "      Epoch    GPU_mem   box_loss   cls_loss   dfl_loss  Instances       Size\n"
     ]
    },
    {
     "name": "stderr",
     "output_type": "stream",
     "text": [
      "     52/100      4.95G     0.9202     0.4669      1.162         48        640: 1\n",
      "                 Class     Images  Instances      Box(P          R      mAP50  m"
     ]
    },
    {
     "name": "stdout",
     "output_type": "stream",
     "text": [
      "                   all        255       2036      0.896      0.891      0.949      0.654\n"
     ]
    },
    {
     "name": "stderr",
     "output_type": "stream",
     "text": [
      "\n"
     ]
    },
    {
     "name": "stdout",
     "output_type": "stream",
     "text": [
      "\n",
      "      Epoch    GPU_mem   box_loss   cls_loss   dfl_loss  Instances       Size\n"
     ]
    },
    {
     "name": "stderr",
     "output_type": "stream",
     "text": [
      "     53/100      4.97G     0.9132     0.4687       1.15         30        640: 1\n",
      "                 Class     Images  Instances      Box(P          R      mAP50  m"
     ]
    },
    {
     "name": "stdout",
     "output_type": "stream",
     "text": [
      "                   all        255       2036        0.9      0.882      0.947      0.656\n"
     ]
    },
    {
     "name": "stderr",
     "output_type": "stream",
     "text": [
      "\n"
     ]
    },
    {
     "name": "stdout",
     "output_type": "stream",
     "text": [
      "\n",
      "      Epoch    GPU_mem   box_loss   cls_loss   dfl_loss  Instances       Size\n"
     ]
    },
    {
     "name": "stderr",
     "output_type": "stream",
     "text": [
      "     54/100      4.95G     0.9131     0.4706      1.151         35        640: 1\n",
      "                 Class     Images  Instances      Box(P          R      mAP50  m"
     ]
    },
    {
     "name": "stdout",
     "output_type": "stream",
     "text": [
      "                   all        255       2036      0.897       0.89      0.955      0.673\n"
     ]
    },
    {
     "name": "stderr",
     "output_type": "stream",
     "text": [
      "\n"
     ]
    },
    {
     "name": "stdout",
     "output_type": "stream",
     "text": [
      "\n",
      "      Epoch    GPU_mem   box_loss   cls_loss   dfl_loss  Instances       Size\n"
     ]
    },
    {
     "name": "stderr",
     "output_type": "stream",
     "text": [
      "     55/100      4.95G     0.9285      0.472      1.158         41        640: 1\n",
      "                 Class     Images  Instances      Box(P          R      mAP50  m"
     ]
    },
    {
     "name": "stdout",
     "output_type": "stream",
     "text": [
      "                   all        255       2036      0.911      0.881      0.954      0.662\n"
     ]
    },
    {
     "name": "stderr",
     "output_type": "stream",
     "text": [
      "\n"
     ]
    },
    {
     "name": "stdout",
     "output_type": "stream",
     "text": [
      "\n",
      "      Epoch    GPU_mem   box_loss   cls_loss   dfl_loss  Instances       Size\n"
     ]
    },
    {
     "name": "stderr",
     "output_type": "stream",
     "text": [
      "     56/100      4.97G     0.9152     0.4718      1.156         38        640: 1\n",
      "                 Class     Images  Instances      Box(P          R      mAP50  m"
     ]
    },
    {
     "name": "stdout",
     "output_type": "stream",
     "text": [
      "                   all        255       2036      0.894      0.896      0.949      0.654\n"
     ]
    },
    {
     "name": "stderr",
     "output_type": "stream",
     "text": [
      "\n"
     ]
    },
    {
     "name": "stdout",
     "output_type": "stream",
     "text": [
      "\n",
      "      Epoch    GPU_mem   box_loss   cls_loss   dfl_loss  Instances       Size\n"
     ]
    },
    {
     "name": "stderr",
     "output_type": "stream",
     "text": [
      "     57/100      4.97G     0.8993     0.4646      1.144         38        640: 1\n",
      "                 Class     Images  Instances      Box(P          R      mAP50  m"
     ]
    },
    {
     "name": "stdout",
     "output_type": "stream",
     "text": [
      "                   all        255       2036      0.905      0.876      0.946      0.659\n"
     ]
    },
    {
     "name": "stderr",
     "output_type": "stream",
     "text": [
      "\n"
     ]
    },
    {
     "name": "stdout",
     "output_type": "stream",
     "text": [
      "\n",
      "      Epoch    GPU_mem   box_loss   cls_loss   dfl_loss  Instances       Size\n"
     ]
    },
    {
     "name": "stderr",
     "output_type": "stream",
     "text": [
      "     58/100      4.95G     0.9124     0.4657      1.148         55        640: 1\n",
      "                 Class     Images  Instances      Box(P          R      mAP50  m"
     ]
    },
    {
     "name": "stdout",
     "output_type": "stream",
     "text": [
      "                   all        255       2036      0.888        0.9      0.955      0.665\n"
     ]
    },
    {
     "name": "stderr",
     "output_type": "stream",
     "text": [
      "\n"
     ]
    },
    {
     "name": "stdout",
     "output_type": "stream",
     "text": [
      "\n",
      "      Epoch    GPU_mem   box_loss   cls_loss   dfl_loss  Instances       Size\n"
     ]
    },
    {
     "name": "stderr",
     "output_type": "stream",
     "text": [
      "     59/100      4.96G     0.8895     0.4538      1.136         44        640: 1\n",
      "                 Class     Images  Instances      Box(P          R      mAP50  m"
     ]
    },
    {
     "name": "stdout",
     "output_type": "stream",
     "text": [
      "                   all        255       2036      0.901      0.867      0.944      0.658\n"
     ]
    },
    {
     "name": "stderr",
     "output_type": "stream",
     "text": [
      "\n"
     ]
    },
    {
     "name": "stdout",
     "output_type": "stream",
     "text": [
      "\n",
      "      Epoch    GPU_mem   box_loss   cls_loss   dfl_loss  Instances       Size\n"
     ]
    },
    {
     "name": "stderr",
     "output_type": "stream",
     "text": [
      "     60/100      4.96G     0.9006     0.4614      1.144         19        640: 1\n",
      "                 Class     Images  Instances      Box(P          R      mAP50  m"
     ]
    },
    {
     "name": "stdout",
     "output_type": "stream",
     "text": [
      "                   all        255       2036      0.898      0.879       0.95      0.663\n"
     ]
    },
    {
     "name": "stderr",
     "output_type": "stream",
     "text": [
      "\n"
     ]
    },
    {
     "name": "stdout",
     "output_type": "stream",
     "text": [
      "\n",
      "      Epoch    GPU_mem   box_loss   cls_loss   dfl_loss  Instances       Size\n"
     ]
    },
    {
     "name": "stderr",
     "output_type": "stream",
     "text": [
      "     61/100      4.96G     0.8952      0.456      1.135         45        640: 1\n",
      "                 Class     Images  Instances      Box(P          R      mAP50  m"
     ]
    },
    {
     "name": "stdout",
     "output_type": "stream",
     "text": [
      "                   all        255       2036      0.926      0.852       0.95       0.67\n"
     ]
    },
    {
     "name": "stderr",
     "output_type": "stream",
     "text": [
      "\n"
     ]
    },
    {
     "name": "stdout",
     "output_type": "stream",
     "text": [
      "\n",
      "      Epoch    GPU_mem   box_loss   cls_loss   dfl_loss  Instances       Size\n"
     ]
    },
    {
     "name": "stderr",
     "output_type": "stream",
     "text": [
      "     62/100      5.16G     0.8832     0.4503       1.14         33        640: 1\n",
      "                 Class     Images  Instances      Box(P          R      mAP50  m"
     ]
    },
    {
     "name": "stdout",
     "output_type": "stream",
     "text": [
      "                   all        255       2036      0.906      0.874      0.946      0.662\n"
     ]
    },
    {
     "name": "stderr",
     "output_type": "stream",
     "text": [
      "\n"
     ]
    },
    {
     "name": "stdout",
     "output_type": "stream",
     "text": [
      "\n",
      "      Epoch    GPU_mem   box_loss   cls_loss   dfl_loss  Instances       Size\n"
     ]
    },
    {
     "name": "stderr",
     "output_type": "stream",
     "text": [
      "     63/100      5.16G     0.8744     0.4493      1.128         32        640: 1\n",
      "                 Class     Images  Instances      Box(P          R      mAP50  m"
     ]
    },
    {
     "name": "stdout",
     "output_type": "stream",
     "text": [
      "                   all        255       2036      0.911      0.876      0.956      0.667\n"
     ]
    },
    {
     "name": "stderr",
     "output_type": "stream",
     "text": [
      "\n"
     ]
    },
    {
     "name": "stdout",
     "output_type": "stream",
     "text": [
      "\n",
      "      Epoch    GPU_mem   box_loss   cls_loss   dfl_loss  Instances       Size\n"
     ]
    },
    {
     "name": "stderr",
     "output_type": "stream",
     "text": [
      "     64/100      4.96G     0.8811     0.4541      1.136         25        640: 1\n",
      "                 Class     Images  Instances      Box(P          R      mAP50  m"
     ]
    },
    {
     "name": "stdout",
     "output_type": "stream",
     "text": [
      "                   all        255       2036      0.884      0.897      0.951      0.666\n"
     ]
    },
    {
     "name": "stderr",
     "output_type": "stream",
     "text": [
      "\n"
     ]
    },
    {
     "name": "stdout",
     "output_type": "stream",
     "text": [
      "\n",
      "      Epoch    GPU_mem   box_loss   cls_loss   dfl_loss  Instances       Size\n"
     ]
    },
    {
     "name": "stderr",
     "output_type": "stream",
     "text": [
      "     65/100      4.96G     0.8681     0.4404      1.122         55        640: 1\n",
      "                 Class     Images  Instances      Box(P          R      mAP50  m"
     ]
    },
    {
     "name": "stdout",
     "output_type": "stream",
     "text": [
      "                   all        255       2036      0.899      0.876       0.95      0.668\n"
     ]
    },
    {
     "name": "stderr",
     "output_type": "stream",
     "text": [
      "\n"
     ]
    },
    {
     "name": "stdout",
     "output_type": "stream",
     "text": [
      "\n",
      "      Epoch    GPU_mem   box_loss   cls_loss   dfl_loss  Instances       Size\n"
     ]
    },
    {
     "name": "stderr",
     "output_type": "stream",
     "text": [
      "     66/100      4.97G     0.8667     0.4402      1.125         29        640: 1\n",
      "                 Class     Images  Instances      Box(P          R      mAP50  m"
     ]
    },
    {
     "name": "stdout",
     "output_type": "stream",
     "text": [
      "                   all        255       2036      0.897      0.887      0.948      0.657\n"
     ]
    },
    {
     "name": "stderr",
     "output_type": "stream",
     "text": [
      "\n"
     ]
    },
    {
     "name": "stdout",
     "output_type": "stream",
     "text": [
      "\n",
      "      Epoch    GPU_mem   box_loss   cls_loss   dfl_loss  Instances       Size\n"
     ]
    },
    {
     "name": "stderr",
     "output_type": "stream",
     "text": [
      "     67/100      4.96G     0.8659     0.4373      1.117         31        640: 1\n",
      "                 Class     Images  Instances      Box(P          R      mAP50  m"
     ]
    },
    {
     "name": "stdout",
     "output_type": "stream",
     "text": [
      "                   all        255       2036      0.909      0.881      0.952      0.666\n"
     ]
    },
    {
     "name": "stderr",
     "output_type": "stream",
     "text": [
      "\n"
     ]
    },
    {
     "name": "stdout",
     "output_type": "stream",
     "text": [
      "\n",
      "      Epoch    GPU_mem   box_loss   cls_loss   dfl_loss  Instances       Size\n"
     ]
    },
    {
     "name": "stderr",
     "output_type": "stream",
     "text": [
      "     68/100         5G     0.8576     0.4297      1.117         61        640: 1\n",
      "                 Class     Images  Instances      Box(P          R      mAP50  m"
     ]
    },
    {
     "name": "stdout",
     "output_type": "stream",
     "text": [
      "                   all        255       2036      0.899      0.872      0.944      0.656\n"
     ]
    },
    {
     "name": "stderr",
     "output_type": "stream",
     "text": [
      "\n"
     ]
    },
    {
     "name": "stdout",
     "output_type": "stream",
     "text": [
      "\n",
      "      Epoch    GPU_mem   box_loss   cls_loss   dfl_loss  Instances       Size\n"
     ]
    },
    {
     "name": "stderr",
     "output_type": "stream",
     "text": [
      "     69/100      4.95G     0.8562     0.4351      1.119         36        640: 1\n",
      "                 Class     Images  Instances      Box(P          R      mAP50  m"
     ]
    },
    {
     "name": "stdout",
     "output_type": "stream",
     "text": [
      "                   all        255       2036      0.894      0.896      0.954      0.669\n"
     ]
    },
    {
     "name": "stderr",
     "output_type": "stream",
     "text": [
      "\n"
     ]
    },
    {
     "name": "stdout",
     "output_type": "stream",
     "text": [
      "\n",
      "      Epoch    GPU_mem   box_loss   cls_loss   dfl_loss  Instances       Size\n"
     ]
    },
    {
     "name": "stderr",
     "output_type": "stream",
     "text": [
      "     70/100      5.18G     0.8531     0.4315      1.108         20        640: 1\n",
      "                 Class     Images  Instances      Box(P          R      mAP50  m"
     ]
    },
    {
     "name": "stdout",
     "output_type": "stream",
     "text": [
      "                   all        255       2036      0.884       0.89      0.945      0.653\n"
     ]
    },
    {
     "name": "stderr",
     "output_type": "stream",
     "text": [
      "\n"
     ]
    },
    {
     "name": "stdout",
     "output_type": "stream",
     "text": [
      "\n",
      "      Epoch    GPU_mem   box_loss   cls_loss   dfl_loss  Instances       Size\n"
     ]
    },
    {
     "name": "stderr",
     "output_type": "stream",
     "text": [
      "     71/100         5G     0.8484     0.4287      1.121         28        640: 1\n",
      "                 Class     Images  Instances      Box(P          R      mAP50  m"
     ]
    },
    {
     "name": "stdout",
     "output_type": "stream",
     "text": [
      "                   all        255       2036       0.91      0.868      0.946      0.658\n"
     ]
    },
    {
     "name": "stderr",
     "output_type": "stream",
     "text": [
      "\n"
     ]
    },
    {
     "name": "stdout",
     "output_type": "stream",
     "text": [
      "\n",
      "      Epoch    GPU_mem   box_loss   cls_loss   dfl_loss  Instances       Size\n"
     ]
    },
    {
     "name": "stderr",
     "output_type": "stream",
     "text": [
      "     72/100      4.97G     0.8394     0.4218      1.106         17        640: 1\n",
      "                 Class     Images  Instances      Box(P          R      mAP50  m"
     ]
    },
    {
     "name": "stdout",
     "output_type": "stream",
     "text": [
      "                   all        255       2036      0.918      0.856      0.947      0.662\n"
     ]
    },
    {
     "name": "stderr",
     "output_type": "stream",
     "text": [
      "\n"
     ]
    },
    {
     "name": "stdout",
     "output_type": "stream",
     "text": [
      "\n",
      "      Epoch    GPU_mem   box_loss   cls_loss   dfl_loss  Instances       Size\n"
     ]
    },
    {
     "name": "stderr",
     "output_type": "stream",
     "text": [
      "     73/100      4.95G     0.8272      0.419      1.102         38        640: 1\n",
      "                 Class     Images  Instances      Box(P          R      mAP50  m"
     ]
    },
    {
     "name": "stdout",
     "output_type": "stream",
     "text": [
      "                   all        255       2036      0.884      0.896      0.946      0.655\n"
     ]
    },
    {
     "name": "stderr",
     "output_type": "stream",
     "text": [
      "\n"
     ]
    },
    {
     "name": "stdout",
     "output_type": "stream",
     "text": [
      "\n",
      "      Epoch    GPU_mem   box_loss   cls_loss   dfl_loss  Instances       Size\n"
     ]
    },
    {
     "name": "stderr",
     "output_type": "stream",
     "text": [
      "     74/100      4.96G     0.8425     0.4202       1.11         50        640: 1\n",
      "                 Class     Images  Instances      Box(P          R      mAP50  m"
     ]
    },
    {
     "name": "stdout",
     "output_type": "stream",
     "text": [
      "                   all        255       2036      0.893      0.883      0.946      0.657\n"
     ]
    },
    {
     "name": "stderr",
     "output_type": "stream",
     "text": [
      "\n"
     ]
    },
    {
     "name": "stdout",
     "output_type": "stream",
     "text": [
      "\n",
      "      Epoch    GPU_mem   box_loss   cls_loss   dfl_loss  Instances       Size\n"
     ]
    },
    {
     "name": "stderr",
     "output_type": "stream",
     "text": [
      "     75/100      4.95G     0.8266     0.4126        1.1         36        640: 1\n",
      "                 Class     Images  Instances      Box(P          R      mAP50  m"
     ]
    },
    {
     "name": "stdout",
     "output_type": "stream",
     "text": [
      "                   all        255       2036       0.89      0.883      0.945      0.659\n"
     ]
    },
    {
     "name": "stderr",
     "output_type": "stream",
     "text": [
      "\n"
     ]
    },
    {
     "name": "stdout",
     "output_type": "stream",
     "text": [
      "\n",
      "      Epoch    GPU_mem   box_loss   cls_loss   dfl_loss  Instances       Size\n"
     ]
    },
    {
     "name": "stderr",
     "output_type": "stream",
     "text": [
      "     76/100      4.98G     0.8316     0.4148      1.102         33        640: 1\n",
      "                 Class     Images  Instances      Box(P          R      mAP50  m"
     ]
    },
    {
     "name": "stdout",
     "output_type": "stream",
     "text": [
      "                   all        255       2036      0.898      0.882      0.951      0.667\n"
     ]
    },
    {
     "name": "stderr",
     "output_type": "stream",
     "text": [
      "\n"
     ]
    },
    {
     "name": "stdout",
     "output_type": "stream",
     "text": [
      "\n",
      "      Epoch    GPU_mem   box_loss   cls_loss   dfl_loss  Instances       Size\n"
     ]
    },
    {
     "name": "stderr",
     "output_type": "stream",
     "text": [
      "     77/100      4.99G     0.8201     0.4106      1.102         51        640: 1\n",
      "                 Class     Images  Instances      Box(P          R      mAP50  m"
     ]
    },
    {
     "name": "stdout",
     "output_type": "stream",
     "text": [
      "                   all        255       2036      0.894      0.888      0.949      0.653\n"
     ]
    },
    {
     "name": "stderr",
     "output_type": "stream",
     "text": [
      "\n"
     ]
    },
    {
     "name": "stdout",
     "output_type": "stream",
     "text": [
      "\n",
      "      Epoch    GPU_mem   box_loss   cls_loss   dfl_loss  Instances       Size\n"
     ]
    },
    {
     "name": "stderr",
     "output_type": "stream",
     "text": [
      "     78/100      4.96G     0.8202     0.4102      1.099         30        640: 1\n",
      "                 Class     Images  Instances      Box(P          R      mAP50  m"
     ]
    },
    {
     "name": "stdout",
     "output_type": "stream",
     "text": [
      "                   all        255       2036      0.892      0.886      0.945      0.655\n"
     ]
    },
    {
     "name": "stderr",
     "output_type": "stream",
     "text": [
      "\n"
     ]
    },
    {
     "name": "stdout",
     "output_type": "stream",
     "text": [
      "\n",
      "      Epoch    GPU_mem   box_loss   cls_loss   dfl_loss  Instances       Size\n"
     ]
    },
    {
     "name": "stderr",
     "output_type": "stream",
     "text": [
      "     79/100      4.96G     0.8054     0.4008      1.091         16        640: 1\n",
      "                 Class     Images  Instances      Box(P          R      mAP50  m"
     ]
    },
    {
     "name": "stdout",
     "output_type": "stream",
     "text": [
      "                   all        255       2036      0.906       0.86      0.943      0.659\n"
     ]
    },
    {
     "name": "stderr",
     "output_type": "stream",
     "text": [
      "\n"
     ]
    },
    {
     "name": "stdout",
     "output_type": "stream",
     "text": [
      "\n",
      "      Epoch    GPU_mem   box_loss   cls_loss   dfl_loss  Instances       Size\n"
     ]
    },
    {
     "name": "stderr",
     "output_type": "stream",
     "text": [
      "     80/100      4.98G     0.8058     0.3974      1.089         46        640: 1\n",
      "                 Class     Images  Instances      Box(P          R      mAP50  m"
     ]
    },
    {
     "name": "stdout",
     "output_type": "stream",
     "text": [
      "                   all        255       2036      0.893       0.88      0.947      0.658\n"
     ]
    },
    {
     "name": "stderr",
     "output_type": "stream",
     "text": [
      "\n"
     ]
    },
    {
     "name": "stdout",
     "output_type": "stream",
     "text": [
      "\n",
      "      Epoch    GPU_mem   box_loss   cls_loss   dfl_loss  Instances       Size\n"
     ]
    },
    {
     "name": "stderr",
     "output_type": "stream",
     "text": [
      "     81/100      4.95G     0.7948     0.3963       1.08         37        640: 1\n",
      "                 Class     Images  Instances      Box(P          R      mAP50  m"
     ]
    },
    {
     "name": "stdout",
     "output_type": "stream",
     "text": [
      "                   all        255       2036      0.883       0.88      0.941      0.657\n"
     ]
    },
    {
     "name": "stderr",
     "output_type": "stream",
     "text": [
      "\n"
     ]
    },
    {
     "name": "stdout",
     "output_type": "stream",
     "text": [
      "\n",
      "      Epoch    GPU_mem   box_loss   cls_loss   dfl_loss  Instances       Size\n"
     ]
    },
    {
     "name": "stderr",
     "output_type": "stream",
     "text": [
      "     82/100      4.95G     0.8065      0.399      1.081         38        640: 1\n",
      "                 Class     Images  Instances      Box(P          R      mAP50  m"
     ]
    },
    {
     "name": "stdout",
     "output_type": "stream",
     "text": [
      "                   all        255       2036      0.876       0.89      0.947      0.664\n"
     ]
    },
    {
     "name": "stderr",
     "output_type": "stream",
     "text": [
      "\n"
     ]
    },
    {
     "name": "stdout",
     "output_type": "stream",
     "text": [
      "\n",
      "      Epoch    GPU_mem   box_loss   cls_loss   dfl_loss  Instances       Size\n"
     ]
    },
    {
     "name": "stderr",
     "output_type": "stream",
     "text": [
      "     83/100      4.95G     0.7896     0.3894      1.086         29        640: 1\n",
      "                 Class     Images  Instances      Box(P          R      mAP50  m"
     ]
    },
    {
     "name": "stdout",
     "output_type": "stream",
     "text": [
      "                   all        255       2036      0.903      0.872      0.946       0.66\n"
     ]
    },
    {
     "name": "stderr",
     "output_type": "stream",
     "text": [
      "\n"
     ]
    },
    {
     "name": "stdout",
     "output_type": "stream",
     "text": [
      "\n",
      "      Epoch    GPU_mem   box_loss   cls_loss   dfl_loss  Instances       Size\n"
     ]
    },
    {
     "name": "stderr",
     "output_type": "stream",
     "text": [
      "     84/100      4.97G     0.7931     0.3908      1.073         26        640: 1\n",
      "                 Class     Images  Instances      Box(P          R      mAP50  m"
     ]
    },
    {
     "name": "stdout",
     "output_type": "stream",
     "text": [
      "                   all        255       2036      0.879      0.889      0.946      0.659\n"
     ]
    },
    {
     "name": "stderr",
     "output_type": "stream",
     "text": [
      "\n"
     ]
    },
    {
     "name": "stdout",
     "output_type": "stream",
     "text": [
      "\n",
      "      Epoch    GPU_mem   box_loss   cls_loss   dfl_loss  Instances       Size\n"
     ]
    },
    {
     "name": "stderr",
     "output_type": "stream",
     "text": [
      "     85/100      4.99G     0.7806     0.3881      1.067         34        640: 1\n",
      "                 Class     Images  Instances      Box(P          R      mAP50  m"
     ]
    },
    {
     "name": "stdout",
     "output_type": "stream",
     "text": [
      "                   all        255       2036      0.912      0.871      0.947      0.662\n"
     ]
    },
    {
     "name": "stderr",
     "output_type": "stream",
     "text": [
      "\n"
     ]
    },
    {
     "name": "stdout",
     "output_type": "stream",
     "text": [
      "\n",
      "      Epoch    GPU_mem   box_loss   cls_loss   dfl_loss  Instances       Size\n"
     ]
    },
    {
     "name": "stderr",
     "output_type": "stream",
     "text": [
      "     86/100      5.18G     0.7859     0.3881      1.076         39        640: 1\n",
      "                 Class     Images  Instances      Box(P          R      mAP50  m"
     ]
    },
    {
     "name": "stdout",
     "output_type": "stream",
     "text": [
      "                   all        255       2036      0.895      0.888      0.943      0.651\n"
     ]
    },
    {
     "name": "stderr",
     "output_type": "stream",
     "text": [
      "\n"
     ]
    },
    {
     "name": "stdout",
     "output_type": "stream",
     "text": [
      "\n",
      "      Epoch    GPU_mem   box_loss   cls_loss   dfl_loss  Instances       Size\n"
     ]
    },
    {
     "name": "stderr",
     "output_type": "stream",
     "text": [
      "     87/100         5G     0.7788     0.3831       1.07         38        640: 1\n",
      "                 Class     Images  Instances      Box(P          R      mAP50  m"
     ]
    },
    {
     "name": "stdout",
     "output_type": "stream",
     "text": [
      "                   all        255       2036      0.894      0.874      0.945      0.657\n"
     ]
    },
    {
     "name": "stderr",
     "output_type": "stream",
     "text": [
      "\n"
     ]
    },
    {
     "name": "stdout",
     "output_type": "stream",
     "text": [
      "\n",
      "      Epoch    GPU_mem   box_loss   cls_loss   dfl_loss  Instances       Size\n"
     ]
    },
    {
     "name": "stderr",
     "output_type": "stream",
     "text": [
      "     88/100      4.96G     0.7777     0.3821      1.076         20        640: 1\n",
      "                 Class     Images  Instances      Box(P          R      mAP50  m"
     ]
    },
    {
     "name": "stdout",
     "output_type": "stream",
     "text": [
      "                   all        255       2036      0.894      0.876      0.938      0.653\n"
     ]
    },
    {
     "name": "stderr",
     "output_type": "stream",
     "text": [
      "\n"
     ]
    },
    {
     "name": "stdout",
     "output_type": "stream",
     "text": [
      "\n",
      "      Epoch    GPU_mem   box_loss   cls_loss   dfl_loss  Instances       Size\n"
     ]
    },
    {
     "name": "stderr",
     "output_type": "stream",
     "text": [
      "     89/100      4.98G     0.7623     0.3746      1.066         27        640: 1\n",
      "                 Class     Images  Instances      Box(P          R      mAP50  m"
     ]
    },
    {
     "name": "stdout",
     "output_type": "stream",
     "text": [
      "                   all        255       2036      0.899      0.885      0.942      0.653\n"
     ]
    },
    {
     "name": "stderr",
     "output_type": "stream",
     "text": [
      "\n"
     ]
    },
    {
     "name": "stdout",
     "output_type": "stream",
     "text": [
      "\n",
      "      Epoch    GPU_mem   box_loss   cls_loss   dfl_loss  Instances       Size\n"
     ]
    },
    {
     "name": "stderr",
     "output_type": "stream",
     "text": [
      "     90/100      5.17G      0.769     0.3775      1.074         29        640: 1\n",
      "                 Class     Images  Instances      Box(P          R      mAP50  m"
     ]
    },
    {
     "name": "stdout",
     "output_type": "stream",
     "text": [
      "                   all        255       2036      0.893      0.884      0.945       0.66\n"
     ]
    },
    {
     "name": "stderr",
     "output_type": "stream",
     "text": [
      "\n"
     ]
    },
    {
     "name": "stdout",
     "output_type": "stream",
     "text": [
      "Closing dataloader mosaic\n",
      "\n",
      "      Epoch    GPU_mem   box_loss   cls_loss   dfl_loss  Instances       Size\n"
     ]
    },
    {
     "name": "stderr",
     "output_type": "stream",
     "text": [
      "     91/100      4.96G     0.7387     0.3329      1.065         15        640: 1\n",
      "                 Class     Images  Instances      Box(P          R      mAP50  m"
     ]
    },
    {
     "name": "stdout",
     "output_type": "stream",
     "text": [
      "                   all        255       2036      0.892      0.888      0.943      0.659\n"
     ]
    },
    {
     "name": "stderr",
     "output_type": "stream",
     "text": [
      "\n"
     ]
    },
    {
     "name": "stdout",
     "output_type": "stream",
     "text": [
      "\n",
      "      Epoch    GPU_mem   box_loss   cls_loss   dfl_loss  Instances       Size\n"
     ]
    },
    {
     "name": "stderr",
     "output_type": "stream",
     "text": [
      "     92/100      4.97G     0.7228     0.3239      1.052         15        640: 1\n",
      "                 Class     Images  Instances      Box(P          R      mAP50  m"
     ]
    },
    {
     "name": "stdout",
     "output_type": "stream",
     "text": [
      "                   all        255       2036      0.893      0.882      0.946      0.665\n"
     ]
    },
    {
     "name": "stderr",
     "output_type": "stream",
     "text": [
      "\n"
     ]
    },
    {
     "name": "stdout",
     "output_type": "stream",
     "text": [
      "\n",
      "      Epoch    GPU_mem   box_loss   cls_loss   dfl_loss  Instances       Size\n"
     ]
    },
    {
     "name": "stderr",
     "output_type": "stream",
     "text": [
      "     93/100      4.96G     0.7197     0.3223      1.052         16        640: 1\n",
      "                 Class     Images  Instances      Box(P          R      mAP50  m"
     ]
    },
    {
     "name": "stdout",
     "output_type": "stream",
     "text": [
      "                   all        255       2036      0.892      0.886      0.948      0.674\n"
     ]
    },
    {
     "name": "stderr",
     "output_type": "stream",
     "text": [
      "\n"
     ]
    },
    {
     "name": "stdout",
     "output_type": "stream",
     "text": [
      "\n",
      "      Epoch    GPU_mem   box_loss   cls_loss   dfl_loss  Instances       Size\n"
     ]
    },
    {
     "name": "stderr",
     "output_type": "stream",
     "text": [
      "     94/100      4.97G     0.7142     0.3189      1.053         21        640: 1\n",
      "                 Class     Images  Instances      Box(P          R      mAP50  m"
     ]
    },
    {
     "name": "stdout",
     "output_type": "stream",
     "text": [
      "                   all        255       2036      0.891       0.89      0.947       0.67\n"
     ]
    },
    {
     "name": "stderr",
     "output_type": "stream",
     "text": [
      "\n"
     ]
    },
    {
     "name": "stdout",
     "output_type": "stream",
     "text": [
      "\n",
      "      Epoch    GPU_mem   box_loss   cls_loss   dfl_loss  Instances       Size\n"
     ]
    },
    {
     "name": "stderr",
     "output_type": "stream",
     "text": [
      "     95/100      4.96G     0.7073     0.3132      1.044         14        640: 1\n",
      "                 Class     Images  Instances      Box(P          R      mAP50  m"
     ]
    },
    {
     "name": "stdout",
     "output_type": "stream",
     "text": [
      "                   all        255       2036      0.881      0.893      0.947      0.672\n"
     ]
    },
    {
     "name": "stderr",
     "output_type": "stream",
     "text": [
      "\n"
     ]
    },
    {
     "name": "stdout",
     "output_type": "stream",
     "text": [
      "\n",
      "      Epoch    GPU_mem   box_loss   cls_loss   dfl_loss  Instances       Size\n"
     ]
    },
    {
     "name": "stderr",
     "output_type": "stream",
     "text": [
      "     96/100      4.96G     0.7013     0.3108      1.047         18        640: 1\n",
      "                 Class     Images  Instances      Box(P          R      mAP50  m"
     ]
    },
    {
     "name": "stdout",
     "output_type": "stream",
     "text": [
      "                   all        255       2036      0.889      0.884      0.945      0.668\n"
     ]
    },
    {
     "name": "stderr",
     "output_type": "stream",
     "text": [
      "\n"
     ]
    },
    {
     "name": "stdout",
     "output_type": "stream",
     "text": [
      "\n",
      "      Epoch    GPU_mem   box_loss   cls_loss   dfl_loss  Instances       Size\n"
     ]
    },
    {
     "name": "stderr",
     "output_type": "stream",
     "text": [
      "     97/100      4.95G     0.6968     0.3085      1.037         40        640: 1\n",
      "                 Class     Images  Instances      Box(P          R      mAP50  m"
     ]
    },
    {
     "name": "stdout",
     "output_type": "stream",
     "text": [
      "                   all        255       2036      0.899      0.875      0.947      0.671\n"
     ]
    },
    {
     "name": "stderr",
     "output_type": "stream",
     "text": [
      "\n"
     ]
    },
    {
     "name": "stdout",
     "output_type": "stream",
     "text": [
      "\n",
      "      Epoch    GPU_mem   box_loss   cls_loss   dfl_loss  Instances       Size\n"
     ]
    },
    {
     "name": "stderr",
     "output_type": "stream",
     "text": [
      "     98/100      4.97G     0.6888     0.3057      1.038         13        640: 1\n",
      "                 Class     Images  Instances      Box(P          R      mAP50  m"
     ]
    },
    {
     "name": "stdout",
     "output_type": "stream",
     "text": [
      "                   all        255       2036      0.894      0.886      0.947      0.671\n"
     ]
    },
    {
     "name": "stderr",
     "output_type": "stream",
     "text": [
      "\n"
     ]
    },
    {
     "name": "stdout",
     "output_type": "stream",
     "text": [
      "\n",
      "      Epoch    GPU_mem   box_loss   cls_loss   dfl_loss  Instances       Size\n"
     ]
    },
    {
     "name": "stderr",
     "output_type": "stream",
     "text": [
      "     99/100      4.97G     0.6844     0.3025      1.028         21        640: 1\n",
      "                 Class     Images  Instances      Box(P          R      mAP50  m"
     ]
    },
    {
     "name": "stdout",
     "output_type": "stream",
     "text": [
      "                   all        255       2036        0.9      0.887      0.949      0.674\n"
     ]
    },
    {
     "name": "stderr",
     "output_type": "stream",
     "text": [
      "\n"
     ]
    },
    {
     "name": "stdout",
     "output_type": "stream",
     "text": [
      "\n",
      "      Epoch    GPU_mem   box_loss   cls_loss   dfl_loss  Instances       Size\n"
     ]
    },
    {
     "name": "stderr",
     "output_type": "stream",
     "text": [
      "    100/100      5.18G     0.6816      0.304      1.023         17        640: 1\n",
      "                 Class     Images  Instances      Box(P          R      mAP50  m"
     ]
    },
    {
     "name": "stdout",
     "output_type": "stream",
     "text": [
      "                   all        255       2036      0.898      0.886      0.948      0.674\n"
     ]
    },
    {
     "name": "stderr",
     "output_type": "stream",
     "text": [
      "\n"
     ]
    },
    {
     "name": "stdout",
     "output_type": "stream",
     "text": [
      "\n",
      "100 epochs completed in 1.706 hours.\n",
      "Optimizer stripped from /media/mzc/e4fcae9b-7400-4641-a800-034f249f8d14/mzc/yolo11/YOLO11nTraining/YOLO11m_Training/YOLO11m_Training/weights/last.pt, 40.5MB\n",
      "Optimizer stripped from /media/mzc/e4fcae9b-7400-4641-a800-034f249f8d14/mzc/yolo11/YOLO11nTraining/YOLO11m_Training/YOLO11m_Training/weights/best.pt, 40.5MB\n",
      "\n",
      "Validating /media/mzc/e4fcae9b-7400-4641-a800-034f249f8d14/mzc/yolo11/YOLO11nTraining/YOLO11m_Training/YOLO11m_Training/weights/best.pt...\n",
      "Ultralytics 8.3.0 🚀 Python-3.11.7 torch-2.4.1+cu121 CUDA:0 (NVIDIA TITAN Xp COLLECTORS EDITION, 12189MiB)\n",
      "YOLO11m summary (fused): 303 layers, 20,030,803 parameters, 0 gradients, 67.6 GFLOPs\n"
     ]
    },
    {
     "name": "stderr",
     "output_type": "stream",
     "text": [
      "                 Class     Images  Instances      Box(P          R      mAP50  m\n"
     ]
    },
    {
     "name": "stdout",
     "output_type": "stream",
     "text": [
      "                   all        255       2036        0.9      0.887      0.949      0.674\n",
      "Speed: 0.2ms preprocess, 15.1ms inference, 0.0ms loss, 0.7ms postprocess per image\n",
      "Results saved to \u001b[1m/media/mzc/e4fcae9b-7400-4641-a800-034f249f8d14/mzc/yolo11/YOLO11nTraining/YOLO11m_Training/YOLO11m_Training\u001b[0m\n"
     ]
    }
   ],
   "source": [
    "# Start training the model\n",
    "results = model.train(\n",
    "    data=data_path,\n",
    "    epochs=100,\n",
    "    imgsz=640,\n",
    "    batch=8,\n",
    "    save=True,\n",
    "    save_period=10,  # Save model weights every 10 epochs\n",
    "    project=save_dir,\n",
    "    name=\"YOLO11m_Training\"\n",
    ")\n"
   ]
  },
  {
   "cell_type": "code",
   "execution_count": 12,
   "id": "a4be51d2-7fd6-4f3d-b465-db9921440f8d",
   "metadata": {},
   "outputs": [],
   "source": [
    "# Path to the dataset YAML file\n",
    "data_path = '/media/mzc/e4fcae9b-7400-4641-a800-034f249f8d14/mzc/aiIMAGEGENERATED/data.yaml'\n",
    "\n",
    "# Directory to save YOLO11l training results\n",
    "save_dir = '/media/mzc/e4fcae9b-7400-4641-a800-034f249f8d14/mzc/yolo11/YOLO11nTraining/YOLO11L'\n",
    "\n",
    "# Create the directory if it doesn't exist\n",
    "os.makedirs(save_dir, exist_ok=True)\n"
   ]
  },
  {
   "cell_type": "code",
   "execution_count": 13,
   "id": "ffb01764-ace1-410f-94ee-0cfe37fee63e",
   "metadata": {},
   "outputs": [
    {
     "name": "stdout",
     "output_type": "stream",
     "text": [
      "Downloading https://github.com/ultralytics/assets/releases/download/v8.3.0/yolo11l.pt to 'yolo11l.pt'...\n"
     ]
    },
    {
     "name": "stderr",
     "output_type": "stream",
     "text": [
      "100%|██████████████████████████████████████| 49.0M/49.0M [00:01<00:00, 34.2MB/s]\n"
     ]
    }
   ],
   "source": [
    "# Initialize the YOLO11L model\n",
    "model = YOLO('yolo11l.pt')  # YOLO11 large model\n"
   ]
  },
  {
   "cell_type": "code",
   "execution_count": 15,
   "id": "81f37264-d65b-4594-9fac-5254d9fca9b2",
   "metadata": {},
   "outputs": [
    {
     "name": "stdout",
     "output_type": "stream",
     "text": [
      "New https://pypi.org/project/ultralytics/8.3.1 available 😃 Update with 'pip install -U ultralytics'\n",
      "Ultralytics 8.3.0 🚀 Python-3.11.7 torch-2.4.1+cu121 CUDA:0 (NVIDIA TITAN Xp COLLECTORS EDITION, 12189MiB)\n",
      "\u001b[34m\u001b[1mengine/trainer: \u001b[0mtask=detect, mode=train, model=yolo11l.pt, data=/media/mzc/e4fcae9b-7400-4641-a800-034f249f8d14/mzc/aiIMAGEGENERATED/data.yaml, epochs=100, time=None, patience=100, batch=8, imgsz=640, save=True, save_period=10, cache=False, device=None, workers=8, project=/media/mzc/e4fcae9b-7400-4641-a800-034f249f8d14/mzc/yolo11/YOLO11nTraining/YOLO11L, name=YOLO11L_Training, exist_ok=False, pretrained=True, optimizer=auto, verbose=True, seed=0, deterministic=True, single_cls=False, rect=False, cos_lr=False, close_mosaic=10, resume=False, amp=True, fraction=1.0, profile=False, freeze=None, multi_scale=False, overlap_mask=True, mask_ratio=4, dropout=0.0, val=True, split=val, save_json=False, save_hybrid=False, conf=None, iou=0.7, max_det=300, half=False, dnn=False, plots=True, source=None, vid_stride=1, stream_buffer=False, visualize=False, augment=False, agnostic_nms=False, classes=None, retina_masks=False, embed=None, show=False, save_frames=False, save_txt=False, save_conf=False, save_crop=False, show_labels=True, show_conf=True, show_boxes=True, line_width=None, format=torchscript, keras=False, optimize=False, int8=False, dynamic=False, simplify=True, opset=None, workspace=4, nms=False, lr0=0.01, lrf=0.01, momentum=0.937, weight_decay=0.0005, warmup_epochs=3.0, warmup_momentum=0.8, warmup_bias_lr=0.1, box=7.5, cls=0.5, dfl=1.5, pose=12.0, kobj=1.0, label_smoothing=0.0, nbs=64, hsv_h=0.015, hsv_s=0.7, hsv_v=0.4, degrees=0.0, translate=0.1, scale=0.5, shear=0.0, perspective=0.0, flipud=0.0, fliplr=0.5, bgr=0.0, mosaic=1.0, mixup=0.0, copy_paste=0.0, copy_paste_mode=flip, auto_augment=randaugment, erasing=0.4, crop_fraction=1.0, cfg=None, tracker=botsort.yaml, save_dir=/media/mzc/e4fcae9b-7400-4641-a800-034f249f8d14/mzc/yolo11/YOLO11nTraining/YOLO11L/YOLO11L_Training\n",
      "\n",
      "                   from  n    params  module                                       arguments                     \n",
      "  0                  -1  1      1856  ultralytics.nn.modules.conv.Conv             [3, 64, 3, 2]                 \n",
      "  1                  -1  1     73984  ultralytics.nn.modules.conv.Conv             [64, 128, 3, 2]               \n",
      "  2                  -1  2    173824  ultralytics.nn.modules.block.C3k2            [128, 256, 2, True, 0.25]     \n",
      "  3                  -1  1    590336  ultralytics.nn.modules.conv.Conv             [256, 256, 3, 2]              \n",
      "  4                  -1  2    691712  ultralytics.nn.modules.block.C3k2            [256, 512, 2, True, 0.25]     \n",
      "  5                  -1  1   2360320  ultralytics.nn.modules.conv.Conv             [512, 512, 3, 2]              \n",
      "  6                  -1  2   2234368  ultralytics.nn.modules.block.C3k2            [512, 512, 2, True]           \n",
      "  7                  -1  1   2360320  ultralytics.nn.modules.conv.Conv             [512, 512, 3, 2]              \n",
      "  8                  -1  2   2234368  ultralytics.nn.modules.block.C3k2            [512, 512, 2, True]           \n",
      "  9                  -1  1    656896  ultralytics.nn.modules.block.SPPF            [512, 512, 5]                 \n",
      " 10                  -1  2   1455616  ultralytics.nn.modules.block.C2PSA           [512, 512, 2]                 \n",
      " 11                  -1  1         0  torch.nn.modules.upsampling.Upsample         [None, 2, 'nearest']          \n",
      " 12             [-1, 6]  1         0  ultralytics.nn.modules.conv.Concat           [1]                           \n",
      " 13                  -1  2   2496512  ultralytics.nn.modules.block.C3k2            [1024, 512, 2, True]          \n",
      " 14                  -1  1         0  torch.nn.modules.upsampling.Upsample         [None, 2, 'nearest']          \n",
      " 15             [-1, 4]  1         0  ultralytics.nn.modules.conv.Concat           [1]                           \n",
      " 16                  -1  2    756736  ultralytics.nn.modules.block.C3k2            [1024, 256, 2, True]          \n",
      " 17                  -1  1    590336  ultralytics.nn.modules.conv.Conv             [256, 256, 3, 2]              \n",
      " 18            [-1, 13]  1         0  ultralytics.nn.modules.conv.Concat           [1]                           \n",
      " 19                  -1  2   2365440  ultralytics.nn.modules.block.C3k2            [768, 512, 2, True]           \n",
      " 20                  -1  1   2360320  ultralytics.nn.modules.conv.Conv             [512, 512, 3, 2]              \n",
      " 21            [-1, 10]  1         0  ultralytics.nn.modules.conv.Concat           [1]                           \n",
      " 22                  -1  2   2496512  ultralytics.nn.modules.block.C3k2            [1024, 512, 2, True]          \n",
      " 23        [16, 19, 22]  1   1411795  ultralytics.nn.modules.head.Detect           [1, [256, 512, 512]]          \n",
      "YOLO11l summary: 631 layers, 25,311,251 parameters, 25,311,235 gradients, 87.3 GFLOPs\n",
      "\n",
      "Transferred 1015/1015 items from pretrained weights\n",
      "Freezing layer 'model.23.dfl.conv.weight'\n",
      "\u001b[34m\u001b[1mAMP: \u001b[0mrunning Automatic Mixed Precision (AMP) checks with YOLOv8n...\n",
      "\u001b[34m\u001b[1mAMP: \u001b[0mchecks passed ✅\n"
     ]
    },
    {
     "name": "stderr",
     "output_type": "stream",
     "text": [
      "\u001b[34m\u001b[1mtrain: \u001b[0mScanning /media/mzc/e4fcae9b-7400-4641-a800-034f249f8d14/mzc/aiIMAGEGENER\u001b[0m\n",
      "\u001b[34m\u001b[1mval: \u001b[0mScanning /media/mzc/e4fcae9b-7400-4641-a800-034f249f8d14/mzc/aiIMAGEGENERAT\u001b[0m\n"
     ]
    },
    {
     "name": "stdout",
     "output_type": "stream",
     "text": [
      "Plotting labels to /media/mzc/e4fcae9b-7400-4641-a800-034f249f8d14/mzc/yolo11/YOLO11nTraining/YOLO11L/YOLO11L_Training/labels.jpg... \n",
      "\u001b[34m\u001b[1moptimizer:\u001b[0m 'optimizer=auto' found, ignoring 'lr0=0.01' and 'momentum=0.937' and determining best 'optimizer', 'lr0' and 'momentum' automatically... \n",
      "\u001b[34m\u001b[1moptimizer:\u001b[0m AdamW(lr=0.002, momentum=0.9) with parameter groups 167 weight(decay=0.0), 174 weight(decay=0.0005), 173 bias(decay=0.0)\n",
      "Image sizes 640 train, 640 val\n",
      "Using 8 dataloader workers\n",
      "Logging results to \u001b[1m/media/mzc/e4fcae9b-7400-4641-a800-034f249f8d14/mzc/yolo11/YOLO11nTraining/YOLO11L/YOLO11L_Training\u001b[0m\n",
      "Starting training for 100 epochs...\n",
      "\n",
      "      Epoch    GPU_mem   box_loss   cls_loss   dfl_loss  Instances       Size\n"
     ]
    },
    {
     "name": "stderr",
     "output_type": "stream",
     "text": [
      "      1/100      6.61G     0.8849      0.444       1.17         23        640: 1\n",
      "                 Class     Images  Instances      Box(P          R      mAP50  m"
     ]
    },
    {
     "name": "stdout",
     "output_type": "stream",
     "text": [
      "                   all        255       2036      0.901      0.889      0.951      0.663\n"
     ]
    },
    {
     "name": "stderr",
     "output_type": "stream",
     "text": [
      "\n"
     ]
    },
    {
     "name": "stdout",
     "output_type": "stream",
     "text": [
      "\n",
      "      Epoch    GPU_mem   box_loss   cls_loss   dfl_loss  Instances       Size\n"
     ]
    },
    {
     "name": "stderr",
     "output_type": "stream",
     "text": [
      "      2/100      6.73G     0.9074     0.4695      1.177         33        640: 1\n",
      "                 Class     Images  Instances      Box(P          R      mAP50  m"
     ]
    },
    {
     "name": "stdout",
     "output_type": "stream",
     "text": [
      "                   all        255       2036      0.898       0.88      0.943      0.637\n"
     ]
    },
    {
     "name": "stderr",
     "output_type": "stream",
     "text": [
      "\n"
     ]
    },
    {
     "name": "stdout",
     "output_type": "stream",
     "text": [
      "\n",
      "      Epoch    GPU_mem   box_loss   cls_loss   dfl_loss  Instances       Size\n"
     ]
    },
    {
     "name": "stderr",
     "output_type": "stream",
     "text": [
      "      3/100      6.71G     0.9425     0.4999      1.208         26        640: 1\n",
      "                 Class     Images  Instances      Box(P          R      mAP50  m"
     ]
    },
    {
     "name": "stdout",
     "output_type": "stream",
     "text": [
      "                   all        255       2036      0.921      0.843      0.938      0.657\n"
     ]
    },
    {
     "name": "stderr",
     "output_type": "stream",
     "text": [
      "\n"
     ]
    },
    {
     "name": "stdout",
     "output_type": "stream",
     "text": [
      "\n",
      "      Epoch    GPU_mem   box_loss   cls_loss   dfl_loss  Instances       Size\n"
     ]
    },
    {
     "name": "stderr",
     "output_type": "stream",
     "text": [
      "      4/100      6.72G     0.9399     0.5099      1.205         22        640: 1\n",
      "                 Class     Images  Instances      Box(P          R      mAP50  m"
     ]
    },
    {
     "name": "stdout",
     "output_type": "stream",
     "text": [
      "                   all        255       2036      0.909      0.873      0.944      0.649\n"
     ]
    },
    {
     "name": "stderr",
     "output_type": "stream",
     "text": [
      "\n"
     ]
    },
    {
     "name": "stdout",
     "output_type": "stream",
     "text": [
      "\n",
      "      Epoch    GPU_mem   box_loss   cls_loss   dfl_loss  Instances       Size\n"
     ]
    },
    {
     "name": "stderr",
     "output_type": "stream",
     "text": [
      "      5/100      6.75G     0.9507     0.5038      1.206         58        640: 1\n",
      "                 Class     Images  Instances      Box(P          R      mAP50  m"
     ]
    },
    {
     "name": "stdout",
     "output_type": "stream",
     "text": [
      "                   all        255       2036      0.907      0.864      0.942       0.65\n"
     ]
    },
    {
     "name": "stderr",
     "output_type": "stream",
     "text": [
      "\n"
     ]
    },
    {
     "name": "stdout",
     "output_type": "stream",
     "text": [
      "\n",
      "      Epoch    GPU_mem   box_loss   cls_loss   dfl_loss  Instances       Size\n"
     ]
    },
    {
     "name": "stderr",
     "output_type": "stream",
     "text": [
      "      6/100      6.72G     0.9546     0.5162       1.22         19        640: 1\n",
      "                 Class     Images  Instances      Box(P          R      mAP50  m"
     ]
    },
    {
     "name": "stdout",
     "output_type": "stream",
     "text": [
      "                   all        255       2036      0.901      0.871      0.941      0.638\n"
     ]
    },
    {
     "name": "stderr",
     "output_type": "stream",
     "text": [
      "\n"
     ]
    },
    {
     "name": "stdout",
     "output_type": "stream",
     "text": [
      "\n",
      "      Epoch    GPU_mem   box_loss   cls_loss   dfl_loss  Instances       Size\n"
     ]
    },
    {
     "name": "stderr",
     "output_type": "stream",
     "text": [
      "      7/100      6.72G     0.9511     0.5082      1.201         33        640: 1\n",
      "                 Class     Images  Instances      Box(P          R      mAP50  m"
     ]
    },
    {
     "name": "stdout",
     "output_type": "stream",
     "text": [
      "                   all        255       2036      0.917      0.856      0.942      0.654\n"
     ]
    },
    {
     "name": "stderr",
     "output_type": "stream",
     "text": [
      "\n"
     ]
    },
    {
     "name": "stdout",
     "output_type": "stream",
     "text": [
      "\n",
      "      Epoch    GPU_mem   box_loss   cls_loss   dfl_loss  Instances       Size\n"
     ]
    },
    {
     "name": "stderr",
     "output_type": "stream",
     "text": [
      "      8/100      6.73G     0.9484     0.5055      1.212         38        640: 1\n",
      "                 Class     Images  Instances      Box(P          R      mAP50  m"
     ]
    },
    {
     "name": "stdout",
     "output_type": "stream",
     "text": [
      "                   all        255       2036      0.905      0.873      0.945      0.642\n"
     ]
    },
    {
     "name": "stderr",
     "output_type": "stream",
     "text": [
      "\n"
     ]
    },
    {
     "name": "stdout",
     "output_type": "stream",
     "text": [
      "\n",
      "      Epoch    GPU_mem   box_loss   cls_loss   dfl_loss  Instances       Size\n"
     ]
    },
    {
     "name": "stderr",
     "output_type": "stream",
     "text": [
      "      9/100      6.72G     0.9462     0.5041      1.217         61        640: 1\n",
      "                 Class     Images  Instances      Box(P          R      mAP50  m"
     ]
    },
    {
     "name": "stdout",
     "output_type": "stream",
     "text": [
      "                   all        255       2036      0.905       0.87      0.944      0.639\n"
     ]
    },
    {
     "name": "stderr",
     "output_type": "stream",
     "text": [
      "\n"
     ]
    },
    {
     "name": "stdout",
     "output_type": "stream",
     "text": [
      "\n",
      "      Epoch    GPU_mem   box_loss   cls_loss   dfl_loss  Instances       Size\n"
     ]
    },
    {
     "name": "stderr",
     "output_type": "stream",
     "text": [
      "     10/100      6.72G     0.9439     0.4986      1.205         41        640: 1\n",
      "                 Class     Images  Instances      Box(P          R      mAP50  m"
     ]
    },
    {
     "name": "stdout",
     "output_type": "stream",
     "text": [
      "                   all        255       2036      0.898      0.886      0.947      0.648\n"
     ]
    },
    {
     "name": "stderr",
     "output_type": "stream",
     "text": [
      "\n"
     ]
    },
    {
     "name": "stdout",
     "output_type": "stream",
     "text": [
      "\n",
      "      Epoch    GPU_mem   box_loss   cls_loss   dfl_loss  Instances       Size\n"
     ]
    },
    {
     "name": "stderr",
     "output_type": "stream",
     "text": [
      "     11/100      6.73G     0.9396     0.4983      1.201         44        640: 1\n",
      "                 Class     Images  Instances      Box(P          R      mAP50  m"
     ]
    },
    {
     "name": "stdout",
     "output_type": "stream",
     "text": [
      "                   all        255       2036      0.915       0.86      0.937      0.644\n"
     ]
    },
    {
     "name": "stderr",
     "output_type": "stream",
     "text": [
      "\n"
     ]
    },
    {
     "name": "stdout",
     "output_type": "stream",
     "text": [
      "\n",
      "      Epoch    GPU_mem   box_loss   cls_loss   dfl_loss  Instances       Size\n"
     ]
    },
    {
     "name": "stderr",
     "output_type": "stream",
     "text": [
      "     12/100      6.72G     0.9321     0.4948      1.196         30        640: 1\n",
      "                 Class     Images  Instances      Box(P          R      mAP50  m"
     ]
    },
    {
     "name": "stdout",
     "output_type": "stream",
     "text": [
      "                   all        255       2036      0.892      0.872      0.942      0.651\n"
     ]
    },
    {
     "name": "stderr",
     "output_type": "stream",
     "text": [
      "\n"
     ]
    },
    {
     "name": "stdout",
     "output_type": "stream",
     "text": [
      "\n",
      "      Epoch    GPU_mem   box_loss   cls_loss   dfl_loss  Instances       Size\n"
     ]
    },
    {
     "name": "stderr",
     "output_type": "stream",
     "text": [
      "     13/100      6.75G      0.935     0.4972      1.201         14        640: 1\n",
      "                 Class     Images  Instances      Box(P          R      mAP50  m"
     ]
    },
    {
     "name": "stdout",
     "output_type": "stream",
     "text": [
      "                   all        255       2036      0.894       0.87      0.931      0.645\n"
     ]
    },
    {
     "name": "stderr",
     "output_type": "stream",
     "text": [
      "\n"
     ]
    },
    {
     "name": "stdout",
     "output_type": "stream",
     "text": [
      "\n",
      "      Epoch    GPU_mem   box_loss   cls_loss   dfl_loss  Instances       Size\n"
     ]
    },
    {
     "name": "stderr",
     "output_type": "stream",
     "text": [
      "     14/100      6.75G     0.9172     0.4793      1.194         25        640: 1\n",
      "                 Class     Images  Instances      Box(P          R      mAP50  m"
     ]
    },
    {
     "name": "stdout",
     "output_type": "stream",
     "text": [
      "                   all        255       2036      0.913      0.874      0.947      0.662\n"
     ]
    },
    {
     "name": "stderr",
     "output_type": "stream",
     "text": [
      "\n"
     ]
    },
    {
     "name": "stdout",
     "output_type": "stream",
     "text": [
      "\n",
      "      Epoch    GPU_mem   box_loss   cls_loss   dfl_loss  Instances       Size\n"
     ]
    },
    {
     "name": "stderr",
     "output_type": "stream",
     "text": [
      "     15/100      6.72G     0.9154     0.4851      1.196         26        640: 1\n",
      "                 Class     Images  Instances      Box(P          R      mAP50  m"
     ]
    },
    {
     "name": "stdout",
     "output_type": "stream",
     "text": [
      "                   all        255       2036      0.903      0.878      0.941      0.654\n"
     ]
    },
    {
     "name": "stderr",
     "output_type": "stream",
     "text": [
      "\n"
     ]
    },
    {
     "name": "stdout",
     "output_type": "stream",
     "text": [
      "\n",
      "      Epoch    GPU_mem   box_loss   cls_loss   dfl_loss  Instances       Size\n"
     ]
    },
    {
     "name": "stderr",
     "output_type": "stream",
     "text": [
      "     16/100      6.73G     0.9303     0.4911      1.204         51        640: 1\n",
      "                 Class     Images  Instances      Box(P          R      mAP50  m"
     ]
    },
    {
     "name": "stdout",
     "output_type": "stream",
     "text": [
      "                   all        255       2036       0.89      0.849      0.924       0.63\n"
     ]
    },
    {
     "name": "stderr",
     "output_type": "stream",
     "text": [
      "\n"
     ]
    },
    {
     "name": "stdout",
     "output_type": "stream",
     "text": [
      "\n",
      "      Epoch    GPU_mem   box_loss   cls_loss   dfl_loss  Instances       Size\n"
     ]
    },
    {
     "name": "stderr",
     "output_type": "stream",
     "text": [
      "     17/100      6.74G     0.9201     0.4847      1.191         43        640: 1\n",
      "                 Class     Images  Instances      Box(P          R      mAP50  m"
     ]
    },
    {
     "name": "stdout",
     "output_type": "stream",
     "text": [
      "                   all        255       2036       0.89      0.863      0.934      0.639\n"
     ]
    },
    {
     "name": "stderr",
     "output_type": "stream",
     "text": [
      "\n"
     ]
    },
    {
     "name": "stdout",
     "output_type": "stream",
     "text": [
      "\n",
      "      Epoch    GPU_mem   box_loss   cls_loss   dfl_loss  Instances       Size\n"
     ]
    },
    {
     "name": "stderr",
     "output_type": "stream",
     "text": [
      "     18/100      6.75G     0.9096     0.4702      1.193         17        640: 1\n",
      "                 Class     Images  Instances      Box(P          R      mAP50  m"
     ]
    },
    {
     "name": "stdout",
     "output_type": "stream",
     "text": [
      "                   all        255       2036      0.911      0.859      0.938      0.641\n"
     ]
    },
    {
     "name": "stderr",
     "output_type": "stream",
     "text": [
      "\n"
     ]
    },
    {
     "name": "stdout",
     "output_type": "stream",
     "text": [
      "\n",
      "      Epoch    GPU_mem   box_loss   cls_loss   dfl_loss  Instances       Size\n"
     ]
    },
    {
     "name": "stderr",
     "output_type": "stream",
     "text": [
      "     19/100      6.72G     0.9067     0.4666      1.187         25        640: 1\n",
      "                 Class     Images  Instances      Box(P          R      mAP50  m"
     ]
    },
    {
     "name": "stdout",
     "output_type": "stream",
     "text": [
      "                   all        255       2036      0.894      0.878      0.943      0.647\n"
     ]
    },
    {
     "name": "stderr",
     "output_type": "stream",
     "text": [
      "\n"
     ]
    },
    {
     "name": "stdout",
     "output_type": "stream",
     "text": [
      "\n",
      "      Epoch    GPU_mem   box_loss   cls_loss   dfl_loss  Instances       Size\n"
     ]
    },
    {
     "name": "stderr",
     "output_type": "stream",
     "text": [
      "     20/100      6.72G     0.9066     0.4722       1.19         35        640: 1\n",
      "                 Class     Images  Instances      Box(P          R      mAP50  m"
     ]
    },
    {
     "name": "stdout",
     "output_type": "stream",
     "text": [
      "                   all        255       2036      0.893       0.87      0.937      0.644\n"
     ]
    },
    {
     "name": "stderr",
     "output_type": "stream",
     "text": [
      "\n"
     ]
    },
    {
     "name": "stdout",
     "output_type": "stream",
     "text": [
      "\n",
      "      Epoch    GPU_mem   box_loss   cls_loss   dfl_loss  Instances       Size\n"
     ]
    },
    {
     "name": "stderr",
     "output_type": "stream",
     "text": [
      "     21/100      6.73G      0.891     0.4595      1.181         35        640: 1\n",
      "                 Class     Images  Instances      Box(P          R      mAP50  m"
     ]
    },
    {
     "name": "stdout",
     "output_type": "stream",
     "text": [
      "                   all        255       2036      0.901       0.87      0.941       0.65\n"
     ]
    },
    {
     "name": "stderr",
     "output_type": "stream",
     "text": [
      "\n"
     ]
    },
    {
     "name": "stdout",
     "output_type": "stream",
     "text": [
      "\n",
      "      Epoch    GPU_mem   box_loss   cls_loss   dfl_loss  Instances       Size\n"
     ]
    },
    {
     "name": "stderr",
     "output_type": "stream",
     "text": [
      "     22/100      6.72G     0.9001     0.4679      1.185         29        640: 1\n",
      "                 Class     Images  Instances      Box(P          R      mAP50  m"
     ]
    },
    {
     "name": "stdout",
     "output_type": "stream",
     "text": [
      "                   all        255       2036      0.923       0.86       0.94      0.646\n"
     ]
    },
    {
     "name": "stderr",
     "output_type": "stream",
     "text": [
      "\n"
     ]
    },
    {
     "name": "stdout",
     "output_type": "stream",
     "text": [
      "\n",
      "      Epoch    GPU_mem   box_loss   cls_loss   dfl_loss  Instances       Size\n"
     ]
    },
    {
     "name": "stderr",
     "output_type": "stream",
     "text": [
      "     23/100      6.72G     0.8957     0.4642       1.18         24        640: 1\n",
      "                 Class     Images  Instances      Box(P          R      mAP50  m"
     ]
    },
    {
     "name": "stdout",
     "output_type": "stream",
     "text": [
      "                   all        255       2036      0.892       0.88      0.947      0.656\n"
     ]
    },
    {
     "name": "stderr",
     "output_type": "stream",
     "text": [
      "\n"
     ]
    },
    {
     "name": "stdout",
     "output_type": "stream",
     "text": [
      "\n",
      "      Epoch    GPU_mem   box_loss   cls_loss   dfl_loss  Instances       Size\n"
     ]
    },
    {
     "name": "stderr",
     "output_type": "stream",
     "text": [
      "     24/100      6.71G      0.895     0.4672      1.178         33        640: 1\n",
      "                 Class     Images  Instances      Box(P          R      mAP50  m"
     ]
    },
    {
     "name": "stdout",
     "output_type": "stream",
     "text": [
      "                   all        255       2036      0.894      0.866      0.936      0.642\n"
     ]
    },
    {
     "name": "stderr",
     "output_type": "stream",
     "text": [
      "\n"
     ]
    },
    {
     "name": "stdout",
     "output_type": "stream",
     "text": [
      "\n",
      "      Epoch    GPU_mem   box_loss   cls_loss   dfl_loss  Instances       Size\n"
     ]
    },
    {
     "name": "stderr",
     "output_type": "stream",
     "text": [
      "     25/100      6.75G     0.8997     0.4714      1.185         49        640: 1\n",
      "                 Class     Images  Instances      Box(P          R      mAP50  m"
     ]
    },
    {
     "name": "stdout",
     "output_type": "stream",
     "text": [
      "                   all        255       2036      0.905      0.867      0.945      0.651\n"
     ]
    },
    {
     "name": "stderr",
     "output_type": "stream",
     "text": [
      "\n"
     ]
    },
    {
     "name": "stdout",
     "output_type": "stream",
     "text": [
      "\n",
      "      Epoch    GPU_mem   box_loss   cls_loss   dfl_loss  Instances       Size\n"
     ]
    },
    {
     "name": "stderr",
     "output_type": "stream",
     "text": [
      "     26/100      6.72G     0.8835     0.4564      1.169         25        640: 1\n",
      "                 Class     Images  Instances      Box(P          R      mAP50  m"
     ]
    },
    {
     "name": "stdout",
     "output_type": "stream",
     "text": [
      "                   all        255       2036      0.896      0.882      0.942      0.651\n"
     ]
    },
    {
     "name": "stderr",
     "output_type": "stream",
     "text": [
      "\n"
     ]
    },
    {
     "name": "stdout",
     "output_type": "stream",
     "text": [
      "\n",
      "      Epoch    GPU_mem   box_loss   cls_loss   dfl_loss  Instances       Size\n"
     ]
    },
    {
     "name": "stderr",
     "output_type": "stream",
     "text": [
      "     27/100      6.73G     0.8798     0.4492      1.171         20        640: 1\n",
      "                 Class     Images  Instances      Box(P          R      mAP50  m"
     ]
    },
    {
     "name": "stdout",
     "output_type": "stream",
     "text": [
      "                   all        255       2036      0.876      0.882      0.936      0.645\n"
     ]
    },
    {
     "name": "stderr",
     "output_type": "stream",
     "text": [
      "\n"
     ]
    },
    {
     "name": "stdout",
     "output_type": "stream",
     "text": [
      "\n",
      "      Epoch    GPU_mem   box_loss   cls_loss   dfl_loss  Instances       Size\n"
     ]
    },
    {
     "name": "stderr",
     "output_type": "stream",
     "text": [
      "     28/100      6.75G     0.8852     0.4522       1.17         58        640: 1\n",
      "                 Class     Images  Instances      Box(P          R      mAP50  m"
     ]
    },
    {
     "name": "stdout",
     "output_type": "stream",
     "text": [
      "                   all        255       2036      0.904      0.877      0.942       0.65\n"
     ]
    },
    {
     "name": "stderr",
     "output_type": "stream",
     "text": [
      "\n"
     ]
    },
    {
     "name": "stdout",
     "output_type": "stream",
     "text": [
      "\n",
      "      Epoch    GPU_mem   box_loss   cls_loss   dfl_loss  Instances       Size\n"
     ]
    },
    {
     "name": "stderr",
     "output_type": "stream",
     "text": [
      "     29/100      6.72G     0.8689     0.4492      1.159         34        640: 1\n",
      "                 Class     Images  Instances      Box(P          R      mAP50  m"
     ]
    },
    {
     "name": "stdout",
     "output_type": "stream",
     "text": [
      "                   all        255       2036      0.907      0.874      0.945      0.652\n"
     ]
    },
    {
     "name": "stderr",
     "output_type": "stream",
     "text": [
      "\n"
     ]
    },
    {
     "name": "stdout",
     "output_type": "stream",
     "text": [
      "\n",
      "      Epoch    GPU_mem   box_loss   cls_loss   dfl_loss  Instances       Size\n"
     ]
    },
    {
     "name": "stderr",
     "output_type": "stream",
     "text": [
      "     30/100      6.72G     0.8785     0.4469      1.164         18        640: 1\n",
      "                 Class     Images  Instances      Box(P          R      mAP50  m"
     ]
    },
    {
     "name": "stdout",
     "output_type": "stream",
     "text": [
      "                   all        255       2036      0.888      0.879      0.938      0.647\n"
     ]
    },
    {
     "name": "stderr",
     "output_type": "stream",
     "text": [
      "\n"
     ]
    },
    {
     "name": "stdout",
     "output_type": "stream",
     "text": [
      "\n",
      "      Epoch    GPU_mem   box_loss   cls_loss   dfl_loss  Instances       Size\n"
     ]
    },
    {
     "name": "stderr",
     "output_type": "stream",
     "text": [
      "     31/100      6.72G     0.8815     0.4504       1.17         26        640: 1\n",
      "                 Class     Images  Instances      Box(P          R      mAP50  m"
     ]
    },
    {
     "name": "stdout",
     "output_type": "stream",
     "text": [
      "                   all        255       2036      0.933      0.839      0.944      0.652\n"
     ]
    },
    {
     "name": "stderr",
     "output_type": "stream",
     "text": [
      "\n"
     ]
    },
    {
     "name": "stdout",
     "output_type": "stream",
     "text": [
      "\n",
      "      Epoch    GPU_mem   box_loss   cls_loss   dfl_loss  Instances       Size\n"
     ]
    },
    {
     "name": "stderr",
     "output_type": "stream",
     "text": [
      "     32/100      6.73G     0.8636     0.4409       1.15         32        640: 1\n",
      "                 Class     Images  Instances      Box(P          R      mAP50  m"
     ]
    },
    {
     "name": "stdout",
     "output_type": "stream",
     "text": [
      "                   all        255       2036      0.901      0.878      0.943      0.648\n"
     ]
    },
    {
     "name": "stderr",
     "output_type": "stream",
     "text": [
      "\n"
     ]
    },
    {
     "name": "stdout",
     "output_type": "stream",
     "text": [
      "\n",
      "      Epoch    GPU_mem   box_loss   cls_loss   dfl_loss  Instances       Size\n"
     ]
    },
    {
     "name": "stderr",
     "output_type": "stream",
     "text": [
      "     33/100      6.75G     0.8613     0.4387      1.167         51        640: 1\n",
      "                 Class     Images  Instances      Box(P          R      mAP50  m"
     ]
    },
    {
     "name": "stdout",
     "output_type": "stream",
     "text": [
      "                   all        255       2036       0.91      0.875      0.943      0.656\n"
     ]
    },
    {
     "name": "stderr",
     "output_type": "stream",
     "text": [
      "\n"
     ]
    },
    {
     "name": "stdout",
     "output_type": "stream",
     "text": [
      "\n",
      "      Epoch    GPU_mem   box_loss   cls_loss   dfl_loss  Instances       Size\n"
     ]
    },
    {
     "name": "stderr",
     "output_type": "stream",
     "text": [
      "     34/100      6.73G     0.8639     0.4412      1.149         25        640: 1\n",
      "                 Class     Images  Instances      Box(P          R      mAP50  m"
     ]
    },
    {
     "name": "stdout",
     "output_type": "stream",
     "text": [
      "                   all        255       2036      0.919      0.866      0.949      0.649\n"
     ]
    },
    {
     "name": "stderr",
     "output_type": "stream",
     "text": [
      "\n"
     ]
    },
    {
     "name": "stdout",
     "output_type": "stream",
     "text": [
      "\n",
      "      Epoch    GPU_mem   box_loss   cls_loss   dfl_loss  Instances       Size\n"
     ]
    },
    {
     "name": "stderr",
     "output_type": "stream",
     "text": [
      "     35/100      6.76G     0.8566     0.4383       1.15         35        640: 1\n",
      "                 Class     Images  Instances      Box(P          R      mAP50  m"
     ]
    },
    {
     "name": "stdout",
     "output_type": "stream",
     "text": [
      "                   all        255       2036      0.885      0.873      0.928      0.639\n"
     ]
    },
    {
     "name": "stderr",
     "output_type": "stream",
     "text": [
      "\n"
     ]
    },
    {
     "name": "stdout",
     "output_type": "stream",
     "text": [
      "\n",
      "      Epoch    GPU_mem   box_loss   cls_loss   dfl_loss  Instances       Size\n"
     ]
    },
    {
     "name": "stderr",
     "output_type": "stream",
     "text": [
      "     36/100      6.73G     0.8573     0.4463      1.162         26        640: 1\n",
      "                 Class     Images  Instances      Box(P          R      mAP50  m"
     ]
    },
    {
     "name": "stdout",
     "output_type": "stream",
     "text": [
      "                   all        255       2036      0.899      0.879      0.941       0.65\n"
     ]
    },
    {
     "name": "stderr",
     "output_type": "stream",
     "text": [
      "\n"
     ]
    },
    {
     "name": "stdout",
     "output_type": "stream",
     "text": [
      "\n",
      "      Epoch    GPU_mem   box_loss   cls_loss   dfl_loss  Instances       Size\n"
     ]
    },
    {
     "name": "stderr",
     "output_type": "stream",
     "text": [
      "     37/100      6.75G     0.8575     0.4372      1.146         20        640: 1\n",
      "                 Class     Images  Instances      Box(P          R      mAP50  m"
     ]
    },
    {
     "name": "stdout",
     "output_type": "stream",
     "text": [
      "                   all        255       2036      0.885      0.888      0.942      0.653\n"
     ]
    },
    {
     "name": "stderr",
     "output_type": "stream",
     "text": [
      "\n"
     ]
    },
    {
     "name": "stdout",
     "output_type": "stream",
     "text": [
      "\n",
      "      Epoch    GPU_mem   box_loss   cls_loss   dfl_loss  Instances       Size\n"
     ]
    },
    {
     "name": "stderr",
     "output_type": "stream",
     "text": [
      "     38/100      6.75G     0.8285     0.4219      1.135         40        640: 1\n",
      "                 Class     Images  Instances      Box(P          R      mAP50  m"
     ]
    },
    {
     "name": "stdout",
     "output_type": "stream",
     "text": [
      "                   all        255       2036      0.897      0.884       0.94      0.644\n"
     ]
    },
    {
     "name": "stderr",
     "output_type": "stream",
     "text": [
      "\n"
     ]
    },
    {
     "name": "stdout",
     "output_type": "stream",
     "text": [
      "\n",
      "      Epoch    GPU_mem   box_loss   cls_loss   dfl_loss  Instances       Size\n"
     ]
    },
    {
     "name": "stderr",
     "output_type": "stream",
     "text": [
      "     39/100      6.72G     0.8464     0.4311      1.155         23        640: 1\n",
      "                 Class     Images  Instances      Box(P          R      mAP50  m"
     ]
    },
    {
     "name": "stdout",
     "output_type": "stream",
     "text": [
      "                   all        255       2036       0.91      0.855      0.934      0.643\n"
     ]
    },
    {
     "name": "stderr",
     "output_type": "stream",
     "text": [
      "\n"
     ]
    },
    {
     "name": "stdout",
     "output_type": "stream",
     "text": [
      "\n",
      "      Epoch    GPU_mem   box_loss   cls_loss   dfl_loss  Instances       Size\n"
     ]
    },
    {
     "name": "stderr",
     "output_type": "stream",
     "text": [
      "     40/100      6.72G     0.8439     0.4269       1.15         40        640: 1\n",
      "                 Class     Images  Instances      Box(P          R      mAP50  m"
     ]
    },
    {
     "name": "stdout",
     "output_type": "stream",
     "text": [
      "                   all        255       2036      0.882      0.897      0.946       0.66\n"
     ]
    },
    {
     "name": "stderr",
     "output_type": "stream",
     "text": [
      "\n"
     ]
    },
    {
     "name": "stdout",
     "output_type": "stream",
     "text": [
      "\n",
      "      Epoch    GPU_mem   box_loss   cls_loss   dfl_loss  Instances       Size\n"
     ]
    },
    {
     "name": "stderr",
     "output_type": "stream",
     "text": [
      "     41/100      6.72G     0.8397     0.4251       1.15         48        640: 1\n",
      "                 Class     Images  Instances      Box(P          R      mAP50  m"
     ]
    },
    {
     "name": "stdout",
     "output_type": "stream",
     "text": [
      "                   all        255       2036      0.894      0.882       0.93      0.642\n"
     ]
    },
    {
     "name": "stderr",
     "output_type": "stream",
     "text": [
      "\n"
     ]
    },
    {
     "name": "stdout",
     "output_type": "stream",
     "text": [
      "\n",
      "      Epoch    GPU_mem   box_loss   cls_loss   dfl_loss  Instances       Size\n"
     ]
    },
    {
     "name": "stderr",
     "output_type": "stream",
     "text": [
      "     42/100      6.72G     0.8366     0.4162      1.137         17        640: 1\n",
      "                 Class     Images  Instances      Box(P          R      mAP50  m"
     ]
    },
    {
     "name": "stdout",
     "output_type": "stream",
     "text": [
      "                   all        255       2036      0.898      0.873      0.932      0.643\n"
     ]
    },
    {
     "name": "stderr",
     "output_type": "stream",
     "text": [
      "\n"
     ]
    },
    {
     "name": "stdout",
     "output_type": "stream",
     "text": [
      "\n",
      "      Epoch    GPU_mem   box_loss   cls_loss   dfl_loss  Instances       Size\n"
     ]
    },
    {
     "name": "stderr",
     "output_type": "stream",
     "text": [
      "     43/100      6.72G     0.8331     0.4147      1.133         38        640: 1\n",
      "                 Class     Images  Instances      Box(P          R      mAP50  m"
     ]
    },
    {
     "name": "stdout",
     "output_type": "stream",
     "text": [
      "                   all        255       2036      0.904      0.863      0.931      0.655\n"
     ]
    },
    {
     "name": "stderr",
     "output_type": "stream",
     "text": [
      "\n"
     ]
    },
    {
     "name": "stdout",
     "output_type": "stream",
     "text": [
      "\n",
      "      Epoch    GPU_mem   box_loss   cls_loss   dfl_loss  Instances       Size\n"
     ]
    },
    {
     "name": "stderr",
     "output_type": "stream",
     "text": [
      "     44/100      6.72G     0.8136     0.4097      1.129         35        640: 1\n",
      "                 Class     Images  Instances      Box(P          R      mAP50  m"
     ]
    },
    {
     "name": "stdout",
     "output_type": "stream",
     "text": [
      "                   all        255       2036      0.888      0.885      0.941      0.645\n"
     ]
    },
    {
     "name": "stderr",
     "output_type": "stream",
     "text": [
      "\n"
     ]
    },
    {
     "name": "stdout",
     "output_type": "stream",
     "text": [
      "\n",
      "      Epoch    GPU_mem   box_loss   cls_loss   dfl_loss  Instances       Size\n"
     ]
    },
    {
     "name": "stderr",
     "output_type": "stream",
     "text": [
      "     45/100      6.76G     0.8079     0.4076      1.133         37        640: 1\n",
      "                 Class     Images  Instances      Box(P          R      mAP50  m"
     ]
    },
    {
     "name": "stdout",
     "output_type": "stream",
     "text": [
      "                   all        255       2036      0.892      0.898      0.946      0.651\n"
     ]
    },
    {
     "name": "stderr",
     "output_type": "stream",
     "text": [
      "\n"
     ]
    },
    {
     "name": "stdout",
     "output_type": "stream",
     "text": [
      "\n",
      "      Epoch    GPU_mem   box_loss   cls_loss   dfl_loss  Instances       Size\n"
     ]
    },
    {
     "name": "stderr",
     "output_type": "stream",
     "text": [
      "     46/100      6.73G     0.8184     0.4147      1.131         37        640: 1\n",
      "                 Class     Images  Instances      Box(P          R      mAP50  m"
     ]
    },
    {
     "name": "stdout",
     "output_type": "stream",
     "text": [
      "                   all        255       2036      0.877      0.878      0.931      0.643\n"
     ]
    },
    {
     "name": "stderr",
     "output_type": "stream",
     "text": [
      "\n"
     ]
    },
    {
     "name": "stdout",
     "output_type": "stream",
     "text": [
      "\n",
      "      Epoch    GPU_mem   box_loss   cls_loss   dfl_loss  Instances       Size\n"
     ]
    },
    {
     "name": "stderr",
     "output_type": "stream",
     "text": [
      "     47/100      6.75G     0.8172     0.4115      1.122         50        640: 1\n",
      "                 Class     Images  Instances      Box(P          R      mAP50  m"
     ]
    },
    {
     "name": "stdout",
     "output_type": "stream",
     "text": [
      "                   all        255       2036      0.873      0.876      0.932       0.64\n"
     ]
    },
    {
     "name": "stderr",
     "output_type": "stream",
     "text": [
      "\n"
     ]
    },
    {
     "name": "stdout",
     "output_type": "stream",
     "text": [
      "\n",
      "      Epoch    GPU_mem   box_loss   cls_loss   dfl_loss  Instances       Size\n"
     ]
    },
    {
     "name": "stderr",
     "output_type": "stream",
     "text": [
      "     48/100      6.72G     0.8182     0.4068      1.119         56        640: 1\n",
      "                 Class     Images  Instances      Box(P          R      mAP50  m"
     ]
    },
    {
     "name": "stdout",
     "output_type": "stream",
     "text": [
      "                   all        255       2036      0.912      0.847      0.935      0.649\n"
     ]
    },
    {
     "name": "stderr",
     "output_type": "stream",
     "text": [
      "\n"
     ]
    },
    {
     "name": "stdout",
     "output_type": "stream",
     "text": [
      "\n",
      "      Epoch    GPU_mem   box_loss   cls_loss   dfl_loss  Instances       Size\n"
     ]
    },
    {
     "name": "stderr",
     "output_type": "stream",
     "text": [
      "     49/100      6.72G     0.7884     0.4046       1.12         25        640: 1\n",
      "                 Class     Images  Instances      Box(P          R      mAP50  m"
     ]
    },
    {
     "name": "stdout",
     "output_type": "stream",
     "text": [
      "                   all        255       2036      0.886      0.886       0.94      0.651\n"
     ]
    },
    {
     "name": "stderr",
     "output_type": "stream",
     "text": [
      "\n"
     ]
    },
    {
     "name": "stdout",
     "output_type": "stream",
     "text": [
      "\n",
      "      Epoch    GPU_mem   box_loss   cls_loss   dfl_loss  Instances       Size\n"
     ]
    },
    {
     "name": "stderr",
     "output_type": "stream",
     "text": [
      "     50/100      6.73G     0.8096     0.4079      1.128         26        640: 1\n",
      "                 Class     Images  Instances      Box(P          R      mAP50  m"
     ]
    },
    {
     "name": "stdout",
     "output_type": "stream",
     "text": [
      "                   all        255       2036      0.911       0.87      0.939      0.647\n"
     ]
    },
    {
     "name": "stderr",
     "output_type": "stream",
     "text": [
      "\n"
     ]
    },
    {
     "name": "stdout",
     "output_type": "stream",
     "text": [
      "\n",
      "      Epoch    GPU_mem   box_loss   cls_loss   dfl_loss  Instances       Size\n"
     ]
    },
    {
     "name": "stderr",
     "output_type": "stream",
     "text": [
      "     51/100      6.75G     0.8091       0.41      1.124         49        640: 1\n",
      "                 Class     Images  Instances      Box(P          R      mAP50  m"
     ]
    },
    {
     "name": "stdout",
     "output_type": "stream",
     "text": [
      "                   all        255       2036      0.891      0.881       0.94      0.648\n"
     ]
    },
    {
     "name": "stderr",
     "output_type": "stream",
     "text": [
      "\n"
     ]
    },
    {
     "name": "stdout",
     "output_type": "stream",
     "text": [
      "\n",
      "      Epoch    GPU_mem   box_loss   cls_loss   dfl_loss  Instances       Size\n"
     ]
    },
    {
     "name": "stderr",
     "output_type": "stream",
     "text": [
      "     52/100      6.72G     0.7917     0.3904      1.116         48        640: 1\n",
      "                 Class     Images  Instances      Box(P          R      mAP50  m"
     ]
    },
    {
     "name": "stdout",
     "output_type": "stream",
     "text": [
      "                   all        255       2036      0.901      0.867       0.93      0.643\n"
     ]
    },
    {
     "name": "stderr",
     "output_type": "stream",
     "text": [
      "\n"
     ]
    },
    {
     "name": "stdout",
     "output_type": "stream",
     "text": [
      "\n",
      "      Epoch    GPU_mem   box_loss   cls_loss   dfl_loss  Instances       Size\n"
     ]
    },
    {
     "name": "stderr",
     "output_type": "stream",
     "text": [
      "     53/100      6.72G     0.7867     0.3912      1.106         30        640: 1\n",
      "                 Class     Images  Instances      Box(P          R      mAP50  m"
     ]
    },
    {
     "name": "stdout",
     "output_type": "stream",
     "text": [
      "                   all        255       2036      0.908      0.865      0.941      0.653\n"
     ]
    },
    {
     "name": "stderr",
     "output_type": "stream",
     "text": [
      "\n"
     ]
    },
    {
     "name": "stdout",
     "output_type": "stream",
     "text": [
      "\n",
      "      Epoch    GPU_mem   box_loss   cls_loss   dfl_loss  Instances       Size\n"
     ]
    },
    {
     "name": "stderr",
     "output_type": "stream",
     "text": [
      "     54/100      6.72G     0.7854     0.3946      1.107         35        640: 1\n",
      "                 Class     Images  Instances      Box(P          R      mAP50  m"
     ]
    },
    {
     "name": "stdout",
     "output_type": "stream",
     "text": [
      "                   all        255       2036      0.895       0.87      0.939      0.649\n"
     ]
    },
    {
     "name": "stderr",
     "output_type": "stream",
     "text": [
      "\n"
     ]
    },
    {
     "name": "stdout",
     "output_type": "stream",
     "text": [
      "\n",
      "      Epoch    GPU_mem   box_loss   cls_loss   dfl_loss  Instances       Size\n"
     ]
    },
    {
     "name": "stderr",
     "output_type": "stream",
     "text": [
      "     55/100      6.72G     0.8006     0.3964      1.114         41        640: 1\n",
      "                 Class     Images  Instances      Box(P          R      mAP50  m"
     ]
    },
    {
     "name": "stdout",
     "output_type": "stream",
     "text": [
      "                   all        255       2036      0.914      0.856      0.936      0.646\n"
     ]
    },
    {
     "name": "stderr",
     "output_type": "stream",
     "text": [
      "\n"
     ]
    },
    {
     "name": "stdout",
     "output_type": "stream",
     "text": [
      "\n",
      "      Epoch    GPU_mem   box_loss   cls_loss   dfl_loss  Instances       Size\n"
     ]
    },
    {
     "name": "stderr",
     "output_type": "stream",
     "text": [
      "     56/100      6.73G     0.7896     0.3896      1.117         38        640: 1\n",
      "                 Class     Images  Instances      Box(P          R      mAP50  m"
     ]
    },
    {
     "name": "stdout",
     "output_type": "stream",
     "text": [
      "                   all        255       2036      0.911      0.854       0.93      0.641\n"
     ]
    },
    {
     "name": "stderr",
     "output_type": "stream",
     "text": [
      "\n"
     ]
    },
    {
     "name": "stdout",
     "output_type": "stream",
     "text": [
      "\n",
      "      Epoch    GPU_mem   box_loss   cls_loss   dfl_loss  Instances       Size\n"
     ]
    },
    {
     "name": "stderr",
     "output_type": "stream",
     "text": [
      "     57/100      6.72G     0.7728     0.3833      1.105         38        640: 1\n",
      "                 Class     Images  Instances      Box(P          R      mAP50  m"
     ]
    },
    {
     "name": "stdout",
     "output_type": "stream",
     "text": [
      "                   all        255       2036      0.915      0.859      0.934      0.643\n"
     ]
    },
    {
     "name": "stderr",
     "output_type": "stream",
     "text": [
      "\n"
     ]
    },
    {
     "name": "stdout",
     "output_type": "stream",
     "text": [
      "\n",
      "      Epoch    GPU_mem   box_loss   cls_loss   dfl_loss  Instances       Size\n"
     ]
    },
    {
     "name": "stderr",
     "output_type": "stream",
     "text": [
      "     58/100      6.72G      0.771     0.3836      1.101         55        640: 1\n",
      "                 Class     Images  Instances      Box(P          R      mAP50  m"
     ]
    },
    {
     "name": "stdout",
     "output_type": "stream",
     "text": [
      "                   all        255       2036       0.94      0.823      0.925      0.638\n"
     ]
    },
    {
     "name": "stderr",
     "output_type": "stream",
     "text": [
      "\n"
     ]
    },
    {
     "name": "stdout",
     "output_type": "stream",
     "text": [
      "\n",
      "      Epoch    GPU_mem   box_loss   cls_loss   dfl_loss  Instances       Size\n"
     ]
    },
    {
     "name": "stderr",
     "output_type": "stream",
     "text": [
      "     59/100      6.73G     0.7566       0.38      1.095         44        640: 1\n",
      "                 Class     Images  Instances      Box(P          R      mAP50  m"
     ]
    },
    {
     "name": "stdout",
     "output_type": "stream",
     "text": [
      "                   all        255       2036      0.901      0.868      0.924      0.633\n"
     ]
    },
    {
     "name": "stderr",
     "output_type": "stream",
     "text": [
      "\n"
     ]
    },
    {
     "name": "stdout",
     "output_type": "stream",
     "text": [
      "\n",
      "      Epoch    GPU_mem   box_loss   cls_loss   dfl_loss  Instances       Size\n"
     ]
    },
    {
     "name": "stderr",
     "output_type": "stream",
     "text": [
      "     60/100      6.72G     0.7743     0.3868      1.103         19        640: 1\n",
      "                 Class     Images  Instances      Box(P          R      mAP50  m"
     ]
    },
    {
     "name": "stdout",
     "output_type": "stream",
     "text": [
      "                   all        255       2036      0.886      0.879      0.934      0.642\n"
     ]
    },
    {
     "name": "stderr",
     "output_type": "stream",
     "text": [
      "\n"
     ]
    },
    {
     "name": "stdout",
     "output_type": "stream",
     "text": [
      "\n",
      "      Epoch    GPU_mem   box_loss   cls_loss   dfl_loss  Instances       Size\n"
     ]
    },
    {
     "name": "stderr",
     "output_type": "stream",
     "text": [
      "     61/100      6.72G     0.7686     0.3823      1.095         45        640: 1\n",
      "                 Class     Images  Instances      Box(P          R      mAP50  m"
     ]
    },
    {
     "name": "stdout",
     "output_type": "stream",
     "text": [
      "                   all        255       2036      0.902      0.872       0.93      0.644\n"
     ]
    },
    {
     "name": "stderr",
     "output_type": "stream",
     "text": [
      "\n"
     ]
    },
    {
     "name": "stdout",
     "output_type": "stream",
     "text": [
      "\n",
      "      Epoch    GPU_mem   box_loss   cls_loss   dfl_loss  Instances       Size\n"
     ]
    },
    {
     "name": "stderr",
     "output_type": "stream",
     "text": [
      "     62/100      6.72G     0.7564     0.3774      1.102         33        640: 1\n",
      "                 Class     Images  Instances      Box(P          R      mAP50  m"
     ]
    },
    {
     "name": "stdout",
     "output_type": "stream",
     "text": [
      "                   all        255       2036      0.898      0.868      0.922      0.635\n"
     ]
    },
    {
     "name": "stderr",
     "output_type": "stream",
     "text": [
      "\n"
     ]
    },
    {
     "name": "stdout",
     "output_type": "stream",
     "text": [
      "\n",
      "      Epoch    GPU_mem   box_loss   cls_loss   dfl_loss  Instances       Size\n"
     ]
    },
    {
     "name": "stderr",
     "output_type": "stream",
     "text": [
      "     63/100      6.73G     0.7493     0.3744      1.089         32        640: 1\n",
      "                 Class     Images  Instances      Box(P          R      mAP50  m"
     ]
    },
    {
     "name": "stdout",
     "output_type": "stream",
     "text": [
      "                   all        255       2036      0.898      0.881      0.934      0.652\n"
     ]
    },
    {
     "name": "stderr",
     "output_type": "stream",
     "text": [
      "\n"
     ]
    },
    {
     "name": "stdout",
     "output_type": "stream",
     "text": [
      "\n",
      "      Epoch    GPU_mem   box_loss   cls_loss   dfl_loss  Instances       Size\n"
     ]
    },
    {
     "name": "stderr",
     "output_type": "stream",
     "text": [
      "     64/100      6.73G     0.7548     0.3783      1.095         25        640: 1\n",
      "                 Class     Images  Instances      Box(P          R      mAP50  m"
     ]
    },
    {
     "name": "stdout",
     "output_type": "stream",
     "text": [
      "                   all        255       2036      0.901       0.87       0.93      0.643\n"
     ]
    },
    {
     "name": "stderr",
     "output_type": "stream",
     "text": [
      "\n"
     ]
    },
    {
     "name": "stdout",
     "output_type": "stream",
     "text": [
      "\n",
      "      Epoch    GPU_mem   box_loss   cls_loss   dfl_loss  Instances       Size\n"
     ]
    },
    {
     "name": "stderr",
     "output_type": "stream",
     "text": [
      "     65/100      6.73G     0.7495     0.3736      1.091         55        640: 1\n",
      "                 Class     Images  Instances      Box(P          R      mAP50  m"
     ]
    },
    {
     "name": "stdout",
     "output_type": "stream",
     "text": [
      "                   all        255       2036       0.88      0.874      0.934      0.648\n"
     ]
    },
    {
     "name": "stderr",
     "output_type": "stream",
     "text": [
      "\n"
     ]
    },
    {
     "name": "stdout",
     "output_type": "stream",
     "text": [
      "\n",
      "      Epoch    GPU_mem   box_loss   cls_loss   dfl_loss  Instances       Size\n"
     ]
    },
    {
     "name": "stderr",
     "output_type": "stream",
     "text": [
      "     66/100      6.75G     0.7423     0.3646      1.087         29        640: 1\n",
      "                 Class     Images  Instances      Box(P          R      mAP50  m"
     ]
    },
    {
     "name": "stdout",
     "output_type": "stream",
     "text": [
      "                   all        255       2036      0.918      0.841      0.929      0.651\n"
     ]
    },
    {
     "name": "stderr",
     "output_type": "stream",
     "text": [
      "\n"
     ]
    },
    {
     "name": "stdout",
     "output_type": "stream",
     "text": [
      "\n",
      "      Epoch    GPU_mem   box_loss   cls_loss   dfl_loss  Instances       Size\n"
     ]
    },
    {
     "name": "stderr",
     "output_type": "stream",
     "text": [
      "     67/100      6.73G     0.7469     0.3703      1.083         31        640: 1\n",
      "                 Class     Images  Instances      Box(P          R      mAP50  m"
     ]
    },
    {
     "name": "stdout",
     "output_type": "stream",
     "text": [
      "                   all        255       2036      0.903      0.856      0.933      0.646\n"
     ]
    },
    {
     "name": "stderr",
     "output_type": "stream",
     "text": [
      "\n"
     ]
    },
    {
     "name": "stdout",
     "output_type": "stream",
     "text": [
      "\n",
      "      Epoch    GPU_mem   box_loss   cls_loss   dfl_loss  Instances       Size\n"
     ]
    },
    {
     "name": "stderr",
     "output_type": "stream",
     "text": [
      "     68/100      6.75G     0.7255     0.3635      1.075         61        640: 1\n",
      "                 Class     Images  Instances      Box(P          R      mAP50  m"
     ]
    },
    {
     "name": "stdout",
     "output_type": "stream",
     "text": [
      "                   all        255       2036      0.901      0.848       0.92      0.642\n"
     ]
    },
    {
     "name": "stderr",
     "output_type": "stream",
     "text": [
      "\n"
     ]
    },
    {
     "name": "stdout",
     "output_type": "stream",
     "text": [
      "\n",
      "      Epoch    GPU_mem   box_loss   cls_loss   dfl_loss  Instances       Size\n"
     ]
    },
    {
     "name": "stderr",
     "output_type": "stream",
     "text": [
      "     69/100      6.73G     0.7318     0.3679      1.085         36        640: 1\n",
      "                 Class     Images  Instances      Box(P          R      mAP50  m"
     ]
    },
    {
     "name": "stdout",
     "output_type": "stream",
     "text": [
      "                   all        255       2036      0.889      0.882      0.933      0.646\n"
     ]
    },
    {
     "name": "stderr",
     "output_type": "stream",
     "text": [
      "\n"
     ]
    },
    {
     "name": "stdout",
     "output_type": "stream",
     "text": [
      "\n",
      "      Epoch    GPU_mem   box_loss   cls_loss   dfl_loss  Instances       Size\n"
     ]
    },
    {
     "name": "stderr",
     "output_type": "stream",
     "text": [
      "     70/100      6.75G     0.7318     0.3647      1.077         20        640: 1\n",
      "                 Class     Images  Instances      Box(P          R      mAP50  m"
     ]
    },
    {
     "name": "stdout",
     "output_type": "stream",
     "text": [
      "                   all        255       2036      0.891      0.874      0.932      0.644\n"
     ]
    },
    {
     "name": "stderr",
     "output_type": "stream",
     "text": [
      "\n"
     ]
    },
    {
     "name": "stdout",
     "output_type": "stream",
     "text": [
      "\n",
      "      Epoch    GPU_mem   box_loss   cls_loss   dfl_loss  Instances       Size\n"
     ]
    },
    {
     "name": "stderr",
     "output_type": "stream",
     "text": [
      "     71/100      6.77G     0.7303     0.3621      1.088         28        640: 1\n",
      "                 Class     Images  Instances      Box(P          R      mAP50  m"
     ]
    },
    {
     "name": "stdout",
     "output_type": "stream",
     "text": [
      "                   all        255       2036       0.91      0.862      0.928      0.636\n"
     ]
    },
    {
     "name": "stderr",
     "output_type": "stream",
     "text": [
      "\n"
     ]
    },
    {
     "name": "stdout",
     "output_type": "stream",
     "text": [
      "\n",
      "      Epoch    GPU_mem   box_loss   cls_loss   dfl_loss  Instances       Size\n"
     ]
    },
    {
     "name": "stderr",
     "output_type": "stream",
     "text": [
      "     72/100      6.72G     0.7185     0.3576      1.071         17        640: 1\n",
      "                 Class     Images  Instances      Box(P          R      mAP50  m"
     ]
    },
    {
     "name": "stdout",
     "output_type": "stream",
     "text": [
      "                   all        255       2036      0.903      0.868      0.932      0.643\n"
     ]
    },
    {
     "name": "stderr",
     "output_type": "stream",
     "text": [
      "\n"
     ]
    },
    {
     "name": "stdout",
     "output_type": "stream",
     "text": [
      "\n",
      "      Epoch    GPU_mem   box_loss   cls_loss   dfl_loss  Instances       Size\n"
     ]
    },
    {
     "name": "stderr",
     "output_type": "stream",
     "text": [
      "     73/100      6.72G     0.7132     0.3577      1.071         38        640: 1\n",
      "                 Class     Images  Instances      Box(P          R      mAP50  m"
     ]
    },
    {
     "name": "stdout",
     "output_type": "stream",
     "text": [
      "                   all        255       2036      0.912      0.859      0.927      0.633\n"
     ]
    },
    {
     "name": "stderr",
     "output_type": "stream",
     "text": [
      "\n"
     ]
    },
    {
     "name": "stdout",
     "output_type": "stream",
     "text": [
      "\n",
      "      Epoch    GPU_mem   box_loss   cls_loss   dfl_loss  Instances       Size\n"
     ]
    },
    {
     "name": "stderr",
     "output_type": "stream",
     "text": [
      "     74/100      6.75G     0.7199     0.3542      1.073         50        640: 1\n",
      "                 Class     Images  Instances      Box(P          R      mAP50  m"
     ]
    },
    {
     "name": "stdout",
     "output_type": "stream",
     "text": [
      "                   all        255       2036      0.922      0.845      0.923      0.633\n"
     ]
    },
    {
     "name": "stderr",
     "output_type": "stream",
     "text": [
      "\n"
     ]
    },
    {
     "name": "stdout",
     "output_type": "stream",
     "text": [
      "\n",
      "      Epoch    GPU_mem   box_loss   cls_loss   dfl_loss  Instances       Size\n"
     ]
    },
    {
     "name": "stderr",
     "output_type": "stream",
     "text": [
      "     75/100      6.72G     0.7064      0.351      1.063         36        640: 1\n",
      "                 Class     Images  Instances      Box(P          R      mAP50  m"
     ]
    },
    {
     "name": "stdout",
     "output_type": "stream",
     "text": [
      "                   all        255       2036      0.917      0.858       0.93      0.642\n"
     ]
    },
    {
     "name": "stderr",
     "output_type": "stream",
     "text": [
      "\n"
     ]
    },
    {
     "name": "stdout",
     "output_type": "stream",
     "text": [
      "\n",
      "      Epoch    GPU_mem   box_loss   cls_loss   dfl_loss  Instances       Size\n"
     ]
    },
    {
     "name": "stderr",
     "output_type": "stream",
     "text": [
      "     76/100      6.73G     0.7118     0.3545      1.066         33        640: 1\n",
      "                 Class     Images  Instances      Box(P          R      mAP50  m"
     ]
    },
    {
     "name": "stdout",
     "output_type": "stream",
     "text": [
      "                   all        255       2036      0.906      0.865      0.928      0.644\n"
     ]
    },
    {
     "name": "stderr",
     "output_type": "stream",
     "text": [
      "\n"
     ]
    },
    {
     "name": "stdout",
     "output_type": "stream",
     "text": [
      "\n",
      "      Epoch    GPU_mem   box_loss   cls_loss   dfl_loss  Instances       Size\n"
     ]
    },
    {
     "name": "stderr",
     "output_type": "stream",
     "text": [
      "     77/100      6.76G     0.7044     0.3518      1.067         51        640: 1\n",
      "                 Class     Images  Instances      Box(P          R      mAP50  m"
     ]
    },
    {
     "name": "stdout",
     "output_type": "stream",
     "text": [
      "                   all        255       2036      0.914      0.861      0.925      0.628\n"
     ]
    },
    {
     "name": "stderr",
     "output_type": "stream",
     "text": [
      "\n"
     ]
    },
    {
     "name": "stdout",
     "output_type": "stream",
     "text": [
      "\n",
      "      Epoch    GPU_mem   box_loss   cls_loss   dfl_loss  Instances       Size\n"
     ]
    },
    {
     "name": "stderr",
     "output_type": "stream",
     "text": [
      "     78/100      6.73G     0.7058     0.3527      1.067         30        640: 1\n",
      "                 Class     Images  Instances      Box(P          R      mAP50  m"
     ]
    },
    {
     "name": "stdout",
     "output_type": "stream",
     "text": [
      "                   all        255       2036      0.904      0.863       0.92      0.632\n"
     ]
    },
    {
     "name": "stderr",
     "output_type": "stream",
     "text": [
      "\n"
     ]
    },
    {
     "name": "stdout",
     "output_type": "stream",
     "text": [
      "\n",
      "      Epoch    GPU_mem   box_loss   cls_loss   dfl_loss  Instances       Size\n"
     ]
    },
    {
     "name": "stderr",
     "output_type": "stream",
     "text": [
      "     79/100      6.72G     0.6951     0.3434      1.062         16        640: 1\n",
      "                 Class     Images  Instances      Box(P          R      mAP50  m"
     ]
    },
    {
     "name": "stdout",
     "output_type": "stream",
     "text": [
      "                   all        255       2036      0.898       0.86       0.92      0.634\n"
     ]
    },
    {
     "name": "stderr",
     "output_type": "stream",
     "text": [
      "\n"
     ]
    },
    {
     "name": "stdout",
     "output_type": "stream",
     "text": [
      "\n",
      "      Epoch    GPU_mem   box_loss   cls_loss   dfl_loss  Instances       Size\n"
     ]
    },
    {
     "name": "stderr",
     "output_type": "stream",
     "text": [
      "     80/100      6.75G     0.6915     0.3408      1.057         46        640: 1\n",
      "                 Class     Images  Instances      Box(P          R      mAP50  m"
     ]
    },
    {
     "name": "stdout",
     "output_type": "stream",
     "text": [
      "                   all        255       2036      0.916      0.846      0.918      0.628\n"
     ]
    },
    {
     "name": "stderr",
     "output_type": "stream",
     "text": [
      "\n"
     ]
    },
    {
     "name": "stdout",
     "output_type": "stream",
     "text": [
      "\n",
      "      Epoch    GPU_mem   box_loss   cls_loss   dfl_loss  Instances       Size\n"
     ]
    },
    {
     "name": "stderr",
     "output_type": "stream",
     "text": [
      "     81/100      6.72G     0.6854     0.3427      1.055         37        640: 1\n",
      "                 Class     Images  Instances      Box(P          R      mAP50  m"
     ]
    },
    {
     "name": "stdout",
     "output_type": "stream",
     "text": [
      "                   all        255       2036      0.918      0.845      0.916      0.629\n"
     ]
    },
    {
     "name": "stderr",
     "output_type": "stream",
     "text": [
      "\n"
     ]
    },
    {
     "name": "stdout",
     "output_type": "stream",
     "text": [
      "\n",
      "      Epoch    GPU_mem   box_loss   cls_loss   dfl_loss  Instances       Size\n"
     ]
    },
    {
     "name": "stderr",
     "output_type": "stream",
     "text": [
      "     82/100      6.73G     0.6934      0.345      1.052         38        640: 1\n",
      "                 Class     Images  Instances      Box(P          R      mAP50  m"
     ]
    },
    {
     "name": "stdout",
     "output_type": "stream",
     "text": [
      "                   all        255       2036      0.906      0.846       0.91      0.628\n"
     ]
    },
    {
     "name": "stderr",
     "output_type": "stream",
     "text": [
      "\n"
     ]
    },
    {
     "name": "stdout",
     "output_type": "stream",
     "text": [
      "\n",
      "      Epoch    GPU_mem   box_loss   cls_loss   dfl_loss  Instances       Size\n"
     ]
    },
    {
     "name": "stderr",
     "output_type": "stream",
     "text": [
      "     83/100      6.72G     0.6732     0.3362      1.056         29        640: 1\n",
      "                 Class     Images  Instances      Box(P          R      mAP50  m"
     ]
    },
    {
     "name": "stdout",
     "output_type": "stream",
     "text": [
      "                   all        255       2036       0.91      0.854      0.917      0.632\n"
     ]
    },
    {
     "name": "stderr",
     "output_type": "stream",
     "text": [
      "\n"
     ]
    },
    {
     "name": "stdout",
     "output_type": "stream",
     "text": [
      "\n",
      "      Epoch    GPU_mem   box_loss   cls_loss   dfl_loss  Instances       Size\n"
     ]
    },
    {
     "name": "stderr",
     "output_type": "stream",
     "text": [
      "     84/100      6.73G     0.6782     0.3368      1.043         26        640: 1\n",
      "                 Class     Images  Instances      Box(P          R      mAP50  m"
     ]
    },
    {
     "name": "stdout",
     "output_type": "stream",
     "text": [
      "                   all        255       2036      0.918      0.846      0.919      0.636\n"
     ]
    },
    {
     "name": "stderr",
     "output_type": "stream",
     "text": [
      "\n"
     ]
    },
    {
     "name": "stdout",
     "output_type": "stream",
     "text": [
      "\n",
      "      Epoch    GPU_mem   box_loss   cls_loss   dfl_loss  Instances       Size\n"
     ]
    },
    {
     "name": "stderr",
     "output_type": "stream",
     "text": [
      "     85/100      6.75G     0.6699     0.3371      1.041         34        640: 1\n",
      "                 Class     Images  Instances      Box(P          R      mAP50  m"
     ]
    },
    {
     "name": "stdout",
     "output_type": "stream",
     "text": [
      "                   all        255       2036      0.905      0.857      0.925      0.638\n"
     ]
    },
    {
     "name": "stderr",
     "output_type": "stream",
     "text": [
      "\n"
     ]
    },
    {
     "name": "stdout",
     "output_type": "stream",
     "text": [
      "\n",
      "      Epoch    GPU_mem   box_loss   cls_loss   dfl_loss  Instances       Size\n"
     ]
    },
    {
     "name": "stderr",
     "output_type": "stream",
     "text": [
      "     86/100      6.73G      0.682      0.339      1.052         39        640: 1\n",
      "                 Class     Images  Instances      Box(P          R      mAP50  m"
     ]
    },
    {
     "name": "stdout",
     "output_type": "stream",
     "text": [
      "                   all        255       2036      0.906      0.854       0.92      0.631\n"
     ]
    },
    {
     "name": "stderr",
     "output_type": "stream",
     "text": [
      "\n"
     ]
    },
    {
     "name": "stdout",
     "output_type": "stream",
     "text": [
      "\n",
      "      Epoch    GPU_mem   box_loss   cls_loss   dfl_loss  Instances       Size\n"
     ]
    },
    {
     "name": "stderr",
     "output_type": "stream",
     "text": [
      "     87/100      6.75G     0.6687     0.3308      1.044         38        640: 1\n",
      "                 Class     Images  Instances      Box(P          R      mAP50  m"
     ]
    },
    {
     "name": "stdout",
     "output_type": "stream",
     "text": [
      "                   all        255       2036      0.917      0.851      0.925      0.638\n"
     ]
    },
    {
     "name": "stderr",
     "output_type": "stream",
     "text": [
      "\n"
     ]
    },
    {
     "name": "stdout",
     "output_type": "stream",
     "text": [
      "\n",
      "      Epoch    GPU_mem   box_loss   cls_loss   dfl_loss  Instances       Size\n"
     ]
    },
    {
     "name": "stderr",
     "output_type": "stream",
     "text": [
      "     88/100      6.72G      0.667      0.331      1.045         20        640: 1\n",
      "                 Class     Images  Instances      Box(P          R      mAP50  m"
     ]
    },
    {
     "name": "stdout",
     "output_type": "stream",
     "text": [
      "                   all        255       2036      0.927      0.835       0.92      0.632\n"
     ]
    },
    {
     "name": "stderr",
     "output_type": "stream",
     "text": [
      "\n"
     ]
    },
    {
     "name": "stdout",
     "output_type": "stream",
     "text": [
      "\n",
      "      Epoch    GPU_mem   box_loss   cls_loss   dfl_loss  Instances       Size\n"
     ]
    },
    {
     "name": "stderr",
     "output_type": "stream",
     "text": [
      "     89/100      6.75G     0.6605      0.324      1.042         27        640: 1\n",
      "                 Class     Images  Instances      Box(P          R      mAP50  m"
     ]
    },
    {
     "name": "stdout",
     "output_type": "stream",
     "text": [
      "                   all        255       2036      0.913      0.846      0.916       0.63\n"
     ]
    },
    {
     "name": "stderr",
     "output_type": "stream",
     "text": [
      "\n"
     ]
    },
    {
     "name": "stdout",
     "output_type": "stream",
     "text": [
      "\n",
      "      Epoch    GPU_mem   box_loss   cls_loss   dfl_loss  Instances       Size\n"
     ]
    },
    {
     "name": "stderr",
     "output_type": "stream",
     "text": [
      "     90/100      6.73G     0.6604     0.3273      1.046         29        640: 1\n",
      "                 Class     Images  Instances      Box(P          R      mAP50  m"
     ]
    },
    {
     "name": "stdout",
     "output_type": "stream",
     "text": [
      "                   all        255       2036      0.908      0.857      0.919      0.635\n"
     ]
    },
    {
     "name": "stderr",
     "output_type": "stream",
     "text": [
      "\n"
     ]
    },
    {
     "name": "stdout",
     "output_type": "stream",
     "text": [
      "Closing dataloader mosaic\n",
      "\n",
      "      Epoch    GPU_mem   box_loss   cls_loss   dfl_loss  Instances       Size\n"
     ]
    },
    {
     "name": "stderr",
     "output_type": "stream",
     "text": [
      "     91/100      6.73G     0.6331     0.2853      1.048         15        640: 1\n",
      "                 Class     Images  Instances      Box(P          R      mAP50  m"
     ]
    },
    {
     "name": "stdout",
     "output_type": "stream",
     "text": [
      "                   all        255       2036      0.908      0.852      0.922      0.642\n"
     ]
    },
    {
     "name": "stderr",
     "output_type": "stream",
     "text": [
      "\n"
     ]
    },
    {
     "name": "stdout",
     "output_type": "stream",
     "text": [
      "\n",
      "      Epoch    GPU_mem   box_loss   cls_loss   dfl_loss  Instances       Size\n"
     ]
    },
    {
     "name": "stderr",
     "output_type": "stream",
     "text": [
      "     92/100      6.72G     0.6113     0.2741       1.03         15        640: 1\n",
      "                 Class     Images  Instances      Box(P          R      mAP50  m"
     ]
    },
    {
     "name": "stdout",
     "output_type": "stream",
     "text": [
      "                   all        255       2036      0.897      0.858      0.922      0.649\n"
     ]
    },
    {
     "name": "stderr",
     "output_type": "stream",
     "text": [
      "\n"
     ]
    },
    {
     "name": "stdout",
     "output_type": "stream",
     "text": [
      "\n",
      "      Epoch    GPU_mem   box_loss   cls_loss   dfl_loss  Instances       Size\n"
     ]
    },
    {
     "name": "stderr",
     "output_type": "stream",
     "text": [
      "     93/100      6.72G     0.6066      0.277      1.038         16        640: 1\n",
      "                 Class     Images  Instances      Box(P          R      mAP50  m"
     ]
    },
    {
     "name": "stdout",
     "output_type": "stream",
     "text": [
      "                   all        255       2036       0.92      0.846      0.929       0.65\n"
     ]
    },
    {
     "name": "stderr",
     "output_type": "stream",
     "text": [
      "\n"
     ]
    },
    {
     "name": "stdout",
     "output_type": "stream",
     "text": [
      "\n",
      "      Epoch    GPU_mem   box_loss   cls_loss   dfl_loss  Instances       Size\n"
     ]
    },
    {
     "name": "stderr",
     "output_type": "stream",
     "text": [
      "     94/100      6.72G     0.6038      0.273      1.036         21        640: 1\n",
      "                 Class     Images  Instances      Box(P          R      mAP50  m"
     ]
    },
    {
     "name": "stdout",
     "output_type": "stream",
     "text": [
      "                   all        255       2036      0.913      0.847      0.921      0.647\n"
     ]
    },
    {
     "name": "stderr",
     "output_type": "stream",
     "text": [
      "\n"
     ]
    },
    {
     "name": "stdout",
     "output_type": "stream",
     "text": [
      "\n",
      "      Epoch    GPU_mem   box_loss   cls_loss   dfl_loss  Instances       Size\n"
     ]
    },
    {
     "name": "stderr",
     "output_type": "stream",
     "text": [
      "     95/100      6.73G     0.5947      0.271      1.022         14        640: 1\n",
      "                 Class     Images  Instances      Box(P          R      mAP50  m"
     ]
    },
    {
     "name": "stdout",
     "output_type": "stream",
     "text": [
      "                   all        255       2036      0.905      0.852      0.925      0.649\n"
     ]
    },
    {
     "name": "stderr",
     "output_type": "stream",
     "text": [
      "\n"
     ]
    },
    {
     "name": "stdout",
     "output_type": "stream",
     "text": [
      "\n",
      "      Epoch    GPU_mem   box_loss   cls_loss   dfl_loss  Instances       Size\n"
     ]
    },
    {
     "name": "stderr",
     "output_type": "stream",
     "text": [
      "     96/100      6.71G     0.5931     0.2708      1.032         18        640: 1\n",
      "                 Class     Images  Instances      Box(P          R      mAP50  m"
     ]
    },
    {
     "name": "stdout",
     "output_type": "stream",
     "text": [
      "                   all        255       2036      0.911      0.853      0.926      0.649\n"
     ]
    },
    {
     "name": "stderr",
     "output_type": "stream",
     "text": [
      "\n"
     ]
    },
    {
     "name": "stdout",
     "output_type": "stream",
     "text": [
      "\n",
      "      Epoch    GPU_mem   box_loss   cls_loss   dfl_loss  Instances       Size\n"
     ]
    },
    {
     "name": "stderr",
     "output_type": "stream",
     "text": [
      "     97/100      6.72G     0.5929     0.2683      1.026         40        640: 1\n",
      "                 Class     Images  Instances      Box(P          R      mAP50  m"
     ]
    },
    {
     "name": "stdout",
     "output_type": "stream",
     "text": [
      "                   all        255       2036      0.906      0.863      0.925      0.651\n"
     ]
    },
    {
     "name": "stderr",
     "output_type": "stream",
     "text": [
      "\n"
     ]
    },
    {
     "name": "stdout",
     "output_type": "stream",
     "text": [
      "\n",
      "      Epoch    GPU_mem   box_loss   cls_loss   dfl_loss  Instances       Size\n"
     ]
    },
    {
     "name": "stderr",
     "output_type": "stream",
     "text": [
      "     98/100      6.72G     0.5886     0.2674      1.027         13        640: 1\n",
      "                 Class     Images  Instances      Box(P          R      mAP50  m"
     ]
    },
    {
     "name": "stdout",
     "output_type": "stream",
     "text": [
      "                   all        255       2036       0.91      0.859      0.929      0.658\n"
     ]
    },
    {
     "name": "stderr",
     "output_type": "stream",
     "text": [
      "\n"
     ]
    },
    {
     "name": "stdout",
     "output_type": "stream",
     "text": [
      "\n",
      "      Epoch    GPU_mem   box_loss   cls_loss   dfl_loss  Instances       Size\n"
     ]
    },
    {
     "name": "stderr",
     "output_type": "stream",
     "text": [
      "     99/100      6.74G     0.5788     0.2611      1.013         21        640: 1\n",
      "                 Class     Images  Instances      Box(P          R      mAP50  m"
     ]
    },
    {
     "name": "stdout",
     "output_type": "stream",
     "text": [
      "                   all        255       2036      0.914      0.856      0.931      0.661\n"
     ]
    },
    {
     "name": "stderr",
     "output_type": "stream",
     "text": [
      "\n"
     ]
    },
    {
     "name": "stdout",
     "output_type": "stream",
     "text": [
      "\n",
      "      Epoch    GPU_mem   box_loss   cls_loss   dfl_loss  Instances       Size\n"
     ]
    },
    {
     "name": "stderr",
     "output_type": "stream",
     "text": [
      "    100/100      6.72G     0.5795     0.2635       1.01         17        640: 1\n",
      "                 Class     Images  Instances      Box(P          R      mAP50  m"
     ]
    },
    {
     "name": "stdout",
     "output_type": "stream",
     "text": [
      "                   all        255       2036      0.909      0.858      0.928      0.657\n"
     ]
    },
    {
     "name": "stderr",
     "output_type": "stream",
     "text": [
      "\n"
     ]
    },
    {
     "name": "stdout",
     "output_type": "stream",
     "text": [
      "\n",
      "100 epochs completed in 2.097 hours.\n",
      "Optimizer stripped from /media/mzc/e4fcae9b-7400-4641-a800-034f249f8d14/mzc/yolo11/YOLO11nTraining/YOLO11L/YOLO11L_Training/weights/last.pt, 51.2MB\n",
      "Optimizer stripped from /media/mzc/e4fcae9b-7400-4641-a800-034f249f8d14/mzc/yolo11/YOLO11nTraining/YOLO11L/YOLO11L_Training/weights/best.pt, 51.2MB\n",
      "\n",
      "Validating /media/mzc/e4fcae9b-7400-4641-a800-034f249f8d14/mzc/yolo11/YOLO11nTraining/YOLO11L/YOLO11L_Training/weights/best.pt...\n",
      "Ultralytics 8.3.0 🚀 Python-3.11.7 torch-2.4.1+cu121 CUDA:0 (NVIDIA TITAN Xp COLLECTORS EDITION, 12189MiB)\n",
      "YOLO11l summary (fused): 464 layers, 25,280,083 parameters, 0 gradients, 86.6 GFLOPs\n"
     ]
    },
    {
     "name": "stderr",
     "output_type": "stream",
     "text": [
      "                 Class     Images  Instances      Box(P          R      mAP50  m\n"
     ]
    },
    {
     "name": "stdout",
     "output_type": "stream",
     "text": [
      "                   all        255       2036      0.901      0.889      0.951      0.663\n",
      "Speed: 0.2ms preprocess, 19.0ms inference, 0.0ms loss, 0.6ms postprocess per image\n",
      "Results saved to \u001b[1m/media/mzc/e4fcae9b-7400-4641-a800-034f249f8d14/mzc/yolo11/YOLO11nTraining/YOLO11L/YOLO11L_Training\u001b[0m\n"
     ]
    }
   ],
   "source": [
    "# Start training the model\n",
    "results = model.train(\n",
    "    data=data_path,\n",
    "    epochs=100,\n",
    "    imgsz=640,\n",
    "    batch=8,\n",
    "    save=True,\n",
    "    save_period=10,  # Save model weights every 10 epochs\n",
    "    project=save_dir,\n",
    "    name=\"YOLO11L_Training\"\n",
    ")\n"
   ]
  },
  {
   "cell_type": "code",
   "execution_count": 16,
   "id": "68401e8e-7eaa-4772-849a-c28c079ad7d7",
   "metadata": {},
   "outputs": [],
   "source": [
    "from ultralytics import YOLO\n",
    "import os\n",
    "import time\n",
    "import cv2\n",
    "import matplotlib.pyplot as plt\n",
    "from IPython.display import Image\n"
   ]
  },
  {
   "cell_type": "code",
   "execution_count": 17,
   "id": "b92b29d9-2075-40d3-a33b-c112ebd67a3e",
   "metadata": {},
   "outputs": [],
   "source": [
    "# Path to the Nikon dataset YAML file\n",
    "data_path = '/media/mzc/e4fcae9b-7400-4641-a800-034f249f8d14/mzc/yolo11/NikonValidation/data.yaml'\n",
    "\n",
    "# Path to the trained YOLO11n model\n",
    "model_path = '/media/mzc/e4fcae9b-7400-4641-a800-034f249f8d14/mzc/yolo11/YOLO11AllTraining/YOLO11n_Training/weights/last.pt'\n",
    "\n",
    "# Directory to save YOLO11n predictions on Nikon images\n",
    "output_dir = '/media/mzc/e4fcae9b-7400-4641-a800-034f249f8d14/mzc/yolo11/YOLO11AllTraining/YOLO11n_Training/NikonPredictions'\n",
    "\n",
    "# Create the output directory if it doesn't exist\n",
    "os.makedirs(output_dir, exist_ok=True)\n"
   ]
  },
  {
   "cell_type": "code",
   "execution_count": 18,
   "id": "be7af8a5-e02a-452a-81b2-3c0be4e7723a",
   "metadata": {},
   "outputs": [],
   "source": [
    "# Load the YOLO11n model\n",
    "model = YOLO(model_path)\n"
   ]
  },
  {
   "cell_type": "code",
   "execution_count": 19,
   "id": "550ca32f-3399-4960-af66-9b9cccc37bdf",
   "metadata": {},
   "outputs": [
    {
     "name": "stdout",
     "output_type": "stream",
     "text": [
      "Ultralytics 8.3.0 🚀 Python-3.11.7 torch-2.4.1+cu121 CUDA:0 (NVIDIA TITAN Xp COLLECTORS EDITION, 12189MiB)\n",
      "YOLO11n summary (fused): 238 layers, 2,582,347 parameters, 0 gradients, 6.3 GFLOPs\n"
     ]
    },
    {
     "name": "stderr",
     "output_type": "stream",
     "text": [
      "\u001b[34m\u001b[1mval: \u001b[0mScanning /media/mzc/e4fcae9b-7400-4641-a800-034f249f8d14/mzc/yolo11/NikonVa\u001b[0m"
     ]
    },
    {
     "name": "stdout",
     "output_type": "stream",
     "text": [
      "\u001b[34m\u001b[1mval: \u001b[0mNew cache created: /media/mzc/e4fcae9b-7400-4641-a800-034f249f8d14/mzc/yolo11/NikonValidation/valid/labels.cache\n"
     ]
    },
    {
     "name": "stderr",
     "output_type": "stream",
     "text": [
      "\n",
      "                 Class     Images  Instances      Box(P          R      mAP50  m\n"
     ]
    },
    {
     "name": "stdout",
     "output_type": "stream",
     "text": [
      "                   all         43        134      0.841      0.761      0.862      0.502\n",
      "Speed: 0.2ms preprocess, 7.1ms inference, 0.0ms loss, 39.1ms postprocess per image\n",
      "Results saved to \u001b[1mruns/detect/val\u001b[0m\n",
      "Validation Metrics:\n",
      "Precision: 0.8618\n",
      "Recall: 0.5018\n",
      "mAP@0.5: 0.8618\n",
      "mAP@0.5:0.95: 0.5018\n",
      "Preprocess Time: 0.2191 ms/image\n",
      "Inference Time: 7.1087 ms/image\n",
      "Post-process Time: 39.0864 ms/image\n"
     ]
    }
   ],
   "source": [
    "# Run validation on the Nikon dataset\n",
    "metrics = model.val(data=data_path)\n",
    "\n",
    "# Print detailed metrics (including preprocessing, inference, post-processing times)\n",
    "print(\"Validation Metrics:\")\n",
    "print(f\"Precision: {metrics.box.map50:.4f}\")\n",
    "print(f\"Recall: {metrics.box.map:.4f}\")\n",
    "print(f\"mAP@0.5: {metrics.box.map50:.4f}\")\n",
    "print(f\"mAP@0.5:0.95: {metrics.box.map:.4f}\")\n",
    "print(f\"Preprocess Time: {metrics.speed['preprocess']:.4f} ms/image\")\n",
    "print(f\"Inference Time: {metrics.speed['inference']:.4f} ms/image\")\n",
    "print(f\"Post-process Time: {metrics.speed['postprocess']:.4f} ms/image\")\n"
   ]
  },
  {
   "cell_type": "code",
   "execution_count": 22,
   "id": "9103327a-06e1-44f4-be04-e4e3cd7782e6",
   "metadata": {},
   "outputs": [
    {
     "name": "stdout",
     "output_type": "stream",
     "text": [
      "\n",
      "image 1/1 /media/mzc/e4fcae9b-7400-4641-a800-034f249f8d14/mzc/yolo11/NikonValidation/valid/images/_DSC0034_JPG.rf.5a58b769346d9dc07b1d99eacce7d425.jpg: 640x640 2 0s, 8.7ms\n",
      "Speed: 2.7ms preprocess, 8.7ms inference, 1.2ms postprocess per image at shape (1, 3, 640, 640)\n",
      "Predicted image saved: /media/mzc/e4fcae9b-7400-4641-a800-034f249f8d14/mzc/yolo11/YOLO11AllTraining/YOLO11n_Training/NikonPredictions/predicted__DSC0034_JPG.rf.5a58b769346d9dc07b1d99eacce7d425.jpg\n",
      "\n",
      "image 1/1 /media/mzc/e4fcae9b-7400-4641-a800-034f249f8d14/mzc/yolo11/NikonValidation/valid/images/_DSC0020_JPG.rf.bac765b683591552946418fa8869e1a1.jpg: 640x640 1 0, 7.3ms\n",
      "Speed: 2.4ms preprocess, 7.3ms inference, 2.4ms postprocess per image at shape (1, 3, 640, 640)\n",
      "Predicted image saved: /media/mzc/e4fcae9b-7400-4641-a800-034f249f8d14/mzc/yolo11/YOLO11AllTraining/YOLO11n_Training/NikonPredictions/predicted__DSC0020_JPG.rf.bac765b683591552946418fa8869e1a1.jpg\n",
      "\n",
      "image 1/1 /media/mzc/e4fcae9b-7400-4641-a800-034f249f8d14/mzc/yolo11/NikonValidation/valid/images/_DSC0015_JPG.rf.02ac8329c2ca8146112f7d0735321346.jpg: 640x640 2 0s, 7.0ms\n",
      "Speed: 1.9ms preprocess, 7.0ms inference, 1.2ms postprocess per image at shape (1, 3, 640, 640)\n",
      "Predicted image saved: /media/mzc/e4fcae9b-7400-4641-a800-034f249f8d14/mzc/yolo11/YOLO11AllTraining/YOLO11n_Training/NikonPredictions/predicted__DSC0015_JPG.rf.02ac8329c2ca8146112f7d0735321346.jpg\n",
      "\n",
      "image 1/1 /media/mzc/e4fcae9b-7400-4641-a800-034f249f8d14/mzc/yolo11/NikonValidation/valid/images/_DSC0266_JPG.rf.137d513556715eb5cc6877c658008e4f.jpg: 640x640 2 0s, 7.5ms\n",
      "Speed: 1.9ms preprocess, 7.5ms inference, 1.3ms postprocess per image at shape (1, 3, 640, 640)\n",
      "Predicted image saved: /media/mzc/e4fcae9b-7400-4641-a800-034f249f8d14/mzc/yolo11/YOLO11AllTraining/YOLO11n_Training/NikonPredictions/predicted__DSC0266_JPG.rf.137d513556715eb5cc6877c658008e4f.jpg\n",
      "\n",
      "image 1/1 /media/mzc/e4fcae9b-7400-4641-a800-034f249f8d14/mzc/yolo11/NikonValidation/valid/images/_DSC0258_JPG.rf.afae27e1884472caf3dc7ba05dd93f28.jpg: 640x640 2 0s, 7.7ms\n",
      "Speed: 2.2ms preprocess, 7.7ms inference, 1.1ms postprocess per image at shape (1, 3, 640, 640)\n",
      "Predicted image saved: /media/mzc/e4fcae9b-7400-4641-a800-034f249f8d14/mzc/yolo11/YOLO11AllTraining/YOLO11n_Training/NikonPredictions/predicted__DSC0258_JPG.rf.afae27e1884472caf3dc7ba05dd93f28.jpg\n",
      "\n",
      "image 1/1 /media/mzc/e4fcae9b-7400-4641-a800-034f249f8d14/mzc/yolo11/NikonValidation/valid/images/_DSC0024_JPG.rf.69e9a1ec59448f0772d72852cf4f8253.jpg: 640x640 3 0s, 6.3ms\n",
      "Speed: 2.0ms preprocess, 6.3ms inference, 1.0ms postprocess per image at shape (1, 3, 640, 640)\n",
      "Predicted image saved: /media/mzc/e4fcae9b-7400-4641-a800-034f249f8d14/mzc/yolo11/YOLO11AllTraining/YOLO11n_Training/NikonPredictions/predicted__DSC0024_JPG.rf.69e9a1ec59448f0772d72852cf4f8253.jpg\n",
      "\n",
      "image 1/1 /media/mzc/e4fcae9b-7400-4641-a800-034f249f8d14/mzc/yolo11/NikonValidation/valid/images/_DSC0298_JPG.rf.190fb6874533f0ca5a4d87de70b6f77b.jpg: 640x640 6 0s, 6.5ms\n",
      "Speed: 1.7ms preprocess, 6.5ms inference, 1.0ms postprocess per image at shape (1, 3, 640, 640)\n",
      "Predicted image saved: /media/mzc/e4fcae9b-7400-4641-a800-034f249f8d14/mzc/yolo11/YOLO11AllTraining/YOLO11n_Training/NikonPredictions/predicted__DSC0298_JPG.rf.190fb6874533f0ca5a4d87de70b6f77b.jpg\n",
      "\n",
      "image 1/1 /media/mzc/e4fcae9b-7400-4641-a800-034f249f8d14/mzc/yolo11/NikonValidation/valid/images/_DSC0257_JPG.rf.4640e162d8949c292b7a494fa6b97b3e.jpg: 640x640 2 0s, 5.9ms\n",
      "Speed: 1.6ms preprocess, 5.9ms inference, 0.9ms postprocess per image at shape (1, 3, 640, 640)\n",
      "Predicted image saved: /media/mzc/e4fcae9b-7400-4641-a800-034f249f8d14/mzc/yolo11/YOLO11AllTraining/YOLO11n_Training/NikonPredictions/predicted__DSC0257_JPG.rf.4640e162d8949c292b7a494fa6b97b3e.jpg\n",
      "\n",
      "image 1/1 /media/mzc/e4fcae9b-7400-4641-a800-034f249f8d14/mzc/yolo11/NikonValidation/valid/images/_DSC0114_JPG.rf.8796e5986a99df432a8257493ec93686.jpg: 640x640 4 0s, 9.4ms\n",
      "Speed: 1.6ms preprocess, 9.4ms inference, 1.1ms postprocess per image at shape (1, 3, 640, 640)\n",
      "Predicted image saved: /media/mzc/e4fcae9b-7400-4641-a800-034f249f8d14/mzc/yolo11/YOLO11AllTraining/YOLO11n_Training/NikonPredictions/predicted__DSC0114_JPG.rf.8796e5986a99df432a8257493ec93686.jpg\n",
      "\n",
      "image 1/1 /media/mzc/e4fcae9b-7400-4641-a800-034f249f8d14/mzc/yolo11/NikonValidation/valid/images/_DSC0063_JPG.rf.1eb981b9b7413774bdcf91330c337a63.jpg: 640x640 2 0s, 6.0ms\n",
      "Speed: 1.7ms preprocess, 6.0ms inference, 1.3ms postprocess per image at shape (1, 3, 640, 640)\n",
      "Predicted image saved: /media/mzc/e4fcae9b-7400-4641-a800-034f249f8d14/mzc/yolo11/YOLO11AllTraining/YOLO11n_Training/NikonPredictions/predicted__DSC0063_JPG.rf.1eb981b9b7413774bdcf91330c337a63.jpg\n",
      "\n",
      "image 1/1 /media/mzc/e4fcae9b-7400-4641-a800-034f249f8d14/mzc/yolo11/NikonValidation/valid/images/_DSC0040_JPG.rf.13464319936ad2de63af36f7065f1b36.jpg: 640x640 2 0s, 5.8ms\n",
      "Speed: 2.2ms preprocess, 5.8ms inference, 1.4ms postprocess per image at shape (1, 3, 640, 640)\n",
      "Predicted image saved: /media/mzc/e4fcae9b-7400-4641-a800-034f249f8d14/mzc/yolo11/YOLO11AllTraining/YOLO11n_Training/NikonPredictions/predicted__DSC0040_JPG.rf.13464319936ad2de63af36f7065f1b36.jpg\n",
      "\n",
      "image 1/1 /media/mzc/e4fcae9b-7400-4641-a800-034f249f8d14/mzc/yolo11/NikonValidation/valid/images/_DSC0318_JPG.rf.1ba678742b1e55907d7cbe4d7aaaaf0b.jpg: 640x640 4 0s, 5.7ms\n",
      "Speed: 1.6ms preprocess, 5.7ms inference, 0.9ms postprocess per image at shape (1, 3, 640, 640)\n",
      "Predicted image saved: /media/mzc/e4fcae9b-7400-4641-a800-034f249f8d14/mzc/yolo11/YOLO11AllTraining/YOLO11n_Training/NikonPredictions/predicted__DSC0318_JPG.rf.1ba678742b1e55907d7cbe4d7aaaaf0b.jpg\n",
      "\n",
      "image 1/1 /media/mzc/e4fcae9b-7400-4641-a800-034f249f8d14/mzc/yolo11/NikonValidation/valid/images/_DSC0295_JPG.rf.bd9be1080d9c34580556de81e4b1d4af.jpg: 640x640 2 0s, 5.9ms\n",
      "Speed: 1.6ms preprocess, 5.9ms inference, 0.9ms postprocess per image at shape (1, 3, 640, 640)\n",
      "Predicted image saved: /media/mzc/e4fcae9b-7400-4641-a800-034f249f8d14/mzc/yolo11/YOLO11AllTraining/YOLO11n_Training/NikonPredictions/predicted__DSC0295_JPG.rf.bd9be1080d9c34580556de81e4b1d4af.jpg\n",
      "\n",
      "image 1/1 /media/mzc/e4fcae9b-7400-4641-a800-034f249f8d14/mzc/yolo11/NikonValidation/valid/images/_DSC0112_JPG.rf.6754453d82d4732b5642f94548458ef1.jpg: 640x640 1 0, 5.7ms\n",
      "Speed: 1.6ms preprocess, 5.7ms inference, 1.1ms postprocess per image at shape (1, 3, 640, 640)\n",
      "Predicted image saved: /media/mzc/e4fcae9b-7400-4641-a800-034f249f8d14/mzc/yolo11/YOLO11AllTraining/YOLO11n_Training/NikonPredictions/predicted__DSC0112_JPG.rf.6754453d82d4732b5642f94548458ef1.jpg\n",
      "\n",
      "image 1/1 /media/mzc/e4fcae9b-7400-4641-a800-034f249f8d14/mzc/yolo11/NikonValidation/valid/images/_DSC0045_JPG.rf.78ed8f87c942b3560b9d47413b0f99f6.jpg: 640x640 6 0s, 5.8ms\n",
      "Speed: 1.6ms preprocess, 5.8ms inference, 1.2ms postprocess per image at shape (1, 3, 640, 640)\n",
      "Predicted image saved: /media/mzc/e4fcae9b-7400-4641-a800-034f249f8d14/mzc/yolo11/YOLO11AllTraining/YOLO11n_Training/NikonPredictions/predicted__DSC0045_JPG.rf.78ed8f87c942b3560b9d47413b0f99f6.jpg\n",
      "\n",
      "image 1/1 /media/mzc/e4fcae9b-7400-4641-a800-034f249f8d14/mzc/yolo11/NikonValidation/valid/images/_DSC0058_JPG.rf.d344b3f6e0431cadfb48aca5250e562b.jpg: 640x640 2 0s, 5.9ms\n",
      "Speed: 1.7ms preprocess, 5.9ms inference, 1.0ms postprocess per image at shape (1, 3, 640, 640)\n",
      "Predicted image saved: /media/mzc/e4fcae9b-7400-4641-a800-034f249f8d14/mzc/yolo11/YOLO11AllTraining/YOLO11n_Training/NikonPredictions/predicted__DSC0058_JPG.rf.d344b3f6e0431cadfb48aca5250e562b.jpg\n",
      "\n",
      "image 1/1 /media/mzc/e4fcae9b-7400-4641-a800-034f249f8d14/mzc/yolo11/NikonValidation/valid/images/_DSC0319_JPG.rf.d04125841deef716339a5c4da3595633.jpg: 640x640 5 0s, 5.9ms\n",
      "Speed: 1.6ms preprocess, 5.9ms inference, 1.0ms postprocess per image at shape (1, 3, 640, 640)\n",
      "Predicted image saved: /media/mzc/e4fcae9b-7400-4641-a800-034f249f8d14/mzc/yolo11/YOLO11AllTraining/YOLO11n_Training/NikonPredictions/predicted__DSC0319_JPG.rf.d04125841deef716339a5c4da3595633.jpg\n",
      "\n",
      "image 1/1 /media/mzc/e4fcae9b-7400-4641-a800-034f249f8d14/mzc/yolo11/NikonValidation/valid/images/_DSC0123_JPG.rf.ec388f2ffca1c50e32e1f7e7bbe12bee.jpg: 640x640 1 0, 5.8ms\n",
      "Speed: 1.7ms preprocess, 5.8ms inference, 0.9ms postprocess per image at shape (1, 3, 640, 640)\n",
      "Predicted image saved: /media/mzc/e4fcae9b-7400-4641-a800-034f249f8d14/mzc/yolo11/YOLO11AllTraining/YOLO11n_Training/NikonPredictions/predicted__DSC0123_JPG.rf.ec388f2ffca1c50e32e1f7e7bbe12bee.jpg\n",
      "\n",
      "image 1/1 /media/mzc/e4fcae9b-7400-4641-a800-034f249f8d14/mzc/yolo11/NikonValidation/valid/images/_DSC0294_JPG.rf.b9e8beed9df03cff48737ca71275f6eb.jpg: 640x640 4 0s, 7.0ms\n",
      "Speed: 1.7ms preprocess, 7.0ms inference, 0.9ms postprocess per image at shape (1, 3, 640, 640)\n",
      "Predicted image saved: /media/mzc/e4fcae9b-7400-4641-a800-034f249f8d14/mzc/yolo11/YOLO11AllTraining/YOLO11n_Training/NikonPredictions/predicted__DSC0294_JPG.rf.b9e8beed9df03cff48737ca71275f6eb.jpg\n",
      "\n",
      "image 1/1 /media/mzc/e4fcae9b-7400-4641-a800-034f249f8d14/mzc/yolo11/NikonValidation/valid/images/_DSC0036_JPG.rf.591296db99f44200fcaec9af6372fd9c.jpg: 640x640 3 0s, 8.1ms\n",
      "Speed: 1.6ms preprocess, 8.1ms inference, 1.4ms postprocess per image at shape (1, 3, 640, 640)\n",
      "Predicted image saved: /media/mzc/e4fcae9b-7400-4641-a800-034f249f8d14/mzc/yolo11/YOLO11AllTraining/YOLO11n_Training/NikonPredictions/predicted__DSC0036_JPG.rf.591296db99f44200fcaec9af6372fd9c.jpg\n",
      "\n",
      "image 1/1 /media/mzc/e4fcae9b-7400-4641-a800-034f249f8d14/mzc/yolo11/NikonValidation/valid/images/_DSC0301_JPG.rf.966a5dd3b529e09a1d36e73451803992.jpg: 640x640 2 0s, 6.6ms\n",
      "Speed: 1.6ms preprocess, 6.6ms inference, 1.2ms postprocess per image at shape (1, 3, 640, 640)\n",
      "Predicted image saved: /media/mzc/e4fcae9b-7400-4641-a800-034f249f8d14/mzc/yolo11/YOLO11AllTraining/YOLO11n_Training/NikonPredictions/predicted__DSC0301_JPG.rf.966a5dd3b529e09a1d36e73451803992.jpg\n",
      "\n",
      "image 1/1 /media/mzc/e4fcae9b-7400-4641-a800-034f249f8d14/mzc/yolo11/NikonValidation/valid/images/_DSC0087_JPG.rf.afe577468a07bdb5b4fc06694f13b6d5.jpg: 640x640 3 0s, 6.4ms\n",
      "Speed: 1.8ms preprocess, 6.4ms inference, 1.2ms postprocess per image at shape (1, 3, 640, 640)\n",
      "Predicted image saved: /media/mzc/e4fcae9b-7400-4641-a800-034f249f8d14/mzc/yolo11/YOLO11AllTraining/YOLO11n_Training/NikonPredictions/predicted__DSC0087_JPG.rf.afe577468a07bdb5b4fc06694f13b6d5.jpg\n",
      "\n",
      "image 1/1 /media/mzc/e4fcae9b-7400-4641-a800-034f249f8d14/mzc/yolo11/NikonValidation/valid/images/_DSC0060_JPG.rf.33a96c77dc7652ecf514917fed58adbd.jpg: 640x640 4 0s, 6.0ms\n",
      "Speed: 1.5ms preprocess, 6.0ms inference, 1.4ms postprocess per image at shape (1, 3, 640, 640)\n",
      "Predicted image saved: /media/mzc/e4fcae9b-7400-4641-a800-034f249f8d14/mzc/yolo11/YOLO11AllTraining/YOLO11n_Training/NikonPredictions/predicted__DSC0060_JPG.rf.33a96c77dc7652ecf514917fed58adbd.jpg\n",
      "\n",
      "image 1/1 /media/mzc/e4fcae9b-7400-4641-a800-034f249f8d14/mzc/yolo11/NikonValidation/valid/images/_DSC0008_JPG.rf.f04c82c383597e7bc433f4a105278694.jpg: 640x640 4 0s, 5.8ms\n",
      "Speed: 1.5ms preprocess, 5.8ms inference, 0.9ms postprocess per image at shape (1, 3, 640, 640)\n",
      "Predicted image saved: /media/mzc/e4fcae9b-7400-4641-a800-034f249f8d14/mzc/yolo11/YOLO11AllTraining/YOLO11n_Training/NikonPredictions/predicted__DSC0008_JPG.rf.f04c82c383597e7bc433f4a105278694.jpg\n",
      "\n",
      "image 1/1 /media/mzc/e4fcae9b-7400-4641-a800-034f249f8d14/mzc/yolo11/NikonValidation/valid/images/_DSC0293_JPG.rf.de39779de634c24fa1015db76dd5526a.jpg: 640x640 5 0s, 5.8ms\n",
      "Speed: 1.9ms preprocess, 5.8ms inference, 1.0ms postprocess per image at shape (1, 3, 640, 640)\n",
      "Predicted image saved: /media/mzc/e4fcae9b-7400-4641-a800-034f249f8d14/mzc/yolo11/YOLO11AllTraining/YOLO11n_Training/NikonPredictions/predicted__DSC0293_JPG.rf.de39779de634c24fa1015db76dd5526a.jpg\n",
      "\n",
      "image 1/1 /media/mzc/e4fcae9b-7400-4641-a800-034f249f8d14/mzc/yolo11/NikonValidation/valid/images/_DSC0243_JPG.rf.e438f26bceaf3a802e64d8912a9ebbfd.jpg: 640x640 2 0s, 6.1ms\n",
      "Speed: 1.6ms preprocess, 6.1ms inference, 1.0ms postprocess per image at shape (1, 3, 640, 640)\n",
      "Predicted image saved: /media/mzc/e4fcae9b-7400-4641-a800-034f249f8d14/mzc/yolo11/YOLO11AllTraining/YOLO11n_Training/NikonPredictions/predicted__DSC0243_JPG.rf.e438f26bceaf3a802e64d8912a9ebbfd.jpg\n",
      "\n",
      "image 1/1 /media/mzc/e4fcae9b-7400-4641-a800-034f249f8d14/mzc/yolo11/NikonValidation/valid/images/_DSC0291_JPG.rf.5ef8963b80457fb6c0dd0839fa390f67.jpg: 640x640 7 0s, 6.0ms\n",
      "Speed: 1.6ms preprocess, 6.0ms inference, 1.1ms postprocess per image at shape (1, 3, 640, 640)\n",
      "Predicted image saved: /media/mzc/e4fcae9b-7400-4641-a800-034f249f8d14/mzc/yolo11/YOLO11AllTraining/YOLO11n_Training/NikonPredictions/predicted__DSC0291_JPG.rf.5ef8963b80457fb6c0dd0839fa390f67.jpg\n",
      "\n",
      "image 1/1 /media/mzc/e4fcae9b-7400-4641-a800-034f249f8d14/mzc/yolo11/NikonValidation/valid/images/_DSC0014_JPG.rf.b3ffe567405a0f0966e534fe77d00a8a.jpg: 640x640 1 0, 6.2ms\n",
      "Speed: 1.7ms preprocess, 6.2ms inference, 1.3ms postprocess per image at shape (1, 3, 640, 640)\n",
      "Predicted image saved: /media/mzc/e4fcae9b-7400-4641-a800-034f249f8d14/mzc/yolo11/YOLO11AllTraining/YOLO11n_Training/NikonPredictions/predicted__DSC0014_JPG.rf.b3ffe567405a0f0966e534fe77d00a8a.jpg\n",
      "\n",
      "image 1/1 /media/mzc/e4fcae9b-7400-4641-a800-034f249f8d14/mzc/yolo11/NikonValidation/valid/images/_DSC0026_JPG.rf.7afcc06b3976657ba0c2b66675e359cf.jpg: 640x640 4 0s, 5.9ms\n",
      "Speed: 1.6ms preprocess, 5.9ms inference, 1.0ms postprocess per image at shape (1, 3, 640, 640)\n",
      "Predicted image saved: /media/mzc/e4fcae9b-7400-4641-a800-034f249f8d14/mzc/yolo11/YOLO11AllTraining/YOLO11n_Training/NikonPredictions/predicted__DSC0026_JPG.rf.7afcc06b3976657ba0c2b66675e359cf.jpg\n",
      "\n",
      "image 1/1 /media/mzc/e4fcae9b-7400-4641-a800-034f249f8d14/mzc/yolo11/NikonValidation/valid/images/_DSC0259_JPG.rf.c7688b22d1f06395bcd3fdf212c3c407.jpg: 640x640 3 0s, 5.9ms\n",
      "Speed: 1.5ms preprocess, 5.9ms inference, 1.1ms postprocess per image at shape (1, 3, 640, 640)\n",
      "Predicted image saved: /media/mzc/e4fcae9b-7400-4641-a800-034f249f8d14/mzc/yolo11/YOLO11AllTraining/YOLO11n_Training/NikonPredictions/predicted__DSC0259_JPG.rf.c7688b22d1f06395bcd3fdf212c3c407.jpg\n",
      "\n",
      "image 1/1 /media/mzc/e4fcae9b-7400-4641-a800-034f249f8d14/mzc/yolo11/NikonValidation/valid/images/_DSC0013_JPG.rf.c145f30ced97d55ff0c2b28f9a8bb089.jpg: 640x640 5 0s, 5.9ms\n",
      "Speed: 1.6ms preprocess, 5.9ms inference, 1.0ms postprocess per image at shape (1, 3, 640, 640)\n",
      "Predicted image saved: /media/mzc/e4fcae9b-7400-4641-a800-034f249f8d14/mzc/yolo11/YOLO11AllTraining/YOLO11n_Training/NikonPredictions/predicted__DSC0013_JPG.rf.c145f30ced97d55ff0c2b28f9a8bb089.jpg\n",
      "\n",
      "image 1/1 /media/mzc/e4fcae9b-7400-4641-a800-034f249f8d14/mzc/yolo11/NikonValidation/valid/images/_DSC0317_JPG.rf.8368699f3b8321361f99de0d8ef1d129.jpg: 640x640 4 0s, 5.7ms\n",
      "Speed: 1.6ms preprocess, 5.7ms inference, 0.9ms postprocess per image at shape (1, 3, 640, 640)\n",
      "Predicted image saved: /media/mzc/e4fcae9b-7400-4641-a800-034f249f8d14/mzc/yolo11/YOLO11AllTraining/YOLO11n_Training/NikonPredictions/predicted__DSC0317_JPG.rf.8368699f3b8321361f99de0d8ef1d129.jpg\n",
      "\n",
      "image 1/1 /media/mzc/e4fcae9b-7400-4641-a800-034f249f8d14/mzc/yolo11/NikonValidation/valid/images/_DSC0232_JPG.rf.ac10bc7c6dc3a831ea302bcbe29e08df.jpg: 640x640 3 0s, 5.9ms\n",
      "Speed: 1.5ms preprocess, 5.9ms inference, 0.9ms postprocess per image at shape (1, 3, 640, 640)\n",
      "Predicted image saved: /media/mzc/e4fcae9b-7400-4641-a800-034f249f8d14/mzc/yolo11/YOLO11AllTraining/YOLO11n_Training/NikonPredictions/predicted__DSC0232_JPG.rf.ac10bc7c6dc3a831ea302bcbe29e08df.jpg\n",
      "\n",
      "image 1/1 /media/mzc/e4fcae9b-7400-4641-a800-034f249f8d14/mzc/yolo11/NikonValidation/valid/images/_DSC0096_JPG.rf.e37ad017172a627d02e3ab497f3324ff.jpg: 640x640 2 0s, 5.6ms\n",
      "Speed: 1.6ms preprocess, 5.6ms inference, 0.9ms postprocess per image at shape (1, 3, 640, 640)\n",
      "Predicted image saved: /media/mzc/e4fcae9b-7400-4641-a800-034f249f8d14/mzc/yolo11/YOLO11AllTraining/YOLO11n_Training/NikonPredictions/predicted__DSC0096_JPG.rf.e37ad017172a627d02e3ab497f3324ff.jpg\n",
      "\n",
      "image 1/1 /media/mzc/e4fcae9b-7400-4641-a800-034f249f8d14/mzc/yolo11/NikonValidation/valid/images/_DSC0309_JPG.rf.b93ac5656161213ac8579843318cb399.jpg: 640x640 1 0, 5.6ms\n",
      "Speed: 1.7ms preprocess, 5.6ms inference, 0.9ms postprocess per image at shape (1, 3, 640, 640)\n",
      "Predicted image saved: /media/mzc/e4fcae9b-7400-4641-a800-034f249f8d14/mzc/yolo11/YOLO11AllTraining/YOLO11n_Training/NikonPredictions/predicted__DSC0309_JPG.rf.b93ac5656161213ac8579843318cb399.jpg\n",
      "\n",
      "image 1/1 /media/mzc/e4fcae9b-7400-4641-a800-034f249f8d14/mzc/yolo11/NikonValidation/valid/images/_DSC0046_JPG.rf.1e51d47f76fd8292a2e1a9bff15e97e9.jpg: 640x640 3 0s, 5.8ms\n",
      "Speed: 1.6ms preprocess, 5.8ms inference, 0.9ms postprocess per image at shape (1, 3, 640, 640)\n",
      "Predicted image saved: /media/mzc/e4fcae9b-7400-4641-a800-034f249f8d14/mzc/yolo11/YOLO11AllTraining/YOLO11n_Training/NikonPredictions/predicted__DSC0046_JPG.rf.1e51d47f76fd8292a2e1a9bff15e97e9.jpg\n",
      "\n",
      "image 1/1 /media/mzc/e4fcae9b-7400-4641-a800-034f249f8d14/mzc/yolo11/NikonValidation/valid/images/_DSC0029_JPG.rf.c150603490cf9eff38dfa10945899840.jpg: 640x640 3 0s, 5.7ms\n",
      "Speed: 1.6ms preprocess, 5.7ms inference, 0.9ms postprocess per image at shape (1, 3, 640, 640)\n",
      "Predicted image saved: /media/mzc/e4fcae9b-7400-4641-a800-034f249f8d14/mzc/yolo11/YOLO11AllTraining/YOLO11n_Training/NikonPredictions/predicted__DSC0029_JPG.rf.c150603490cf9eff38dfa10945899840.jpg\n",
      "\n",
      "image 1/1 /media/mzc/e4fcae9b-7400-4641-a800-034f249f8d14/mzc/yolo11/NikonValidation/valid/images/_DSC0021_JPG.rf.10f3e80e0a2ac9cba6c99277657f65d4.jpg: 640x640 2 0s, 7.0ms\n",
      "Speed: 1.6ms preprocess, 7.0ms inference, 0.9ms postprocess per image at shape (1, 3, 640, 640)\n",
      "Predicted image saved: /media/mzc/e4fcae9b-7400-4641-a800-034f249f8d14/mzc/yolo11/YOLO11AllTraining/YOLO11n_Training/NikonPredictions/predicted__DSC0021_JPG.rf.10f3e80e0a2ac9cba6c99277657f65d4.jpg\n",
      "\n",
      "image 1/1 /media/mzc/e4fcae9b-7400-4641-a800-034f249f8d14/mzc/yolo11/NikonValidation/valid/images/_DSC0023_JPG.rf.ffc258f255aaf51453407943b980bf0b.jpg: 640x640 1 0, 6.2ms\n",
      "Speed: 1.6ms preprocess, 6.2ms inference, 0.9ms postprocess per image at shape (1, 3, 640, 640)\n",
      "Predicted image saved: /media/mzc/e4fcae9b-7400-4641-a800-034f249f8d14/mzc/yolo11/YOLO11AllTraining/YOLO11n_Training/NikonPredictions/predicted__DSC0023_JPG.rf.ffc258f255aaf51453407943b980bf0b.jpg\n",
      "\n",
      "image 1/1 /media/mzc/e4fcae9b-7400-4641-a800-034f249f8d14/mzc/yolo11/NikonValidation/valid/images/_DSC0292_JPG.rf.712d91c2e984abcc3d0dbbcb5efe8a8f.jpg: 640x640 6 0s, 5.8ms\n",
      "Speed: 1.6ms preprocess, 5.8ms inference, 1.0ms postprocess per image at shape (1, 3, 640, 640)\n",
      "Predicted image saved: /media/mzc/e4fcae9b-7400-4641-a800-034f249f8d14/mzc/yolo11/YOLO11AllTraining/YOLO11n_Training/NikonPredictions/predicted__DSC0292_JPG.rf.712d91c2e984abcc3d0dbbcb5efe8a8f.jpg\n",
      "\n",
      "image 1/1 /media/mzc/e4fcae9b-7400-4641-a800-034f249f8d14/mzc/yolo11/NikonValidation/valid/images/_DSC0085_JPG.rf.38b0df074b1ea30940c31ee1cfbcb51f.jpg: 640x640 3 0s, 6.1ms\n",
      "Speed: 1.6ms preprocess, 6.1ms inference, 1.0ms postprocess per image at shape (1, 3, 640, 640)\n",
      "Predicted image saved: /media/mzc/e4fcae9b-7400-4641-a800-034f249f8d14/mzc/yolo11/YOLO11AllTraining/YOLO11n_Training/NikonPredictions/predicted__DSC0085_JPG.rf.38b0df074b1ea30940c31ee1cfbcb51f.jpg\n",
      "\n",
      "image 1/1 /media/mzc/e4fcae9b-7400-4641-a800-034f249f8d14/mzc/yolo11/NikonValidation/valid/images/_DSC0044_JPG.rf.3c53e65445108f6c544e9943091f4a16.jpg: 640x640 9 0s, 7.2ms\n",
      "Speed: 2.1ms preprocess, 7.2ms inference, 0.9ms postprocess per image at shape (1, 3, 640, 640)\n",
      "Predicted image saved: /media/mzc/e4fcae9b-7400-4641-a800-034f249f8d14/mzc/yolo11/YOLO11AllTraining/YOLO11n_Training/NikonPredictions/predicted__DSC0044_JPG.rf.3c53e65445108f6c544e9943091f4a16.jpg\n",
      "\n",
      "image 1/1 /media/mzc/e4fcae9b-7400-4641-a800-034f249f8d14/mzc/yolo11/NikonValidation/valid/images/_DSC0119_JPG.rf.e26b9266ad778fd91fc1a6fe3faa7d74.jpg: 640x640 1 0, 6.1ms\n",
      "Speed: 1.6ms preprocess, 6.1ms inference, 1.0ms postprocess per image at shape (1, 3, 640, 640)\n",
      "Predicted image saved: /media/mzc/e4fcae9b-7400-4641-a800-034f249f8d14/mzc/yolo11/YOLO11AllTraining/YOLO11n_Training/NikonPredictions/predicted__DSC0119_JPG.rf.e26b9266ad778fd91fc1a6fe3faa7d74.jpg\n"
     ]
    }
   ],
   "source": [
    "# Directory containing Nikon images (replace with actual image directory)\n",
    "nikon_image_dir = '/media/mzc/e4fcae9b-7400-4641-a800-034f249f8d14/mzc/yolo11/NikonValidation/valid/images'\n",
    "\n",
    "# Iterate over each image in the Nikon dataset and run inference\n",
    "for image_file in os.listdir(nikon_image_dir):\n",
    "    if image_file.lower().endswith(('.png', '.jpg', '.jpeg')):  # Filter for image files\n",
    "        image_path = os.path.join(nikon_image_dir, image_file)\n",
    "        \n",
    "        # Run inference on the image\n",
    "        results = model(image_path)\n",
    "        \n",
    "        # Plot the result and save the output image\n",
    "        annotated_img = results[0].plot()\n",
    "\n",
    "        # Save the predicted image to the output directory\n",
    "        output_image_path = os.path.join(output_dir, f\"predicted_{image_file}\")\n",
    "        cv2.imwrite(output_image_path, annotated_img)\n",
    "\n",
    "        # Print success message for each saved image\n",
    "        print(f\"Predicted image saved: {output_image_path}\")\n"
   ]
  },
  {
   "cell_type": "code",
   "execution_count": 23,
   "id": "fc54990b-0a29-4dc8-b3db-7124aa99dadb",
   "metadata": {},
   "outputs": [],
   "source": [
    "from ultralytics import YOLO\n",
    "import os\n",
    "import cv2\n",
    "import matplotlib.pyplot as plt\n",
    "from IPython.display import Image\n"
   ]
  },
  {
   "cell_type": "code",
   "execution_count": 24,
   "id": "75d68b44-9ec8-4205-beeb-fcbdf769bd3b",
   "metadata": {},
   "outputs": [],
   "source": [
    "# Path to the Nikon dataset YAML file\n",
    "data_path = '/media/mzc/e4fcae9b-7400-4641-a800-034f249f8d14/mzc/yolo11/NikonValidation/data.yaml'\n",
    "\n",
    "# Path to the trained YOLO11s model\n",
    "model_path = '/media/mzc/e4fcae9b-7400-4641-a800-034f249f8d14/mzc/yolo11/YOLO11AllTraining/YOLO11s_Training/YOLO11s_Training/weights/last.pt'\n",
    "\n",
    "# Directory to save YOLO11s predictions on Nikon images\n",
    "output_dir = '/media/mzc/e4fcae9b-7400-4641-a800-034f249f8d14/mzc/yolo11/YOLO11AllTraining/YOLO11s_Training/YOLO11s_Training/Predicted Output'\n",
    "\n",
    "# Create the output directory if it doesn't exist\n",
    "os.makedirs(output_dir, exist_ok=True)\n"
   ]
  },
  {
   "cell_type": "code",
   "execution_count": 25,
   "id": "a5df9f53-7bcb-4b6a-840b-350696be8a52",
   "metadata": {},
   "outputs": [],
   "source": [
    "# Load the YOLO11s model\n",
    "model = YOLO(model_path)\n"
   ]
  },
  {
   "cell_type": "code",
   "execution_count": 26,
   "id": "0fc8ce0c-ece0-4541-bc7e-bfeee36e233d",
   "metadata": {},
   "outputs": [
    {
     "name": "stdout",
     "output_type": "stream",
     "text": [
      "Ultralytics 8.3.0 🚀 Python-3.11.7 torch-2.4.1+cu121 CUDA:0 (NVIDIA TITAN Xp COLLECTORS EDITION, 12189MiB)\n",
      "YOLO11s summary (fused): 238 layers, 9,413,187 parameters, 0 gradients, 21.3 GFLOPs\n"
     ]
    },
    {
     "name": "stderr",
     "output_type": "stream",
     "text": [
      "\u001b[34m\u001b[1mval: \u001b[0mScanning /media/mzc/e4fcae9b-7400-4641-a800-034f249f8d14/mzc/yolo11/NikonVa\u001b[0m\n",
      "                 Class     Images  Instances      Box(P          R      mAP50  m\n"
     ]
    },
    {
     "name": "stdout",
     "output_type": "stream",
     "text": [
      "                   all         43        134      0.874      0.826      0.909       0.53\n",
      "Speed: 0.8ms preprocess, 10.6ms inference, 0.0ms loss, 4.0ms postprocess per image\n",
      "Results saved to \u001b[1mruns/detect/val2\u001b[0m\n",
      "Validation Metrics:\n",
      "Precision: 0.9086\n",
      "Recall: 0.5300\n",
      "mAP@0.5: 0.9086\n",
      "mAP@0.5:0.95: 0.5300\n",
      "Preprocess Time: 0.7606 ms/image\n",
      "Inference Time: 10.5694 ms/image\n",
      "Post-process Time: 3.9920 ms/image\n"
     ]
    }
   ],
   "source": [
    "# Run validation on the Nikon dataset\n",
    "metrics = model.val(data=data_path)\n",
    "\n",
    "# Print detailed metrics (including preprocessing, inference, post-processing times)\n",
    "print(\"Validation Metrics:\")\n",
    "print(f\"Precision: {metrics.box.map50:.4f}\")\n",
    "print(f\"Recall: {metrics.box.map:.4f}\")\n",
    "print(f\"mAP@0.5: {metrics.box.map50:.4f}\")\n",
    "print(f\"mAP@0.5:0.95: {metrics.box.map:.4f}\")\n",
    "print(f\"Preprocess Time: {metrics.speed['preprocess']:.4f} ms/image\")\n",
    "print(f\"Inference Time: {metrics.speed['inference']:.4f} ms/image\")\n",
    "print(f\"Post-process Time: {metrics.speed['postprocess']:.4f} ms/image\")\n"
   ]
  },
  {
   "cell_type": "code",
   "execution_count": 27,
   "id": "6848a755-7e2e-4a03-8202-b854ea80b4e9",
   "metadata": {},
   "outputs": [
    {
     "name": "stdout",
     "output_type": "stream",
     "text": [
      "\n",
      "image 1/1 /media/mzc/e4fcae9b-7400-4641-a800-034f249f8d14/mzc/yolo11/NikonValidation/valid/images/_DSC0034_JPG.rf.5a58b769346d9dc07b1d99eacce7d425.jpg: 640x640 2 0s, 9.6ms\n",
      "Speed: 2.7ms preprocess, 9.6ms inference, 1.7ms postprocess per image at shape (1, 3, 640, 640)\n",
      "Predicted image saved: /media/mzc/e4fcae9b-7400-4641-a800-034f249f8d14/mzc/yolo11/YOLO11AllTraining/YOLO11s_Training/YOLO11s_Training/Predicted Output/predicted__DSC0034_JPG.rf.5a58b769346d9dc07b1d99eacce7d425.jpg\n",
      "\n",
      "image 1/1 /media/mzc/e4fcae9b-7400-4641-a800-034f249f8d14/mzc/yolo11/NikonValidation/valid/images/_DSC0020_JPG.rf.bac765b683591552946418fa8869e1a1.jpg: 640x640 1 0, 9.8ms\n",
      "Speed: 2.0ms preprocess, 9.8ms inference, 1.2ms postprocess per image at shape (1, 3, 640, 640)\n",
      "Predicted image saved: /media/mzc/e4fcae9b-7400-4641-a800-034f249f8d14/mzc/yolo11/YOLO11AllTraining/YOLO11s_Training/YOLO11s_Training/Predicted Output/predicted__DSC0020_JPG.rf.bac765b683591552946418fa8869e1a1.jpg\n",
      "\n",
      "image 1/1 /media/mzc/e4fcae9b-7400-4641-a800-034f249f8d14/mzc/yolo11/NikonValidation/valid/images/_DSC0015_JPG.rf.02ac8329c2ca8146112f7d0735321346.jpg: 640x640 3 0s, 9.7ms\n",
      "Speed: 2.0ms preprocess, 9.7ms inference, 1.1ms postprocess per image at shape (1, 3, 640, 640)\n",
      "Predicted image saved: /media/mzc/e4fcae9b-7400-4641-a800-034f249f8d14/mzc/yolo11/YOLO11AllTraining/YOLO11s_Training/YOLO11s_Training/Predicted Output/predicted__DSC0015_JPG.rf.02ac8329c2ca8146112f7d0735321346.jpg\n",
      "\n",
      "image 1/1 /media/mzc/e4fcae9b-7400-4641-a800-034f249f8d14/mzc/yolo11/NikonValidation/valid/images/_DSC0266_JPG.rf.137d513556715eb5cc6877c658008e4f.jpg: 640x640 2 0s, 9.5ms\n",
      "Speed: 2.0ms preprocess, 9.5ms inference, 1.1ms postprocess per image at shape (1, 3, 640, 640)\n",
      "Predicted image saved: /media/mzc/e4fcae9b-7400-4641-a800-034f249f8d14/mzc/yolo11/YOLO11AllTraining/YOLO11s_Training/YOLO11s_Training/Predicted Output/predicted__DSC0266_JPG.rf.137d513556715eb5cc6877c658008e4f.jpg\n",
      "\n",
      "image 1/1 /media/mzc/e4fcae9b-7400-4641-a800-034f249f8d14/mzc/yolo11/NikonValidation/valid/images/_DSC0258_JPG.rf.afae27e1884472caf3dc7ba05dd93f28.jpg: 640x640 2 0s, 9.8ms\n",
      "Speed: 2.0ms preprocess, 9.8ms inference, 1.3ms postprocess per image at shape (1, 3, 640, 640)\n",
      "Predicted image saved: /media/mzc/e4fcae9b-7400-4641-a800-034f249f8d14/mzc/yolo11/YOLO11AllTraining/YOLO11s_Training/YOLO11s_Training/Predicted Output/predicted__DSC0258_JPG.rf.afae27e1884472caf3dc7ba05dd93f28.jpg\n",
      "\n",
      "image 1/1 /media/mzc/e4fcae9b-7400-4641-a800-034f249f8d14/mzc/yolo11/NikonValidation/valid/images/_DSC0024_JPG.rf.69e9a1ec59448f0772d72852cf4f8253.jpg: 640x640 3 0s, 10.9ms\n",
      "Speed: 1.8ms preprocess, 10.9ms inference, 1.2ms postprocess per image at shape (1, 3, 640, 640)\n",
      "Predicted image saved: /media/mzc/e4fcae9b-7400-4641-a800-034f249f8d14/mzc/yolo11/YOLO11AllTraining/YOLO11s_Training/YOLO11s_Training/Predicted Output/predicted__DSC0024_JPG.rf.69e9a1ec59448f0772d72852cf4f8253.jpg\n",
      "\n",
      "image 1/1 /media/mzc/e4fcae9b-7400-4641-a800-034f249f8d14/mzc/yolo11/NikonValidation/valid/images/_DSC0298_JPG.rf.190fb6874533f0ca5a4d87de70b6f77b.jpg: 640x640 6 0s, 9.9ms\n",
      "Speed: 2.1ms preprocess, 9.9ms inference, 1.1ms postprocess per image at shape (1, 3, 640, 640)\n",
      "Predicted image saved: /media/mzc/e4fcae9b-7400-4641-a800-034f249f8d14/mzc/yolo11/YOLO11AllTraining/YOLO11s_Training/YOLO11s_Training/Predicted Output/predicted__DSC0298_JPG.rf.190fb6874533f0ca5a4d87de70b6f77b.jpg\n",
      "\n",
      "image 1/1 /media/mzc/e4fcae9b-7400-4641-a800-034f249f8d14/mzc/yolo11/NikonValidation/valid/images/_DSC0257_JPG.rf.4640e162d8949c292b7a494fa6b97b3e.jpg: 640x640 2 0s, 9.5ms\n",
      "Speed: 2.2ms preprocess, 9.5ms inference, 1.1ms postprocess per image at shape (1, 3, 640, 640)\n",
      "Predicted image saved: /media/mzc/e4fcae9b-7400-4641-a800-034f249f8d14/mzc/yolo11/YOLO11AllTraining/YOLO11s_Training/YOLO11s_Training/Predicted Output/predicted__DSC0257_JPG.rf.4640e162d8949c292b7a494fa6b97b3e.jpg\n",
      "\n",
      "image 1/1 /media/mzc/e4fcae9b-7400-4641-a800-034f249f8d14/mzc/yolo11/NikonValidation/valid/images/_DSC0114_JPG.rf.8796e5986a99df432a8257493ec93686.jpg: 640x640 3 0s, 9.1ms\n",
      "Speed: 2.5ms preprocess, 9.1ms inference, 1.4ms postprocess per image at shape (1, 3, 640, 640)\n",
      "Predicted image saved: /media/mzc/e4fcae9b-7400-4641-a800-034f249f8d14/mzc/yolo11/YOLO11AllTraining/YOLO11s_Training/YOLO11s_Training/Predicted Output/predicted__DSC0114_JPG.rf.8796e5986a99df432a8257493ec93686.jpg\n",
      "\n",
      "image 1/1 /media/mzc/e4fcae9b-7400-4641-a800-034f249f8d14/mzc/yolo11/NikonValidation/valid/images/_DSC0063_JPG.rf.1eb981b9b7413774bdcf91330c337a63.jpg: 640x640 2 0s, 9.1ms\n",
      "Speed: 2.0ms preprocess, 9.1ms inference, 1.1ms postprocess per image at shape (1, 3, 640, 640)\n",
      "Predicted image saved: /media/mzc/e4fcae9b-7400-4641-a800-034f249f8d14/mzc/yolo11/YOLO11AllTraining/YOLO11s_Training/YOLO11s_Training/Predicted Output/predicted__DSC0063_JPG.rf.1eb981b9b7413774bdcf91330c337a63.jpg\n",
      "\n",
      "image 1/1 /media/mzc/e4fcae9b-7400-4641-a800-034f249f8d14/mzc/yolo11/NikonValidation/valid/images/_DSC0040_JPG.rf.13464319936ad2de63af36f7065f1b36.jpg: 640x640 2 0s, 9.1ms\n",
      "Speed: 2.1ms preprocess, 9.1ms inference, 1.1ms postprocess per image at shape (1, 3, 640, 640)\n",
      "Predicted image saved: /media/mzc/e4fcae9b-7400-4641-a800-034f249f8d14/mzc/yolo11/YOLO11AllTraining/YOLO11s_Training/YOLO11s_Training/Predicted Output/predicted__DSC0040_JPG.rf.13464319936ad2de63af36f7065f1b36.jpg\n",
      "\n",
      "image 1/1 /media/mzc/e4fcae9b-7400-4641-a800-034f249f8d14/mzc/yolo11/NikonValidation/valid/images/_DSC0318_JPG.rf.1ba678742b1e55907d7cbe4d7aaaaf0b.jpg: 640x640 5 0s, 12.7ms\n",
      "Speed: 1.9ms preprocess, 12.7ms inference, 1.3ms postprocess per image at shape (1, 3, 640, 640)\n",
      "Predicted image saved: /media/mzc/e4fcae9b-7400-4641-a800-034f249f8d14/mzc/yolo11/YOLO11AllTraining/YOLO11s_Training/YOLO11s_Training/Predicted Output/predicted__DSC0318_JPG.rf.1ba678742b1e55907d7cbe4d7aaaaf0b.jpg\n",
      "\n",
      "image 1/1 /media/mzc/e4fcae9b-7400-4641-a800-034f249f8d14/mzc/yolo11/NikonValidation/valid/images/_DSC0295_JPG.rf.bd9be1080d9c34580556de81e4b1d4af.jpg: 640x640 4 0s, 8.7ms\n",
      "Speed: 1.9ms preprocess, 8.7ms inference, 1.1ms postprocess per image at shape (1, 3, 640, 640)\n",
      "Predicted image saved: /media/mzc/e4fcae9b-7400-4641-a800-034f249f8d14/mzc/yolo11/YOLO11AllTraining/YOLO11s_Training/YOLO11s_Training/Predicted Output/predicted__DSC0295_JPG.rf.bd9be1080d9c34580556de81e4b1d4af.jpg\n",
      "\n",
      "image 1/1 /media/mzc/e4fcae9b-7400-4641-a800-034f249f8d14/mzc/yolo11/NikonValidation/valid/images/_DSC0112_JPG.rf.6754453d82d4732b5642f94548458ef1.jpg: 640x640 1 0, 8.5ms\n",
      "Speed: 1.9ms preprocess, 8.5ms inference, 1.6ms postprocess per image at shape (1, 3, 640, 640)\n",
      "Predicted image saved: /media/mzc/e4fcae9b-7400-4641-a800-034f249f8d14/mzc/yolo11/YOLO11AllTraining/YOLO11s_Training/YOLO11s_Training/Predicted Output/predicted__DSC0112_JPG.rf.6754453d82d4732b5642f94548458ef1.jpg\n",
      "\n",
      "image 1/1 /media/mzc/e4fcae9b-7400-4641-a800-034f249f8d14/mzc/yolo11/NikonValidation/valid/images/_DSC0045_JPG.rf.78ed8f87c942b3560b9d47413b0f99f6.jpg: 640x640 6 0s, 8.7ms\n",
      "Speed: 1.9ms preprocess, 8.7ms inference, 1.1ms postprocess per image at shape (1, 3, 640, 640)\n",
      "Predicted image saved: /media/mzc/e4fcae9b-7400-4641-a800-034f249f8d14/mzc/yolo11/YOLO11AllTraining/YOLO11s_Training/YOLO11s_Training/Predicted Output/predicted__DSC0045_JPG.rf.78ed8f87c942b3560b9d47413b0f99f6.jpg\n",
      "\n",
      "image 1/1 /media/mzc/e4fcae9b-7400-4641-a800-034f249f8d14/mzc/yolo11/NikonValidation/valid/images/_DSC0058_JPG.rf.d344b3f6e0431cadfb48aca5250e562b.jpg: 640x640 5 0s, 8.4ms\n",
      "Speed: 2.1ms preprocess, 8.4ms inference, 1.1ms postprocess per image at shape (1, 3, 640, 640)\n",
      "Predicted image saved: /media/mzc/e4fcae9b-7400-4641-a800-034f249f8d14/mzc/yolo11/YOLO11AllTraining/YOLO11s_Training/YOLO11s_Training/Predicted Output/predicted__DSC0058_JPG.rf.d344b3f6e0431cadfb48aca5250e562b.jpg\n",
      "\n",
      "image 1/1 /media/mzc/e4fcae9b-7400-4641-a800-034f249f8d14/mzc/yolo11/NikonValidation/valid/images/_DSC0319_JPG.rf.d04125841deef716339a5c4da3595633.jpg: 640x640 6 0s, 8.0ms\n",
      "Speed: 1.9ms preprocess, 8.0ms inference, 1.3ms postprocess per image at shape (1, 3, 640, 640)\n",
      "Predicted image saved: /media/mzc/e4fcae9b-7400-4641-a800-034f249f8d14/mzc/yolo11/YOLO11AllTraining/YOLO11s_Training/YOLO11s_Training/Predicted Output/predicted__DSC0319_JPG.rf.d04125841deef716339a5c4da3595633.jpg\n",
      "\n",
      "image 1/1 /media/mzc/e4fcae9b-7400-4641-a800-034f249f8d14/mzc/yolo11/NikonValidation/valid/images/_DSC0123_JPG.rf.ec388f2ffca1c50e32e1f7e7bbe12bee.jpg: 640x640 2 0s, 8.6ms\n",
      "Speed: 1.9ms preprocess, 8.6ms inference, 1.7ms postprocess per image at shape (1, 3, 640, 640)\n",
      "Predicted image saved: /media/mzc/e4fcae9b-7400-4641-a800-034f249f8d14/mzc/yolo11/YOLO11AllTraining/YOLO11s_Training/YOLO11s_Training/Predicted Output/predicted__DSC0123_JPG.rf.ec388f2ffca1c50e32e1f7e7bbe12bee.jpg\n",
      "\n",
      "image 1/1 /media/mzc/e4fcae9b-7400-4641-a800-034f249f8d14/mzc/yolo11/NikonValidation/valid/images/_DSC0294_JPG.rf.b9e8beed9df03cff48737ca71275f6eb.jpg: 640x640 4 0s, 8.3ms\n",
      "Speed: 2.2ms preprocess, 8.3ms inference, 1.1ms postprocess per image at shape (1, 3, 640, 640)\n",
      "Predicted image saved: /media/mzc/e4fcae9b-7400-4641-a800-034f249f8d14/mzc/yolo11/YOLO11AllTraining/YOLO11s_Training/YOLO11s_Training/Predicted Output/predicted__DSC0294_JPG.rf.b9e8beed9df03cff48737ca71275f6eb.jpg\n",
      "\n",
      "image 1/1 /media/mzc/e4fcae9b-7400-4641-a800-034f249f8d14/mzc/yolo11/NikonValidation/valid/images/_DSC0036_JPG.rf.591296db99f44200fcaec9af6372fd9c.jpg: 640x640 4 0s, 12.8ms\n",
      "Speed: 1.9ms preprocess, 12.8ms inference, 1.8ms postprocess per image at shape (1, 3, 640, 640)\n",
      "Predicted image saved: /media/mzc/e4fcae9b-7400-4641-a800-034f249f8d14/mzc/yolo11/YOLO11AllTraining/YOLO11s_Training/YOLO11s_Training/Predicted Output/predicted__DSC0036_JPG.rf.591296db99f44200fcaec9af6372fd9c.jpg\n",
      "\n",
      "image 1/1 /media/mzc/e4fcae9b-7400-4641-a800-034f249f8d14/mzc/yolo11/NikonValidation/valid/images/_DSC0301_JPG.rf.966a5dd3b529e09a1d36e73451803992.jpg: 640x640 2 0s, 6.8ms\n",
      "Speed: 1.9ms preprocess, 6.8ms inference, 1.1ms postprocess per image at shape (1, 3, 640, 640)\n",
      "Predicted image saved: /media/mzc/e4fcae9b-7400-4641-a800-034f249f8d14/mzc/yolo11/YOLO11AllTraining/YOLO11s_Training/YOLO11s_Training/Predicted Output/predicted__DSC0301_JPG.rf.966a5dd3b529e09a1d36e73451803992.jpg\n",
      "\n",
      "image 1/1 /media/mzc/e4fcae9b-7400-4641-a800-034f249f8d14/mzc/yolo11/NikonValidation/valid/images/_DSC0087_JPG.rf.afe577468a07bdb5b4fc06694f13b6d5.jpg: 640x640 3 0s, 7.2ms\n",
      "Speed: 1.8ms preprocess, 7.2ms inference, 1.1ms postprocess per image at shape (1, 3, 640, 640)\n",
      "Predicted image saved: /media/mzc/e4fcae9b-7400-4641-a800-034f249f8d14/mzc/yolo11/YOLO11AllTraining/YOLO11s_Training/YOLO11s_Training/Predicted Output/predicted__DSC0087_JPG.rf.afe577468a07bdb5b4fc06694f13b6d5.jpg\n",
      "\n",
      "image 1/1 /media/mzc/e4fcae9b-7400-4641-a800-034f249f8d14/mzc/yolo11/NikonValidation/valid/images/_DSC0060_JPG.rf.33a96c77dc7652ecf514917fed58adbd.jpg: 640x640 3 0s, 7.3ms\n",
      "Speed: 1.8ms preprocess, 7.3ms inference, 1.0ms postprocess per image at shape (1, 3, 640, 640)\n",
      "Predicted image saved: /media/mzc/e4fcae9b-7400-4641-a800-034f249f8d14/mzc/yolo11/YOLO11AllTraining/YOLO11s_Training/YOLO11s_Training/Predicted Output/predicted__DSC0060_JPG.rf.33a96c77dc7652ecf514917fed58adbd.jpg\n",
      "\n",
      "image 1/1 /media/mzc/e4fcae9b-7400-4641-a800-034f249f8d14/mzc/yolo11/NikonValidation/valid/images/_DSC0008_JPG.rf.f04c82c383597e7bc433f4a105278694.jpg: 640x640 3 0s, 7.0ms\n",
      "Speed: 1.8ms preprocess, 7.0ms inference, 1.0ms postprocess per image at shape (1, 3, 640, 640)\n",
      "Predicted image saved: /media/mzc/e4fcae9b-7400-4641-a800-034f249f8d14/mzc/yolo11/YOLO11AllTraining/YOLO11s_Training/YOLO11s_Training/Predicted Output/predicted__DSC0008_JPG.rf.f04c82c383597e7bc433f4a105278694.jpg\n",
      "\n",
      "image 1/1 /media/mzc/e4fcae9b-7400-4641-a800-034f249f8d14/mzc/yolo11/NikonValidation/valid/images/_DSC0293_JPG.rf.de39779de634c24fa1015db76dd5526a.jpg: 640x640 7 0s, 6.8ms\n",
      "Speed: 1.9ms preprocess, 6.8ms inference, 1.1ms postprocess per image at shape (1, 3, 640, 640)\n",
      "Predicted image saved: /media/mzc/e4fcae9b-7400-4641-a800-034f249f8d14/mzc/yolo11/YOLO11AllTraining/YOLO11s_Training/YOLO11s_Training/Predicted Output/predicted__DSC0293_JPG.rf.de39779de634c24fa1015db76dd5526a.jpg\n",
      "\n",
      "image 1/1 /media/mzc/e4fcae9b-7400-4641-a800-034f249f8d14/mzc/yolo11/NikonValidation/valid/images/_DSC0243_JPG.rf.e438f26bceaf3a802e64d8912a9ebbfd.jpg: 640x640 3 0s, 6.9ms\n",
      "Speed: 1.8ms preprocess, 6.9ms inference, 1.1ms postprocess per image at shape (1, 3, 640, 640)\n",
      "Predicted image saved: /media/mzc/e4fcae9b-7400-4641-a800-034f249f8d14/mzc/yolo11/YOLO11AllTraining/YOLO11s_Training/YOLO11s_Training/Predicted Output/predicted__DSC0243_JPG.rf.e438f26bceaf3a802e64d8912a9ebbfd.jpg\n",
      "\n",
      "image 1/1 /media/mzc/e4fcae9b-7400-4641-a800-034f249f8d14/mzc/yolo11/NikonValidation/valid/images/_DSC0291_JPG.rf.5ef8963b80457fb6c0dd0839fa390f67.jpg: 640x640 9 0s, 6.8ms\n",
      "Speed: 1.9ms preprocess, 6.8ms inference, 1.4ms postprocess per image at shape (1, 3, 640, 640)\n",
      "Predicted image saved: /media/mzc/e4fcae9b-7400-4641-a800-034f249f8d14/mzc/yolo11/YOLO11AllTraining/YOLO11s_Training/YOLO11s_Training/Predicted Output/predicted__DSC0291_JPG.rf.5ef8963b80457fb6c0dd0839fa390f67.jpg\n",
      "\n",
      "image 1/1 /media/mzc/e4fcae9b-7400-4641-a800-034f249f8d14/mzc/yolo11/NikonValidation/valid/images/_DSC0014_JPG.rf.b3ffe567405a0f0966e534fe77d00a8a.jpg: 640x640 2 0s, 7.9ms\n",
      "Speed: 2.3ms preprocess, 7.9ms inference, 1.3ms postprocess per image at shape (1, 3, 640, 640)\n",
      "Predicted image saved: /media/mzc/e4fcae9b-7400-4641-a800-034f249f8d14/mzc/yolo11/YOLO11AllTraining/YOLO11s_Training/YOLO11s_Training/Predicted Output/predicted__DSC0014_JPG.rf.b3ffe567405a0f0966e534fe77d00a8a.jpg\n",
      "\n",
      "image 1/1 /media/mzc/e4fcae9b-7400-4641-a800-034f249f8d14/mzc/yolo11/NikonValidation/valid/images/_DSC0026_JPG.rf.7afcc06b3976657ba0c2b66675e359cf.jpg: 640x640 4 0s, 7.4ms\n",
      "Speed: 1.9ms preprocess, 7.4ms inference, 1.1ms postprocess per image at shape (1, 3, 640, 640)\n",
      "Predicted image saved: /media/mzc/e4fcae9b-7400-4641-a800-034f249f8d14/mzc/yolo11/YOLO11AllTraining/YOLO11s_Training/YOLO11s_Training/Predicted Output/predicted__DSC0026_JPG.rf.7afcc06b3976657ba0c2b66675e359cf.jpg\n",
      "\n",
      "image 1/1 /media/mzc/e4fcae9b-7400-4641-a800-034f249f8d14/mzc/yolo11/NikonValidation/valid/images/_DSC0259_JPG.rf.c7688b22d1f06395bcd3fdf212c3c407.jpg: 640x640 3 0s, 7.1ms\n",
      "Speed: 1.9ms preprocess, 7.1ms inference, 1.1ms postprocess per image at shape (1, 3, 640, 640)\n",
      "Predicted image saved: /media/mzc/e4fcae9b-7400-4641-a800-034f249f8d14/mzc/yolo11/YOLO11AllTraining/YOLO11s_Training/YOLO11s_Training/Predicted Output/predicted__DSC0259_JPG.rf.c7688b22d1f06395bcd3fdf212c3c407.jpg\n",
      "\n",
      "image 1/1 /media/mzc/e4fcae9b-7400-4641-a800-034f249f8d14/mzc/yolo11/NikonValidation/valid/images/_DSC0013_JPG.rf.c145f30ced97d55ff0c2b28f9a8bb089.jpg: 640x640 6 0s, 6.6ms\n",
      "Speed: 1.8ms preprocess, 6.6ms inference, 1.1ms postprocess per image at shape (1, 3, 640, 640)\n",
      "Predicted image saved: /media/mzc/e4fcae9b-7400-4641-a800-034f249f8d14/mzc/yolo11/YOLO11AllTraining/YOLO11s_Training/YOLO11s_Training/Predicted Output/predicted__DSC0013_JPG.rf.c145f30ced97d55ff0c2b28f9a8bb089.jpg\n",
      "\n",
      "image 1/1 /media/mzc/e4fcae9b-7400-4641-a800-034f249f8d14/mzc/yolo11/NikonValidation/valid/images/_DSC0317_JPG.rf.8368699f3b8321361f99de0d8ef1d129.jpg: 640x640 4 0s, 7.1ms\n",
      "Speed: 2.0ms preprocess, 7.1ms inference, 1.2ms postprocess per image at shape (1, 3, 640, 640)\n",
      "Predicted image saved: /media/mzc/e4fcae9b-7400-4641-a800-034f249f8d14/mzc/yolo11/YOLO11AllTraining/YOLO11s_Training/YOLO11s_Training/Predicted Output/predicted__DSC0317_JPG.rf.8368699f3b8321361f99de0d8ef1d129.jpg\n",
      "\n",
      "image 1/1 /media/mzc/e4fcae9b-7400-4641-a800-034f249f8d14/mzc/yolo11/NikonValidation/valid/images/_DSC0232_JPG.rf.ac10bc7c6dc3a831ea302bcbe29e08df.jpg: 640x640 4 0s, 7.4ms\n",
      "Speed: 1.9ms preprocess, 7.4ms inference, 1.1ms postprocess per image at shape (1, 3, 640, 640)\n",
      "Predicted image saved: /media/mzc/e4fcae9b-7400-4641-a800-034f249f8d14/mzc/yolo11/YOLO11AllTraining/YOLO11s_Training/YOLO11s_Training/Predicted Output/predicted__DSC0232_JPG.rf.ac10bc7c6dc3a831ea302bcbe29e08df.jpg\n",
      "\n",
      "image 1/1 /media/mzc/e4fcae9b-7400-4641-a800-034f249f8d14/mzc/yolo11/NikonValidation/valid/images/_DSC0096_JPG.rf.e37ad017172a627d02e3ab497f3324ff.jpg: 640x640 2 0s, 8.2ms\n",
      "Speed: 1.8ms preprocess, 8.2ms inference, 1.1ms postprocess per image at shape (1, 3, 640, 640)\n",
      "Predicted image saved: /media/mzc/e4fcae9b-7400-4641-a800-034f249f8d14/mzc/yolo11/YOLO11AllTraining/YOLO11s_Training/YOLO11s_Training/Predicted Output/predicted__DSC0096_JPG.rf.e37ad017172a627d02e3ab497f3324ff.jpg\n",
      "\n",
      "image 1/1 /media/mzc/e4fcae9b-7400-4641-a800-034f249f8d14/mzc/yolo11/NikonValidation/valid/images/_DSC0309_JPG.rf.b93ac5656161213ac8579843318cb399.jpg: 640x640 1 0, 7.1ms\n",
      "Speed: 1.9ms preprocess, 7.1ms inference, 1.1ms postprocess per image at shape (1, 3, 640, 640)\n",
      "Predicted image saved: /media/mzc/e4fcae9b-7400-4641-a800-034f249f8d14/mzc/yolo11/YOLO11AllTraining/YOLO11s_Training/YOLO11s_Training/Predicted Output/predicted__DSC0309_JPG.rf.b93ac5656161213ac8579843318cb399.jpg\n",
      "\n",
      "image 1/1 /media/mzc/e4fcae9b-7400-4641-a800-034f249f8d14/mzc/yolo11/NikonValidation/valid/images/_DSC0046_JPG.rf.1e51d47f76fd8292a2e1a9bff15e97e9.jpg: 640x640 3 0s, 7.0ms\n",
      "Speed: 2.0ms preprocess, 7.0ms inference, 1.1ms postprocess per image at shape (1, 3, 640, 640)\n",
      "Predicted image saved: /media/mzc/e4fcae9b-7400-4641-a800-034f249f8d14/mzc/yolo11/YOLO11AllTraining/YOLO11s_Training/YOLO11s_Training/Predicted Output/predicted__DSC0046_JPG.rf.1e51d47f76fd8292a2e1a9bff15e97e9.jpg\n",
      "\n",
      "image 1/1 /media/mzc/e4fcae9b-7400-4641-a800-034f249f8d14/mzc/yolo11/NikonValidation/valid/images/_DSC0029_JPG.rf.c150603490cf9eff38dfa10945899840.jpg: 640x640 4 0s, 7.4ms\n",
      "Speed: 1.9ms preprocess, 7.4ms inference, 1.2ms postprocess per image at shape (1, 3, 640, 640)\n",
      "Predicted image saved: /media/mzc/e4fcae9b-7400-4641-a800-034f249f8d14/mzc/yolo11/YOLO11AllTraining/YOLO11s_Training/YOLO11s_Training/Predicted Output/predicted__DSC0029_JPG.rf.c150603490cf9eff38dfa10945899840.jpg\n",
      "\n",
      "image 1/1 /media/mzc/e4fcae9b-7400-4641-a800-034f249f8d14/mzc/yolo11/NikonValidation/valid/images/_DSC0021_JPG.rf.10f3e80e0a2ac9cba6c99277657f65d4.jpg: 640x640 2 0s, 6.9ms\n",
      "Speed: 1.9ms preprocess, 6.9ms inference, 1.1ms postprocess per image at shape (1, 3, 640, 640)\n",
      "Predicted image saved: /media/mzc/e4fcae9b-7400-4641-a800-034f249f8d14/mzc/yolo11/YOLO11AllTraining/YOLO11s_Training/YOLO11s_Training/Predicted Output/predicted__DSC0021_JPG.rf.10f3e80e0a2ac9cba6c99277657f65d4.jpg\n",
      "\n",
      "image 1/1 /media/mzc/e4fcae9b-7400-4641-a800-034f249f8d14/mzc/yolo11/NikonValidation/valid/images/_DSC0023_JPG.rf.ffc258f255aaf51453407943b980bf0b.jpg: 640x640 1 0, 7.5ms\n",
      "Speed: 1.9ms preprocess, 7.5ms inference, 1.1ms postprocess per image at shape (1, 3, 640, 640)\n",
      "Predicted image saved: /media/mzc/e4fcae9b-7400-4641-a800-034f249f8d14/mzc/yolo11/YOLO11AllTraining/YOLO11s_Training/YOLO11s_Training/Predicted Output/predicted__DSC0023_JPG.rf.ffc258f255aaf51453407943b980bf0b.jpg\n",
      "\n",
      "image 1/1 /media/mzc/e4fcae9b-7400-4641-a800-034f249f8d14/mzc/yolo11/NikonValidation/valid/images/_DSC0292_JPG.rf.712d91c2e984abcc3d0dbbcb5efe8a8f.jpg: 640x640 8 0s, 7.1ms\n",
      "Speed: 1.9ms preprocess, 7.1ms inference, 1.3ms postprocess per image at shape (1, 3, 640, 640)\n",
      "Predicted image saved: /media/mzc/e4fcae9b-7400-4641-a800-034f249f8d14/mzc/yolo11/YOLO11AllTraining/YOLO11s_Training/YOLO11s_Training/Predicted Output/predicted__DSC0292_JPG.rf.712d91c2e984abcc3d0dbbcb5efe8a8f.jpg\n",
      "\n",
      "image 1/1 /media/mzc/e4fcae9b-7400-4641-a800-034f249f8d14/mzc/yolo11/NikonValidation/valid/images/_DSC0085_JPG.rf.38b0df074b1ea30940c31ee1cfbcb51f.jpg: 640x640 3 0s, 7.7ms\n",
      "Speed: 1.9ms preprocess, 7.7ms inference, 1.2ms postprocess per image at shape (1, 3, 640, 640)\n",
      "Predicted image saved: /media/mzc/e4fcae9b-7400-4641-a800-034f249f8d14/mzc/yolo11/YOLO11AllTraining/YOLO11s_Training/YOLO11s_Training/Predicted Output/predicted__DSC0085_JPG.rf.38b0df074b1ea30940c31ee1cfbcb51f.jpg\n",
      "\n",
      "image 1/1 /media/mzc/e4fcae9b-7400-4641-a800-034f249f8d14/mzc/yolo11/NikonValidation/valid/images/_DSC0044_JPG.rf.3c53e65445108f6c544e9943091f4a16.jpg: 640x640 8 0s, 7.0ms\n",
      "Speed: 1.9ms preprocess, 7.0ms inference, 1.0ms postprocess per image at shape (1, 3, 640, 640)\n",
      "Predicted image saved: /media/mzc/e4fcae9b-7400-4641-a800-034f249f8d14/mzc/yolo11/YOLO11AllTraining/YOLO11s_Training/YOLO11s_Training/Predicted Output/predicted__DSC0044_JPG.rf.3c53e65445108f6c544e9943091f4a16.jpg\n",
      "\n",
      "image 1/1 /media/mzc/e4fcae9b-7400-4641-a800-034f249f8d14/mzc/yolo11/NikonValidation/valid/images/_DSC0119_JPG.rf.e26b9266ad778fd91fc1a6fe3faa7d74.jpg: 640x640 1 0, 6.9ms\n",
      "Speed: 1.7ms preprocess, 6.9ms inference, 1.0ms postprocess per image at shape (1, 3, 640, 640)\n",
      "Predicted image saved: /media/mzc/e4fcae9b-7400-4641-a800-034f249f8d14/mzc/yolo11/YOLO11AllTraining/YOLO11s_Training/YOLO11s_Training/Predicted Output/predicted__DSC0119_JPG.rf.e26b9266ad778fd91fc1a6fe3faa7d74.jpg\n"
     ]
    }
   ],
   "source": [
    "# Directory containing Nikon images\n",
    "nikon_image_dir = '/media/mzc/e4fcae9b-7400-4641-a800-034f249f8d14/mzc/yolo11/NikonValidation/valid/images'\n",
    "\n",
    "# Iterate over each image in the Nikon dataset and run inference\n",
    "for image_file in os.listdir(nikon_image_dir):\n",
    "    if image_file.lower().endswith(('.png', '.jpg', '.jpeg')):  # Filter for image files\n",
    "        image_path = os.path.join(nikon_image_dir, image_file)\n",
    "        \n",
    "        # Run inference on the image\n",
    "        results = model(image_path)\n",
    "        \n",
    "        # Plot the result and save the output image\n",
    "        annotated_img = results[0].plot()\n",
    "\n",
    "        # Save the predicted image to the output directory\n",
    "        output_image_path = os.path.join(output_dir, f\"predicted_{image_file}\")\n",
    "        cv2.imwrite(output_image_path, annotated_img)\n",
    "\n",
    "        # Print success message for each saved image\n",
    "        print(f\"Predicted image saved: {output_image_path}\")\n"
   ]
  },
  {
   "cell_type": "code",
   "execution_count": 29,
   "id": "23ede00f-f413-4297-97af-dd204b560d40",
   "metadata": {},
   "outputs": [],
   "source": [
    "from ultralytics import YOLO\n",
    "import os\n",
    "import cv2\n",
    "import matplotlib.pyplot as plt\n",
    "from IPython.display import Image\n"
   ]
  },
  {
   "cell_type": "code",
   "execution_count": 30,
   "id": "bd115d74-caca-4961-8f24-09e52fbc438e",
   "metadata": {},
   "outputs": [],
   "source": [
    "# Path to the Nikon dataset YAML file\n",
    "data_path = '/media/mzc/e4fcae9b-7400-4641-a800-034f249f8d14/mzc/yolo11/NikonValidation/data.yaml'\n",
    "\n",
    "# Path to the trained YOLO11m model\n",
    "model_path = '/media/mzc/e4fcae9b-7400-4641-a800-034f249f8d14/mzc/yolo11/YOLO11AllTraining/YOLO11m_Training/YOLO11m_Training/weights/last.pt'\n",
    "\n",
    "# Directory to save YOLO11m predictions on Nikon images\n",
    "output_dir = '/media/mzc/e4fcae9b-7400-4641-a800-034f249f8d14/mzc/yolo11/YOLO11AllTraining/YOLO11m_Training/YOLO11m_Training/Predicted output'\n",
    "\n",
    "# Create the output directory if it doesn't exist\n",
    "os.makedirs(output_dir, exist_ok=True)\n"
   ]
  },
  {
   "cell_type": "code",
   "execution_count": 31,
   "id": "ea3b8a3c-ede4-4140-b3e6-1776d4f39eb3",
   "metadata": {},
   "outputs": [],
   "source": [
    "# Load the YOLO11m model\n",
    "model = YOLO(model_path)\n"
   ]
  },
  {
   "cell_type": "code",
   "execution_count": 32,
   "id": "77b4b3dc-6e4d-434e-b106-c0a98387e99c",
   "metadata": {},
   "outputs": [
    {
     "name": "stdout",
     "output_type": "stream",
     "text": [
      "Ultralytics 8.3.0 🚀 Python-3.11.7 torch-2.4.1+cu121 CUDA:0 (NVIDIA TITAN Xp COLLECTORS EDITION, 12189MiB)\n",
      "YOLO11m summary (fused): 303 layers, 20,030,803 parameters, 0 gradients, 67.6 GFLOPs\n"
     ]
    },
    {
     "name": "stderr",
     "output_type": "stream",
     "text": [
      "\u001b[34m\u001b[1mval: \u001b[0mScanning /media/mzc/e4fcae9b-7400-4641-a800-034f249f8d14/mzc/yolo11/NikonVa\u001b[0m\n",
      "                 Class     Images  Instances      Box(P          R      mAP50  m\n"
     ]
    },
    {
     "name": "stdout",
     "output_type": "stream",
     "text": [
      "                   all         43        134      0.809      0.821      0.879      0.507\n",
      "Speed: 0.2ms preprocess, 14.7ms inference, 0.0ms loss, 3.8ms postprocess per image\n",
      "Results saved to \u001b[1mruns/detect/val3\u001b[0m\n",
      "Validation Metrics:\n",
      "Precision: 0.8795\n",
      "Recall: 0.5074\n",
      "mAP@0.5: 0.8795\n",
      "mAP@0.5:0.95: 0.5074\n",
      "Preprocess Time: 0.1917 ms/image\n",
      "Inference Time: 14.6715 ms/image\n",
      "Post-process Time: 3.7507 ms/image\n"
     ]
    }
   ],
   "source": [
    "# Run validation on the Nikon dataset\n",
    "metrics = model.val(data=data_path)\n",
    "\n",
    "# Print detailed metrics (including preprocessing, inference, post-processing times)\n",
    "print(\"Validation Metrics:\")\n",
    "print(f\"Precision: {metrics.box.map50:.4f}\")\n",
    "print(f\"Recall: {metrics.box.map:.4f}\")\n",
    "print(f\"mAP@0.5: {metrics.box.map50:.4f}\")\n",
    "print(f\"mAP@0.5:0.95: {metrics.box.map:.4f}\")\n",
    "print(f\"Preprocess Time: {metrics.speed['preprocess']:.4f} ms/image\")\n",
    "print(f\"Inference Time: {metrics.speed['inference']:.4f} ms/image\")\n",
    "print(f\"Post-process Time: {metrics.speed['postprocess']:.4f} ms/image\")"
   ]
  },
  {
   "cell_type": "code",
   "execution_count": 33,
   "id": "19b24fe4-a965-4914-aa4e-6ef3d927fa50",
   "metadata": {},
   "outputs": [
    {
     "name": "stdout",
     "output_type": "stream",
     "text": [
      "\n",
      "image 1/1 /media/mzc/e4fcae9b-7400-4641-a800-034f249f8d14/mzc/yolo11/NikonValidation/valid/images/_DSC0034_JPG.rf.5a58b769346d9dc07b1d99eacce7d425.jpg: 640x640 2 0s, 18.2ms\n",
      "Speed: 2.5ms preprocess, 18.2ms inference, 1.3ms postprocess per image at shape (1, 3, 640, 640)\n",
      "Predicted image saved: /media/mzc/e4fcae9b-7400-4641-a800-034f249f8d14/mzc/yolo11/YOLO11AllTraining/YOLO11m_Training/YOLO11m_Training/Predicted output/predicted__DSC0034_JPG.rf.5a58b769346d9dc07b1d99eacce7d425.jpg\n",
      "\n",
      "image 1/1 /media/mzc/e4fcae9b-7400-4641-a800-034f249f8d14/mzc/yolo11/NikonValidation/valid/images/_DSC0020_JPG.rf.bac765b683591552946418fa8869e1a1.jpg: 640x640 1 0, 17.9ms\n",
      "Speed: 1.9ms preprocess, 17.9ms inference, 1.6ms postprocess per image at shape (1, 3, 640, 640)\n",
      "Predicted image saved: /media/mzc/e4fcae9b-7400-4641-a800-034f249f8d14/mzc/yolo11/YOLO11AllTraining/YOLO11m_Training/YOLO11m_Training/Predicted output/predicted__DSC0020_JPG.rf.bac765b683591552946418fa8869e1a1.jpg\n",
      "\n",
      "image 1/1 /media/mzc/e4fcae9b-7400-4641-a800-034f249f8d14/mzc/yolo11/NikonValidation/valid/images/_DSC0015_JPG.rf.02ac8329c2ca8146112f7d0735321346.jpg: 640x640 1 0, 19.1ms\n",
      "Speed: 1.9ms preprocess, 19.1ms inference, 1.7ms postprocess per image at shape (1, 3, 640, 640)\n",
      "Predicted image saved: /media/mzc/e4fcae9b-7400-4641-a800-034f249f8d14/mzc/yolo11/YOLO11AllTraining/YOLO11m_Training/YOLO11m_Training/Predicted output/predicted__DSC0015_JPG.rf.02ac8329c2ca8146112f7d0735321346.jpg\n",
      "\n",
      "image 1/1 /media/mzc/e4fcae9b-7400-4641-a800-034f249f8d14/mzc/yolo11/NikonValidation/valid/images/_DSC0266_JPG.rf.137d513556715eb5cc6877c658008e4f.jpg: 640x640 2 0s, 18.3ms\n",
      "Speed: 1.9ms preprocess, 18.3ms inference, 1.2ms postprocess per image at shape (1, 3, 640, 640)\n",
      "Predicted image saved: /media/mzc/e4fcae9b-7400-4641-a800-034f249f8d14/mzc/yolo11/YOLO11AllTraining/YOLO11m_Training/YOLO11m_Training/Predicted output/predicted__DSC0266_JPG.rf.137d513556715eb5cc6877c658008e4f.jpg\n",
      "\n",
      "image 1/1 /media/mzc/e4fcae9b-7400-4641-a800-034f249f8d14/mzc/yolo11/NikonValidation/valid/images/_DSC0258_JPG.rf.afae27e1884472caf3dc7ba05dd93f28.jpg: 640x640 2 0s, 18.0ms\n",
      "Speed: 2.0ms preprocess, 18.0ms inference, 1.2ms postprocess per image at shape (1, 3, 640, 640)\n",
      "Predicted image saved: /media/mzc/e4fcae9b-7400-4641-a800-034f249f8d14/mzc/yolo11/YOLO11AllTraining/YOLO11m_Training/YOLO11m_Training/Predicted output/predicted__DSC0258_JPG.rf.afae27e1884472caf3dc7ba05dd93f28.jpg\n",
      "\n",
      "image 1/1 /media/mzc/e4fcae9b-7400-4641-a800-034f249f8d14/mzc/yolo11/NikonValidation/valid/images/_DSC0024_JPG.rf.69e9a1ec59448f0772d72852cf4f8253.jpg: 640x640 3 0s, 19.0ms\n",
      "Speed: 2.0ms preprocess, 19.0ms inference, 1.3ms postprocess per image at shape (1, 3, 640, 640)\n",
      "Predicted image saved: /media/mzc/e4fcae9b-7400-4641-a800-034f249f8d14/mzc/yolo11/YOLO11AllTraining/YOLO11m_Training/YOLO11m_Training/Predicted output/predicted__DSC0024_JPG.rf.69e9a1ec59448f0772d72852cf4f8253.jpg\n",
      "\n",
      "image 1/1 /media/mzc/e4fcae9b-7400-4641-a800-034f249f8d14/mzc/yolo11/NikonValidation/valid/images/_DSC0298_JPG.rf.190fb6874533f0ca5a4d87de70b6f77b.jpg: 640x640 7 0s, 17.9ms\n",
      "Speed: 1.9ms preprocess, 17.9ms inference, 1.4ms postprocess per image at shape (1, 3, 640, 640)\n",
      "Predicted image saved: /media/mzc/e4fcae9b-7400-4641-a800-034f249f8d14/mzc/yolo11/YOLO11AllTraining/YOLO11m_Training/YOLO11m_Training/Predicted output/predicted__DSC0298_JPG.rf.190fb6874533f0ca5a4d87de70b6f77b.jpg\n",
      "\n",
      "image 1/1 /media/mzc/e4fcae9b-7400-4641-a800-034f249f8d14/mzc/yolo11/NikonValidation/valid/images/_DSC0257_JPG.rf.4640e162d8949c292b7a494fa6b97b3e.jpg: 640x640 2 0s, 17.4ms\n",
      "Speed: 1.9ms preprocess, 17.4ms inference, 1.2ms postprocess per image at shape (1, 3, 640, 640)\n",
      "Predicted image saved: /media/mzc/e4fcae9b-7400-4641-a800-034f249f8d14/mzc/yolo11/YOLO11AllTraining/YOLO11m_Training/YOLO11m_Training/Predicted output/predicted__DSC0257_JPG.rf.4640e162d8949c292b7a494fa6b97b3e.jpg\n",
      "\n",
      "image 1/1 /media/mzc/e4fcae9b-7400-4641-a800-034f249f8d14/mzc/yolo11/NikonValidation/valid/images/_DSC0114_JPG.rf.8796e5986a99df432a8257493ec93686.jpg: 640x640 5 0s, 17.5ms\n",
      "Speed: 2.1ms preprocess, 17.5ms inference, 1.5ms postprocess per image at shape (1, 3, 640, 640)\n",
      "Predicted image saved: /media/mzc/e4fcae9b-7400-4641-a800-034f249f8d14/mzc/yolo11/YOLO11AllTraining/YOLO11m_Training/YOLO11m_Training/Predicted output/predicted__DSC0114_JPG.rf.8796e5986a99df432a8257493ec93686.jpg\n",
      "\n",
      "image 1/1 /media/mzc/e4fcae9b-7400-4641-a800-034f249f8d14/mzc/yolo11/NikonValidation/valid/images/_DSC0063_JPG.rf.1eb981b9b7413774bdcf91330c337a63.jpg: 640x640 2 0s, 16.3ms\n",
      "Speed: 1.9ms preprocess, 16.3ms inference, 1.4ms postprocess per image at shape (1, 3, 640, 640)\n",
      "Predicted image saved: /media/mzc/e4fcae9b-7400-4641-a800-034f249f8d14/mzc/yolo11/YOLO11AllTraining/YOLO11m_Training/YOLO11m_Training/Predicted output/predicted__DSC0063_JPG.rf.1eb981b9b7413774bdcf91330c337a63.jpg\n",
      "\n",
      "image 1/1 /media/mzc/e4fcae9b-7400-4641-a800-034f249f8d14/mzc/yolo11/NikonValidation/valid/images/_DSC0040_JPG.rf.13464319936ad2de63af36f7065f1b36.jpg: 640x640 2 0s, 16.4ms\n",
      "Speed: 1.9ms preprocess, 16.4ms inference, 1.2ms postprocess per image at shape (1, 3, 640, 640)\n",
      "Predicted image saved: /media/mzc/e4fcae9b-7400-4641-a800-034f249f8d14/mzc/yolo11/YOLO11AllTraining/YOLO11m_Training/YOLO11m_Training/Predicted output/predicted__DSC0040_JPG.rf.13464319936ad2de63af36f7065f1b36.jpg\n",
      "\n",
      "image 1/1 /media/mzc/e4fcae9b-7400-4641-a800-034f249f8d14/mzc/yolo11/NikonValidation/valid/images/_DSC0318_JPG.rf.1ba678742b1e55907d7cbe4d7aaaaf0b.jpg: 640x640 4 0s, 16.6ms\n",
      "Speed: 1.9ms preprocess, 16.6ms inference, 1.3ms postprocess per image at shape (1, 3, 640, 640)\n",
      "Predicted image saved: /media/mzc/e4fcae9b-7400-4641-a800-034f249f8d14/mzc/yolo11/YOLO11AllTraining/YOLO11m_Training/YOLO11m_Training/Predicted output/predicted__DSC0318_JPG.rf.1ba678742b1e55907d7cbe4d7aaaaf0b.jpg\n",
      "\n",
      "image 1/1 /media/mzc/e4fcae9b-7400-4641-a800-034f249f8d14/mzc/yolo11/NikonValidation/valid/images/_DSC0295_JPG.rf.bd9be1080d9c34580556de81e4b1d4af.jpg: 640x640 4 0s, 16.5ms\n",
      "Speed: 2.0ms preprocess, 16.5ms inference, 1.4ms postprocess per image at shape (1, 3, 640, 640)\n",
      "Predicted image saved: /media/mzc/e4fcae9b-7400-4641-a800-034f249f8d14/mzc/yolo11/YOLO11AllTraining/YOLO11m_Training/YOLO11m_Training/Predicted output/predicted__DSC0295_JPG.rf.bd9be1080d9c34580556de81e4b1d4af.jpg\n",
      "\n",
      "image 1/1 /media/mzc/e4fcae9b-7400-4641-a800-034f249f8d14/mzc/yolo11/NikonValidation/valid/images/_DSC0112_JPG.rf.6754453d82d4732b5642f94548458ef1.jpg: 640x640 2 0s, 15.9ms\n",
      "Speed: 1.9ms preprocess, 15.9ms inference, 1.2ms postprocess per image at shape (1, 3, 640, 640)\n",
      "Predicted image saved: /media/mzc/e4fcae9b-7400-4641-a800-034f249f8d14/mzc/yolo11/YOLO11AllTraining/YOLO11m_Training/YOLO11m_Training/Predicted output/predicted__DSC0112_JPG.rf.6754453d82d4732b5642f94548458ef1.jpg\n",
      "\n",
      "image 1/1 /media/mzc/e4fcae9b-7400-4641-a800-034f249f8d14/mzc/yolo11/NikonValidation/valid/images/_DSC0045_JPG.rf.78ed8f87c942b3560b9d47413b0f99f6.jpg: 640x640 4 0s, 15.3ms\n",
      "Speed: 1.8ms preprocess, 15.3ms inference, 1.1ms postprocess per image at shape (1, 3, 640, 640)\n",
      "Predicted image saved: /media/mzc/e4fcae9b-7400-4641-a800-034f249f8d14/mzc/yolo11/YOLO11AllTraining/YOLO11m_Training/YOLO11m_Training/Predicted output/predicted__DSC0045_JPG.rf.78ed8f87c942b3560b9d47413b0f99f6.jpg\n",
      "\n",
      "image 1/1 /media/mzc/e4fcae9b-7400-4641-a800-034f249f8d14/mzc/yolo11/NikonValidation/valid/images/_DSC0058_JPG.rf.d344b3f6e0431cadfb48aca5250e562b.jpg: 640x640 2 0s, 14.9ms\n",
      "Speed: 1.9ms preprocess, 14.9ms inference, 1.2ms postprocess per image at shape (1, 3, 640, 640)\n",
      "Predicted image saved: /media/mzc/e4fcae9b-7400-4641-a800-034f249f8d14/mzc/yolo11/YOLO11AllTraining/YOLO11m_Training/YOLO11m_Training/Predicted output/predicted__DSC0058_JPG.rf.d344b3f6e0431cadfb48aca5250e562b.jpg\n",
      "\n",
      "image 1/1 /media/mzc/e4fcae9b-7400-4641-a800-034f249f8d14/mzc/yolo11/NikonValidation/valid/images/_DSC0319_JPG.rf.d04125841deef716339a5c4da3595633.jpg: 640x640 5 0s, 15.4ms\n",
      "Speed: 1.8ms preprocess, 15.4ms inference, 1.2ms postprocess per image at shape (1, 3, 640, 640)\n",
      "Predicted image saved: /media/mzc/e4fcae9b-7400-4641-a800-034f249f8d14/mzc/yolo11/YOLO11AllTraining/YOLO11m_Training/YOLO11m_Training/Predicted output/predicted__DSC0319_JPG.rf.d04125841deef716339a5c4da3595633.jpg\n",
      "\n",
      "image 1/1 /media/mzc/e4fcae9b-7400-4641-a800-034f249f8d14/mzc/yolo11/NikonValidation/valid/images/_DSC0123_JPG.rf.ec388f2ffca1c50e32e1f7e7bbe12bee.jpg: 640x640 2 0s, 15.0ms\n",
      "Speed: 1.9ms preprocess, 15.0ms inference, 1.1ms postprocess per image at shape (1, 3, 640, 640)\n",
      "Predicted image saved: /media/mzc/e4fcae9b-7400-4641-a800-034f249f8d14/mzc/yolo11/YOLO11AllTraining/YOLO11m_Training/YOLO11m_Training/Predicted output/predicted__DSC0123_JPG.rf.ec388f2ffca1c50e32e1f7e7bbe12bee.jpg\n",
      "\n",
      "image 1/1 /media/mzc/e4fcae9b-7400-4641-a800-034f249f8d14/mzc/yolo11/NikonValidation/valid/images/_DSC0294_JPG.rf.b9e8beed9df03cff48737ca71275f6eb.jpg: 640x640 4 0s, 15.3ms\n",
      "Speed: 1.8ms preprocess, 15.3ms inference, 1.5ms postprocess per image at shape (1, 3, 640, 640)\n",
      "Predicted image saved: /media/mzc/e4fcae9b-7400-4641-a800-034f249f8d14/mzc/yolo11/YOLO11AllTraining/YOLO11m_Training/YOLO11m_Training/Predicted output/predicted__DSC0294_JPG.rf.b9e8beed9df03cff48737ca71275f6eb.jpg\n",
      "\n",
      "image 1/1 /media/mzc/e4fcae9b-7400-4641-a800-034f249f8d14/mzc/yolo11/NikonValidation/valid/images/_DSC0036_JPG.rf.591296db99f44200fcaec9af6372fd9c.jpg: 640x640 6 0s, 15.4ms\n",
      "Speed: 2.1ms preprocess, 15.4ms inference, 1.1ms postprocess per image at shape (1, 3, 640, 640)\n",
      "Predicted image saved: /media/mzc/e4fcae9b-7400-4641-a800-034f249f8d14/mzc/yolo11/YOLO11AllTraining/YOLO11m_Training/YOLO11m_Training/Predicted output/predicted__DSC0036_JPG.rf.591296db99f44200fcaec9af6372fd9c.jpg\n",
      "\n",
      "image 1/1 /media/mzc/e4fcae9b-7400-4641-a800-034f249f8d14/mzc/yolo11/NikonValidation/valid/images/_DSC0301_JPG.rf.966a5dd3b529e09a1d36e73451803992.jpg: 640x640 3 0s, 12.9ms\n",
      "Speed: 1.9ms preprocess, 12.9ms inference, 1.4ms postprocess per image at shape (1, 3, 640, 640)\n",
      "Predicted image saved: /media/mzc/e4fcae9b-7400-4641-a800-034f249f8d14/mzc/yolo11/YOLO11AllTraining/YOLO11m_Training/YOLO11m_Training/Predicted output/predicted__DSC0301_JPG.rf.966a5dd3b529e09a1d36e73451803992.jpg\n",
      "\n",
      "image 1/1 /media/mzc/e4fcae9b-7400-4641-a800-034f249f8d14/mzc/yolo11/NikonValidation/valid/images/_DSC0087_JPG.rf.afe577468a07bdb5b4fc06694f13b6d5.jpg: 640x640 3 0s, 13.7ms\n",
      "Speed: 1.8ms preprocess, 13.7ms inference, 1.3ms postprocess per image at shape (1, 3, 640, 640)\n",
      "Predicted image saved: /media/mzc/e4fcae9b-7400-4641-a800-034f249f8d14/mzc/yolo11/YOLO11AllTraining/YOLO11m_Training/YOLO11m_Training/Predicted output/predicted__DSC0087_JPG.rf.afe577468a07bdb5b4fc06694f13b6d5.jpg\n",
      "\n",
      "image 1/1 /media/mzc/e4fcae9b-7400-4641-a800-034f249f8d14/mzc/yolo11/NikonValidation/valid/images/_DSC0060_JPG.rf.33a96c77dc7652ecf514917fed58adbd.jpg: 640x640 3 0s, 13.4ms\n",
      "Speed: 1.9ms preprocess, 13.4ms inference, 1.4ms postprocess per image at shape (1, 3, 640, 640)\n",
      "Predicted image saved: /media/mzc/e4fcae9b-7400-4641-a800-034f249f8d14/mzc/yolo11/YOLO11AllTraining/YOLO11m_Training/YOLO11m_Training/Predicted output/predicted__DSC0060_JPG.rf.33a96c77dc7652ecf514917fed58adbd.jpg\n",
      "\n",
      "image 1/1 /media/mzc/e4fcae9b-7400-4641-a800-034f249f8d14/mzc/yolo11/NikonValidation/valid/images/_DSC0008_JPG.rf.f04c82c383597e7bc433f4a105278694.jpg: 640x640 4 0s, 13.7ms\n",
      "Speed: 1.8ms preprocess, 13.7ms inference, 1.4ms postprocess per image at shape (1, 3, 640, 640)\n",
      "Predicted image saved: /media/mzc/e4fcae9b-7400-4641-a800-034f249f8d14/mzc/yolo11/YOLO11AllTraining/YOLO11m_Training/YOLO11m_Training/Predicted output/predicted__DSC0008_JPG.rf.f04c82c383597e7bc433f4a105278694.jpg\n",
      "\n",
      "image 1/1 /media/mzc/e4fcae9b-7400-4641-a800-034f249f8d14/mzc/yolo11/NikonValidation/valid/images/_DSC0293_JPG.rf.de39779de634c24fa1015db76dd5526a.jpg: 640x640 5 0s, 13.4ms\n",
      "Speed: 2.3ms preprocess, 13.4ms inference, 1.8ms postprocess per image at shape (1, 3, 640, 640)\n",
      "Predicted image saved: /media/mzc/e4fcae9b-7400-4641-a800-034f249f8d14/mzc/yolo11/YOLO11AllTraining/YOLO11m_Training/YOLO11m_Training/Predicted output/predicted__DSC0293_JPG.rf.de39779de634c24fa1015db76dd5526a.jpg\n",
      "\n",
      "image 1/1 /media/mzc/e4fcae9b-7400-4641-a800-034f249f8d14/mzc/yolo11/NikonValidation/valid/images/_DSC0243_JPG.rf.e438f26bceaf3a802e64d8912a9ebbfd.jpg: 640x640 3 0s, 13.4ms\n",
      "Speed: 1.9ms preprocess, 13.4ms inference, 1.6ms postprocess per image at shape (1, 3, 640, 640)\n",
      "Predicted image saved: /media/mzc/e4fcae9b-7400-4641-a800-034f249f8d14/mzc/yolo11/YOLO11AllTraining/YOLO11m_Training/YOLO11m_Training/Predicted output/predicted__DSC0243_JPG.rf.e438f26bceaf3a802e64d8912a9ebbfd.jpg\n",
      "\n",
      "image 1/1 /media/mzc/e4fcae9b-7400-4641-a800-034f249f8d14/mzc/yolo11/NikonValidation/valid/images/_DSC0291_JPG.rf.5ef8963b80457fb6c0dd0839fa390f67.jpg: 640x640 9 0s, 13.6ms\n",
      "Speed: 2.2ms preprocess, 13.6ms inference, 1.1ms postprocess per image at shape (1, 3, 640, 640)\n",
      "Predicted image saved: /media/mzc/e4fcae9b-7400-4641-a800-034f249f8d14/mzc/yolo11/YOLO11AllTraining/YOLO11m_Training/YOLO11m_Training/Predicted output/predicted__DSC0291_JPG.rf.5ef8963b80457fb6c0dd0839fa390f67.jpg\n",
      "\n",
      "image 1/1 /media/mzc/e4fcae9b-7400-4641-a800-034f249f8d14/mzc/yolo11/NikonValidation/valid/images/_DSC0014_JPG.rf.b3ffe567405a0f0966e534fe77d00a8a.jpg: 640x640 (no detections), 13.8ms\n",
      "Speed: 1.8ms preprocess, 13.8ms inference, 0.5ms postprocess per image at shape (1, 3, 640, 640)\n",
      "Predicted image saved: /media/mzc/e4fcae9b-7400-4641-a800-034f249f8d14/mzc/yolo11/YOLO11AllTraining/YOLO11m_Training/YOLO11m_Training/Predicted output/predicted__DSC0014_JPG.rf.b3ffe567405a0f0966e534fe77d00a8a.jpg\n",
      "\n",
      "image 1/1 /media/mzc/e4fcae9b-7400-4641-a800-034f249f8d14/mzc/yolo11/NikonValidation/valid/images/_DSC0026_JPG.rf.7afcc06b3976657ba0c2b66675e359cf.jpg: 640x640 5 0s, 13.7ms\n",
      "Speed: 1.9ms preprocess, 13.7ms inference, 1.3ms postprocess per image at shape (1, 3, 640, 640)\n",
      "Predicted image saved: /media/mzc/e4fcae9b-7400-4641-a800-034f249f8d14/mzc/yolo11/YOLO11AllTraining/YOLO11m_Training/YOLO11m_Training/Predicted output/predicted__DSC0026_JPG.rf.7afcc06b3976657ba0c2b66675e359cf.jpg\n",
      "\n",
      "image 1/1 /media/mzc/e4fcae9b-7400-4641-a800-034f249f8d14/mzc/yolo11/NikonValidation/valid/images/_DSC0259_JPG.rf.c7688b22d1f06395bcd3fdf212c3c407.jpg: 640x640 3 0s, 13.4ms\n",
      "Speed: 1.8ms preprocess, 13.4ms inference, 1.1ms postprocess per image at shape (1, 3, 640, 640)\n",
      "Predicted image saved: /media/mzc/e4fcae9b-7400-4641-a800-034f249f8d14/mzc/yolo11/YOLO11AllTraining/YOLO11m_Training/YOLO11m_Training/Predicted output/predicted__DSC0259_JPG.rf.c7688b22d1f06395bcd3fdf212c3c407.jpg\n",
      "\n",
      "image 1/1 /media/mzc/e4fcae9b-7400-4641-a800-034f249f8d14/mzc/yolo11/NikonValidation/valid/images/_DSC0013_JPG.rf.c145f30ced97d55ff0c2b28f9a8bb089.jpg: 640x640 6 0s, 13.5ms\n",
      "Speed: 1.8ms preprocess, 13.5ms inference, 1.1ms postprocess per image at shape (1, 3, 640, 640)\n",
      "Predicted image saved: /media/mzc/e4fcae9b-7400-4641-a800-034f249f8d14/mzc/yolo11/YOLO11AllTraining/YOLO11m_Training/YOLO11m_Training/Predicted output/predicted__DSC0013_JPG.rf.c145f30ced97d55ff0c2b28f9a8bb089.jpg\n",
      "\n",
      "image 1/1 /media/mzc/e4fcae9b-7400-4641-a800-034f249f8d14/mzc/yolo11/NikonValidation/valid/images/_DSC0317_JPG.rf.8368699f3b8321361f99de0d8ef1d129.jpg: 640x640 3 0s, 14.0ms\n",
      "Speed: 1.8ms preprocess, 14.0ms inference, 1.2ms postprocess per image at shape (1, 3, 640, 640)\n",
      "Predicted image saved: /media/mzc/e4fcae9b-7400-4641-a800-034f249f8d14/mzc/yolo11/YOLO11AllTraining/YOLO11m_Training/YOLO11m_Training/Predicted output/predicted__DSC0317_JPG.rf.8368699f3b8321361f99de0d8ef1d129.jpg\n",
      "\n",
      "image 1/1 /media/mzc/e4fcae9b-7400-4641-a800-034f249f8d14/mzc/yolo11/NikonValidation/valid/images/_DSC0232_JPG.rf.ac10bc7c6dc3a831ea302bcbe29e08df.jpg: 640x640 4 0s, 13.9ms\n",
      "Speed: 2.1ms preprocess, 13.9ms inference, 1.1ms postprocess per image at shape (1, 3, 640, 640)\n",
      "Predicted image saved: /media/mzc/e4fcae9b-7400-4641-a800-034f249f8d14/mzc/yolo11/YOLO11AllTraining/YOLO11m_Training/YOLO11m_Training/Predicted output/predicted__DSC0232_JPG.rf.ac10bc7c6dc3a831ea302bcbe29e08df.jpg\n",
      "\n",
      "image 1/1 /media/mzc/e4fcae9b-7400-4641-a800-034f249f8d14/mzc/yolo11/NikonValidation/valid/images/_DSC0096_JPG.rf.e37ad017172a627d02e3ab497f3324ff.jpg: 640x640 2 0s, 13.7ms\n",
      "Speed: 1.8ms preprocess, 13.7ms inference, 1.2ms postprocess per image at shape (1, 3, 640, 640)\n",
      "Predicted image saved: /media/mzc/e4fcae9b-7400-4641-a800-034f249f8d14/mzc/yolo11/YOLO11AllTraining/YOLO11m_Training/YOLO11m_Training/Predicted output/predicted__DSC0096_JPG.rf.e37ad017172a627d02e3ab497f3324ff.jpg\n",
      "\n",
      "image 1/1 /media/mzc/e4fcae9b-7400-4641-a800-034f249f8d14/mzc/yolo11/NikonValidation/valid/images/_DSC0309_JPG.rf.b93ac5656161213ac8579843318cb399.jpg: 640x640 1 0, 14.0ms\n",
      "Speed: 1.6ms preprocess, 14.0ms inference, 1.1ms postprocess per image at shape (1, 3, 640, 640)\n",
      "Predicted image saved: /media/mzc/e4fcae9b-7400-4641-a800-034f249f8d14/mzc/yolo11/YOLO11AllTraining/YOLO11m_Training/YOLO11m_Training/Predicted output/predicted__DSC0309_JPG.rf.b93ac5656161213ac8579843318cb399.jpg\n",
      "\n",
      "image 1/1 /media/mzc/e4fcae9b-7400-4641-a800-034f249f8d14/mzc/yolo11/NikonValidation/valid/images/_DSC0046_JPG.rf.1e51d47f76fd8292a2e1a9bff15e97e9.jpg: 640x640 4 0s, 13.7ms\n",
      "Speed: 1.6ms preprocess, 13.7ms inference, 1.1ms postprocess per image at shape (1, 3, 640, 640)\n",
      "Predicted image saved: /media/mzc/e4fcae9b-7400-4641-a800-034f249f8d14/mzc/yolo11/YOLO11AllTraining/YOLO11m_Training/YOLO11m_Training/Predicted output/predicted__DSC0046_JPG.rf.1e51d47f76fd8292a2e1a9bff15e97e9.jpg\n",
      "\n",
      "image 1/1 /media/mzc/e4fcae9b-7400-4641-a800-034f249f8d14/mzc/yolo11/NikonValidation/valid/images/_DSC0029_JPG.rf.c150603490cf9eff38dfa10945899840.jpg: 640x640 1 0, 13.7ms\n",
      "Speed: 1.6ms preprocess, 13.7ms inference, 0.9ms postprocess per image at shape (1, 3, 640, 640)\n",
      "Predicted image saved: /media/mzc/e4fcae9b-7400-4641-a800-034f249f8d14/mzc/yolo11/YOLO11AllTraining/YOLO11m_Training/YOLO11m_Training/Predicted output/predicted__DSC0029_JPG.rf.c150603490cf9eff38dfa10945899840.jpg\n",
      "\n",
      "image 1/1 /media/mzc/e4fcae9b-7400-4641-a800-034f249f8d14/mzc/yolo11/NikonValidation/valid/images/_DSC0021_JPG.rf.10f3e80e0a2ac9cba6c99277657f65d4.jpg: 640x640 2 0s, 13.8ms\n",
      "Speed: 1.8ms preprocess, 13.8ms inference, 1.0ms postprocess per image at shape (1, 3, 640, 640)\n",
      "Predicted image saved: /media/mzc/e4fcae9b-7400-4641-a800-034f249f8d14/mzc/yolo11/YOLO11AllTraining/YOLO11m_Training/YOLO11m_Training/Predicted output/predicted__DSC0021_JPG.rf.10f3e80e0a2ac9cba6c99277657f65d4.jpg\n",
      "\n",
      "image 1/1 /media/mzc/e4fcae9b-7400-4641-a800-034f249f8d14/mzc/yolo11/NikonValidation/valid/images/_DSC0023_JPG.rf.ffc258f255aaf51453407943b980bf0b.jpg: 640x640 1 0, 13.4ms\n",
      "Speed: 1.7ms preprocess, 13.4ms inference, 1.3ms postprocess per image at shape (1, 3, 640, 640)\n",
      "Predicted image saved: /media/mzc/e4fcae9b-7400-4641-a800-034f249f8d14/mzc/yolo11/YOLO11AllTraining/YOLO11m_Training/YOLO11m_Training/Predicted output/predicted__DSC0023_JPG.rf.ffc258f255aaf51453407943b980bf0b.jpg\n",
      "\n",
      "image 1/1 /media/mzc/e4fcae9b-7400-4641-a800-034f249f8d14/mzc/yolo11/NikonValidation/valid/images/_DSC0292_JPG.rf.712d91c2e984abcc3d0dbbcb5efe8a8f.jpg: 640x640 7 0s, 13.9ms\n",
      "Speed: 1.5ms preprocess, 13.9ms inference, 1.0ms postprocess per image at shape (1, 3, 640, 640)\n",
      "Predicted image saved: /media/mzc/e4fcae9b-7400-4641-a800-034f249f8d14/mzc/yolo11/YOLO11AllTraining/YOLO11m_Training/YOLO11m_Training/Predicted output/predicted__DSC0292_JPG.rf.712d91c2e984abcc3d0dbbcb5efe8a8f.jpg\n",
      "\n",
      "image 1/1 /media/mzc/e4fcae9b-7400-4641-a800-034f249f8d14/mzc/yolo11/NikonValidation/valid/images/_DSC0085_JPG.rf.38b0df074b1ea30940c31ee1cfbcb51f.jpg: 640x640 4 0s, 13.1ms\n",
      "Speed: 1.7ms preprocess, 13.1ms inference, 0.9ms postprocess per image at shape (1, 3, 640, 640)\n",
      "Predicted image saved: /media/mzc/e4fcae9b-7400-4641-a800-034f249f8d14/mzc/yolo11/YOLO11AllTraining/YOLO11m_Training/YOLO11m_Training/Predicted output/predicted__DSC0085_JPG.rf.38b0df074b1ea30940c31ee1cfbcb51f.jpg\n",
      "\n",
      "image 1/1 /media/mzc/e4fcae9b-7400-4641-a800-034f249f8d14/mzc/yolo11/NikonValidation/valid/images/_DSC0044_JPG.rf.3c53e65445108f6c544e9943091f4a16.jpg: 640x640 5 0s, 13.8ms\n",
      "Speed: 1.6ms preprocess, 13.8ms inference, 1.0ms postprocess per image at shape (1, 3, 640, 640)\n",
      "Predicted image saved: /media/mzc/e4fcae9b-7400-4641-a800-034f249f8d14/mzc/yolo11/YOLO11AllTraining/YOLO11m_Training/YOLO11m_Training/Predicted output/predicted__DSC0044_JPG.rf.3c53e65445108f6c544e9943091f4a16.jpg\n",
      "\n",
      "image 1/1 /media/mzc/e4fcae9b-7400-4641-a800-034f249f8d14/mzc/yolo11/NikonValidation/valid/images/_DSC0119_JPG.rf.e26b9266ad778fd91fc1a6fe3faa7d74.jpg: 640x640 1 0, 14.2ms\n",
      "Speed: 1.8ms preprocess, 14.2ms inference, 1.1ms postprocess per image at shape (1, 3, 640, 640)\n",
      "Predicted image saved: /media/mzc/e4fcae9b-7400-4641-a800-034f249f8d14/mzc/yolo11/YOLO11AllTraining/YOLO11m_Training/YOLO11m_Training/Predicted output/predicted__DSC0119_JPG.rf.e26b9266ad778fd91fc1a6fe3faa7d74.jpg\n"
     ]
    }
   ],
   "source": [
    "# Directory containing Nikon images\n",
    "nikon_image_dir = '/media/mzc/e4fcae9b-7400-4641-a800-034f249f8d14/mzc/yolo11/NikonValidation/valid/images'\n",
    "\n",
    "# Iterate over each image in the Nikon dataset and run inference\n",
    "for image_file in os.listdir(nikon_image_dir):\n",
    "    if image_file.lower().endswith(('.png', '.jpg', '.jpeg')):  # Filter for image files\n",
    "        image_path = os.path.join(nikon_image_dir, image_file)\n",
    "        \n",
    "        # Run inference on the image\n",
    "        results = model(image_path)\n",
    "        \n",
    "        # Plot the result and save the output image\n",
    "        annotated_img = results[0].plot()\n",
    "\n",
    "        # Save the predicted image to the output directory\n",
    "        output_image_path = os.path.join(output_dir, f\"predicted_{image_file}\")\n",
    "        cv2.imwrite(output_image_path, annotated_img)\n",
    "\n",
    "        # Print success message for each saved image\n",
    "        print(f\"Predicted image saved: {output_image_path}\")\n"
   ]
  },
  {
   "cell_type": "code",
   "execution_count": 1,
   "id": "925d2245-4d48-4042-853e-9e7108e0b65c",
   "metadata": {},
   "outputs": [],
   "source": [
    "from ultralytics import YOLO\n",
    "import os\n",
    "import cv2\n",
    "import matplotlib.pyplot as plt\n",
    "from IPython.display import Image\n"
   ]
  },
  {
   "cell_type": "code",
   "execution_count": 2,
   "id": "1162227e-00fc-4f7b-a23e-a8723dbe7f00",
   "metadata": {},
   "outputs": [],
   "source": [
    "# Path to the Nikon dataset YAML file\n",
    "data_path = '/media/mzc/e4fcae9b-7400-4641-a800-034f249f8d14/mzc/yolo11/NikonValidation/data.yaml'\n",
    "\n",
    "# Path to the trained YOLO11L model\n",
    "model_path = '/media/mzc/e4fcae9b-7400-4641-a800-034f249f8d14/mzc/yolo11/YOLO11AllTraining/YOLO11L_Training/weights/last.pt'\n",
    "\n",
    "# Directory to save YOLO11L predictions on Nikon images\n",
    "output_dir = '/media/mzc/e4fcae9b-7400-4641-a800-034f249f8d14/mzc/yolo11/YOLO11AllTraining/YOLO11L_Training/Predicted Output'\n",
    "\n",
    "# Create the output directory if it doesn't exist\n",
    "os.makedirs(output_dir, exist_ok=True)\n"
   ]
  },
  {
   "cell_type": "code",
   "execution_count": 3,
   "id": "0e7ee27b-134e-41cc-bebb-cd0fc9bb30d1",
   "metadata": {},
   "outputs": [],
   "source": [
    "# Load the YOLO11L model\n",
    "model = YOLO(model_path)\n"
   ]
  },
  {
   "cell_type": "code",
   "execution_count": 4,
   "id": "7ab36e5e-eb0f-4c30-bf6a-d952652359d1",
   "metadata": {},
   "outputs": [
    {
     "name": "stdout",
     "output_type": "stream",
     "text": [
      "Ultralytics 8.3.0 🚀 Python-3.11.7 torch-2.4.1+cu121 CUDA:0 (NVIDIA TITAN Xp COLLECTORS EDITION, 12189MiB)\n",
      "YOLO11l summary (fused): 464 layers, 25,280,083 parameters, 0 gradients, 86.6 GFLOPs\n"
     ]
    },
    {
     "name": "stderr",
     "output_type": "stream",
     "text": [
      "\u001b[34m\u001b[1mval: \u001b[0mScanning /media/mzc/e4fcae9b-7400-4641-a800-034f249f8d14/mzc/yolo11/NikonVa\u001b[0m\n",
      "                 Class     Images  Instances      Box(P          R      mAP50  m\n"
     ]
    },
    {
     "name": "stdout",
     "output_type": "stream",
     "text": [
      "                   all         43        134      0.836      0.877      0.866      0.514\n",
      "Speed: 2.9ms preprocess, 16.3ms inference, 0.0ms loss, 10.7ms postprocess per image\n",
      "Results saved to \u001b[1mruns/detect/val4\u001b[0m\n",
      "Validation Metrics:\n",
      "Precision: 0.8661\n",
      "Recall: 0.5136\n",
      "mAP@0.5: 0.8661\n",
      "mAP@0.5:0.95: 0.5136\n",
      "Preprocess Time: 2.9085 ms/image\n",
      "Inference Time: 16.2785 ms/image\n",
      "Post-process Time: 10.6599 ms/image\n"
     ]
    }
   ],
   "source": [
    "# Run validation on the Nikon dataset\n",
    "metrics = model.val(data=data_path)\n",
    "\n",
    "# Print detailed metrics (including preprocessing, inference, post-processing times)\n",
    "print(\"Validation Metrics:\")\n",
    "print(f\"Precision: {metrics.box.map50:.4f}\")\n",
    "print(f\"Recall: {metrics.box.map:.4f}\")\n",
    "print(f\"mAP@0.5: {metrics.box.map50:.4f}\")\n",
    "print(f\"mAP@0.5:0.95: {metrics.box.map:.4f}\")\n",
    "print(f\"Preprocess Time: {metrics.speed['preprocess']:.4f} ms/image\")\n",
    "print(f\"Inference Time: {metrics.speed['inference']:.4f} ms/image\")\n",
    "print(f\"Post-process Time: {metrics.speed['postprocess']:.4f} ms/image\")\n"
   ]
  },
  {
   "cell_type": "code",
   "execution_count": 5,
   "id": "4fc27dbd-4fb9-4c39-b4ca-885b6c66699d",
   "metadata": {},
   "outputs": [
    {
     "name": "stdout",
     "output_type": "stream",
     "text": [
      "\n",
      "image 1/1 /media/mzc/e4fcae9b-7400-4641-a800-034f249f8d14/mzc/yolo11/NikonValidation/valid/images/_DSC0034_JPG.rf.5a58b769346d9dc07b1d99eacce7d425.jpg: 640x640 3 0s, 23.5ms\n",
      "Speed: 2.0ms preprocess, 23.5ms inference, 1.5ms postprocess per image at shape (1, 3, 640, 640)\n",
      "Predicted image saved: /media/mzc/e4fcae9b-7400-4641-a800-034f249f8d14/mzc/yolo11/YOLO11AllTraining/YOLO11L_Training/Predicted Output/predicted__DSC0034_JPG.rf.5a58b769346d9dc07b1d99eacce7d425.jpg\n",
      "\n",
      "image 1/1 /media/mzc/e4fcae9b-7400-4641-a800-034f249f8d14/mzc/yolo11/NikonValidation/valid/images/_DSC0020_JPG.rf.bac765b683591552946418fa8869e1a1.jpg: 640x640 1 0, 24.0ms\n",
      "Speed: 1.9ms preprocess, 24.0ms inference, 1.4ms postprocess per image at shape (1, 3, 640, 640)\n",
      "Predicted image saved: /media/mzc/e4fcae9b-7400-4641-a800-034f249f8d14/mzc/yolo11/YOLO11AllTraining/YOLO11L_Training/Predicted Output/predicted__DSC0020_JPG.rf.bac765b683591552946418fa8869e1a1.jpg\n",
      "\n",
      "image 1/1 /media/mzc/e4fcae9b-7400-4641-a800-034f249f8d14/mzc/yolo11/NikonValidation/valid/images/_DSC0015_JPG.rf.02ac8329c2ca8146112f7d0735321346.jpg: 640x640 2 0s, 25.2ms\n",
      "Speed: 1.9ms preprocess, 25.2ms inference, 1.8ms postprocess per image at shape (1, 3, 640, 640)\n",
      "Predicted image saved: /media/mzc/e4fcae9b-7400-4641-a800-034f249f8d14/mzc/yolo11/YOLO11AllTraining/YOLO11L_Training/Predicted Output/predicted__DSC0015_JPG.rf.02ac8329c2ca8146112f7d0735321346.jpg\n",
      "\n",
      "image 1/1 /media/mzc/e4fcae9b-7400-4641-a800-034f249f8d14/mzc/yolo11/NikonValidation/valid/images/_DSC0266_JPG.rf.137d513556715eb5cc6877c658008e4f.jpg: 640x640 2 0s, 19.7ms\n",
      "Speed: 1.7ms preprocess, 19.7ms inference, 1.6ms postprocess per image at shape (1, 3, 640, 640)\n",
      "Predicted image saved: /media/mzc/e4fcae9b-7400-4641-a800-034f249f8d14/mzc/yolo11/YOLO11AllTraining/YOLO11L_Training/Predicted Output/predicted__DSC0266_JPG.rf.137d513556715eb5cc6877c658008e4f.jpg\n",
      "\n",
      "image 1/1 /media/mzc/e4fcae9b-7400-4641-a800-034f249f8d14/mzc/yolo11/NikonValidation/valid/images/_DSC0258_JPG.rf.afae27e1884472caf3dc7ba05dd93f28.jpg: 640x640 3 0s, 20.2ms\n",
      "Speed: 1.7ms preprocess, 20.2ms inference, 1.0ms postprocess per image at shape (1, 3, 640, 640)\n",
      "Predicted image saved: /media/mzc/e4fcae9b-7400-4641-a800-034f249f8d14/mzc/yolo11/YOLO11AllTraining/YOLO11L_Training/Predicted Output/predicted__DSC0258_JPG.rf.afae27e1884472caf3dc7ba05dd93f28.jpg\n",
      "\n",
      "image 1/1 /media/mzc/e4fcae9b-7400-4641-a800-034f249f8d14/mzc/yolo11/NikonValidation/valid/images/_DSC0024_JPG.rf.69e9a1ec59448f0772d72852cf4f8253.jpg: 640x640 4 0s, 19.1ms\n",
      "Speed: 1.7ms preprocess, 19.1ms inference, 1.0ms postprocess per image at shape (1, 3, 640, 640)\n",
      "Predicted image saved: /media/mzc/e4fcae9b-7400-4641-a800-034f249f8d14/mzc/yolo11/YOLO11AllTraining/YOLO11L_Training/Predicted Output/predicted__DSC0024_JPG.rf.69e9a1ec59448f0772d72852cf4f8253.jpg\n",
      "\n",
      "image 1/1 /media/mzc/e4fcae9b-7400-4641-a800-034f249f8d14/mzc/yolo11/NikonValidation/valid/images/_DSC0298_JPG.rf.190fb6874533f0ca5a4d87de70b6f77b.jpg: 640x640 6 0s, 20.1ms\n",
      "Speed: 2.3ms preprocess, 20.1ms inference, 1.4ms postprocess per image at shape (1, 3, 640, 640)\n",
      "Predicted image saved: /media/mzc/e4fcae9b-7400-4641-a800-034f249f8d14/mzc/yolo11/YOLO11AllTraining/YOLO11L_Training/Predicted Output/predicted__DSC0298_JPG.rf.190fb6874533f0ca5a4d87de70b6f77b.jpg\n",
      "\n",
      "image 1/1 /media/mzc/e4fcae9b-7400-4641-a800-034f249f8d14/mzc/yolo11/NikonValidation/valid/images/_DSC0257_JPG.rf.4640e162d8949c292b7a494fa6b97b3e.jpg: 640x640 2 0s, 19.7ms\n",
      "Speed: 2.0ms preprocess, 19.7ms inference, 1.8ms postprocess per image at shape (1, 3, 640, 640)\n",
      "Predicted image saved: /media/mzc/e4fcae9b-7400-4641-a800-034f249f8d14/mzc/yolo11/YOLO11AllTraining/YOLO11L_Training/Predicted Output/predicted__DSC0257_JPG.rf.4640e162d8949c292b7a494fa6b97b3e.jpg\n",
      "\n",
      "image 1/1 /media/mzc/e4fcae9b-7400-4641-a800-034f249f8d14/mzc/yolo11/NikonValidation/valid/images/_DSC0114_JPG.rf.8796e5986a99df432a8257493ec93686.jpg: 640x640 4 0s, 17.5ms\n",
      "Speed: 2.3ms preprocess, 17.5ms inference, 1.1ms postprocess per image at shape (1, 3, 640, 640)\n",
      "Predicted image saved: /media/mzc/e4fcae9b-7400-4641-a800-034f249f8d14/mzc/yolo11/YOLO11AllTraining/YOLO11L_Training/Predicted Output/predicted__DSC0114_JPG.rf.8796e5986a99df432a8257493ec93686.jpg\n",
      "\n",
      "image 1/1 /media/mzc/e4fcae9b-7400-4641-a800-034f249f8d14/mzc/yolo11/NikonValidation/valid/images/_DSC0063_JPG.rf.1eb981b9b7413774bdcf91330c337a63.jpg: 640x640 2 0s, 17.6ms\n",
      "Speed: 1.7ms preprocess, 17.6ms inference, 1.0ms postprocess per image at shape (1, 3, 640, 640)\n",
      "Predicted image saved: /media/mzc/e4fcae9b-7400-4641-a800-034f249f8d14/mzc/yolo11/YOLO11AllTraining/YOLO11L_Training/Predicted Output/predicted__DSC0063_JPG.rf.1eb981b9b7413774bdcf91330c337a63.jpg\n",
      "\n",
      "image 1/1 /media/mzc/e4fcae9b-7400-4641-a800-034f249f8d14/mzc/yolo11/NikonValidation/valid/images/_DSC0040_JPG.rf.13464319936ad2de63af36f7065f1b36.jpg: 640x640 2 0s, 17.8ms\n",
      "Speed: 1.6ms preprocess, 17.8ms inference, 1.0ms postprocess per image at shape (1, 3, 640, 640)\n",
      "Predicted image saved: /media/mzc/e4fcae9b-7400-4641-a800-034f249f8d14/mzc/yolo11/YOLO11AllTraining/YOLO11L_Training/Predicted Output/predicted__DSC0040_JPG.rf.13464319936ad2de63af36f7065f1b36.jpg\n",
      "\n",
      "image 1/1 /media/mzc/e4fcae9b-7400-4641-a800-034f249f8d14/mzc/yolo11/NikonValidation/valid/images/_DSC0318_JPG.rf.1ba678742b1e55907d7cbe4d7aaaaf0b.jpg: 640x640 4 0s, 17.3ms\n",
      "Speed: 1.6ms preprocess, 17.3ms inference, 1.1ms postprocess per image at shape (1, 3, 640, 640)\n",
      "Predicted image saved: /media/mzc/e4fcae9b-7400-4641-a800-034f249f8d14/mzc/yolo11/YOLO11AllTraining/YOLO11L_Training/Predicted Output/predicted__DSC0318_JPG.rf.1ba678742b1e55907d7cbe4d7aaaaf0b.jpg\n",
      "\n",
      "image 1/1 /media/mzc/e4fcae9b-7400-4641-a800-034f249f8d14/mzc/yolo11/NikonValidation/valid/images/_DSC0295_JPG.rf.bd9be1080d9c34580556de81e4b1d4af.jpg: 640x640 2 0s, 17.6ms\n",
      "Speed: 1.7ms preprocess, 17.6ms inference, 1.3ms postprocess per image at shape (1, 3, 640, 640)\n",
      "Predicted image saved: /media/mzc/e4fcae9b-7400-4641-a800-034f249f8d14/mzc/yolo11/YOLO11AllTraining/YOLO11L_Training/Predicted Output/predicted__DSC0295_JPG.rf.bd9be1080d9c34580556de81e4b1d4af.jpg\n",
      "\n",
      "image 1/1 /media/mzc/e4fcae9b-7400-4641-a800-034f249f8d14/mzc/yolo11/NikonValidation/valid/images/_DSC0112_JPG.rf.6754453d82d4732b5642f94548458ef1.jpg: 640x640 2 0s, 17.9ms\n",
      "Speed: 1.8ms preprocess, 17.9ms inference, 0.9ms postprocess per image at shape (1, 3, 640, 640)\n",
      "Predicted image saved: /media/mzc/e4fcae9b-7400-4641-a800-034f249f8d14/mzc/yolo11/YOLO11AllTraining/YOLO11L_Training/Predicted Output/predicted__DSC0112_JPG.rf.6754453d82d4732b5642f94548458ef1.jpg\n",
      "\n",
      "image 1/1 /media/mzc/e4fcae9b-7400-4641-a800-034f249f8d14/mzc/yolo11/NikonValidation/valid/images/_DSC0045_JPG.rf.78ed8f87c942b3560b9d47413b0f99f6.jpg: 640x640 5 0s, 17.4ms\n",
      "Speed: 1.6ms preprocess, 17.4ms inference, 2.6ms postprocess per image at shape (1, 3, 640, 640)\n",
      "Predicted image saved: /media/mzc/e4fcae9b-7400-4641-a800-034f249f8d14/mzc/yolo11/YOLO11AllTraining/YOLO11L_Training/Predicted Output/predicted__DSC0045_JPG.rf.78ed8f87c942b3560b9d47413b0f99f6.jpg\n",
      "\n",
      "image 1/1 /media/mzc/e4fcae9b-7400-4641-a800-034f249f8d14/mzc/yolo11/NikonValidation/valid/images/_DSC0058_JPG.rf.d344b3f6e0431cadfb48aca5250e562b.jpg: 640x640 3 0s, 18.2ms\n",
      "Speed: 1.7ms preprocess, 18.2ms inference, 0.9ms postprocess per image at shape (1, 3, 640, 640)\n",
      "Predicted image saved: /media/mzc/e4fcae9b-7400-4641-a800-034f249f8d14/mzc/yolo11/YOLO11AllTraining/YOLO11L_Training/Predicted Output/predicted__DSC0058_JPG.rf.d344b3f6e0431cadfb48aca5250e562b.jpg\n",
      "\n",
      "image 1/1 /media/mzc/e4fcae9b-7400-4641-a800-034f249f8d14/mzc/yolo11/NikonValidation/valid/images/_DSC0319_JPG.rf.d04125841deef716339a5c4da3595633.jpg: 640x640 5 0s, 18.4ms\n",
      "Speed: 1.6ms preprocess, 18.4ms inference, 0.9ms postprocess per image at shape (1, 3, 640, 640)\n",
      "Predicted image saved: /media/mzc/e4fcae9b-7400-4641-a800-034f249f8d14/mzc/yolo11/YOLO11AllTraining/YOLO11L_Training/Predicted Output/predicted__DSC0319_JPG.rf.d04125841deef716339a5c4da3595633.jpg\n",
      "\n",
      "image 1/1 /media/mzc/e4fcae9b-7400-4641-a800-034f249f8d14/mzc/yolo11/NikonValidation/valid/images/_DSC0123_JPG.rf.ec388f2ffca1c50e32e1f7e7bbe12bee.jpg: 640x640 1 0, 18.3ms\n",
      "Speed: 1.6ms preprocess, 18.3ms inference, 0.9ms postprocess per image at shape (1, 3, 640, 640)\n",
      "Predicted image saved: /media/mzc/e4fcae9b-7400-4641-a800-034f249f8d14/mzc/yolo11/YOLO11AllTraining/YOLO11L_Training/Predicted Output/predicted__DSC0123_JPG.rf.ec388f2ffca1c50e32e1f7e7bbe12bee.jpg\n",
      "\n",
      "image 1/1 /media/mzc/e4fcae9b-7400-4641-a800-034f249f8d14/mzc/yolo11/NikonValidation/valid/images/_DSC0294_JPG.rf.b9e8beed9df03cff48737ca71275f6eb.jpg: 640x640 4 0s, 17.9ms\n",
      "Speed: 1.6ms preprocess, 17.9ms inference, 0.9ms postprocess per image at shape (1, 3, 640, 640)\n",
      "Predicted image saved: /media/mzc/e4fcae9b-7400-4641-a800-034f249f8d14/mzc/yolo11/YOLO11AllTraining/YOLO11L_Training/Predicted Output/predicted__DSC0294_JPG.rf.b9e8beed9df03cff48737ca71275f6eb.jpg\n",
      "\n",
      "image 1/1 /media/mzc/e4fcae9b-7400-4641-a800-034f249f8d14/mzc/yolo11/NikonValidation/valid/images/_DSC0036_JPG.rf.591296db99f44200fcaec9af6372fd9c.jpg: 640x640 4 0s, 17.8ms\n",
      "Speed: 1.7ms preprocess, 17.8ms inference, 0.9ms postprocess per image at shape (1, 3, 640, 640)\n",
      "Predicted image saved: /media/mzc/e4fcae9b-7400-4641-a800-034f249f8d14/mzc/yolo11/YOLO11AllTraining/YOLO11L_Training/Predicted Output/predicted__DSC0036_JPG.rf.591296db99f44200fcaec9af6372fd9c.jpg\n",
      "\n",
      "image 1/1 /media/mzc/e4fcae9b-7400-4641-a800-034f249f8d14/mzc/yolo11/NikonValidation/valid/images/_DSC0301_JPG.rf.966a5dd3b529e09a1d36e73451803992.jpg: 640x640 3 0s, 18.4ms\n",
      "Speed: 3.1ms preprocess, 18.4ms inference, 1.1ms postprocess per image at shape (1, 3, 640, 640)\n",
      "Predicted image saved: /media/mzc/e4fcae9b-7400-4641-a800-034f249f8d14/mzc/yolo11/YOLO11AllTraining/YOLO11L_Training/Predicted Output/predicted__DSC0301_JPG.rf.966a5dd3b529e09a1d36e73451803992.jpg\n",
      "\n",
      "image 1/1 /media/mzc/e4fcae9b-7400-4641-a800-034f249f8d14/mzc/yolo11/NikonValidation/valid/images/_DSC0087_JPG.rf.afe577468a07bdb5b4fc06694f13b6d5.jpg: 640x640 3 0s, 18.6ms\n",
      "Speed: 1.7ms preprocess, 18.6ms inference, 1.0ms postprocess per image at shape (1, 3, 640, 640)\n",
      "Predicted image saved: /media/mzc/e4fcae9b-7400-4641-a800-034f249f8d14/mzc/yolo11/YOLO11AllTraining/YOLO11L_Training/Predicted Output/predicted__DSC0087_JPG.rf.afe577468a07bdb5b4fc06694f13b6d5.jpg\n",
      "\n",
      "image 1/1 /media/mzc/e4fcae9b-7400-4641-a800-034f249f8d14/mzc/yolo11/NikonValidation/valid/images/_DSC0060_JPG.rf.33a96c77dc7652ecf514917fed58adbd.jpg: 640x640 4 0s, 17.5ms\n",
      "Speed: 1.6ms preprocess, 17.5ms inference, 1.3ms postprocess per image at shape (1, 3, 640, 640)\n",
      "Predicted image saved: /media/mzc/e4fcae9b-7400-4641-a800-034f249f8d14/mzc/yolo11/YOLO11AllTraining/YOLO11L_Training/Predicted Output/predicted__DSC0060_JPG.rf.33a96c77dc7652ecf514917fed58adbd.jpg\n",
      "\n",
      "image 1/1 /media/mzc/e4fcae9b-7400-4641-a800-034f249f8d14/mzc/yolo11/NikonValidation/valid/images/_DSC0008_JPG.rf.f04c82c383597e7bc433f4a105278694.jpg: 640x640 5 0s, 17.7ms\n",
      "Speed: 1.7ms preprocess, 17.7ms inference, 1.1ms postprocess per image at shape (1, 3, 640, 640)\n",
      "Predicted image saved: /media/mzc/e4fcae9b-7400-4641-a800-034f249f8d14/mzc/yolo11/YOLO11AllTraining/YOLO11L_Training/Predicted Output/predicted__DSC0008_JPG.rf.f04c82c383597e7bc433f4a105278694.jpg\n",
      "\n",
      "image 1/1 /media/mzc/e4fcae9b-7400-4641-a800-034f249f8d14/mzc/yolo11/NikonValidation/valid/images/_DSC0293_JPG.rf.de39779de634c24fa1015db76dd5526a.jpg: 640x640 6 0s, 17.6ms\n",
      "Speed: 1.6ms preprocess, 17.6ms inference, 1.0ms postprocess per image at shape (1, 3, 640, 640)\n",
      "Predicted image saved: /media/mzc/e4fcae9b-7400-4641-a800-034f249f8d14/mzc/yolo11/YOLO11AllTraining/YOLO11L_Training/Predicted Output/predicted__DSC0293_JPG.rf.de39779de634c24fa1015db76dd5526a.jpg\n",
      "\n",
      "image 1/1 /media/mzc/e4fcae9b-7400-4641-a800-034f249f8d14/mzc/yolo11/NikonValidation/valid/images/_DSC0243_JPG.rf.e438f26bceaf3a802e64d8912a9ebbfd.jpg: 640x640 2 0s, 18.0ms\n",
      "Speed: 1.6ms preprocess, 18.0ms inference, 1.0ms postprocess per image at shape (1, 3, 640, 640)\n",
      "Predicted image saved: /media/mzc/e4fcae9b-7400-4641-a800-034f249f8d14/mzc/yolo11/YOLO11AllTraining/YOLO11L_Training/Predicted Output/predicted__DSC0243_JPG.rf.e438f26bceaf3a802e64d8912a9ebbfd.jpg\n",
      "\n",
      "image 1/1 /media/mzc/e4fcae9b-7400-4641-a800-034f249f8d14/mzc/yolo11/NikonValidation/valid/images/_DSC0291_JPG.rf.5ef8963b80457fb6c0dd0839fa390f67.jpg: 640x640 9 0s, 18.0ms\n",
      "Speed: 1.6ms preprocess, 18.0ms inference, 0.9ms postprocess per image at shape (1, 3, 640, 640)\n",
      "Predicted image saved: /media/mzc/e4fcae9b-7400-4641-a800-034f249f8d14/mzc/yolo11/YOLO11AllTraining/YOLO11L_Training/Predicted Output/predicted__DSC0291_JPG.rf.5ef8963b80457fb6c0dd0839fa390f67.jpg\n",
      "\n",
      "image 1/1 /media/mzc/e4fcae9b-7400-4641-a800-034f249f8d14/mzc/yolo11/NikonValidation/valid/images/_DSC0014_JPG.rf.b3ffe567405a0f0966e534fe77d00a8a.jpg: 640x640 3 0s, 17.9ms\n",
      "Speed: 2.4ms preprocess, 17.9ms inference, 0.9ms postprocess per image at shape (1, 3, 640, 640)\n",
      "Predicted image saved: /media/mzc/e4fcae9b-7400-4641-a800-034f249f8d14/mzc/yolo11/YOLO11AllTraining/YOLO11L_Training/Predicted Output/predicted__DSC0014_JPG.rf.b3ffe567405a0f0966e534fe77d00a8a.jpg\n",
      "\n",
      "image 1/1 /media/mzc/e4fcae9b-7400-4641-a800-034f249f8d14/mzc/yolo11/NikonValidation/valid/images/_DSC0026_JPG.rf.7afcc06b3976657ba0c2b66675e359cf.jpg: 640x640 4 0s, 17.7ms\n",
      "Speed: 1.7ms preprocess, 17.7ms inference, 0.9ms postprocess per image at shape (1, 3, 640, 640)\n",
      "Predicted image saved: /media/mzc/e4fcae9b-7400-4641-a800-034f249f8d14/mzc/yolo11/YOLO11AllTraining/YOLO11L_Training/Predicted Output/predicted__DSC0026_JPG.rf.7afcc06b3976657ba0c2b66675e359cf.jpg\n",
      "\n",
      "image 1/1 /media/mzc/e4fcae9b-7400-4641-a800-034f249f8d14/mzc/yolo11/NikonValidation/valid/images/_DSC0259_JPG.rf.c7688b22d1f06395bcd3fdf212c3c407.jpg: 640x640 3 0s, 16.9ms\n",
      "Speed: 1.5ms preprocess, 16.9ms inference, 1.0ms postprocess per image at shape (1, 3, 640, 640)\n",
      "Predicted image saved: /media/mzc/e4fcae9b-7400-4641-a800-034f249f8d14/mzc/yolo11/YOLO11AllTraining/YOLO11L_Training/Predicted Output/predicted__DSC0259_JPG.rf.c7688b22d1f06395bcd3fdf212c3c407.jpg\n",
      "\n",
      "image 1/1 /media/mzc/e4fcae9b-7400-4641-a800-034f249f8d14/mzc/yolo11/NikonValidation/valid/images/_DSC0013_JPG.rf.c145f30ced97d55ff0c2b28f9a8bb089.jpg: 640x640 6 0s, 17.8ms\n",
      "Speed: 1.7ms preprocess, 17.8ms inference, 1.0ms postprocess per image at shape (1, 3, 640, 640)\n",
      "Predicted image saved: /media/mzc/e4fcae9b-7400-4641-a800-034f249f8d14/mzc/yolo11/YOLO11AllTraining/YOLO11L_Training/Predicted Output/predicted__DSC0013_JPG.rf.c145f30ced97d55ff0c2b28f9a8bb089.jpg\n",
      "\n",
      "image 1/1 /media/mzc/e4fcae9b-7400-4641-a800-034f249f8d14/mzc/yolo11/NikonValidation/valid/images/_DSC0317_JPG.rf.8368699f3b8321361f99de0d8ef1d129.jpg: 640x640 4 0s, 17.8ms\n",
      "Speed: 1.6ms preprocess, 17.8ms inference, 1.0ms postprocess per image at shape (1, 3, 640, 640)\n",
      "Predicted image saved: /media/mzc/e4fcae9b-7400-4641-a800-034f249f8d14/mzc/yolo11/YOLO11AllTraining/YOLO11L_Training/Predicted Output/predicted__DSC0317_JPG.rf.8368699f3b8321361f99de0d8ef1d129.jpg\n",
      "\n",
      "image 1/1 /media/mzc/e4fcae9b-7400-4641-a800-034f249f8d14/mzc/yolo11/NikonValidation/valid/images/_DSC0232_JPG.rf.ac10bc7c6dc3a831ea302bcbe29e08df.jpg: 640x640 3 0s, 17.5ms\n",
      "Speed: 1.6ms preprocess, 17.5ms inference, 1.0ms postprocess per image at shape (1, 3, 640, 640)\n",
      "Predicted image saved: /media/mzc/e4fcae9b-7400-4641-a800-034f249f8d14/mzc/yolo11/YOLO11AllTraining/YOLO11L_Training/Predicted Output/predicted__DSC0232_JPG.rf.ac10bc7c6dc3a831ea302bcbe29e08df.jpg\n",
      "\n",
      "image 1/1 /media/mzc/e4fcae9b-7400-4641-a800-034f249f8d14/mzc/yolo11/NikonValidation/valid/images/_DSC0096_JPG.rf.e37ad017172a627d02e3ab497f3324ff.jpg: 640x640 2 0s, 18.2ms\n",
      "Speed: 1.7ms preprocess, 18.2ms inference, 0.9ms postprocess per image at shape (1, 3, 640, 640)\n",
      "Predicted image saved: /media/mzc/e4fcae9b-7400-4641-a800-034f249f8d14/mzc/yolo11/YOLO11AllTraining/YOLO11L_Training/Predicted Output/predicted__DSC0096_JPG.rf.e37ad017172a627d02e3ab497f3324ff.jpg\n",
      "\n",
      "image 1/1 /media/mzc/e4fcae9b-7400-4641-a800-034f249f8d14/mzc/yolo11/NikonValidation/valid/images/_DSC0309_JPG.rf.b93ac5656161213ac8579843318cb399.jpg: 640x640 1 0, 17.4ms\n",
      "Speed: 1.7ms preprocess, 17.4ms inference, 0.9ms postprocess per image at shape (1, 3, 640, 640)\n",
      "Predicted image saved: /media/mzc/e4fcae9b-7400-4641-a800-034f249f8d14/mzc/yolo11/YOLO11AllTraining/YOLO11L_Training/Predicted Output/predicted__DSC0309_JPG.rf.b93ac5656161213ac8579843318cb399.jpg\n",
      "\n",
      "image 1/1 /media/mzc/e4fcae9b-7400-4641-a800-034f249f8d14/mzc/yolo11/NikonValidation/valid/images/_DSC0046_JPG.rf.1e51d47f76fd8292a2e1a9bff15e97e9.jpg: 640x640 4 0s, 17.1ms\n",
      "Speed: 1.7ms preprocess, 17.1ms inference, 0.9ms postprocess per image at shape (1, 3, 640, 640)\n",
      "Predicted image saved: /media/mzc/e4fcae9b-7400-4641-a800-034f249f8d14/mzc/yolo11/YOLO11AllTraining/YOLO11L_Training/Predicted Output/predicted__DSC0046_JPG.rf.1e51d47f76fd8292a2e1a9bff15e97e9.jpg\n",
      "\n",
      "image 1/1 /media/mzc/e4fcae9b-7400-4641-a800-034f249f8d14/mzc/yolo11/NikonValidation/valid/images/_DSC0029_JPG.rf.c150603490cf9eff38dfa10945899840.jpg: 640x640 2 0s, 17.4ms\n",
      "Speed: 3.7ms preprocess, 17.4ms inference, 0.9ms postprocess per image at shape (1, 3, 640, 640)\n",
      "Predicted image saved: /media/mzc/e4fcae9b-7400-4641-a800-034f249f8d14/mzc/yolo11/YOLO11AllTraining/YOLO11L_Training/Predicted Output/predicted__DSC0029_JPG.rf.c150603490cf9eff38dfa10945899840.jpg\n",
      "\n",
      "image 1/1 /media/mzc/e4fcae9b-7400-4641-a800-034f249f8d14/mzc/yolo11/NikonValidation/valid/images/_DSC0021_JPG.rf.10f3e80e0a2ac9cba6c99277657f65d4.jpg: 640x640 2 0s, 17.6ms\n",
      "Speed: 1.5ms preprocess, 17.6ms inference, 0.9ms postprocess per image at shape (1, 3, 640, 640)\n",
      "Predicted image saved: /media/mzc/e4fcae9b-7400-4641-a800-034f249f8d14/mzc/yolo11/YOLO11AllTraining/YOLO11L_Training/Predicted Output/predicted__DSC0021_JPG.rf.10f3e80e0a2ac9cba6c99277657f65d4.jpg\n",
      "\n",
      "image 1/1 /media/mzc/e4fcae9b-7400-4641-a800-034f249f8d14/mzc/yolo11/NikonValidation/valid/images/_DSC0023_JPG.rf.ffc258f255aaf51453407943b980bf0b.jpg: 640x640 1 0, 20.7ms\n",
      "Speed: 1.9ms preprocess, 20.7ms inference, 1.1ms postprocess per image at shape (1, 3, 640, 640)\n",
      "Predicted image saved: /media/mzc/e4fcae9b-7400-4641-a800-034f249f8d14/mzc/yolo11/YOLO11AllTraining/YOLO11L_Training/Predicted Output/predicted__DSC0023_JPG.rf.ffc258f255aaf51453407943b980bf0b.jpg\n",
      "\n",
      "image 1/1 /media/mzc/e4fcae9b-7400-4641-a800-034f249f8d14/mzc/yolo11/NikonValidation/valid/images/_DSC0292_JPG.rf.712d91c2e984abcc3d0dbbcb5efe8a8f.jpg: 640x640 7 0s, 17.1ms\n",
      "Speed: 1.7ms preprocess, 17.1ms inference, 0.9ms postprocess per image at shape (1, 3, 640, 640)\n",
      "Predicted image saved: /media/mzc/e4fcae9b-7400-4641-a800-034f249f8d14/mzc/yolo11/YOLO11AllTraining/YOLO11L_Training/Predicted Output/predicted__DSC0292_JPG.rf.712d91c2e984abcc3d0dbbcb5efe8a8f.jpg\n",
      "\n",
      "image 1/1 /media/mzc/e4fcae9b-7400-4641-a800-034f249f8d14/mzc/yolo11/NikonValidation/valid/images/_DSC0085_JPG.rf.38b0df074b1ea30940c31ee1cfbcb51f.jpg: 640x640 3 0s, 18.0ms\n",
      "Speed: 1.6ms preprocess, 18.0ms inference, 1.0ms postprocess per image at shape (1, 3, 640, 640)\n",
      "Predicted image saved: /media/mzc/e4fcae9b-7400-4641-a800-034f249f8d14/mzc/yolo11/YOLO11AllTraining/YOLO11L_Training/Predicted Output/predicted__DSC0085_JPG.rf.38b0df074b1ea30940c31ee1cfbcb51f.jpg\n",
      "\n",
      "image 1/1 /media/mzc/e4fcae9b-7400-4641-a800-034f249f8d14/mzc/yolo11/NikonValidation/valid/images/_DSC0044_JPG.rf.3c53e65445108f6c544e9943091f4a16.jpg: 640x640 7 0s, 17.6ms\n",
      "Speed: 1.6ms preprocess, 17.6ms inference, 0.9ms postprocess per image at shape (1, 3, 640, 640)\n",
      "Predicted image saved: /media/mzc/e4fcae9b-7400-4641-a800-034f249f8d14/mzc/yolo11/YOLO11AllTraining/YOLO11L_Training/Predicted Output/predicted__DSC0044_JPG.rf.3c53e65445108f6c544e9943091f4a16.jpg\n",
      "\n",
      "image 1/1 /media/mzc/e4fcae9b-7400-4641-a800-034f249f8d14/mzc/yolo11/NikonValidation/valid/images/_DSC0119_JPG.rf.e26b9266ad778fd91fc1a6fe3faa7d74.jpg: 640x640 1 0, 18.0ms\n",
      "Speed: 1.6ms preprocess, 18.0ms inference, 0.9ms postprocess per image at shape (1, 3, 640, 640)\n",
      "Predicted image saved: /media/mzc/e4fcae9b-7400-4641-a800-034f249f8d14/mzc/yolo11/YOLO11AllTraining/YOLO11L_Training/Predicted Output/predicted__DSC0119_JPG.rf.e26b9266ad778fd91fc1a6fe3faa7d74.jpg\n"
     ]
    }
   ],
   "source": [
    "# Directory containing Nikon images\n",
    "nikon_image_dir = '/media/mzc/e4fcae9b-7400-4641-a800-034f249f8d14/mzc/yolo11/NikonValidation/valid/images'\n",
    "\n",
    "# Iterate over each image in the Nikon dataset and run inference\n",
    "for image_file in os.listdir(nikon_image_dir):\n",
    "    if image_file.lower().endswith(('.png', '.jpg', '.jpeg')):  # Filter for image files\n",
    "        image_path = os.path.join(nikon_image_dir, image_file)\n",
    "        \n",
    "        # Run inference on the image\n",
    "        results = model(image_path)\n",
    "        \n",
    "        # Plot the result and save the output image\n",
    "        annotated_img = results[0].plot()\n",
    "\n",
    "        # Save the predicted image to the output directory\n",
    "        output_image_path = os.path.join(output_dir, f\"predicted_{image_file}\")\n",
    "        cv2.imwrite(output_image_path, annotated_img)\n",
    "\n",
    "        # Print success message for each saved image\n",
    "        print(f\"Predicted image saved: {output_image_path}\")\n"
   ]
  },
  {
   "cell_type": "code",
   "execution_count": 1,
   "id": "a85c1421-766b-44ca-8b7f-165c18361041",
   "metadata": {},
   "outputs": [],
   "source": [
    "# Import necessary modules from Ultralytics and other libraries\n",
    "from ultralytics import YOLO\n",
    "import os\n",
    "import matplotlib.pyplot as plt\n"
   ]
  },
  {
   "cell_type": "code",
   "execution_count": 2,
   "id": "81ad76f2-e55e-4277-94c6-1a52a838b57a",
   "metadata": {},
   "outputs": [],
   "source": [
    "# Path to the dataset (data.yaml file)\n",
    "data_path = '/media/mzc/e4fcae9b-7400-4641-a800-034f249f8d14/mzc/aiIMAGEGENERATED/data.yaml'\n",
    "\n",
    "# Path to save the results, metrics, and weights for YOLO11X training\n",
    "output_dir = '/media/mzc/e4fcae9b-7400-4641-a800-034f249f8d14/mzc/yolo11/YOLO11AllTraining/YOLO11X_Training'\n",
    "\n",
    "# Create the output directory if it doesn't exist\n",
    "os.makedirs(output_dir, exist_ok=True)\n"
   ]
  },
  {
   "cell_type": "code",
   "execution_count": 3,
   "id": "5eb38b49-a91b-49e8-a4de-35ca1b2058cb",
   "metadata": {},
   "outputs": [
    {
     "name": "stdout",
     "output_type": "stream",
     "text": [
      "New https://pypi.org/project/ultralytics/8.3.1 available 😃 Update with 'pip install -U ultralytics'\n",
      "Ultralytics 8.3.0 🚀 Python-3.11.7 torch-2.4.1+cu121 CUDA:0 (NVIDIA TITAN Xp COLLECTORS EDITION, 12189MiB)\n",
      "\u001b[34m\u001b[1mengine/trainer: \u001b[0mtask=detect, mode=train, model=yolo11x.pt, data=/media/mzc/e4fcae9b-7400-4641-a800-034f249f8d14/mzc/aiIMAGEGENERATED/data.yaml, epochs=100, time=None, patience=100, batch=4, imgsz=640, save=True, save_period=-1, cache=False, device=0, workers=8, project=/media/mzc/e4fcae9b-7400-4641-a800-034f249f8d14/mzc/yolo11/YOLO11AllTraining/YOLO11X_Training, name=YOLO11X_Training2, exist_ok=False, pretrained=True, optimizer=auto, verbose=True, seed=0, deterministic=True, single_cls=False, rect=False, cos_lr=False, close_mosaic=10, resume=False, amp=True, fraction=1.0, profile=False, freeze=None, multi_scale=False, overlap_mask=True, mask_ratio=4, dropout=0.0, val=True, split=val, save_json=False, save_hybrid=False, conf=None, iou=0.7, max_det=300, half=True, dnn=False, plots=True, source=None, vid_stride=1, stream_buffer=False, visualize=False, augment=False, agnostic_nms=False, classes=None, retina_masks=False, embed=None, show=False, save_frames=False, save_txt=False, save_conf=False, save_crop=False, show_labels=True, show_conf=True, show_boxes=True, line_width=None, format=torchscript, keras=False, optimize=False, int8=False, dynamic=False, simplify=True, opset=None, workspace=4, nms=False, lr0=0.01, lrf=0.01, momentum=0.937, weight_decay=0.0005, warmup_epochs=3.0, warmup_momentum=0.8, warmup_bias_lr=0.1, box=7.5, cls=0.5, dfl=1.5, pose=12.0, kobj=1.0, label_smoothing=0.0, nbs=64, hsv_h=0.015, hsv_s=0.7, hsv_v=0.4, degrees=0.0, translate=0.1, scale=0.5, shear=0.0, perspective=0.0, flipud=0.0, fliplr=0.5, bgr=0.0, mosaic=1.0, mixup=0.0, copy_paste=0.0, copy_paste_mode=flip, auto_augment=randaugment, erasing=0.4, crop_fraction=1.0, cfg=None, tracker=botsort.yaml, save_dir=/media/mzc/e4fcae9b-7400-4641-a800-034f249f8d14/mzc/yolo11/YOLO11AllTraining/YOLO11X_Training/YOLO11X_Training2\n",
      "Overriding model.yaml nc=80 with nc=1\n",
      "\n",
      "                   from  n    params  module                                       arguments                     \n",
      "  0                  -1  1      2784  ultralytics.nn.modules.conv.Conv             [3, 96, 3, 2]                 \n",
      "  1                  -1  1    166272  ultralytics.nn.modules.conv.Conv             [96, 192, 3, 2]               \n",
      "  2                  -1  2    389760  ultralytics.nn.modules.block.C3k2            [192, 384, 2, True, 0.25]     \n",
      "  3                  -1  1   1327872  ultralytics.nn.modules.conv.Conv             [384, 384, 3, 2]              \n",
      "  4                  -1  2   1553664  ultralytics.nn.modules.block.C3k2            [384, 768, 2, True, 0.25]     \n",
      "  5                  -1  1   5309952  ultralytics.nn.modules.conv.Conv             [768, 768, 3, 2]              \n",
      "  6                  -1  2   5022720  ultralytics.nn.modules.block.C3k2            [768, 768, 2, True]           \n",
      "  7                  -1  1   5309952  ultralytics.nn.modules.conv.Conv             [768, 768, 3, 2]              \n",
      "  8                  -1  2   5022720  ultralytics.nn.modules.block.C3k2            [768, 768, 2, True]           \n",
      "  9                  -1  1   1476864  ultralytics.nn.modules.block.SPPF            [768, 768, 5]                 \n",
      " 10                  -1  2   3264768  ultralytics.nn.modules.block.C2PSA           [768, 768, 2]                 \n",
      " 11                  -1  1         0  torch.nn.modules.upsampling.Upsample         [None, 2, 'nearest']          \n",
      " 12             [-1, 6]  1         0  ultralytics.nn.modules.conv.Concat           [1]                           \n",
      " 13                  -1  2   5612544  ultralytics.nn.modules.block.C3k2            [1536, 768, 2, True]          \n",
      " 14                  -1  1         0  torch.nn.modules.upsampling.Upsample         [None, 2, 'nearest']          \n",
      " 15             [-1, 4]  1         0  ultralytics.nn.modules.conv.Concat           [1]                           \n",
      " 16                  -1  2   1700352  ultralytics.nn.modules.block.C3k2            [1536, 384, 2, True]          \n",
      " 17                  -1  1   1327872  ultralytics.nn.modules.conv.Conv             [384, 384, 3, 2]              \n",
      " 18            [-1, 13]  1         0  ultralytics.nn.modules.conv.Concat           [1]                           \n",
      " 19                  -1  2   5317632  ultralytics.nn.modules.block.C3k2            [1152, 768, 2, True]          \n",
      " 20                  -1  1   5309952  ultralytics.nn.modules.conv.Conv             [768, 768, 3, 2]              \n",
      " 21            [-1, 10]  1         0  ultralytics.nn.modules.conv.Concat           [1]                           \n",
      " 22                  -1  2   5612544  ultralytics.nn.modules.block.C3k2            [1536, 768, 2, True]          \n",
      " 23        [16, 19, 22]  1   3146707  ultralytics.nn.modules.head.Detect           [1, [384, 768, 768]]          \n",
      "YOLO11x summary: 631 layers, 56,874,931 parameters, 56,874,915 gradients, 195.4 GFLOPs\n",
      "\n",
      "Transferred 1009/1015 items from pretrained weights\n",
      "Freezing layer 'model.23.dfl.conv.weight'\n",
      "\u001b[34m\u001b[1mAMP: \u001b[0mrunning Automatic Mixed Precision (AMP) checks with YOLOv8n...\n",
      "\u001b[34m\u001b[1mAMP: \u001b[0mchecks passed ✅\n"
     ]
    },
    {
     "name": "stderr",
     "output_type": "stream",
     "text": [
      "\u001b[34m\u001b[1mtrain: \u001b[0mScanning /media/mzc/e4fcae9b-7400-4641-a800-034f249f8d14/mzc/aiIMAGEGENER\u001b[0m\n",
      "\u001b[34m\u001b[1mval: \u001b[0mScanning /media/mzc/e4fcae9b-7400-4641-a800-034f249f8d14/mzc/aiIMAGEGENERAT\u001b[0m\n"
     ]
    },
    {
     "name": "stdout",
     "output_type": "stream",
     "text": [
      "Plotting labels to /media/mzc/e4fcae9b-7400-4641-a800-034f249f8d14/mzc/yolo11/YOLO11AllTraining/YOLO11X_Training/YOLO11X_Training2/labels.jpg... \n",
      "\u001b[34m\u001b[1moptimizer:\u001b[0m 'optimizer=auto' found, ignoring 'lr0=0.01' and 'momentum=0.937' and determining best 'optimizer', 'lr0' and 'momentum' automatically... \n",
      "\u001b[34m\u001b[1moptimizer:\u001b[0m AdamW(lr=0.002, momentum=0.9) with parameter groups 167 weight(decay=0.0), 174 weight(decay=0.0005), 173 bias(decay=0.0)\n",
      "Image sizes 640 train, 640 val\n",
      "Using 8 dataloader workers\n",
      "Logging results to \u001b[1m/media/mzc/e4fcae9b-7400-4641-a800-034f249f8d14/mzc/yolo11/YOLO11AllTraining/YOLO11X_Training/YOLO11X_Training2\u001b[0m\n",
      "Starting training for 100 epochs...\n",
      "\n",
      "      Epoch    GPU_mem   box_loss   cls_loss   dfl_loss  Instances       Size\n"
     ]
    },
    {
     "name": "stderr",
     "output_type": "stream",
     "text": [
      "      1/100      5.24G      1.278      1.074      1.497         43        640: 1\n",
      "                 Class     Images  Instances      Box(P          R      mAP50  m"
     ]
    },
    {
     "name": "stdout",
     "output_type": "stream",
     "text": [
      "                   all        255       2036      0.822      0.748      0.847      0.518\n"
     ]
    },
    {
     "name": "stderr",
     "output_type": "stream",
     "text": [
      "\n"
     ]
    },
    {
     "name": "stdout",
     "output_type": "stream",
     "text": [
      "\n",
      "      Epoch    GPU_mem   box_loss   cls_loss   dfl_loss  Instances       Size\n"
     ]
    },
    {
     "name": "stderr",
     "output_type": "stream",
     "text": [
      "      2/100      5.71G      1.303     0.9551      1.515         52        640: 1\n",
      "                 Class     Images  Instances      Box(P          R      mAP50  m"
     ]
    },
    {
     "name": "stdout",
     "output_type": "stream",
     "text": [
      "                   all        255       2036      0.805      0.781      0.846      0.505\n"
     ]
    },
    {
     "name": "stderr",
     "output_type": "stream",
     "text": [
      "\n"
     ]
    },
    {
     "name": "stdout",
     "output_type": "stream",
     "text": [
      "\n",
      "      Epoch    GPU_mem   box_loss   cls_loss   dfl_loss  Instances       Size\n"
     ]
    },
    {
     "name": "stderr",
     "output_type": "stream",
     "text": [
      "      3/100       5.7G      1.288     0.9224      1.489         31        640: 1\n",
      "                 Class     Images  Instances      Box(P          R      mAP50  m"
     ]
    },
    {
     "name": "stdout",
     "output_type": "stream",
     "text": [
      "                   all        255       2036      0.684      0.722      0.692       0.38\n"
     ]
    },
    {
     "name": "stderr",
     "output_type": "stream",
     "text": [
      "\n"
     ]
    },
    {
     "name": "stdout",
     "output_type": "stream",
     "text": [
      "\n",
      "      Epoch    GPU_mem   box_loss   cls_loss   dfl_loss  Instances       Size\n"
     ]
    },
    {
     "name": "stderr",
     "output_type": "stream",
     "text": [
      "      4/100      5.69G      1.267     0.9139      1.491         31        640: 1\n",
      "                 Class     Images  Instances      Box(P          R      mAP50  m"
     ]
    },
    {
     "name": "stdout",
     "output_type": "stream",
     "text": [
      "                   all        255       2036      0.865      0.823      0.902      0.577\n"
     ]
    },
    {
     "name": "stderr",
     "output_type": "stream",
     "text": [
      "\n"
     ]
    },
    {
     "name": "stdout",
     "output_type": "stream",
     "text": [
      "\n",
      "      Epoch    GPU_mem   box_loss   cls_loss   dfl_loss  Instances       Size\n"
     ]
    },
    {
     "name": "stderr",
     "output_type": "stream",
     "text": [
      "      5/100      5.74G      1.206     0.8184       1.43         34        640: 1\n",
      "                 Class     Images  Instances      Box(P          R      mAP50  m"
     ]
    },
    {
     "name": "stdout",
     "output_type": "stream",
     "text": [
      "                   all        255       2036      0.871       0.82      0.909      0.585\n"
     ]
    },
    {
     "name": "stderr",
     "output_type": "stream",
     "text": [
      "\n"
     ]
    },
    {
     "name": "stdout",
     "output_type": "stream",
     "text": [
      "\n",
      "      Epoch    GPU_mem   box_loss   cls_loss   dfl_loss  Instances       Size\n"
     ]
    },
    {
     "name": "stderr",
     "output_type": "stream",
     "text": [
      "      6/100      5.73G      1.212       0.82      1.436         13        640: 1\n",
      "                 Class     Images  Instances      Box(P          R      mAP50  m"
     ]
    },
    {
     "name": "stdout",
     "output_type": "stream",
     "text": [
      "                   all        255       2036      0.873      0.826      0.904      0.566\n"
     ]
    },
    {
     "name": "stderr",
     "output_type": "stream",
     "text": [
      "\n"
     ]
    },
    {
     "name": "stdout",
     "output_type": "stream",
     "text": [
      "\n",
      "      Epoch    GPU_mem   box_loss   cls_loss   dfl_loss  Instances       Size\n"
     ]
    },
    {
     "name": "stderr",
     "output_type": "stream",
     "text": [
      "      7/100      5.73G      1.172     0.7866      1.402         15        640: 1\n",
      "                 Class     Images  Instances      Box(P          R      mAP50  m"
     ]
    },
    {
     "name": "stdout",
     "output_type": "stream",
     "text": [
      "                   all        255       2036      0.866      0.841      0.918       0.61\n"
     ]
    },
    {
     "name": "stderr",
     "output_type": "stream",
     "text": [
      "\n"
     ]
    },
    {
     "name": "stdout",
     "output_type": "stream",
     "text": [
      "\n",
      "      Epoch    GPU_mem   box_loss   cls_loss   dfl_loss  Instances       Size\n"
     ]
    },
    {
     "name": "stderr",
     "output_type": "stream",
     "text": [
      "      8/100      5.73G      1.141     0.7411      1.396         28        640: 1\n",
      "                 Class     Images  Instances      Box(P          R      mAP50  m"
     ]
    },
    {
     "name": "stdout",
     "output_type": "stream",
     "text": [
      "                   all        255       2036      0.888      0.853      0.932      0.612\n"
     ]
    },
    {
     "name": "stderr",
     "output_type": "stream",
     "text": [
      "\n"
     ]
    },
    {
     "name": "stdout",
     "output_type": "stream",
     "text": [
      "\n",
      "      Epoch    GPU_mem   box_loss   cls_loss   dfl_loss  Instances       Size\n"
     ]
    },
    {
     "name": "stderr",
     "output_type": "stream",
     "text": [
      "      9/100      5.74G      1.156     0.7441      1.398         18        640: 1\n",
      "                 Class     Images  Instances      Box(P          R      mAP50  m"
     ]
    },
    {
     "name": "stdout",
     "output_type": "stream",
     "text": [
      "                   all        255       2036      0.873      0.839      0.917      0.607\n"
     ]
    },
    {
     "name": "stderr",
     "output_type": "stream",
     "text": [
      "\n"
     ]
    },
    {
     "name": "stdout",
     "output_type": "stream",
     "text": [
      "\n",
      "      Epoch    GPU_mem   box_loss   cls_loss   dfl_loss  Instances       Size\n"
     ]
    },
    {
     "name": "stderr",
     "output_type": "stream",
     "text": [
      "     10/100      5.73G      1.144     0.7381      1.382         29        640: 1\n",
      "                 Class     Images  Instances      Box(P          R      mAP50  m"
     ]
    },
    {
     "name": "stdout",
     "output_type": "stream",
     "text": [
      "                   all        255       2036      0.904      0.842      0.931      0.619\n"
     ]
    },
    {
     "name": "stderr",
     "output_type": "stream",
     "text": [
      "\n"
     ]
    },
    {
     "name": "stdout",
     "output_type": "stream",
     "text": [
      "\n",
      "      Epoch    GPU_mem   box_loss   cls_loss   dfl_loss  Instances       Size\n"
     ]
    },
    {
     "name": "stderr",
     "output_type": "stream",
     "text": [
      "     11/100      5.74G      1.132     0.7094      1.367         21        640: 1\n",
      "                 Class     Images  Instances      Box(P          R      mAP50  m"
     ]
    },
    {
     "name": "stdout",
     "output_type": "stream",
     "text": [
      "                   all        255       2036        0.9      0.855      0.933      0.636\n"
     ]
    },
    {
     "name": "stderr",
     "output_type": "stream",
     "text": [
      "\n"
     ]
    },
    {
     "name": "stdout",
     "output_type": "stream",
     "text": [
      "\n",
      "      Epoch    GPU_mem   box_loss   cls_loss   dfl_loss  Instances       Size\n"
     ]
    },
    {
     "name": "stderr",
     "output_type": "stream",
     "text": [
      "     12/100      5.74G      1.108     0.6886      1.357         33        640: 1\n",
      "                 Class     Images  Instances      Box(P          R      mAP50  m"
     ]
    },
    {
     "name": "stdout",
     "output_type": "stream",
     "text": [
      "                   all        255       2036      0.888      0.859      0.934      0.628\n"
     ]
    },
    {
     "name": "stderr",
     "output_type": "stream",
     "text": [
      "\n"
     ]
    },
    {
     "name": "stdout",
     "output_type": "stream",
     "text": [
      "\n",
      "      Epoch    GPU_mem   box_loss   cls_loss   dfl_loss  Instances       Size\n"
     ]
    },
    {
     "name": "stderr",
     "output_type": "stream",
     "text": [
      "     13/100      5.72G      1.117     0.6808      1.358         50        640: 1\n",
      "                 Class     Images  Instances      Box(P          R      mAP50  m"
     ]
    },
    {
     "name": "stdout",
     "output_type": "stream",
     "text": [
      "                   all        255       2036      0.897      0.851      0.936      0.624\n"
     ]
    },
    {
     "name": "stderr",
     "output_type": "stream",
     "text": [
      "\n"
     ]
    },
    {
     "name": "stdout",
     "output_type": "stream",
     "text": [
      "\n",
      "      Epoch    GPU_mem   box_loss   cls_loss   dfl_loss  Instances       Size\n"
     ]
    },
    {
     "name": "stderr",
     "output_type": "stream",
     "text": [
      "     14/100      5.72G      1.103     0.6857      1.354         15        640: 1\n",
      "                 Class     Images  Instances      Box(P          R      mAP50  m"
     ]
    },
    {
     "name": "stdout",
     "output_type": "stream",
     "text": [
      "                   all        255       2036      0.884      0.846      0.927      0.616\n"
     ]
    },
    {
     "name": "stderr",
     "output_type": "stream",
     "text": [
      "\n"
     ]
    },
    {
     "name": "stdout",
     "output_type": "stream",
     "text": [
      "\n",
      "      Epoch    GPU_mem   box_loss   cls_loss   dfl_loss  Instances       Size\n"
     ]
    },
    {
     "name": "stderr",
     "output_type": "stream",
     "text": [
      "     15/100      5.73G      1.088      0.665      1.349         37        640: 1\n",
      "                 Class     Images  Instances      Box(P          R      mAP50  m"
     ]
    },
    {
     "name": "stdout",
     "output_type": "stream",
     "text": [
      "                   all        255       2036      0.899      0.842       0.93      0.614\n"
     ]
    },
    {
     "name": "stderr",
     "output_type": "stream",
     "text": [
      "\n"
     ]
    },
    {
     "name": "stdout",
     "output_type": "stream",
     "text": [
      "\n",
      "      Epoch    GPU_mem   box_loss   cls_loss   dfl_loss  Instances       Size\n"
     ]
    },
    {
     "name": "stderr",
     "output_type": "stream",
     "text": [
      "     16/100      5.73G      1.089     0.6699      1.346         55        640: 1\n",
      "                 Class     Images  Instances      Box(P          R      mAP50  m"
     ]
    },
    {
     "name": "stdout",
     "output_type": "stream",
     "text": [
      "                   all        255       2036      0.901      0.861      0.942      0.648\n"
     ]
    },
    {
     "name": "stderr",
     "output_type": "stream",
     "text": [
      "\n"
     ]
    },
    {
     "name": "stdout",
     "output_type": "stream",
     "text": [
      "\n",
      "      Epoch    GPU_mem   box_loss   cls_loss   dfl_loss  Instances       Size\n"
     ]
    },
    {
     "name": "stderr",
     "output_type": "stream",
     "text": [
      "     17/100      5.72G      1.077     0.6448      1.329         38        640: 1\n",
      "                 Class     Images  Instances      Box(P          R      mAP50  m"
     ]
    },
    {
     "name": "stdout",
     "output_type": "stream",
     "text": [
      "                   all        255       2036      0.889      0.865      0.943      0.645\n"
     ]
    },
    {
     "name": "stderr",
     "output_type": "stream",
     "text": [
      "\n"
     ]
    },
    {
     "name": "stdout",
     "output_type": "stream",
     "text": [
      "\n",
      "      Epoch    GPU_mem   box_loss   cls_loss   dfl_loss  Instances       Size\n"
     ]
    },
    {
     "name": "stderr",
     "output_type": "stream",
     "text": [
      "     18/100      5.71G      1.082     0.6494      1.333         25        640: 1\n",
      "                 Class     Images  Instances      Box(P          R      mAP50  m"
     ]
    },
    {
     "name": "stdout",
     "output_type": "stream",
     "text": [
      "                   all        255       2036      0.891      0.874      0.941      0.636\n"
     ]
    },
    {
     "name": "stderr",
     "output_type": "stream",
     "text": [
      "\n"
     ]
    },
    {
     "name": "stdout",
     "output_type": "stream",
     "text": [
      "\n",
      "      Epoch    GPU_mem   box_loss   cls_loss   dfl_loss  Instances       Size\n"
     ]
    },
    {
     "name": "stderr",
     "output_type": "stream",
     "text": [
      "     19/100      5.74G      1.077     0.6287      1.325         26        640: 1\n",
      "                 Class     Images  Instances      Box(P          R      mAP50  m"
     ]
    },
    {
     "name": "stdout",
     "output_type": "stream",
     "text": [
      "                   all        255       2036      0.882      0.867      0.931      0.634\n"
     ]
    },
    {
     "name": "stderr",
     "output_type": "stream",
     "text": [
      "\n"
     ]
    },
    {
     "name": "stdout",
     "output_type": "stream",
     "text": [
      "\n",
      "      Epoch    GPU_mem   box_loss   cls_loss   dfl_loss  Instances       Size\n"
     ]
    },
    {
     "name": "stderr",
     "output_type": "stream",
     "text": [
      "     20/100      5.67G      1.084     0.6467      1.331         45        640: 1\n",
      "                 Class     Images  Instances      Box(P          R      mAP50  m"
     ]
    },
    {
     "name": "stdout",
     "output_type": "stream",
     "text": [
      "                   all        255       2036      0.878      0.853      0.931      0.608\n"
     ]
    },
    {
     "name": "stderr",
     "output_type": "stream",
     "text": [
      "\n"
     ]
    },
    {
     "name": "stdout",
     "output_type": "stream",
     "text": [
      "\n",
      "      Epoch    GPU_mem   box_loss   cls_loss   dfl_loss  Instances       Size\n"
     ]
    },
    {
     "name": "stderr",
     "output_type": "stream",
     "text": [
      "     21/100      5.73G      1.058     0.6245      1.314         54        640: 1\n",
      "                 Class     Images  Instances      Box(P          R      mAP50  m"
     ]
    },
    {
     "name": "stdout",
     "output_type": "stream",
     "text": [
      "                   all        255       2036      0.892      0.857      0.932      0.635\n"
     ]
    },
    {
     "name": "stderr",
     "output_type": "stream",
     "text": [
      "\n"
     ]
    },
    {
     "name": "stdout",
     "output_type": "stream",
     "text": [
      "\n",
      "      Epoch    GPU_mem   box_loss   cls_loss   dfl_loss  Instances       Size\n"
     ]
    },
    {
     "name": "stderr",
     "output_type": "stream",
     "text": [
      "     22/100      5.73G      1.054     0.6035      1.314         29        640: 1\n",
      "                 Class     Images  Instances      Box(P          R      mAP50  m"
     ]
    },
    {
     "name": "stdout",
     "output_type": "stream",
     "text": [
      "                   all        255       2036      0.868      0.863      0.929      0.634\n"
     ]
    },
    {
     "name": "stderr",
     "output_type": "stream",
     "text": [
      "\n"
     ]
    },
    {
     "name": "stdout",
     "output_type": "stream",
     "text": [
      "\n",
      "      Epoch    GPU_mem   box_loss   cls_loss   dfl_loss  Instances       Size\n"
     ]
    },
    {
     "name": "stderr",
     "output_type": "stream",
     "text": [
      "     23/100      5.74G      1.049     0.6051      1.306         22        640: 1\n",
      "                 Class     Images  Instances      Box(P          R      mAP50  m"
     ]
    },
    {
     "name": "stdout",
     "output_type": "stream",
     "text": [
      "                   all        255       2036      0.902      0.857      0.937      0.647\n"
     ]
    },
    {
     "name": "stderr",
     "output_type": "stream",
     "text": [
      "\n"
     ]
    },
    {
     "name": "stdout",
     "output_type": "stream",
     "text": [
      "\n",
      "      Epoch    GPU_mem   box_loss   cls_loss   dfl_loss  Instances       Size\n"
     ]
    },
    {
     "name": "stderr",
     "output_type": "stream",
     "text": [
      "     24/100      5.73G      1.054     0.6106      1.305         18        640: 1\n",
      "                 Class     Images  Instances      Box(P          R      mAP50  m"
     ]
    },
    {
     "name": "stdout",
     "output_type": "stream",
     "text": [
      "                   all        255       2036      0.905      0.855      0.942      0.638\n"
     ]
    },
    {
     "name": "stderr",
     "output_type": "stream",
     "text": [
      "\n"
     ]
    },
    {
     "name": "stdout",
     "output_type": "stream",
     "text": [
      "\n",
      "      Epoch    GPU_mem   box_loss   cls_loss   dfl_loss  Instances       Size\n"
     ]
    },
    {
     "name": "stderr",
     "output_type": "stream",
     "text": [
      "     25/100      5.74G      1.049     0.6018      1.305         13        640: 1\n",
      "                 Class     Images  Instances      Box(P          R      mAP50  m"
     ]
    },
    {
     "name": "stdout",
     "output_type": "stream",
     "text": [
      "                   all        255       2036      0.913      0.864      0.948      0.663\n"
     ]
    },
    {
     "name": "stderr",
     "output_type": "stream",
     "text": [
      "\n"
     ]
    },
    {
     "name": "stdout",
     "output_type": "stream",
     "text": [
      "\n",
      "      Epoch    GPU_mem   box_loss   cls_loss   dfl_loss  Instances       Size\n"
     ]
    },
    {
     "name": "stderr",
     "output_type": "stream",
     "text": [
      "     26/100      5.75G      1.042     0.5899      1.298         43        640: 1\n",
      "                 Class     Images  Instances      Box(P          R      mAP50  m"
     ]
    },
    {
     "name": "stdout",
     "output_type": "stream",
     "text": [
      "                   all        255       2036      0.892       0.87      0.944      0.652\n"
     ]
    },
    {
     "name": "stderr",
     "output_type": "stream",
     "text": [
      "\n"
     ]
    },
    {
     "name": "stdout",
     "output_type": "stream",
     "text": [
      "\n",
      "      Epoch    GPU_mem   box_loss   cls_loss   dfl_loss  Instances       Size\n"
     ]
    },
    {
     "name": "stderr",
     "output_type": "stream",
     "text": [
      "     27/100      5.73G      1.045     0.5887      1.304         33        640: 1\n",
      "                 Class     Images  Instances      Box(P          R      mAP50  m"
     ]
    },
    {
     "name": "stdout",
     "output_type": "stream",
     "text": [
      "                   all        255       2036      0.894      0.871      0.945      0.655\n"
     ]
    },
    {
     "name": "stderr",
     "output_type": "stream",
     "text": [
      "\n"
     ]
    },
    {
     "name": "stdout",
     "output_type": "stream",
     "text": [
      "\n",
      "      Epoch    GPU_mem   box_loss   cls_loss   dfl_loss  Instances       Size\n"
     ]
    },
    {
     "name": "stderr",
     "output_type": "stream",
     "text": [
      "     28/100      5.74G      1.032     0.5733       1.29         10        640: 1\n",
      "                 Class     Images  Instances      Box(P          R      mAP50  m"
     ]
    },
    {
     "name": "stdout",
     "output_type": "stream",
     "text": [
      "                   all        255       2036      0.895      0.874      0.938      0.631\n"
     ]
    },
    {
     "name": "stderr",
     "output_type": "stream",
     "text": [
      "\n"
     ]
    },
    {
     "name": "stdout",
     "output_type": "stream",
     "text": [
      "\n",
      "      Epoch    GPU_mem   box_loss   cls_loss   dfl_loss  Instances       Size\n"
     ]
    },
    {
     "name": "stderr",
     "output_type": "stream",
     "text": [
      "     29/100      5.75G      1.035     0.5799      1.298         33        640: 1\n",
      "                 Class     Images  Instances      Box(P          R      mAP50  m"
     ]
    },
    {
     "name": "stdout",
     "output_type": "stream",
     "text": [
      "                   all        255       2036      0.907      0.848       0.94      0.642\n"
     ]
    },
    {
     "name": "stderr",
     "output_type": "stream",
     "text": [
      "\n"
     ]
    },
    {
     "name": "stdout",
     "output_type": "stream",
     "text": [
      "\n",
      "      Epoch    GPU_mem   box_loss   cls_loss   dfl_loss  Instances       Size\n"
     ]
    },
    {
     "name": "stderr",
     "output_type": "stream",
     "text": [
      "     30/100      5.73G      1.027     0.5973      1.284         37        640: 1\n",
      "                 Class     Images  Instances      Box(P          R      mAP50  m"
     ]
    },
    {
     "name": "stdout",
     "output_type": "stream",
     "text": [
      "                   all        255       2036      0.901      0.848      0.933       0.64\n"
     ]
    },
    {
     "name": "stderr",
     "output_type": "stream",
     "text": [
      "\n"
     ]
    },
    {
     "name": "stdout",
     "output_type": "stream",
     "text": [
      "\n",
      "      Epoch    GPU_mem   box_loss   cls_loss   dfl_loss  Instances       Size\n"
     ]
    },
    {
     "name": "stderr",
     "output_type": "stream",
     "text": [
      "     31/100      5.72G      1.026     0.5709      1.284         35        640: 1\n",
      "                 Class     Images  Instances      Box(P          R      mAP50  m"
     ]
    },
    {
     "name": "stdout",
     "output_type": "stream",
     "text": [
      "                   all        255       2036      0.897      0.865      0.945      0.649\n"
     ]
    },
    {
     "name": "stderr",
     "output_type": "stream",
     "text": [
      "\n"
     ]
    },
    {
     "name": "stdout",
     "output_type": "stream",
     "text": [
      "\n",
      "      Epoch    GPU_mem   box_loss   cls_loss   dfl_loss  Instances       Size\n"
     ]
    },
    {
     "name": "stderr",
     "output_type": "stream",
     "text": [
      "     32/100      5.73G      1.033     0.5829      1.289         28        640: 1\n",
      "                 Class     Images  Instances      Box(P          R      mAP50  m"
     ]
    },
    {
     "name": "stdout",
     "output_type": "stream",
     "text": [
      "                   all        255       2036      0.885      0.869      0.943      0.647\n"
     ]
    },
    {
     "name": "stderr",
     "output_type": "stream",
     "text": [
      "\n"
     ]
    },
    {
     "name": "stdout",
     "output_type": "stream",
     "text": [
      "\n",
      "      Epoch    GPU_mem   box_loss   cls_loss   dfl_loss  Instances       Size\n"
     ]
    },
    {
     "name": "stderr",
     "output_type": "stream",
     "text": [
      "     33/100      5.74G      1.033     0.5779      1.293         39        640: 1\n",
      "                 Class     Images  Instances      Box(P          R      mAP50  m"
     ]
    },
    {
     "name": "stdout",
     "output_type": "stream",
     "text": [
      "                   all        255       2036       0.89       0.88      0.951      0.654\n"
     ]
    },
    {
     "name": "stderr",
     "output_type": "stream",
     "text": [
      "\n"
     ]
    },
    {
     "name": "stdout",
     "output_type": "stream",
     "text": [
      "\n",
      "      Epoch    GPU_mem   box_loss   cls_loss   dfl_loss  Instances       Size\n"
     ]
    },
    {
     "name": "stderr",
     "output_type": "stream",
     "text": [
      "     34/100       5.7G      1.009     0.5681      1.278         40        640: 1\n",
      "                 Class     Images  Instances      Box(P          R      mAP50  m"
     ]
    },
    {
     "name": "stdout",
     "output_type": "stream",
     "text": [
      "                   all        255       2036      0.888      0.886      0.948      0.656\n"
     ]
    },
    {
     "name": "stderr",
     "output_type": "stream",
     "text": [
      "\n"
     ]
    },
    {
     "name": "stdout",
     "output_type": "stream",
     "text": [
      "\n",
      "      Epoch    GPU_mem   box_loss   cls_loss   dfl_loss  Instances       Size\n"
     ]
    },
    {
     "name": "stderr",
     "output_type": "stream",
     "text": [
      "     35/100      5.74G      1.006     0.5592       1.27         20        640: 1\n",
      "                 Class     Images  Instances      Box(P          R      mAP50  m"
     ]
    },
    {
     "name": "stdout",
     "output_type": "stream",
     "text": [
      "                   all        255       2036      0.917      0.853      0.945      0.654\n"
     ]
    },
    {
     "name": "stderr",
     "output_type": "stream",
     "text": [
      "\n"
     ]
    },
    {
     "name": "stdout",
     "output_type": "stream",
     "text": [
      "\n",
      "      Epoch    GPU_mem   box_loss   cls_loss   dfl_loss  Instances       Size\n"
     ]
    },
    {
     "name": "stderr",
     "output_type": "stream",
     "text": [
      "     36/100      5.68G      1.016      0.559      1.284         39        640: 1\n",
      "                 Class     Images  Instances      Box(P          R      mAP50  m"
     ]
    },
    {
     "name": "stdout",
     "output_type": "stream",
     "text": [
      "                   all        255       2036      0.905      0.881       0.95      0.661\n"
     ]
    },
    {
     "name": "stderr",
     "output_type": "stream",
     "text": [
      "\n"
     ]
    },
    {
     "name": "stdout",
     "output_type": "stream",
     "text": [
      "\n",
      "      Epoch    GPU_mem   box_loss   cls_loss   dfl_loss  Instances       Size\n"
     ]
    },
    {
     "name": "stderr",
     "output_type": "stream",
     "text": [
      "     37/100      5.73G     0.9966     0.5429      1.261         15        640: 1\n",
      "                 Class     Images  Instances      Box(P          R      mAP50  m"
     ]
    },
    {
     "name": "stdout",
     "output_type": "stream",
     "text": [
      "                   all        255       2036      0.896      0.888      0.947      0.656\n"
     ]
    },
    {
     "name": "stderr",
     "output_type": "stream",
     "text": [
      "\n"
     ]
    },
    {
     "name": "stdout",
     "output_type": "stream",
     "text": [
      "\n",
      "      Epoch    GPU_mem   box_loss   cls_loss   dfl_loss  Instances       Size\n"
     ]
    },
    {
     "name": "stderr",
     "output_type": "stream",
     "text": [
      "     38/100      5.72G      1.005     0.5483      1.265         33        640: 1\n",
      "                 Class     Images  Instances      Box(P          R      mAP50  m"
     ]
    },
    {
     "name": "stdout",
     "output_type": "stream",
     "text": [
      "                   all        255       2036      0.903      0.859      0.944      0.656\n"
     ]
    },
    {
     "name": "stderr",
     "output_type": "stream",
     "text": [
      "\n"
     ]
    },
    {
     "name": "stdout",
     "output_type": "stream",
     "text": [
      "\n",
      "      Epoch    GPU_mem   box_loss   cls_loss   dfl_loss  Instances       Size\n"
     ]
    },
    {
     "name": "stderr",
     "output_type": "stream",
     "text": [
      "     39/100      5.73G     0.9984      0.551      1.271         44        640: 1\n",
      "                 Class     Images  Instances      Box(P          R      mAP50  m"
     ]
    },
    {
     "name": "stdout",
     "output_type": "stream",
     "text": [
      "                   all        255       2036      0.899      0.852      0.939      0.645\n"
     ]
    },
    {
     "name": "stderr",
     "output_type": "stream",
     "text": [
      "\n"
     ]
    },
    {
     "name": "stdout",
     "output_type": "stream",
     "text": [
      "\n",
      "      Epoch    GPU_mem   box_loss   cls_loss   dfl_loss  Instances       Size\n"
     ]
    },
    {
     "name": "stderr",
     "output_type": "stream",
     "text": [
      "     40/100      5.73G     0.9874     0.5281      1.254         30        640: 1\n",
      "                 Class     Images  Instances      Box(P          R      mAP50  m"
     ]
    },
    {
     "name": "stdout",
     "output_type": "stream",
     "text": [
      "                   all        255       2036       0.92      0.862      0.952      0.672\n"
     ]
    },
    {
     "name": "stderr",
     "output_type": "stream",
     "text": [
      "\n"
     ]
    },
    {
     "name": "stdout",
     "output_type": "stream",
     "text": [
      "\n",
      "      Epoch    GPU_mem   box_loss   cls_loss   dfl_loss  Instances       Size\n"
     ]
    },
    {
     "name": "stderr",
     "output_type": "stream",
     "text": [
      "     41/100      5.72G     0.9928     0.5359      1.262         29        640: 1\n",
      "                 Class     Images  Instances      Box(P          R      mAP50  m"
     ]
    },
    {
     "name": "stdout",
     "output_type": "stream",
     "text": [
      "                   all        255       2036      0.905      0.889      0.954      0.661\n"
     ]
    },
    {
     "name": "stderr",
     "output_type": "stream",
     "text": [
      "\n"
     ]
    },
    {
     "name": "stdout",
     "output_type": "stream",
     "text": [
      "\n",
      "      Epoch    GPU_mem   box_loss   cls_loss   dfl_loss  Instances       Size\n"
     ]
    },
    {
     "name": "stderr",
     "output_type": "stream",
     "text": [
      "     42/100      5.72G      0.987     0.5318      1.259         44        640: 1\n",
      "                 Class     Images  Instances      Box(P          R      mAP50  m"
     ]
    },
    {
     "name": "stdout",
     "output_type": "stream",
     "text": [
      "                   all        255       2036      0.906      0.861      0.945      0.652\n"
     ]
    },
    {
     "name": "stderr",
     "output_type": "stream",
     "text": [
      "\n"
     ]
    },
    {
     "name": "stdout",
     "output_type": "stream",
     "text": [
      "\n",
      "      Epoch    GPU_mem   box_loss   cls_loss   dfl_loss  Instances       Size\n"
     ]
    },
    {
     "name": "stderr",
     "output_type": "stream",
     "text": [
      "     43/100      5.73G      1.001     0.5362      1.264         34        640: 1\n",
      "                 Class     Images  Instances      Box(P          R      mAP50  m"
     ]
    },
    {
     "name": "stdout",
     "output_type": "stream",
     "text": [
      "                   all        255       2036      0.896      0.873      0.944      0.657\n"
     ]
    },
    {
     "name": "stderr",
     "output_type": "stream",
     "text": [
      "\n"
     ]
    },
    {
     "name": "stdout",
     "output_type": "stream",
     "text": [
      "\n",
      "      Epoch    GPU_mem   box_loss   cls_loss   dfl_loss  Instances       Size\n"
     ]
    },
    {
     "name": "stderr",
     "output_type": "stream",
     "text": [
      "     44/100      5.73G     0.9826     0.5343       1.26         44        640: 1\n",
      "                 Class     Images  Instances      Box(P          R      mAP50  m"
     ]
    },
    {
     "name": "stdout",
     "output_type": "stream",
     "text": [
      "                   all        255       2036      0.898      0.876      0.951      0.664\n"
     ]
    },
    {
     "name": "stderr",
     "output_type": "stream",
     "text": [
      "\n"
     ]
    },
    {
     "name": "stdout",
     "output_type": "stream",
     "text": [
      "\n",
      "      Epoch    GPU_mem   box_loss   cls_loss   dfl_loss  Instances       Size\n"
     ]
    },
    {
     "name": "stderr",
     "output_type": "stream",
     "text": [
      "     45/100      5.72G     0.9582     0.5163      1.251         34        640: 1\n",
      "                 Class     Images  Instances      Box(P          R      mAP50  m"
     ]
    },
    {
     "name": "stdout",
     "output_type": "stream",
     "text": [
      "                   all        255       2036      0.903      0.871      0.944      0.659\n"
     ]
    },
    {
     "name": "stderr",
     "output_type": "stream",
     "text": [
      "\n"
     ]
    },
    {
     "name": "stdout",
     "output_type": "stream",
     "text": [
      "\n",
      "      Epoch    GPU_mem   box_loss   cls_loss   dfl_loss  Instances       Size\n"
     ]
    },
    {
     "name": "stderr",
     "output_type": "stream",
     "text": [
      "     46/100      5.74G     0.9694     0.5332      1.251         17        640: 1\n",
      "                 Class     Images  Instances      Box(P          R      mAP50  m"
     ]
    },
    {
     "name": "stdout",
     "output_type": "stream",
     "text": [
      "                   all        255       2036      0.913       0.87      0.944      0.657\n"
     ]
    },
    {
     "name": "stderr",
     "output_type": "stream",
     "text": [
      "\n"
     ]
    },
    {
     "name": "stdout",
     "output_type": "stream",
     "text": [
      "\n",
      "      Epoch    GPU_mem   box_loss   cls_loss   dfl_loss  Instances       Size\n"
     ]
    },
    {
     "name": "stderr",
     "output_type": "stream",
     "text": [
      "     47/100      5.73G     0.9713     0.5258      1.232         31        640: 1\n",
      "                 Class     Images  Instances      Box(P          R      mAP50  m"
     ]
    },
    {
     "name": "stdout",
     "output_type": "stream",
     "text": [
      "                   all        255       2036      0.895      0.873      0.947      0.659\n"
     ]
    },
    {
     "name": "stderr",
     "output_type": "stream",
     "text": [
      "\n"
     ]
    },
    {
     "name": "stdout",
     "output_type": "stream",
     "text": [
      "\n",
      "      Epoch    GPU_mem   box_loss   cls_loss   dfl_loss  Instances       Size\n"
     ]
    },
    {
     "name": "stderr",
     "output_type": "stream",
     "text": [
      "     48/100      5.72G     0.9543     0.5049      1.228         22        640: 1\n",
      "                 Class     Images  Instances      Box(P          R      mAP50  m"
     ]
    },
    {
     "name": "stdout",
     "output_type": "stream",
     "text": [
      "                   all        255       2036      0.909       0.88      0.951      0.664\n"
     ]
    },
    {
     "name": "stderr",
     "output_type": "stream",
     "text": [
      "\n"
     ]
    },
    {
     "name": "stdout",
     "output_type": "stream",
     "text": [
      "\n",
      "      Epoch    GPU_mem   box_loss   cls_loss   dfl_loss  Instances       Size\n"
     ]
    },
    {
     "name": "stderr",
     "output_type": "stream",
     "text": [
      "     49/100      5.73G     0.9593     0.5154      1.241         20        640: 1\n",
      "                 Class     Images  Instances      Box(P          R      mAP50  m"
     ]
    },
    {
     "name": "stdout",
     "output_type": "stream",
     "text": [
      "                   all        255       2036      0.906      0.867       0.95      0.663\n"
     ]
    },
    {
     "name": "stderr",
     "output_type": "stream",
     "text": [
      "\n"
     ]
    },
    {
     "name": "stdout",
     "output_type": "stream",
     "text": [
      "\n",
      "      Epoch    GPU_mem   box_loss   cls_loss   dfl_loss  Instances       Size\n"
     ]
    },
    {
     "name": "stderr",
     "output_type": "stream",
     "text": [
      "     50/100       5.7G      0.971     0.5159      1.245         27        640: 1\n",
      "                 Class     Images  Instances      Box(P          R      mAP50  m"
     ]
    },
    {
     "name": "stdout",
     "output_type": "stream",
     "text": [
      "                   all        255       2036      0.902      0.873      0.943      0.652\n"
     ]
    },
    {
     "name": "stderr",
     "output_type": "stream",
     "text": [
      "\n"
     ]
    },
    {
     "name": "stdout",
     "output_type": "stream",
     "text": [
      "\n",
      "      Epoch    GPU_mem   box_loss   cls_loss   dfl_loss  Instances       Size\n"
     ]
    },
    {
     "name": "stderr",
     "output_type": "stream",
     "text": [
      "     51/100      5.75G     0.9683     0.5168      1.242         15        640: 1\n",
      "                 Class     Images  Instances      Box(P          R      mAP50  m"
     ]
    },
    {
     "name": "stdout",
     "output_type": "stream",
     "text": [
      "                   all        255       2036      0.896      0.887       0.95      0.664\n"
     ]
    },
    {
     "name": "stderr",
     "output_type": "stream",
     "text": [
      "\n"
     ]
    },
    {
     "name": "stdout",
     "output_type": "stream",
     "text": [
      "\n",
      "      Epoch    GPU_mem   box_loss   cls_loss   dfl_loss  Instances       Size\n"
     ]
    },
    {
     "name": "stderr",
     "output_type": "stream",
     "text": [
      "     52/100       5.7G     0.9543     0.4989      1.238         57        640: 1\n",
      "                 Class     Images  Instances      Box(P          R      mAP50  m"
     ]
    },
    {
     "name": "stdout",
     "output_type": "stream",
     "text": [
      "                   all        255       2036      0.909      0.866      0.946      0.657\n"
     ]
    },
    {
     "name": "stderr",
     "output_type": "stream",
     "text": [
      "\n"
     ]
    },
    {
     "name": "stdout",
     "output_type": "stream",
     "text": [
      "\n",
      "      Epoch    GPU_mem   box_loss   cls_loss   dfl_loss  Instances       Size\n"
     ]
    },
    {
     "name": "stderr",
     "output_type": "stream",
     "text": [
      "     53/100      5.74G     0.9539     0.5115      1.224         33        640: 1\n",
      "                 Class     Images  Instances      Box(P          R      mAP50  m"
     ]
    },
    {
     "name": "stdout",
     "output_type": "stream",
     "text": [
      "                   all        255       2036      0.902      0.873      0.949      0.665\n"
     ]
    },
    {
     "name": "stderr",
     "output_type": "stream",
     "text": [
      "\n"
     ]
    },
    {
     "name": "stdout",
     "output_type": "stream",
     "text": [
      "\n",
      "      Epoch    GPU_mem   box_loss   cls_loss   dfl_loss  Instances       Size\n"
     ]
    },
    {
     "name": "stderr",
     "output_type": "stream",
     "text": [
      "     54/100      5.73G     0.9467     0.4968      1.223         27        640: 1\n",
      "                 Class     Images  Instances      Box(P          R      mAP50  m"
     ]
    },
    {
     "name": "stdout",
     "output_type": "stream",
     "text": [
      "                   all        255       2036      0.894      0.889       0.95      0.662\n"
     ]
    },
    {
     "name": "stderr",
     "output_type": "stream",
     "text": [
      "\n"
     ]
    },
    {
     "name": "stdout",
     "output_type": "stream",
     "text": [
      "\n",
      "      Epoch    GPU_mem   box_loss   cls_loss   dfl_loss  Instances       Size\n"
     ]
    },
    {
     "name": "stderr",
     "output_type": "stream",
     "text": [
      "     55/100      5.73G     0.9487     0.4936      1.233         18        640: 1\n",
      "                 Class     Images  Instances      Box(P          R      mAP50  m"
     ]
    },
    {
     "name": "stdout",
     "output_type": "stream",
     "text": [
      "                   all        255       2036      0.887      0.893      0.945      0.655\n"
     ]
    },
    {
     "name": "stderr",
     "output_type": "stream",
     "text": [
      "\n"
     ]
    },
    {
     "name": "stdout",
     "output_type": "stream",
     "text": [
      "\n",
      "      Epoch    GPU_mem   box_loss   cls_loss   dfl_loss  Instances       Size\n"
     ]
    },
    {
     "name": "stderr",
     "output_type": "stream",
     "text": [
      "     56/100      5.73G      0.947     0.4887      1.232         48        640: 1\n",
      "                 Class     Images  Instances      Box(P          R      mAP50  m"
     ]
    },
    {
     "name": "stdout",
     "output_type": "stream",
     "text": [
      "                   all        255       2036      0.886      0.897      0.951      0.666\n"
     ]
    },
    {
     "name": "stderr",
     "output_type": "stream",
     "text": [
      "\n"
     ]
    },
    {
     "name": "stdout",
     "output_type": "stream",
     "text": [
      "\n",
      "      Epoch    GPU_mem   box_loss   cls_loss   dfl_loss  Instances       Size\n"
     ]
    },
    {
     "name": "stderr",
     "output_type": "stream",
     "text": [
      "     57/100      5.73G     0.9406     0.4937      1.222         34        640: 1\n",
      "                 Class     Images  Instances      Box(P          R      mAP50  m"
     ]
    },
    {
     "name": "stdout",
     "output_type": "stream",
     "text": [
      "                   all        255       2036      0.908      0.868      0.948      0.652\n"
     ]
    },
    {
     "name": "stderr",
     "output_type": "stream",
     "text": [
      "\n"
     ]
    },
    {
     "name": "stdout",
     "output_type": "stream",
     "text": [
      "\n",
      "      Epoch    GPU_mem   box_loss   cls_loss   dfl_loss  Instances       Size\n"
     ]
    },
    {
     "name": "stderr",
     "output_type": "stream",
     "text": [
      "     58/100      5.73G     0.9309     0.4897      1.214         21        640: 1\n",
      "                 Class     Images  Instances      Box(P          R      mAP50  m"
     ]
    },
    {
     "name": "stdout",
     "output_type": "stream",
     "text": [
      "                   all        255       2036      0.901      0.875      0.951      0.661\n"
     ]
    },
    {
     "name": "stderr",
     "output_type": "stream",
     "text": [
      "\n"
     ]
    },
    {
     "name": "stdout",
     "output_type": "stream",
     "text": [
      "\n",
      "      Epoch    GPU_mem   box_loss   cls_loss   dfl_loss  Instances       Size\n"
     ]
    },
    {
     "name": "stderr",
     "output_type": "stream",
     "text": [
      "     59/100      5.72G     0.9285     0.4833      1.216         28        640: 1\n",
      "                 Class     Images  Instances      Box(P          R      mAP50  m"
     ]
    },
    {
     "name": "stdout",
     "output_type": "stream",
     "text": [
      "                   all        255       2036      0.928      0.852      0.946       0.66\n"
     ]
    },
    {
     "name": "stderr",
     "output_type": "stream",
     "text": [
      "\n"
     ]
    },
    {
     "name": "stdout",
     "output_type": "stream",
     "text": [
      "\n",
      "      Epoch    GPU_mem   box_loss   cls_loss   dfl_loss  Instances       Size\n"
     ]
    },
    {
     "name": "stderr",
     "output_type": "stream",
     "text": [
      "     60/100      5.72G     0.9287     0.4818      1.224         33        640: 1\n",
      "                 Class     Images  Instances      Box(P          R      mAP50  m"
     ]
    },
    {
     "name": "stdout",
     "output_type": "stream",
     "text": [
      "                   all        255       2036      0.909      0.864      0.948      0.662\n"
     ]
    },
    {
     "name": "stderr",
     "output_type": "stream",
     "text": [
      "\n"
     ]
    },
    {
     "name": "stdout",
     "output_type": "stream",
     "text": [
      "\n",
      "      Epoch    GPU_mem   box_loss   cls_loss   dfl_loss  Instances       Size\n"
     ]
    },
    {
     "name": "stderr",
     "output_type": "stream",
     "text": [
      "     61/100      5.74G     0.9378     0.4855      1.216         52        640: 1\n",
      "                 Class     Images  Instances      Box(P          R      mAP50  m"
     ]
    },
    {
     "name": "stdout",
     "output_type": "stream",
     "text": [
      "                   all        255       2036      0.903      0.879      0.954      0.664\n"
     ]
    },
    {
     "name": "stderr",
     "output_type": "stream",
     "text": [
      "\n"
     ]
    },
    {
     "name": "stdout",
     "output_type": "stream",
     "text": [
      "\n",
      "      Epoch    GPU_mem   box_loss   cls_loss   dfl_loss  Instances       Size\n"
     ]
    },
    {
     "name": "stderr",
     "output_type": "stream",
     "text": [
      "     62/100      5.73G     0.9329     0.4751       1.21         40        640: 1\n",
      "                 Class     Images  Instances      Box(P          R      mAP50  m"
     ]
    },
    {
     "name": "stdout",
     "output_type": "stream",
     "text": [
      "                   all        255       2036      0.926      0.874      0.952      0.661\n"
     ]
    },
    {
     "name": "stderr",
     "output_type": "stream",
     "text": [
      "\n"
     ]
    },
    {
     "name": "stdout",
     "output_type": "stream",
     "text": [
      "\n",
      "      Epoch    GPU_mem   box_loss   cls_loss   dfl_loss  Instances       Size\n"
     ]
    },
    {
     "name": "stderr",
     "output_type": "stream",
     "text": [
      "     63/100      5.72G     0.9079     0.4668      1.198         19        640: 1\n",
      "                 Class     Images  Instances      Box(P          R      mAP50  m"
     ]
    },
    {
     "name": "stdout",
     "output_type": "stream",
     "text": [
      "                   all        255       2036      0.891      0.885      0.945      0.654\n"
     ]
    },
    {
     "name": "stderr",
     "output_type": "stream",
     "text": [
      "\n"
     ]
    },
    {
     "name": "stdout",
     "output_type": "stream",
     "text": [
      "\n",
      "      Epoch    GPU_mem   box_loss   cls_loss   dfl_loss  Instances       Size\n"
     ]
    },
    {
     "name": "stderr",
     "output_type": "stream",
     "text": [
      "     64/100      5.73G     0.9063      0.468      1.204         26        640: 1\n",
      "                 Class     Images  Instances      Box(P          R      mAP50  m"
     ]
    },
    {
     "name": "stdout",
     "output_type": "stream",
     "text": [
      "                   all        255       2036      0.912      0.851      0.943      0.657\n"
     ]
    },
    {
     "name": "stderr",
     "output_type": "stream",
     "text": [
      "\n"
     ]
    },
    {
     "name": "stdout",
     "output_type": "stream",
     "text": [
      "\n",
      "      Epoch    GPU_mem   box_loss   cls_loss   dfl_loss  Instances       Size\n"
     ]
    },
    {
     "name": "stderr",
     "output_type": "stream",
     "text": [
      "     65/100      5.73G     0.9118     0.4755        1.2         32        640: 1\n",
      "                 Class     Images  Instances      Box(P          R      mAP50  m"
     ]
    },
    {
     "name": "stdout",
     "output_type": "stream",
     "text": [
      "                   all        255       2036      0.903      0.876       0.95       0.66\n"
     ]
    },
    {
     "name": "stderr",
     "output_type": "stream",
     "text": [
      "\n"
     ]
    },
    {
     "name": "stdout",
     "output_type": "stream",
     "text": [
      "\n",
      "      Epoch    GPU_mem   box_loss   cls_loss   dfl_loss  Instances       Size\n"
     ]
    },
    {
     "name": "stderr",
     "output_type": "stream",
     "text": [
      "     66/100       5.7G     0.9007     0.4639      1.193         46        640: 1\n",
      "                 Class     Images  Instances      Box(P          R      mAP50  m"
     ]
    },
    {
     "name": "stdout",
     "output_type": "stream",
     "text": [
      "                   all        255       2036      0.907      0.873      0.945      0.661\n"
     ]
    },
    {
     "name": "stderr",
     "output_type": "stream",
     "text": [
      "\n"
     ]
    },
    {
     "name": "stdout",
     "output_type": "stream",
     "text": [
      "\n",
      "      Epoch    GPU_mem   box_loss   cls_loss   dfl_loss  Instances       Size\n"
     ]
    },
    {
     "name": "stderr",
     "output_type": "stream",
     "text": [
      "     67/100      5.72G     0.9023      0.462       1.19         25        640: 1\n",
      "                 Class     Images  Instances      Box(P          R      mAP50  m"
     ]
    },
    {
     "name": "stdout",
     "output_type": "stream",
     "text": [
      "                   all        255       2036      0.878      0.894      0.949      0.667\n"
     ]
    },
    {
     "name": "stderr",
     "output_type": "stream",
     "text": [
      "\n"
     ]
    },
    {
     "name": "stdout",
     "output_type": "stream",
     "text": [
      "\n",
      "      Epoch    GPU_mem   box_loss   cls_loss   dfl_loss  Instances       Size\n"
     ]
    },
    {
     "name": "stderr",
     "output_type": "stream",
     "text": [
      "     68/100      5.69G     0.8979     0.4535       1.19         19        640: 1\n",
      "                 Class     Images  Instances      Box(P          R      mAP50  m"
     ]
    },
    {
     "name": "stdout",
     "output_type": "stream",
     "text": [
      "                   all        255       2036      0.898      0.866      0.938      0.653\n"
     ]
    },
    {
     "name": "stderr",
     "output_type": "stream",
     "text": [
      "\n"
     ]
    },
    {
     "name": "stdout",
     "output_type": "stream",
     "text": [
      "\n",
      "      Epoch    GPU_mem   box_loss   cls_loss   dfl_loss  Instances       Size\n"
     ]
    },
    {
     "name": "stderr",
     "output_type": "stream",
     "text": [
      "     69/100      5.73G     0.8943     0.4495      1.193         17        640: 1\n",
      "                 Class     Images  Instances      Box(P          R      mAP50  m"
     ]
    },
    {
     "name": "stdout",
     "output_type": "stream",
     "text": [
      "                   all        255       2036      0.915      0.868      0.946       0.67\n"
     ]
    },
    {
     "name": "stderr",
     "output_type": "stream",
     "text": [
      "\n"
     ]
    },
    {
     "name": "stdout",
     "output_type": "stream",
     "text": [
      "\n",
      "      Epoch    GPU_mem   box_loss   cls_loss   dfl_loss  Instances       Size\n"
     ]
    },
    {
     "name": "stderr",
     "output_type": "stream",
     "text": [
      "     70/100      5.73G     0.8964      0.455      1.202         34        640: 1\n",
      "                 Class     Images  Instances      Box(P          R      mAP50  m"
     ]
    },
    {
     "name": "stdout",
     "output_type": "stream",
     "text": [
      "                   all        255       2036      0.893      0.883      0.944      0.665\n"
     ]
    },
    {
     "name": "stderr",
     "output_type": "stream",
     "text": [
      "\n"
     ]
    },
    {
     "name": "stdout",
     "output_type": "stream",
     "text": [
      "\n",
      "      Epoch    GPU_mem   box_loss   cls_loss   dfl_loss  Instances       Size\n"
     ]
    },
    {
     "name": "stderr",
     "output_type": "stream",
     "text": [
      "     71/100      5.73G     0.8856     0.4463      1.186         33        640: 1\n",
      "                 Class     Images  Instances      Box(P          R      mAP50  m"
     ]
    },
    {
     "name": "stdout",
     "output_type": "stream",
     "text": [
      "                   all        255       2036      0.915      0.871      0.943      0.657\n"
     ]
    },
    {
     "name": "stderr",
     "output_type": "stream",
     "text": [
      "\n"
     ]
    },
    {
     "name": "stdout",
     "output_type": "stream",
     "text": [
      "\n",
      "      Epoch    GPU_mem   box_loss   cls_loss   dfl_loss  Instances       Size\n"
     ]
    },
    {
     "name": "stderr",
     "output_type": "stream",
     "text": [
      "     72/100      5.73G     0.8885     0.4448      1.183         25        640: 1\n",
      "                 Class     Images  Instances      Box(P          R      mAP50  m"
     ]
    },
    {
     "name": "stdout",
     "output_type": "stream",
     "text": [
      "                   all        255       2036      0.897      0.881      0.946      0.661\n"
     ]
    },
    {
     "name": "stderr",
     "output_type": "stream",
     "text": [
      "\n"
     ]
    },
    {
     "name": "stdout",
     "output_type": "stream",
     "text": [
      "\n",
      "      Epoch    GPU_mem   box_loss   cls_loss   dfl_loss  Instances       Size\n"
     ]
    },
    {
     "name": "stderr",
     "output_type": "stream",
     "text": [
      "     73/100      5.73G     0.8856     0.4469      1.183         27        640: 1\n",
      "                 Class     Images  Instances      Box(P          R      mAP50  m"
     ]
    },
    {
     "name": "stdout",
     "output_type": "stream",
     "text": [
      "                   all        255       2036      0.903      0.886      0.951      0.662\n"
     ]
    },
    {
     "name": "stderr",
     "output_type": "stream",
     "text": [
      "\n"
     ]
    },
    {
     "name": "stdout",
     "output_type": "stream",
     "text": [
      "\n",
      "      Epoch    GPU_mem   box_loss   cls_loss   dfl_loss  Instances       Size\n"
     ]
    },
    {
     "name": "stderr",
     "output_type": "stream",
     "text": [
      "     74/100      5.72G     0.8857     0.4463      1.179         43        640: 1\n",
      "                 Class     Images  Instances      Box(P          R      mAP50  m"
     ]
    },
    {
     "name": "stdout",
     "output_type": "stream",
     "text": [
      "                   all        255       2036      0.903      0.864       0.94      0.655\n"
     ]
    },
    {
     "name": "stderr",
     "output_type": "stream",
     "text": [
      "\n"
     ]
    },
    {
     "name": "stdout",
     "output_type": "stream",
     "text": [
      "\n",
      "      Epoch    GPU_mem   box_loss   cls_loss   dfl_loss  Instances       Size\n"
     ]
    },
    {
     "name": "stderr",
     "output_type": "stream",
     "text": [
      "     75/100      5.73G     0.8784     0.4406      1.175         34        640: 1\n",
      "                 Class     Images  Instances      Box(P          R      mAP50  m"
     ]
    },
    {
     "name": "stdout",
     "output_type": "stream",
     "text": [
      "                   all        255       2036      0.906      0.865      0.939      0.651\n"
     ]
    },
    {
     "name": "stderr",
     "output_type": "stream",
     "text": [
      "\n"
     ]
    },
    {
     "name": "stdout",
     "output_type": "stream",
     "text": [
      "\n",
      "      Epoch    GPU_mem   box_loss   cls_loss   dfl_loss  Instances       Size\n"
     ]
    },
    {
     "name": "stderr",
     "output_type": "stream",
     "text": [
      "     76/100      5.72G     0.8741     0.4356       1.18         59        640: 1\n",
      "                 Class     Images  Instances      Box(P          R      mAP50  m"
     ]
    },
    {
     "name": "stdout",
     "output_type": "stream",
     "text": [
      "                   all        255       2036      0.899      0.863      0.941       0.66\n"
     ]
    },
    {
     "name": "stderr",
     "output_type": "stream",
     "text": [
      "\n"
     ]
    },
    {
     "name": "stdout",
     "output_type": "stream",
     "text": [
      "\n",
      "      Epoch    GPU_mem   box_loss   cls_loss   dfl_loss  Instances       Size\n"
     ]
    },
    {
     "name": "stderr",
     "output_type": "stream",
     "text": [
      "     77/100      5.73G     0.8684      0.437      1.175         27        640: 1\n",
      "                 Class     Images  Instances      Box(P          R      mAP50  m"
     ]
    },
    {
     "name": "stdout",
     "output_type": "stream",
     "text": [
      "                   all        255       2036      0.891      0.872      0.938      0.652\n"
     ]
    },
    {
     "name": "stderr",
     "output_type": "stream",
     "text": [
      "\n"
     ]
    },
    {
     "name": "stdout",
     "output_type": "stream",
     "text": [
      "\n",
      "      Epoch    GPU_mem   box_loss   cls_loss   dfl_loss  Instances       Size\n"
     ]
    },
    {
     "name": "stderr",
     "output_type": "stream",
     "text": [
      "     78/100      5.73G      0.855     0.4286      1.169         31        640: 1\n",
      "                 Class     Images  Instances      Box(P          R      mAP50  m"
     ]
    },
    {
     "name": "stdout",
     "output_type": "stream",
     "text": [
      "                   all        255       2036      0.902      0.877      0.947      0.665\n"
     ]
    },
    {
     "name": "stderr",
     "output_type": "stream",
     "text": [
      "\n"
     ]
    },
    {
     "name": "stdout",
     "output_type": "stream",
     "text": [
      "\n",
      "      Epoch    GPU_mem   box_loss   cls_loss   dfl_loss  Instances       Size\n"
     ]
    },
    {
     "name": "stderr",
     "output_type": "stream",
     "text": [
      "     79/100      5.74G      0.852     0.4216      1.167         26        640: 1\n",
      "                 Class     Images  Instances      Box(P          R      mAP50  m"
     ]
    },
    {
     "name": "stdout",
     "output_type": "stream",
     "text": [
      "                   all        255       2036      0.895      0.881      0.939      0.657\n"
     ]
    },
    {
     "name": "stderr",
     "output_type": "stream",
     "text": [
      "\n"
     ]
    },
    {
     "name": "stdout",
     "output_type": "stream",
     "text": [
      "\n",
      "      Epoch    GPU_mem   box_loss   cls_loss   dfl_loss  Instances       Size\n"
     ]
    },
    {
     "name": "stderr",
     "output_type": "stream",
     "text": [
      "     80/100      5.72G     0.8465     0.4187       1.16         48        640: 1\n",
      "                 Class     Images  Instances      Box(P          R      mAP50  m"
     ]
    },
    {
     "name": "stdout",
     "output_type": "stream",
     "text": [
      "                   all        255       2036      0.892      0.888      0.941      0.657\n"
     ]
    },
    {
     "name": "stderr",
     "output_type": "stream",
     "text": [
      "\n"
     ]
    },
    {
     "name": "stdout",
     "output_type": "stream",
     "text": [
      "\n",
      "      Epoch    GPU_mem   box_loss   cls_loss   dfl_loss  Instances       Size\n"
     ]
    },
    {
     "name": "stderr",
     "output_type": "stream",
     "text": [
      "     81/100      5.76G     0.8536     0.4285      1.155         21        640: 1\n",
      "                 Class     Images  Instances      Box(P          R      mAP50  m"
     ]
    },
    {
     "name": "stdout",
     "output_type": "stream",
     "text": [
      "                   all        255       2036      0.899      0.881      0.942      0.659\n"
     ]
    },
    {
     "name": "stderr",
     "output_type": "stream",
     "text": [
      "\n"
     ]
    },
    {
     "name": "stdout",
     "output_type": "stream",
     "text": [
      "\n",
      "      Epoch    GPU_mem   box_loss   cls_loss   dfl_loss  Instances       Size\n"
     ]
    },
    {
     "name": "stderr",
     "output_type": "stream",
     "text": [
      "     82/100      5.71G     0.8487     0.4221      1.162         24        640: 1\n",
      "                 Class     Images  Instances      Box(P          R      mAP50  m"
     ]
    },
    {
     "name": "stdout",
     "output_type": "stream",
     "text": [
      "                   all        255       2036      0.901      0.879      0.944       0.66\n"
     ]
    },
    {
     "name": "stderr",
     "output_type": "stream",
     "text": [
      "\n"
     ]
    },
    {
     "name": "stdout",
     "output_type": "stream",
     "text": [
      "\n",
      "      Epoch    GPU_mem   box_loss   cls_loss   dfl_loss  Instances       Size\n"
     ]
    },
    {
     "name": "stderr",
     "output_type": "stream",
     "text": [
      "     83/100      5.73G     0.8342     0.4171      1.162         31        640: 1\n",
      "                 Class     Images  Instances      Box(P          R      mAP50  m"
     ]
    },
    {
     "name": "stdout",
     "output_type": "stream",
     "text": [
      "                   all        255       2036      0.909      0.863       0.94      0.661\n"
     ]
    },
    {
     "name": "stderr",
     "output_type": "stream",
     "text": [
      "\n"
     ]
    },
    {
     "name": "stdout",
     "output_type": "stream",
     "text": [
      "\n",
      "      Epoch    GPU_mem   box_loss   cls_loss   dfl_loss  Instances       Size\n"
     ]
    },
    {
     "name": "stderr",
     "output_type": "stream",
     "text": [
      "     84/100      5.69G     0.8421      0.421      1.154         16        640: 1\n",
      "                 Class     Images  Instances      Box(P          R      mAP50  m"
     ]
    },
    {
     "name": "stdout",
     "output_type": "stream",
     "text": [
      "                   all        255       2036      0.897       0.87      0.939      0.654\n"
     ]
    },
    {
     "name": "stderr",
     "output_type": "stream",
     "text": [
      "\n"
     ]
    },
    {
     "name": "stdout",
     "output_type": "stream",
     "text": [
      "\n",
      "      Epoch    GPU_mem   box_loss   cls_loss   dfl_loss  Instances       Size\n"
     ]
    },
    {
     "name": "stderr",
     "output_type": "stream",
     "text": [
      "     85/100      5.73G     0.8387     0.4152      1.147         36        640: 1\n",
      "                 Class     Images  Instances      Box(P          R      mAP50  m"
     ]
    },
    {
     "name": "stdout",
     "output_type": "stream",
     "text": [
      "                   all        255       2036      0.899      0.877      0.944       0.66\n"
     ]
    },
    {
     "name": "stderr",
     "output_type": "stream",
     "text": [
      "\n"
     ]
    },
    {
     "name": "stdout",
     "output_type": "stream",
     "text": [
      "\n",
      "      Epoch    GPU_mem   box_loss   cls_loss   dfl_loss  Instances       Size\n"
     ]
    },
    {
     "name": "stderr",
     "output_type": "stream",
     "text": [
      "     86/100      5.73G     0.8225     0.4087      1.149         44        640: 1\n",
      "                 Class     Images  Instances      Box(P          R      mAP50  m"
     ]
    },
    {
     "name": "stdout",
     "output_type": "stream",
     "text": [
      "                   all        255       2036      0.901      0.867      0.944      0.662\n"
     ]
    },
    {
     "name": "stderr",
     "output_type": "stream",
     "text": [
      "\n"
     ]
    },
    {
     "name": "stdout",
     "output_type": "stream",
     "text": [
      "\n",
      "      Epoch    GPU_mem   box_loss   cls_loss   dfl_loss  Instances       Size\n"
     ]
    },
    {
     "name": "stderr",
     "output_type": "stream",
     "text": [
      "     87/100      5.73G     0.8267     0.4076      1.147         38        640: 1\n",
      "                 Class     Images  Instances      Box(P          R      mAP50  m"
     ]
    },
    {
     "name": "stdout",
     "output_type": "stream",
     "text": [
      "                   all        255       2036      0.906      0.871       0.94       0.66\n"
     ]
    },
    {
     "name": "stderr",
     "output_type": "stream",
     "text": [
      "\n"
     ]
    },
    {
     "name": "stdout",
     "output_type": "stream",
     "text": [
      "\n",
      "      Epoch    GPU_mem   box_loss   cls_loss   dfl_loss  Instances       Size\n"
     ]
    },
    {
     "name": "stderr",
     "output_type": "stream",
     "text": [
      "     88/100      5.73G     0.8131     0.4028      1.145         30        640: 1\n",
      "                 Class     Images  Instances      Box(P          R      mAP50  m"
     ]
    },
    {
     "name": "stdout",
     "output_type": "stream",
     "text": [
      "                   all        255       2036      0.898      0.882      0.944      0.657\n"
     ]
    },
    {
     "name": "stderr",
     "output_type": "stream",
     "text": [
      "\n"
     ]
    },
    {
     "name": "stdout",
     "output_type": "stream",
     "text": [
      "\n",
      "      Epoch    GPU_mem   box_loss   cls_loss   dfl_loss  Instances       Size\n"
     ]
    },
    {
     "name": "stderr",
     "output_type": "stream",
     "text": [
      "     89/100      5.73G     0.8172     0.4056      1.146         40        640: 1\n",
      "                 Class     Images  Instances      Box(P          R      mAP50  m"
     ]
    },
    {
     "name": "stdout",
     "output_type": "stream",
     "text": [
      "                   all        255       2036      0.915      0.855      0.936      0.653\n"
     ]
    },
    {
     "name": "stderr",
     "output_type": "stream",
     "text": [
      "\n"
     ]
    },
    {
     "name": "stdout",
     "output_type": "stream",
     "text": [
      "\n",
      "      Epoch    GPU_mem   box_loss   cls_loss   dfl_loss  Instances       Size\n"
     ]
    },
    {
     "name": "stderr",
     "output_type": "stream",
     "text": [
      "     90/100      5.74G     0.8108     0.4019      1.146         22        640: 1\n",
      "                 Class     Images  Instances      Box(P          R      mAP50  m"
     ]
    },
    {
     "name": "stdout",
     "output_type": "stream",
     "text": [
      "                   all        255       2036      0.901      0.872      0.935      0.654\n"
     ]
    },
    {
     "name": "stderr",
     "output_type": "stream",
     "text": [
      "\n"
     ]
    },
    {
     "name": "stdout",
     "output_type": "stream",
     "text": [
      "Closing dataloader mosaic\n",
      "\n",
      "      Epoch    GPU_mem   box_loss   cls_loss   dfl_loss  Instances       Size\n"
     ]
    },
    {
     "name": "stderr",
     "output_type": "stream",
     "text": [
      "     91/100      5.73G     0.7773     0.3635      1.157         15        640: 1\n",
      "                 Class     Images  Instances      Box(P          R      mAP50  m"
     ]
    },
    {
     "name": "stdout",
     "output_type": "stream",
     "text": [
      "                   all        255       2036      0.907      0.878      0.947      0.667\n"
     ]
    },
    {
     "name": "stderr",
     "output_type": "stream",
     "text": [
      "\n"
     ]
    },
    {
     "name": "stdout",
     "output_type": "stream",
     "text": [
      "\n",
      "      Epoch    GPU_mem   box_loss   cls_loss   dfl_loss  Instances       Size\n"
     ]
    },
    {
     "name": "stderr",
     "output_type": "stream",
     "text": [
      "     92/100      5.73G     0.7661     0.3397      1.137         15        640: 1\n",
      "                 Class     Images  Instances      Box(P          R      mAP50  m"
     ]
    },
    {
     "name": "stdout",
     "output_type": "stream",
     "text": [
      "                   all        255       2036      0.912      0.868      0.942      0.662\n"
     ]
    },
    {
     "name": "stderr",
     "output_type": "stream",
     "text": [
      "\n"
     ]
    },
    {
     "name": "stdout",
     "output_type": "stream",
     "text": [
      "\n",
      "      Epoch    GPU_mem   box_loss   cls_loss   dfl_loss  Instances       Size\n"
     ]
    },
    {
     "name": "stderr",
     "output_type": "stream",
     "text": [
      "     93/100      5.74G     0.7662     0.3412      1.147         16        640: 1\n",
      "                 Class     Images  Instances      Box(P          R      mAP50  m"
     ]
    },
    {
     "name": "stdout",
     "output_type": "stream",
     "text": [
      "                   all        255       2036      0.897      0.884      0.944       0.67\n"
     ]
    },
    {
     "name": "stderr",
     "output_type": "stream",
     "text": [
      "\n"
     ]
    },
    {
     "name": "stdout",
     "output_type": "stream",
     "text": [
      "\n",
      "      Epoch    GPU_mem   box_loss   cls_loss   dfl_loss  Instances       Size\n"
     ]
    },
    {
     "name": "stderr",
     "output_type": "stream",
     "text": [
      "     94/100      5.74G     0.7543     0.3367      1.143         19        640: 1\n",
      "                 Class     Images  Instances      Box(P          R      mAP50  m"
     ]
    },
    {
     "name": "stdout",
     "output_type": "stream",
     "text": [
      "                   all        255       2036      0.915      0.869      0.945      0.668\n"
     ]
    },
    {
     "name": "stderr",
     "output_type": "stream",
     "text": [
      "\n"
     ]
    },
    {
     "name": "stdout",
     "output_type": "stream",
     "text": [
      "\n",
      "      Epoch    GPU_mem   box_loss   cls_loss   dfl_loss  Instances       Size\n"
     ]
    },
    {
     "name": "stderr",
     "output_type": "stream",
     "text": [
      "     95/100      5.73G     0.7476     0.3291      1.127         23        640: 1\n",
      "                 Class     Images  Instances      Box(P          R      mAP50  m"
     ]
    },
    {
     "name": "stdout",
     "output_type": "stream",
     "text": [
      "                   all        255       2036      0.917      0.868      0.949      0.674\n"
     ]
    },
    {
     "name": "stderr",
     "output_type": "stream",
     "text": [
      "\n"
     ]
    },
    {
     "name": "stdout",
     "output_type": "stream",
     "text": [
      "\n",
      "      Epoch    GPU_mem   box_loss   cls_loss   dfl_loss  Instances       Size\n"
     ]
    },
    {
     "name": "stderr",
     "output_type": "stream",
     "text": [
      "     96/100      5.73G     0.7408     0.3295      1.131         17        640: 1\n",
      "                 Class     Images  Instances      Box(P          R      mAP50  m"
     ]
    },
    {
     "name": "stdout",
     "output_type": "stream",
     "text": [
      "                   all        255       2036      0.903      0.885      0.949      0.673\n"
     ]
    },
    {
     "name": "stderr",
     "output_type": "stream",
     "text": [
      "\n"
     ]
    },
    {
     "name": "stdout",
     "output_type": "stream",
     "text": [
      "\n",
      "      Epoch    GPU_mem   box_loss   cls_loss   dfl_loss  Instances       Size\n"
     ]
    },
    {
     "name": "stderr",
     "output_type": "stream",
     "text": [
      "     97/100      5.74G     0.7393     0.3271      1.127         38        640: 1\n",
      "                 Class     Images  Instances      Box(P          R      mAP50  m"
     ]
    },
    {
     "name": "stdout",
     "output_type": "stream",
     "text": [
      "                   all        255       2036      0.921      0.867      0.947      0.673\n"
     ]
    },
    {
     "name": "stderr",
     "output_type": "stream",
     "text": [
      "\n"
     ]
    },
    {
     "name": "stdout",
     "output_type": "stream",
     "text": [
      "\n",
      "      Epoch    GPU_mem   box_loss   cls_loss   dfl_loss  Instances       Size\n"
     ]
    },
    {
     "name": "stderr",
     "output_type": "stream",
     "text": [
      "     98/100      5.71G     0.7288     0.3213      1.133         13        640: 1\n",
      "                 Class     Images  Instances      Box(P          R      mAP50  m"
     ]
    },
    {
     "name": "stdout",
     "output_type": "stream",
     "text": [
      "                   all        255       2036      0.901      0.883      0.947      0.671\n"
     ]
    },
    {
     "name": "stderr",
     "output_type": "stream",
     "text": [
      "\n"
     ]
    },
    {
     "name": "stdout",
     "output_type": "stream",
     "text": [
      "\n",
      "      Epoch    GPU_mem   box_loss   cls_loss   dfl_loss  Instances       Size\n"
     ]
    },
    {
     "name": "stderr",
     "output_type": "stream",
     "text": [
      "     99/100      5.74G     0.7201     0.3141      1.108         21        640: 1\n",
      "                 Class     Images  Instances      Box(P          R      mAP50  m"
     ]
    },
    {
     "name": "stdout",
     "output_type": "stream",
     "text": [
      "                   all        255       2036      0.915      0.871      0.946       0.67\n"
     ]
    },
    {
     "name": "stderr",
     "output_type": "stream",
     "text": [
      "\n"
     ]
    },
    {
     "name": "stdout",
     "output_type": "stream",
     "text": [
      "\n",
      "      Epoch    GPU_mem   box_loss   cls_loss   dfl_loss  Instances       Size\n"
     ]
    },
    {
     "name": "stderr",
     "output_type": "stream",
     "text": [
      "    100/100      5.68G     0.7283     0.3165      1.115         17        640: 1\n",
      "                 Class     Images  Instances      Box(P          R      mAP50  m"
     ]
    },
    {
     "name": "stdout",
     "output_type": "stream",
     "text": [
      "                   all        255       2036      0.909      0.874      0.945      0.667\n"
     ]
    },
    {
     "name": "stderr",
     "output_type": "stream",
     "text": [
      "\n"
     ]
    },
    {
     "name": "stdout",
     "output_type": "stream",
     "text": [
      "\n",
      "100 epochs completed in 4.172 hours.\n",
      "Optimizer stripped from /media/mzc/e4fcae9b-7400-4641-a800-034f249f8d14/mzc/yolo11/YOLO11AllTraining/YOLO11X_Training/YOLO11X_Training2/weights/last.pt, 114.4MB\n",
      "Optimizer stripped from /media/mzc/e4fcae9b-7400-4641-a800-034f249f8d14/mzc/yolo11/YOLO11AllTraining/YOLO11X_Training/YOLO11X_Training2/weights/best.pt, 114.4MB\n",
      "\n",
      "Validating /media/mzc/e4fcae9b-7400-4641-a800-034f249f8d14/mzc/yolo11/YOLO11AllTraining/YOLO11X_Training/YOLO11X_Training2/weights/best.pt...\n",
      "Ultralytics 8.3.0 🚀 Python-3.11.7 torch-2.4.1+cu121 CUDA:0 (NVIDIA TITAN Xp COLLECTORS EDITION, 12189MiB)\n",
      "YOLO11x summary (fused): 464 layers, 56,828,179 parameters, 0 gradients, 194.4 GFLOPs\n"
     ]
    },
    {
     "name": "stderr",
     "output_type": "stream",
     "text": [
      "                 Class     Images  Instances      Box(P          R      mAP50  m\n"
     ]
    },
    {
     "name": "stdout",
     "output_type": "stream",
     "text": [
      "                   all        255       2036      0.917      0.868      0.949      0.674\n",
      "Speed: 0.2ms preprocess, 36.3ms inference, 0.0ms loss, 0.5ms postprocess per image\n",
      "Results saved to \u001b[1m/media/mzc/e4fcae9b-7400-4641-a800-034f249f8d14/mzc/yolo11/YOLO11AllTraining/YOLO11X_Training/YOLO11X_Training2\u001b[0m\n",
      "Training completed. Results and weights saved in: /media/mzc/e4fcae9b-7400-4641-a800-034f249f8d14/mzc/yolo11/YOLO11AllTraining/YOLO11X_Training\n"
     ]
    }
   ],
   "source": [
    "from ultralytics import YOLO\n",
    "\n",
    "# Path to your data.yaml file\n",
    "data_path = '/media/mzc/e4fcae9b-7400-4641-a800-034f249f8d14/mzc/aiIMAGEGENERATED/data.yaml'\n",
    "\n",
    "# Set up the path for saving results and weights\n",
    "output_dir = \"/media/mzc/e4fcae9b-7400-4641-a800-034f249f8d14/mzc/yolo11/YOLO11AllTraining/YOLO11X_Training\"\n",
    "\n",
    "# Load the YOLO11X model\n",
    "model = YOLO(\"yolo11x.pt\")  # Assuming yolo11x.pt is the model checkpoint for YOLO11X\n",
    "\n",
    "# Train YOLO11X model\n",
    "results = model.train(\n",
    "    data=data_path,  # Path to your dataset YAML\n",
    "    epochs=100,  # Number of epochs for training\n",
    "    imgsz=640,  # Image size\n",
    "    batch=4,  # Adjust batch size as needed to avoid memory errors\n",
    "    project=output_dir,  # Save all results in the specified directory\n",
    "    name='YOLO11X_Training',  # Subfolder within the project directory\n",
    "    save=True,  # Ensure weights and checkpoints are saved\n",
    "    plots=True,  # Save training metrics and plots\n",
    "    device=0,  # Use GPU\n",
    "    half=True  # Enable mixed precision training to save memory\n",
    ")\n",
    "\n",
    "print(\"Training completed. Results and weights saved in:\", output_dir)\n"
   ]
  },
  {
   "cell_type": "code",
   "execution_count": 1,
   "id": "646a6519-25bb-472d-b933-29252dc584c1",
   "metadata": {},
   "outputs": [
    {
     "name": "stdout",
     "output_type": "stream",
     "text": [
      "Ultralytics 8.3.0 🚀 Python-3.11.7 torch-2.4.1+cu121 CUDA:0 (NVIDIA TITAN Xp COLLECTORS EDITION, 12189MiB)\n",
      "YOLO11x summary (fused): 464 layers, 56,828,179 parameters, 0 gradients, 194.4 GFLOPs\n"
     ]
    },
    {
     "name": "stderr",
     "output_type": "stream",
     "text": [
      "\u001b[34m\u001b[1mval: \u001b[0mScanning /media/mzc/e4fcae9b-7400-4641-a800-034f249f8d14/mzc/yolo11/NikonVa\u001b[0m\n",
      "                 Class     Images  Instances      Box(P          R      mAP50  m\n"
     ]
    },
    {
     "name": "stdout",
     "output_type": "stream",
     "text": [
      "                   all         43        134      0.857       0.85       0.91      0.518\n",
      "Speed: 2.9ms preprocess, 30.7ms inference, 0.0ms loss, 10.2ms postprocess per image\n",
      "Results saved to \u001b[1mruns/detect/val5\u001b[0m\n",
      "Validation metrics:\n",
      "Preprocessing time: 2.8697390889012535 ms\n",
      "Inference time: 30.73051363922829 ms\n",
      "Postprocessing time: 10.214572729066361 ms\n",
      "mAP 50-95: 0.5175702384001235\n",
      "Precision: [    0.85708]\n",
      "Recall: [    0.85029]\n"
     ]
    },
    {
     "ename": "AttributeError",
     "evalue": "'DetMetrics' object has no attribute 'files'. See valid attributes below.\n\n    Utility class for computing detection metrics such as precision, recall, and mean average precision (mAP) of an\n    object detection model.\n\n    Args:\n        save_dir (Path): A path to the directory where the output plots will be saved. Defaults to current directory.\n        plot (bool): A flag that indicates whether to plot precision-recall curves for each class. Defaults to False.\n        on_plot (func): An optional callback to pass plots path and data when they are rendered. Defaults to None.\n        names (dict of str): A dict of strings that represents the names of the classes. Defaults to an empty tuple.\n\n    Attributes:\n        save_dir (Path): A path to the directory where the output plots will be saved.\n        plot (bool): A flag that indicates whether to plot the precision-recall curves for each class.\n        on_plot (func): An optional callback to pass plots path and data when they are rendered.\n        names (dict of str): A dict of strings that represents the names of the classes.\n        box (Metric): An instance of the Metric class for storing the results of the detection metrics.\n        speed (dict): A dictionary for storing the execution time of different parts of the detection process.\n\n    Methods:\n        process(tp, conf, pred_cls, target_cls): Updates the metric results with the latest batch of predictions.\n        keys: Returns a list of keys for accessing the computed detection metrics.\n        mean_results: Returns a list of mean values for the computed detection metrics.\n        class_result(i): Returns a list of values for the computed detection metrics for a specific class.\n        maps: Returns a dictionary of mean average precision (mAP) values for different IoU thresholds.\n        fitness: Computes the fitness score based on the computed detection metrics.\n        ap_class_index: Returns a list of class indices sorted by their average precision (AP) values.\n        results_dict: Returns a dictionary that maps detection metric keys to their computed values.\n        curves: TODO\n        curves_results: TODO\n    ",
     "output_type": "error",
     "traceback": [
      "\u001b[0;31m---------------------------------------------------------------------------\u001b[0m",
      "\u001b[0;31mAttributeError\u001b[0m                            Traceback (most recent call last)",
      "Cell \u001b[0;32mIn[1], line 34\u001b[0m\n\u001b[1;32m     31\u001b[0m     os\u001b[38;5;241m.\u001b[39mmakedirs(output_dir)\n\u001b[1;32m     33\u001b[0m \u001b[38;5;66;03m# Iterate through the validation images and save the detection predictions\u001b[39;00m\n\u001b[0;32m---> 34\u001b[0m \u001b[38;5;28;01mfor\u001b[39;00m i, img_path \u001b[38;5;129;01min\u001b[39;00m \u001b[38;5;28menumerate\u001b[39m(results\u001b[38;5;241m.\u001b[39mfiles):\n\u001b[1;32m     35\u001b[0m     img \u001b[38;5;241m=\u001b[39m cv2\u001b[38;5;241m.\u001b[39mimread(img_path)\n\u001b[1;32m     36\u001b[0m     result \u001b[38;5;241m=\u001b[39m results[i]\n",
      "File \u001b[0;32m~/anaconda3/lib/python3.11/site-packages/ultralytics/utils/__init__.py:218\u001b[0m, in \u001b[0;36mSimpleClass.__getattr__\u001b[0;34m(self, attr)\u001b[0m\n\u001b[1;32m    216\u001b[0m \u001b[38;5;250m\u001b[39m\u001b[38;5;124;03m\"\"\"Custom attribute access error message with helpful information.\"\"\"\u001b[39;00m\n\u001b[1;32m    217\u001b[0m name \u001b[38;5;241m=\u001b[39m \u001b[38;5;28mself\u001b[39m\u001b[38;5;241m.\u001b[39m\u001b[38;5;18m__class__\u001b[39m\u001b[38;5;241m.\u001b[39m\u001b[38;5;18m__name__\u001b[39m\n\u001b[0;32m--> 218\u001b[0m \u001b[38;5;28;01mraise\u001b[39;00m \u001b[38;5;167;01mAttributeError\u001b[39;00m(\u001b[38;5;124mf\u001b[39m\u001b[38;5;124m\"\u001b[39m\u001b[38;5;124m'\u001b[39m\u001b[38;5;132;01m{\u001b[39;00mname\u001b[38;5;132;01m}\u001b[39;00m\u001b[38;5;124m'\u001b[39m\u001b[38;5;124m object has no attribute \u001b[39m\u001b[38;5;124m'\u001b[39m\u001b[38;5;132;01m{\u001b[39;00mattr\u001b[38;5;132;01m}\u001b[39;00m\u001b[38;5;124m'\u001b[39m\u001b[38;5;124m. See valid attributes below.\u001b[39m\u001b[38;5;130;01m\\n\u001b[39;00m\u001b[38;5;132;01m{\u001b[39;00m\u001b[38;5;28mself\u001b[39m\u001b[38;5;241m.\u001b[39m\u001b[38;5;18m__doc__\u001b[39m\u001b[38;5;132;01m}\u001b[39;00m\u001b[38;5;124m\"\u001b[39m)\n",
      "\u001b[0;31mAttributeError\u001b[0m: 'DetMetrics' object has no attribute 'files'. See valid attributes below.\n\n    Utility class for computing detection metrics such as precision, recall, and mean average precision (mAP) of an\n    object detection model.\n\n    Args:\n        save_dir (Path): A path to the directory where the output plots will be saved. Defaults to current directory.\n        plot (bool): A flag that indicates whether to plot precision-recall curves for each class. Defaults to False.\n        on_plot (func): An optional callback to pass plots path and data when they are rendered. Defaults to None.\n        names (dict of str): A dict of strings that represents the names of the classes. Defaults to an empty tuple.\n\n    Attributes:\n        save_dir (Path): A path to the directory where the output plots will be saved.\n        plot (bool): A flag that indicates whether to plot the precision-recall curves for each class.\n        on_plot (func): An optional callback to pass plots path and data when they are rendered.\n        names (dict of str): A dict of strings that represents the names of the classes.\n        box (Metric): An instance of the Metric class for storing the results of the detection metrics.\n        speed (dict): A dictionary for storing the execution time of different parts of the detection process.\n\n    Methods:\n        process(tp, conf, pred_cls, target_cls): Updates the metric results with the latest batch of predictions.\n        keys: Returns a list of keys for accessing the computed detection metrics.\n        mean_results: Returns a list of mean values for the computed detection metrics.\n        class_result(i): Returns a list of values for the computed detection metrics for a specific class.\n        maps: Returns a dictionary of mean average precision (mAP) values for different IoU thresholds.\n        fitness: Computes the fitness score based on the computed detection metrics.\n        ap_class_index: Returns a list of class indices sorted by their average precision (AP) values.\n        results_dict: Returns a dictionary that maps detection metric keys to their computed values.\n        curves: TODO\n        curves_results: TODO\n    "
     ]
    }
   ],
   "source": [
    "# Import necessary libraries\n",
    "from ultralytics import YOLO\n",
    "import time\n",
    "import cv2\n",
    "import os\n",
    "\n",
    "# Path to the trained YOLO11X model and validation dataset\n",
    "model_path = '/media/mzc/e4fcae9b-7400-4641-a800-034f249f8d14/mzc/yolo11/YOLO11AllTraining/YOLO11X_Training/YOLO11X_Training2/weights/last.pt'\n",
    "data_path = '/media/mzc/e4fcae9b-7400-4641-a800-034f249f8d14/mzc/yolo11/NikonValidation/data.yaml'\n",
    "\n",
    "# Load the trained model\n",
    "model = YOLO(model_path)\n",
    "\n",
    "# Perform validation on the Nikon dataset\n",
    "results = model.val(data=data_path)\n",
    "\n",
    "# Print metrics including pre-processing, inference, and post-processing speeds\n",
    "print(\"Validation metrics:\")\n",
    "print(f\"Preprocessing time: {results.speed['preprocess']} ms\")\n",
    "print(f\"Inference time: {results.speed['inference']} ms\")\n",
    "print(f\"Postprocessing time: {results.speed['postprocess']} ms\")\n",
    "\n",
    "# Access detailed performance metrics\n",
    "print(f\"mAP 50-95: {results.box.map}\")\n",
    "print(f\"Precision: {results.box.p}\")\n",
    "print(f\"Recall: {results.box.r}\")\n",
    "\n",
    "# Save the detection results in the specified directory\n",
    "output_dir = '/media/mzc/e4fcae9b-7400-4641-a800-034f249f8d14/mzc/yolo11/YOLO11AllTraining/YOLO11X_Training/Predicted_Output'\n",
    "if not os.path.exists(output_dir):\n",
    "    os.makedirs(output_dir)\n",
    "\n",
    "# Iterate through the validation images and save the detection predictions\n",
    "for i, img_path in enumerate(results.files):\n",
    "    img = cv2.imread(img_path)\n",
    "    result = results[i]\n",
    "    annotated_img = result.plot()\n",
    "\n",
    "    # Save the image with predictions\n",
    "    output_image_path = os.path.join(output_dir, f\"predicted_{os.path.basename(img_path)}\")\n",
    "    cv2.imwrite(output_image_path, annotated_img)\n",
    "    print(f\"Saved predicted image: {output_image_path}\")\n",
    "\n",
    "print(\"All images with detections saved successfully!\")\n"
   ]
  },
  {
   "cell_type": "code",
   "execution_count": 2,
   "id": "78d6d06e-8d2e-406d-9a9e-8bafb37dc7aa",
   "metadata": {},
   "outputs": [
    {
     "name": "stdout",
     "output_type": "stream",
     "text": [
      "\n",
      "image 1/1 /media/mzc/e4fcae9b-7400-4641-a800-034f249f8d14/mzc/yolo11/NikonValidation/valid/images/_DSC0034_JPG.rf.5a58b769346d9dc07b1d99eacce7d425.jpg: 640x640 2 0s, 40.7ms\n",
      "Speed: 2.0ms preprocess, 40.7ms inference, 1.0ms postprocess per image at shape (1, 3, 640, 640)\n",
      "Saved predicted image: /media/mzc/e4fcae9b-7400-4641-a800-034f249f8d14/mzc/yolo11/YOLO11AllTraining/YOLO11X_Training/Predicted_Output/predicted__DSC0034_JPG.rf.5a58b769346d9dc07b1d99eacce7d425.jpg\n",
      "\n",
      "image 1/1 /media/mzc/e4fcae9b-7400-4641-a800-034f249f8d14/mzc/yolo11/NikonValidation/valid/images/_DSC0020_JPG.rf.bac765b683591552946418fa8869e1a1.jpg: 640x640 2 0s, 42.8ms\n",
      "Speed: 1.6ms preprocess, 42.8ms inference, 1.2ms postprocess per image at shape (1, 3, 640, 640)\n",
      "Saved predicted image: /media/mzc/e4fcae9b-7400-4641-a800-034f249f8d14/mzc/yolo11/YOLO11AllTraining/YOLO11X_Training/Predicted_Output/predicted__DSC0020_JPG.rf.bac765b683591552946418fa8869e1a1.jpg\n",
      "\n",
      "image 1/1 /media/mzc/e4fcae9b-7400-4641-a800-034f249f8d14/mzc/yolo11/NikonValidation/valid/images/_DSC0015_JPG.rf.02ac8329c2ca8146112f7d0735321346.jpg: 640x640 2 0s, 38.7ms\n",
      "Speed: 1.7ms preprocess, 38.7ms inference, 0.9ms postprocess per image at shape (1, 3, 640, 640)\n",
      "Saved predicted image: /media/mzc/e4fcae9b-7400-4641-a800-034f249f8d14/mzc/yolo11/YOLO11AllTraining/YOLO11X_Training/Predicted_Output/predicted__DSC0015_JPG.rf.02ac8329c2ca8146112f7d0735321346.jpg\n",
      "\n",
      "image 1/1 /media/mzc/e4fcae9b-7400-4641-a800-034f249f8d14/mzc/yolo11/NikonValidation/valid/images/_DSC0266_JPG.rf.137d513556715eb5cc6877c658008e4f.jpg: 640x640 2 0s, 36.2ms\n",
      "Speed: 1.9ms preprocess, 36.2ms inference, 1.1ms postprocess per image at shape (1, 3, 640, 640)\n",
      "Saved predicted image: /media/mzc/e4fcae9b-7400-4641-a800-034f249f8d14/mzc/yolo11/YOLO11AllTraining/YOLO11X_Training/Predicted_Output/predicted__DSC0266_JPG.rf.137d513556715eb5cc6877c658008e4f.jpg\n",
      "\n",
      "image 1/1 /media/mzc/e4fcae9b-7400-4641-a800-034f249f8d14/mzc/yolo11/NikonValidation/valid/images/_DSC0258_JPG.rf.afae27e1884472caf3dc7ba05dd93f28.jpg: 640x640 2 0s, 36.1ms\n",
      "Speed: 1.9ms preprocess, 36.1ms inference, 1.1ms postprocess per image at shape (1, 3, 640, 640)\n",
      "Saved predicted image: /media/mzc/e4fcae9b-7400-4641-a800-034f249f8d14/mzc/yolo11/YOLO11AllTraining/YOLO11X_Training/Predicted_Output/predicted__DSC0258_JPG.rf.afae27e1884472caf3dc7ba05dd93f28.jpg\n",
      "\n",
      "image 1/1 /media/mzc/e4fcae9b-7400-4641-a800-034f249f8d14/mzc/yolo11/NikonValidation/valid/images/_DSC0024_JPG.rf.69e9a1ec59448f0772d72852cf4f8253.jpg: 640x640 4 0s, 35.7ms\n",
      "Speed: 1.9ms preprocess, 35.7ms inference, 1.1ms postprocess per image at shape (1, 3, 640, 640)\n",
      "Saved predicted image: /media/mzc/e4fcae9b-7400-4641-a800-034f249f8d14/mzc/yolo11/YOLO11AllTraining/YOLO11X_Training/Predicted_Output/predicted__DSC0024_JPG.rf.69e9a1ec59448f0772d72852cf4f8253.jpg\n",
      "\n",
      "image 1/1 /media/mzc/e4fcae9b-7400-4641-a800-034f249f8d14/mzc/yolo11/NikonValidation/valid/images/_DSC0298_JPG.rf.190fb6874533f0ca5a4d87de70b6f77b.jpg: 640x640 8 0s, 33.2ms\n",
      "Speed: 5.1ms preprocess, 33.2ms inference, 1.1ms postprocess per image at shape (1, 3, 640, 640)\n",
      "Saved predicted image: /media/mzc/e4fcae9b-7400-4641-a800-034f249f8d14/mzc/yolo11/YOLO11AllTraining/YOLO11X_Training/Predicted_Output/predicted__DSC0298_JPG.rf.190fb6874533f0ca5a4d87de70b6f77b.jpg\n",
      "\n",
      "image 1/1 /media/mzc/e4fcae9b-7400-4641-a800-034f249f8d14/mzc/yolo11/NikonValidation/valid/images/_DSC0257_JPG.rf.4640e162d8949c292b7a494fa6b97b3e.jpg: 640x640 2 0s, 33.7ms\n",
      "Speed: 1.9ms preprocess, 33.7ms inference, 1.1ms postprocess per image at shape (1, 3, 640, 640)\n",
      "Saved predicted image: /media/mzc/e4fcae9b-7400-4641-a800-034f249f8d14/mzc/yolo11/YOLO11AllTraining/YOLO11X_Training/Predicted_Output/predicted__DSC0257_JPG.rf.4640e162d8949c292b7a494fa6b97b3e.jpg\n",
      "\n",
      "image 1/1 /media/mzc/e4fcae9b-7400-4641-a800-034f249f8d14/mzc/yolo11/NikonValidation/valid/images/_DSC0114_JPG.rf.8796e5986a99df432a8257493ec93686.jpg: 640x640 5 0s, 36.1ms\n",
      "Speed: 1.6ms preprocess, 36.1ms inference, 1.4ms postprocess per image at shape (1, 3, 640, 640)\n",
      "Saved predicted image: /media/mzc/e4fcae9b-7400-4641-a800-034f249f8d14/mzc/yolo11/YOLO11AllTraining/YOLO11X_Training/Predicted_Output/predicted__DSC0114_JPG.rf.8796e5986a99df432a8257493ec93686.jpg\n",
      "\n",
      "image 1/1 /media/mzc/e4fcae9b-7400-4641-a800-034f249f8d14/mzc/yolo11/NikonValidation/valid/images/_DSC0063_JPG.rf.1eb981b9b7413774bdcf91330c337a63.jpg: 640x640 2 0s, 33.0ms\n",
      "Speed: 1.6ms preprocess, 33.0ms inference, 0.9ms postprocess per image at shape (1, 3, 640, 640)\n",
      "Saved predicted image: /media/mzc/e4fcae9b-7400-4641-a800-034f249f8d14/mzc/yolo11/YOLO11AllTraining/YOLO11X_Training/Predicted_Output/predicted__DSC0063_JPG.rf.1eb981b9b7413774bdcf91330c337a63.jpg\n",
      "\n",
      "image 1/1 /media/mzc/e4fcae9b-7400-4641-a800-034f249f8d14/mzc/yolo11/NikonValidation/valid/images/_DSC0040_JPG.rf.13464319936ad2de63af36f7065f1b36.jpg: 640x640 2 0s, 30.6ms\n",
      "Speed: 1.6ms preprocess, 30.6ms inference, 1.1ms postprocess per image at shape (1, 3, 640, 640)\n",
      "Saved predicted image: /media/mzc/e4fcae9b-7400-4641-a800-034f249f8d14/mzc/yolo11/YOLO11AllTraining/YOLO11X_Training/Predicted_Output/predicted__DSC0040_JPG.rf.13464319936ad2de63af36f7065f1b36.jpg\n",
      "\n",
      "image 1/1 /media/mzc/e4fcae9b-7400-4641-a800-034f249f8d14/mzc/yolo11/NikonValidation/valid/images/_DSC0318_JPG.rf.1ba678742b1e55907d7cbe4d7aaaaf0b.jpg: 640x640 3 0s, 33.1ms\n",
      "Speed: 1.5ms preprocess, 33.1ms inference, 0.9ms postprocess per image at shape (1, 3, 640, 640)\n",
      "Saved predicted image: /media/mzc/e4fcae9b-7400-4641-a800-034f249f8d14/mzc/yolo11/YOLO11AllTraining/YOLO11X_Training/Predicted_Output/predicted__DSC0318_JPG.rf.1ba678742b1e55907d7cbe4d7aaaaf0b.jpg\n",
      "\n",
      "image 1/1 /media/mzc/e4fcae9b-7400-4641-a800-034f249f8d14/mzc/yolo11/NikonValidation/valid/images/_DSC0295_JPG.rf.bd9be1080d9c34580556de81e4b1d4af.jpg: 640x640 4 0s, 34.2ms\n",
      "Speed: 1.6ms preprocess, 34.2ms inference, 0.9ms postprocess per image at shape (1, 3, 640, 640)\n",
      "Saved predicted image: /media/mzc/e4fcae9b-7400-4641-a800-034f249f8d14/mzc/yolo11/YOLO11AllTraining/YOLO11X_Training/Predicted_Output/predicted__DSC0295_JPG.rf.bd9be1080d9c34580556de81e4b1d4af.jpg\n",
      "\n",
      "image 1/1 /media/mzc/e4fcae9b-7400-4641-a800-034f249f8d14/mzc/yolo11/NikonValidation/valid/images/_DSC0112_JPG.rf.6754453d82d4732b5642f94548458ef1.jpg: 640x640 1 0, 35.6ms\n",
      "Speed: 1.6ms preprocess, 35.6ms inference, 1.1ms postprocess per image at shape (1, 3, 640, 640)\n",
      "Saved predicted image: /media/mzc/e4fcae9b-7400-4641-a800-034f249f8d14/mzc/yolo11/YOLO11AllTraining/YOLO11X_Training/Predicted_Output/predicted__DSC0112_JPG.rf.6754453d82d4732b5642f94548458ef1.jpg\n",
      "\n",
      "image 1/1 /media/mzc/e4fcae9b-7400-4641-a800-034f249f8d14/mzc/yolo11/NikonValidation/valid/images/_DSC0045_JPG.rf.78ed8f87c942b3560b9d47413b0f99f6.jpg: 640x640 9 0s, 37.8ms\n",
      "Speed: 1.5ms preprocess, 37.8ms inference, 1.2ms postprocess per image at shape (1, 3, 640, 640)\n",
      "Saved predicted image: /media/mzc/e4fcae9b-7400-4641-a800-034f249f8d14/mzc/yolo11/YOLO11AllTraining/YOLO11X_Training/Predicted_Output/predicted__DSC0045_JPG.rf.78ed8f87c942b3560b9d47413b0f99f6.jpg\n",
      "\n",
      "image 1/1 /media/mzc/e4fcae9b-7400-4641-a800-034f249f8d14/mzc/yolo11/NikonValidation/valid/images/_DSC0058_JPG.rf.d344b3f6e0431cadfb48aca5250e562b.jpg: 640x640 3 0s, 33.6ms\n",
      "Speed: 1.7ms preprocess, 33.6ms inference, 0.9ms postprocess per image at shape (1, 3, 640, 640)\n",
      "Saved predicted image: /media/mzc/e4fcae9b-7400-4641-a800-034f249f8d14/mzc/yolo11/YOLO11AllTraining/YOLO11X_Training/Predicted_Output/predicted__DSC0058_JPG.rf.d344b3f6e0431cadfb48aca5250e562b.jpg\n",
      "\n",
      "image 1/1 /media/mzc/e4fcae9b-7400-4641-a800-034f249f8d14/mzc/yolo11/NikonValidation/valid/images/_DSC0319_JPG.rf.d04125841deef716339a5c4da3595633.jpg: 640x640 6 0s, 32.6ms\n",
      "Speed: 1.6ms preprocess, 32.6ms inference, 0.9ms postprocess per image at shape (1, 3, 640, 640)\n",
      "Saved predicted image: /media/mzc/e4fcae9b-7400-4641-a800-034f249f8d14/mzc/yolo11/YOLO11AllTraining/YOLO11X_Training/Predicted_Output/predicted__DSC0319_JPG.rf.d04125841deef716339a5c4da3595633.jpg\n",
      "\n",
      "image 1/1 /media/mzc/e4fcae9b-7400-4641-a800-034f249f8d14/mzc/yolo11/NikonValidation/valid/images/_DSC0123_JPG.rf.ec388f2ffca1c50e32e1f7e7bbe12bee.jpg: 640x640 1 0, 35.8ms\n",
      "Speed: 1.7ms preprocess, 35.8ms inference, 0.9ms postprocess per image at shape (1, 3, 640, 640)\n",
      "Saved predicted image: /media/mzc/e4fcae9b-7400-4641-a800-034f249f8d14/mzc/yolo11/YOLO11AllTraining/YOLO11X_Training/Predicted_Output/predicted__DSC0123_JPG.rf.ec388f2ffca1c50e32e1f7e7bbe12bee.jpg\n",
      "\n",
      "image 1/1 /media/mzc/e4fcae9b-7400-4641-a800-034f249f8d14/mzc/yolo11/NikonValidation/valid/images/_DSC0294_JPG.rf.b9e8beed9df03cff48737ca71275f6eb.jpg: 640x640 4 0s, 35.8ms\n",
      "Speed: 1.5ms preprocess, 35.8ms inference, 1.4ms postprocess per image at shape (1, 3, 640, 640)\n",
      "Saved predicted image: /media/mzc/e4fcae9b-7400-4641-a800-034f249f8d14/mzc/yolo11/YOLO11AllTraining/YOLO11X_Training/Predicted_Output/predicted__DSC0294_JPG.rf.b9e8beed9df03cff48737ca71275f6eb.jpg\n",
      "\n",
      "image 1/1 /media/mzc/e4fcae9b-7400-4641-a800-034f249f8d14/mzc/yolo11/NikonValidation/valid/images/_DSC0036_JPG.rf.591296db99f44200fcaec9af6372fd9c.jpg: 640x640 4 0s, 32.9ms\n",
      "Speed: 1.5ms preprocess, 32.9ms inference, 0.9ms postprocess per image at shape (1, 3, 640, 640)\n",
      "Saved predicted image: /media/mzc/e4fcae9b-7400-4641-a800-034f249f8d14/mzc/yolo11/YOLO11AllTraining/YOLO11X_Training/Predicted_Output/predicted__DSC0036_JPG.rf.591296db99f44200fcaec9af6372fd9c.jpg\n",
      "\n",
      "image 1/1 /media/mzc/e4fcae9b-7400-4641-a800-034f249f8d14/mzc/yolo11/NikonValidation/valid/images/_DSC0301_JPG.rf.966a5dd3b529e09a1d36e73451803992.jpg: 640x640 3 0s, 38.3ms\n",
      "Speed: 4.0ms preprocess, 38.3ms inference, 0.9ms postprocess per image at shape (1, 3, 640, 640)\n",
      "Saved predicted image: /media/mzc/e4fcae9b-7400-4641-a800-034f249f8d14/mzc/yolo11/YOLO11AllTraining/YOLO11X_Training/Predicted_Output/predicted__DSC0301_JPG.rf.966a5dd3b529e09a1d36e73451803992.jpg\n",
      "\n",
      "image 1/1 /media/mzc/e4fcae9b-7400-4641-a800-034f249f8d14/mzc/yolo11/NikonValidation/valid/images/_DSC0087_JPG.rf.afe577468a07bdb5b4fc06694f13b6d5.jpg: 640x640 3 0s, 31.6ms\n",
      "Speed: 1.5ms preprocess, 31.6ms inference, 0.9ms postprocess per image at shape (1, 3, 640, 640)\n",
      "Saved predicted image: /media/mzc/e4fcae9b-7400-4641-a800-034f249f8d14/mzc/yolo11/YOLO11AllTraining/YOLO11X_Training/Predicted_Output/predicted__DSC0087_JPG.rf.afe577468a07bdb5b4fc06694f13b6d5.jpg\n",
      "\n",
      "image 1/1 /media/mzc/e4fcae9b-7400-4641-a800-034f249f8d14/mzc/yolo11/NikonValidation/valid/images/_DSC0060_JPG.rf.33a96c77dc7652ecf514917fed58adbd.jpg: 640x640 4 0s, 30.8ms\n",
      "Speed: 1.7ms preprocess, 30.8ms inference, 1.2ms postprocess per image at shape (1, 3, 640, 640)\n",
      "Saved predicted image: /media/mzc/e4fcae9b-7400-4641-a800-034f249f8d14/mzc/yolo11/YOLO11AllTraining/YOLO11X_Training/Predicted_Output/predicted__DSC0060_JPG.rf.33a96c77dc7652ecf514917fed58adbd.jpg\n",
      "\n",
      "image 1/1 /media/mzc/e4fcae9b-7400-4641-a800-034f249f8d14/mzc/yolo11/NikonValidation/valid/images/_DSC0008_JPG.rf.f04c82c383597e7bc433f4a105278694.jpg: 640x640 5 0s, 33.3ms\n",
      "Speed: 1.9ms preprocess, 33.3ms inference, 1.5ms postprocess per image at shape (1, 3, 640, 640)\n",
      "Saved predicted image: /media/mzc/e4fcae9b-7400-4641-a800-034f249f8d14/mzc/yolo11/YOLO11AllTraining/YOLO11X_Training/Predicted_Output/predicted__DSC0008_JPG.rf.f04c82c383597e7bc433f4a105278694.jpg\n",
      "\n",
      "image 1/1 /media/mzc/e4fcae9b-7400-4641-a800-034f249f8d14/mzc/yolo11/NikonValidation/valid/images/_DSC0293_JPG.rf.de39779de634c24fa1015db76dd5526a.jpg: 640x640 6 0s, 32.2ms\n",
      "Speed: 1.8ms preprocess, 32.2ms inference, 1.1ms postprocess per image at shape (1, 3, 640, 640)\n",
      "Saved predicted image: /media/mzc/e4fcae9b-7400-4641-a800-034f249f8d14/mzc/yolo11/YOLO11AllTraining/YOLO11X_Training/Predicted_Output/predicted__DSC0293_JPG.rf.de39779de634c24fa1015db76dd5526a.jpg\n",
      "\n",
      "image 1/1 /media/mzc/e4fcae9b-7400-4641-a800-034f249f8d14/mzc/yolo11/NikonValidation/valid/images/_DSC0243_JPG.rf.e438f26bceaf3a802e64d8912a9ebbfd.jpg: 640x640 3 0s, 30.9ms\n",
      "Speed: 1.8ms preprocess, 30.9ms inference, 1.1ms postprocess per image at shape (1, 3, 640, 640)\n",
      "Saved predicted image: /media/mzc/e4fcae9b-7400-4641-a800-034f249f8d14/mzc/yolo11/YOLO11AllTraining/YOLO11X_Training/Predicted_Output/predicted__DSC0243_JPG.rf.e438f26bceaf3a802e64d8912a9ebbfd.jpg\n",
      "\n",
      "image 1/1 /media/mzc/e4fcae9b-7400-4641-a800-034f249f8d14/mzc/yolo11/NikonValidation/valid/images/_DSC0291_JPG.rf.5ef8963b80457fb6c0dd0839fa390f67.jpg: 640x640 9 0s, 32.5ms\n",
      "Speed: 1.8ms preprocess, 32.5ms inference, 1.2ms postprocess per image at shape (1, 3, 640, 640)\n",
      "Saved predicted image: /media/mzc/e4fcae9b-7400-4641-a800-034f249f8d14/mzc/yolo11/YOLO11AllTraining/YOLO11X_Training/Predicted_Output/predicted__DSC0291_JPG.rf.5ef8963b80457fb6c0dd0839fa390f67.jpg\n",
      "\n",
      "image 1/1 /media/mzc/e4fcae9b-7400-4641-a800-034f249f8d14/mzc/yolo11/NikonValidation/valid/images/_DSC0014_JPG.rf.b3ffe567405a0f0966e534fe77d00a8a.jpg: 640x640 1 0, 34.3ms\n",
      "Speed: 1.8ms preprocess, 34.3ms inference, 1.0ms postprocess per image at shape (1, 3, 640, 640)\n",
      "Saved predicted image: /media/mzc/e4fcae9b-7400-4641-a800-034f249f8d14/mzc/yolo11/YOLO11AllTraining/YOLO11X_Training/Predicted_Output/predicted__DSC0014_JPG.rf.b3ffe567405a0f0966e534fe77d00a8a.jpg\n",
      "\n",
      "image 1/1 /media/mzc/e4fcae9b-7400-4641-a800-034f249f8d14/mzc/yolo11/NikonValidation/valid/images/_DSC0026_JPG.rf.7afcc06b3976657ba0c2b66675e359cf.jpg: 640x640 5 0s, 31.4ms\n",
      "Speed: 1.8ms preprocess, 31.4ms inference, 1.1ms postprocess per image at shape (1, 3, 640, 640)\n",
      "Saved predicted image: /media/mzc/e4fcae9b-7400-4641-a800-034f249f8d14/mzc/yolo11/YOLO11AllTraining/YOLO11X_Training/Predicted_Output/predicted__DSC0026_JPG.rf.7afcc06b3976657ba0c2b66675e359cf.jpg\n",
      "\n",
      "image 1/1 /media/mzc/e4fcae9b-7400-4641-a800-034f249f8d14/mzc/yolo11/NikonValidation/valid/images/_DSC0259_JPG.rf.c7688b22d1f06395bcd3fdf212c3c407.jpg: 640x640 3 0s, 34.8ms\n",
      "Speed: 2.2ms preprocess, 34.8ms inference, 1.0ms postprocess per image at shape (1, 3, 640, 640)\n",
      "Saved predicted image: /media/mzc/e4fcae9b-7400-4641-a800-034f249f8d14/mzc/yolo11/YOLO11AllTraining/YOLO11X_Training/Predicted_Output/predicted__DSC0259_JPG.rf.c7688b22d1f06395bcd3fdf212c3c407.jpg\n",
      "\n",
      "image 1/1 /media/mzc/e4fcae9b-7400-4641-a800-034f249f8d14/mzc/yolo11/NikonValidation/valid/images/_DSC0013_JPG.rf.c145f30ced97d55ff0c2b28f9a8bb089.jpg: 640x640 6 0s, 31.9ms\n",
      "Speed: 1.8ms preprocess, 31.9ms inference, 1.0ms postprocess per image at shape (1, 3, 640, 640)\n",
      "Saved predicted image: /media/mzc/e4fcae9b-7400-4641-a800-034f249f8d14/mzc/yolo11/YOLO11AllTraining/YOLO11X_Training/Predicted_Output/predicted__DSC0013_JPG.rf.c145f30ced97d55ff0c2b28f9a8bb089.jpg\n",
      "\n",
      "image 1/1 /media/mzc/e4fcae9b-7400-4641-a800-034f249f8d14/mzc/yolo11/NikonValidation/valid/images/_DSC0317_JPG.rf.8368699f3b8321361f99de0d8ef1d129.jpg: 640x640 4 0s, 34.5ms\n",
      "Speed: 2.0ms preprocess, 34.5ms inference, 0.9ms postprocess per image at shape (1, 3, 640, 640)\n",
      "Saved predicted image: /media/mzc/e4fcae9b-7400-4641-a800-034f249f8d14/mzc/yolo11/YOLO11AllTraining/YOLO11X_Training/Predicted_Output/predicted__DSC0317_JPG.rf.8368699f3b8321361f99de0d8ef1d129.jpg\n",
      "\n",
      "image 1/1 /media/mzc/e4fcae9b-7400-4641-a800-034f249f8d14/mzc/yolo11/NikonValidation/valid/images/_DSC0232_JPG.rf.ac10bc7c6dc3a831ea302bcbe29e08df.jpg: 640x640 4 0s, 32.2ms\n",
      "Speed: 2.0ms preprocess, 32.2ms inference, 1.0ms postprocess per image at shape (1, 3, 640, 640)\n",
      "Saved predicted image: /media/mzc/e4fcae9b-7400-4641-a800-034f249f8d14/mzc/yolo11/YOLO11AllTraining/YOLO11X_Training/Predicted_Output/predicted__DSC0232_JPG.rf.ac10bc7c6dc3a831ea302bcbe29e08df.jpg\n",
      "\n",
      "image 1/1 /media/mzc/e4fcae9b-7400-4641-a800-034f249f8d14/mzc/yolo11/NikonValidation/valid/images/_DSC0096_JPG.rf.e37ad017172a627d02e3ab497f3324ff.jpg: 640x640 2 0s, 31.7ms\n",
      "Speed: 2.0ms preprocess, 31.7ms inference, 1.6ms postprocess per image at shape (1, 3, 640, 640)\n",
      "Saved predicted image: /media/mzc/e4fcae9b-7400-4641-a800-034f249f8d14/mzc/yolo11/YOLO11AllTraining/YOLO11X_Training/Predicted_Output/predicted__DSC0096_JPG.rf.e37ad017172a627d02e3ab497f3324ff.jpg\n",
      "\n",
      "image 1/1 /media/mzc/e4fcae9b-7400-4641-a800-034f249f8d14/mzc/yolo11/NikonValidation/valid/images/_DSC0309_JPG.rf.b93ac5656161213ac8579843318cb399.jpg: 640x640 1 0, 34.1ms\n",
      "Speed: 2.0ms preprocess, 34.1ms inference, 1.0ms postprocess per image at shape (1, 3, 640, 640)\n",
      "Saved predicted image: /media/mzc/e4fcae9b-7400-4641-a800-034f249f8d14/mzc/yolo11/YOLO11AllTraining/YOLO11X_Training/Predicted_Output/predicted__DSC0309_JPG.rf.b93ac5656161213ac8579843318cb399.jpg\n",
      "\n",
      "image 1/1 /media/mzc/e4fcae9b-7400-4641-a800-034f249f8d14/mzc/yolo11/NikonValidation/valid/images/_DSC0046_JPG.rf.1e51d47f76fd8292a2e1a9bff15e97e9.jpg: 640x640 4 0s, 32.5ms\n",
      "Speed: 1.5ms preprocess, 32.5ms inference, 0.9ms postprocess per image at shape (1, 3, 640, 640)\n",
      "Saved predicted image: /media/mzc/e4fcae9b-7400-4641-a800-034f249f8d14/mzc/yolo11/YOLO11AllTraining/YOLO11X_Training/Predicted_Output/predicted__DSC0046_JPG.rf.1e51d47f76fd8292a2e1a9bff15e97e9.jpg\n",
      "\n",
      "image 1/1 /media/mzc/e4fcae9b-7400-4641-a800-034f249f8d14/mzc/yolo11/NikonValidation/valid/images/_DSC0029_JPG.rf.c150603490cf9eff38dfa10945899840.jpg: 640x640 1 0, 33.4ms\n",
      "Speed: 1.6ms preprocess, 33.4ms inference, 1.0ms postprocess per image at shape (1, 3, 640, 640)\n",
      "Saved predicted image: /media/mzc/e4fcae9b-7400-4641-a800-034f249f8d14/mzc/yolo11/YOLO11AllTraining/YOLO11X_Training/Predicted_Output/predicted__DSC0029_JPG.rf.c150603490cf9eff38dfa10945899840.jpg\n",
      "\n",
      "image 1/1 /media/mzc/e4fcae9b-7400-4641-a800-034f249f8d14/mzc/yolo11/NikonValidation/valid/images/_DSC0021_JPG.rf.10f3e80e0a2ac9cba6c99277657f65d4.jpg: 640x640 2 0s, 32.0ms\n",
      "Speed: 1.6ms preprocess, 32.0ms inference, 1.0ms postprocess per image at shape (1, 3, 640, 640)\n",
      "Saved predicted image: /media/mzc/e4fcae9b-7400-4641-a800-034f249f8d14/mzc/yolo11/YOLO11AllTraining/YOLO11X_Training/Predicted_Output/predicted__DSC0021_JPG.rf.10f3e80e0a2ac9cba6c99277657f65d4.jpg\n",
      "\n",
      "image 1/1 /media/mzc/e4fcae9b-7400-4641-a800-034f249f8d14/mzc/yolo11/NikonValidation/valid/images/_DSC0023_JPG.rf.ffc258f255aaf51453407943b980bf0b.jpg: 640x640 1 0, 32.2ms\n",
      "Speed: 1.7ms preprocess, 32.2ms inference, 0.9ms postprocess per image at shape (1, 3, 640, 640)\n",
      "Saved predicted image: /media/mzc/e4fcae9b-7400-4641-a800-034f249f8d14/mzc/yolo11/YOLO11AllTraining/YOLO11X_Training/Predicted_Output/predicted__DSC0023_JPG.rf.ffc258f255aaf51453407943b980bf0b.jpg\n",
      "\n",
      "image 1/1 /media/mzc/e4fcae9b-7400-4641-a800-034f249f8d14/mzc/yolo11/NikonValidation/valid/images/_DSC0292_JPG.rf.712d91c2e984abcc3d0dbbcb5efe8a8f.jpg: 640x640 6 0s, 32.1ms\n",
      "Speed: 1.6ms preprocess, 32.1ms inference, 1.0ms postprocess per image at shape (1, 3, 640, 640)\n",
      "Saved predicted image: /media/mzc/e4fcae9b-7400-4641-a800-034f249f8d14/mzc/yolo11/YOLO11AllTraining/YOLO11X_Training/Predicted_Output/predicted__DSC0292_JPG.rf.712d91c2e984abcc3d0dbbcb5efe8a8f.jpg\n",
      "\n",
      "image 1/1 /media/mzc/e4fcae9b-7400-4641-a800-034f249f8d14/mzc/yolo11/NikonValidation/valid/images/_DSC0085_JPG.rf.38b0df074b1ea30940c31ee1cfbcb51f.jpg: 640x640 3 0s, 34.3ms\n",
      "Speed: 1.9ms preprocess, 34.3ms inference, 0.9ms postprocess per image at shape (1, 3, 640, 640)\n",
      "Saved predicted image: /media/mzc/e4fcae9b-7400-4641-a800-034f249f8d14/mzc/yolo11/YOLO11AllTraining/YOLO11X_Training/Predicted_Output/predicted__DSC0085_JPG.rf.38b0df074b1ea30940c31ee1cfbcb51f.jpg\n",
      "\n",
      "image 1/1 /media/mzc/e4fcae9b-7400-4641-a800-034f249f8d14/mzc/yolo11/NikonValidation/valid/images/_DSC0044_JPG.rf.3c53e65445108f6c544e9943091f4a16.jpg: 640x640 7 0s, 35.1ms\n",
      "Speed: 1.6ms preprocess, 35.1ms inference, 0.9ms postprocess per image at shape (1, 3, 640, 640)\n",
      "Saved predicted image: /media/mzc/e4fcae9b-7400-4641-a800-034f249f8d14/mzc/yolo11/YOLO11AllTraining/YOLO11X_Training/Predicted_Output/predicted__DSC0044_JPG.rf.3c53e65445108f6c544e9943091f4a16.jpg\n",
      "\n",
      "image 1/1 /media/mzc/e4fcae9b-7400-4641-a800-034f249f8d14/mzc/yolo11/NikonValidation/valid/images/_DSC0119_JPG.rf.e26b9266ad778fd91fc1a6fe3faa7d74.jpg: 640x640 1 0, 34.0ms\n",
      "Speed: 1.7ms preprocess, 34.0ms inference, 0.9ms postprocess per image at shape (1, 3, 640, 640)\n",
      "Saved predicted image: /media/mzc/e4fcae9b-7400-4641-a800-034f249f8d14/mzc/yolo11/YOLO11AllTraining/YOLO11X_Training/Predicted_Output/predicted__DSC0119_JPG.rf.e26b9266ad778fd91fc1a6fe3faa7d74.jpg\n",
      "All images with YOLO11X predictions have been saved!\n"
     ]
    }
   ],
   "source": [
    "# Import necessary libraries\n",
    "from ultralytics import YOLO\n",
    "import cv2\n",
    "import os\n",
    "\n",
    "# Path to the trained YOLO11X model and Nikon validation images\n",
    "model_path = '/media/mzc/e4fcae9b-7400-4641-a800-034f249f8d14/mzc/yolo11/YOLO11AllTraining/YOLO11X_Training/YOLO11X_Training2/weights/last.pt'\n",
    "image_directory = '/media/mzc/e4fcae9b-7400-4641-a800-034f249f8d14/mzc/yolo11/NikonValidation/valid/images'\n",
    "output_directory = '/media/mzc/e4fcae9b-7400-4641-a800-034f249f8d14/mzc/yolo11/YOLO11AllTraining/YOLO11X_Training/Predicted_Output'\n",
    "\n",
    "# Load the trained YOLO11X model\n",
    "model = YOLO(model_path)\n",
    "\n",
    "# Create the output directory if it doesn't exist\n",
    "if not os.path.exists(output_directory):\n",
    "    os.makedirs(output_directory)\n",
    "\n",
    "# Run inference on each image in the directory\n",
    "for image_file in os.listdir(image_directory):\n",
    "    if image_file.lower().endswith(('.png', '.jpg', '.jpeg')):  # Filter for image files\n",
    "        image_path = os.path.join(image_directory, image_file)\n",
    "        img = cv2.imread(image_path)\n",
    "\n",
    "        # Run the YOLO model on the image\n",
    "        results = model(image_path)\n",
    "\n",
    "        # Get the annotated image with predictions\n",
    "        annotated_img = results[0].plot()\n",
    "\n",
    "        # Save the annotated image\n",
    "        output_image_path = os.path.join(output_directory, f\"predicted_{image_file}\")\n",
    "        cv2.imwrite(output_image_path, annotated_img)\n",
    "        print(f\"Saved predicted image: {output_image_path}\")\n",
    "\n",
    "print(\"All images with YOLO11X predictions have been saved!\")\n"
   ]
  },
  {
   "cell_type": "code",
   "execution_count": 8,
   "id": "92d8308d-ea1c-4348-a147-250e551dd8d3",
   "metadata": {},
   "outputs": [
    {
     "name": "stdout",
     "output_type": "stream",
     "text": [
      "Ultralytics 8.3.0 🚀 Python-3.11.7 torch-2.4.1+cu121 CUDA:0 (NVIDIA TITAN Xp COLLECTORS EDITION, 12189MiB)\n",
      "YOLO11x summary (fused): 464 layers, 56,828,179 parameters, 0 gradients, 194.4 GFLOPs\n"
     ]
    },
    {
     "name": "stderr",
     "output_type": "stream",
     "text": [
      "\u001b[34m\u001b[1mval: \u001b[0mScanning /media/mzc/e4fcae9b-7400-4641-a800-034f249f8d14/mzc/yolo11/Microso\u001b[0m\n",
      "                 Class     Images  Instances      Box(P          R      mAP50  m\n"
     ]
    },
    {
     "name": "stdout",
     "output_type": "stream",
     "text": [
      "                   all         42        260      0.924      0.781      0.855      0.462\n",
      "Speed: 2.1ms preprocess, 17.5ms inference, 0.0ms loss, 0.5ms postprocess per image\n",
      "Results saved to \u001b[1mruns/detect/val15\u001b[0m\n",
      "Validation Metrics:\n",
      "mAP50-95: 0.46157282193396476\n",
      "mAP50: 0.8549744990677995\n",
      "mAP75: 0.45476404812936927\n",
      "Processing Speeds: {'preprocess': 2.057858875819615, 'inference': 17.475031671069917, 'loss': 0.001441864740280878, 'postprocess': 0.5412272044590541}\n"
     ]
    },
    {
     "ename": "FileNotFoundError",
     "evalue": "[Errno 2] No such file or directory: ''",
     "output_type": "error",
     "traceback": [
      "\u001b[0;31m---------------------------------------------------------------------------\u001b[0m",
      "\u001b[0;31mFileNotFoundError\u001b[0m                         Traceback (most recent call last)",
      "Cell \u001b[0;32mIn[8], line 27\u001b[0m\n\u001b[1;32m     25\u001b[0m \u001b[38;5;66;03m# Ensure output directory exists\u001b[39;00m\n\u001b[1;32m     26\u001b[0m \u001b[38;5;28;01mif\u001b[39;00m \u001b[38;5;129;01mnot\u001b[39;00m os\u001b[38;5;241m.\u001b[39mpath\u001b[38;5;241m.\u001b[39mexists(output_directory):\n\u001b[0;32m---> 27\u001b[0m     os\u001b[38;5;241m.\u001b[39mmakedirs(output_directory)\n\u001b[1;32m     29\u001b[0m \u001b[38;5;66;03m# Run inference on each image in the validation dataset and save the predictions\u001b[39;00m\n\u001b[1;32m     30\u001b[0m \u001b[38;5;28;01mfor\u001b[39;00m image_path \u001b[38;5;129;01min\u001b[39;00m results\u001b[38;5;241m.\u001b[39mfiles:\n",
      "File \u001b[0;32m<frozen os>:225\u001b[0m, in \u001b[0;36mmakedirs\u001b[0;34m(name, mode, exist_ok)\u001b[0m\n",
      "\u001b[0;31mFileNotFoundError\u001b[0m: [Errno 2] No such file or directory: ''"
     ]
    }
   ],
   "source": [
    "#running validation on Microsoft Azure camera\n",
    "# Import necessary libraries\n",
    "from ultralytics import YOLO\n",
    "import cv2\n",
    "import os\n",
    "\n",
    "# Define paths\n",
    "model_path = '/media/mzc/e4fcae9b-7400-4641-a800-034f249f8d14/mzc/yolo11/YOLO11AllTraining/YOLO11X_Training/YOLO11X_Training2/weights/last.pt'\n",
    "data_path = '/media/mzc/e4fcae9b-7400-4641-a800-034f249f8d14/mzc/yolo11/MicrosoftVAlidation/42VALIDmICROSOFT/data.yaml'\n",
    "output_directory = ''\n",
    "\n",
    "# Load the YOLO11n model\n",
    "model = YOLO(model_path)\n",
    "\n",
    "# Validate the model using the new dataset\n",
    "results = model.val(data=data_path)\n",
    "\n",
    "# Print the validation metrics\n",
    "print(\"Validation Metrics:\")\n",
    "print(f\"mAP50-95: {results.box.map}\")\n",
    "print(f\"mAP50: {results.box.map50}\")\n",
    "print(f\"mAP75: {results.box.map75}\")\n",
    "print(f\"Processing Speeds: {results.speed}\")\n",
    "\n",
    "# Ensure output directory exists\n",
    "if not os.path.exists(output_directory):\n",
    "    os.makedirs(output_directory)\n",
    "\n",
    "# Run inference on each image in the validation dataset and save the predictions\n",
    "for image_path in results.files:\n",
    "    img = cv2.imread(image_path)\n",
    "\n",
    "    # Run YOLO model on the image\n",
    "    pred_results = model(image_path)\n",
    "\n",
    "    # Get the annotated image with predictions\n",
    "    annotated_img = pred_results[0].plot()\n",
    "\n",
    "    # Save the annotated image to the output directory\n",
    "    image_filename = os.path.basename(image_path)\n",
    "    output_image_path = os.path.join(output_directory, f\"predicted_{image_filename}\")\n",
    "    cv2.imwrite(output_image_path, annotated_img)\n",
    "    print(f\"Saved predicted image: {output_image_path}\")\n",
    "\n",
    "print(\"All predictions have been saved!\")\n"
   ]
  },
  {
   "cell_type": "code",
   "execution_count": 9,
   "id": "addcca1c-29e6-4702-b93b-57a4e749c4d0",
   "metadata": {},
   "outputs": [
    {
     "name": "stdout",
     "output_type": "stream",
     "text": [
      "\n",
      "image 1/1 /media/mzc/e4fcae9b-7400-4641-a800-034f249f8d14/mzc/yolo11/MicrosoftVAlidation/video/RGB_images/rgb_frame_1410.png: 384x640 7 0s, 43.3ms\n",
      "Speed: 2.2ms preprocess, 43.3ms inference, 1.0ms postprocess per image at shape (1, 3, 384, 640)\n",
      "Saved predicted image: /media/mzc/e4fcae9b-7400-4641-a800-034f249f8d14/mzc/yolo11/YOLO11AllTraining/YOLO11X_Training/42ms/predicted_rgb_frame_1410.png\n",
      "\n",
      "image 1/1 /media/mzc/e4fcae9b-7400-4641-a800-034f249f8d14/mzc/yolo11/MicrosoftVAlidation/video/RGB_images/rgb_frame_1215.png: 384x640 8 0s, 24.2ms\n",
      "Speed: 1.9ms preprocess, 24.2ms inference, 0.8ms postprocess per image at shape (1, 3, 384, 640)\n",
      "Saved predicted image: /media/mzc/e4fcae9b-7400-4641-a800-034f249f8d14/mzc/yolo11/YOLO11AllTraining/YOLO11X_Training/42ms/predicted_rgb_frame_1215.png\n",
      "\n",
      "image 1/1 /media/mzc/e4fcae9b-7400-4641-a800-034f249f8d14/mzc/yolo11/MicrosoftVAlidation/video/RGB_images/rgb_frame_870.png: 384x640 8 0s, 24.5ms\n",
      "Speed: 1.8ms preprocess, 24.5ms inference, 0.9ms postprocess per image at shape (1, 3, 384, 640)\n",
      "Saved predicted image: /media/mzc/e4fcae9b-7400-4641-a800-034f249f8d14/mzc/yolo11/YOLO11AllTraining/YOLO11X_Training/42ms/predicted_rgb_frame_870.png\n",
      "\n",
      "image 1/1 /media/mzc/e4fcae9b-7400-4641-a800-034f249f8d14/mzc/yolo11/MicrosoftVAlidation/video/RGB_images/rgb_frame_720.png: 384x640 5 0s, 24.5ms\n",
      "Speed: 1.9ms preprocess, 24.5ms inference, 0.9ms postprocess per image at shape (1, 3, 384, 640)\n",
      "Saved predicted image: /media/mzc/e4fcae9b-7400-4641-a800-034f249f8d14/mzc/yolo11/YOLO11AllTraining/YOLO11X_Training/42ms/predicted_rgb_frame_720.png\n",
      "\n",
      "image 1/1 /media/mzc/e4fcae9b-7400-4641-a800-034f249f8d14/mzc/yolo11/MicrosoftVAlidation/video/RGB_images/rgb_frame_705.png: 384x640 8 0s, 24.7ms\n",
      "Speed: 1.8ms preprocess, 24.7ms inference, 0.9ms postprocess per image at shape (1, 3, 384, 640)\n",
      "Saved predicted image: /media/mzc/e4fcae9b-7400-4641-a800-034f249f8d14/mzc/yolo11/YOLO11AllTraining/YOLO11X_Training/42ms/predicted_rgb_frame_705.png\n",
      "\n",
      "image 1/1 /media/mzc/e4fcae9b-7400-4641-a800-034f249f8d14/mzc/yolo11/MicrosoftVAlidation/video/RGB_images/rgb_frame_1170.png: 384x640 2 0s, 24.5ms\n",
      "Speed: 1.8ms preprocess, 24.5ms inference, 0.9ms postprocess per image at shape (1, 3, 384, 640)\n",
      "Saved predicted image: /media/mzc/e4fcae9b-7400-4641-a800-034f249f8d14/mzc/yolo11/YOLO11AllTraining/YOLO11X_Training/42ms/predicted_rgb_frame_1170.png\n",
      "\n",
      "image 1/1 /media/mzc/e4fcae9b-7400-4641-a800-034f249f8d14/mzc/yolo11/MicrosoftVAlidation/video/RGB_images/rgb_frame_795.png: 384x640 3 0s, 24.4ms\n",
      "Speed: 1.9ms preprocess, 24.4ms inference, 0.8ms postprocess per image at shape (1, 3, 384, 640)\n",
      "Saved predicted image: /media/mzc/e4fcae9b-7400-4641-a800-034f249f8d14/mzc/yolo11/YOLO11AllTraining/YOLO11X_Training/42ms/predicted_rgb_frame_795.png\n",
      "\n",
      "image 1/1 /media/mzc/e4fcae9b-7400-4641-a800-034f249f8d14/mzc/yolo11/MicrosoftVAlidation/video/RGB_images/rgb_frame_1425.png: 384x640 5 0s, 26.0ms\n",
      "Speed: 1.8ms preprocess, 26.0ms inference, 0.9ms postprocess per image at shape (1, 3, 384, 640)\n",
      "Saved predicted image: /media/mzc/e4fcae9b-7400-4641-a800-034f249f8d14/mzc/yolo11/YOLO11AllTraining/YOLO11X_Training/42ms/predicted_rgb_frame_1425.png\n",
      "\n",
      "image 1/1 /media/mzc/e4fcae9b-7400-4641-a800-034f249f8d14/mzc/yolo11/MicrosoftVAlidation/video/RGB_images/rgb_frame_300.png: 384x640 4 0s, 24.3ms\n",
      "Speed: 1.8ms preprocess, 24.3ms inference, 0.9ms postprocess per image at shape (1, 3, 384, 640)\n",
      "Saved predicted image: /media/mzc/e4fcae9b-7400-4641-a800-034f249f8d14/mzc/yolo11/YOLO11AllTraining/YOLO11X_Training/42ms/predicted_rgb_frame_300.png\n",
      "\n",
      "image 1/1 /media/mzc/e4fcae9b-7400-4641-a800-034f249f8d14/mzc/yolo11/MicrosoftVAlidation/video/RGB_images/rgb_frame_1560.png: 384x640 25 0s, 24.4ms\n",
      "Speed: 1.8ms preprocess, 24.4ms inference, 1.0ms postprocess per image at shape (1, 3, 384, 640)\n",
      "Saved predicted image: /media/mzc/e4fcae9b-7400-4641-a800-034f249f8d14/mzc/yolo11/YOLO11AllTraining/YOLO11X_Training/42ms/predicted_rgb_frame_1560.png\n",
      "\n",
      "image 1/1 /media/mzc/e4fcae9b-7400-4641-a800-034f249f8d14/mzc/yolo11/MicrosoftVAlidation/video/RGB_images/rgb_frame_15.png: 384x640 8 0s, 24.5ms\n",
      "Speed: 1.7ms preprocess, 24.5ms inference, 0.9ms postprocess per image at shape (1, 3, 384, 640)\n",
      "Saved predicted image: /media/mzc/e4fcae9b-7400-4641-a800-034f249f8d14/mzc/yolo11/YOLO11AllTraining/YOLO11X_Training/42ms/predicted_rgb_frame_15.png\n",
      "\n",
      "image 1/1 /media/mzc/e4fcae9b-7400-4641-a800-034f249f8d14/mzc/yolo11/MicrosoftVAlidation/video/RGB_images/rgb_frame_45.png: 384x640 5 0s, 24.3ms\n",
      "Speed: 2.2ms preprocess, 24.3ms inference, 1.0ms postprocess per image at shape (1, 3, 384, 640)\n",
      "Saved predicted image: /media/mzc/e4fcae9b-7400-4641-a800-034f249f8d14/mzc/yolo11/YOLO11AllTraining/YOLO11X_Training/42ms/predicted_rgb_frame_45.png\n",
      "\n",
      "image 1/1 /media/mzc/e4fcae9b-7400-4641-a800-034f249f8d14/mzc/yolo11/MicrosoftVAlidation/video/RGB_images/rgb_frame_375.png: 384x640 4 0s, 24.5ms\n",
      "Speed: 1.8ms preprocess, 24.5ms inference, 0.9ms postprocess per image at shape (1, 3, 384, 640)\n",
      "Saved predicted image: /media/mzc/e4fcae9b-7400-4641-a800-034f249f8d14/mzc/yolo11/YOLO11AllTraining/YOLO11X_Training/42ms/predicted_rgb_frame_375.png\n",
      "\n",
      "image 1/1 /media/mzc/e4fcae9b-7400-4641-a800-034f249f8d14/mzc/yolo11/MicrosoftVAlidation/video/RGB_images/rgb_frame_1290.png: 384x640 8 0s, 25.3ms\n",
      "Speed: 1.8ms preprocess, 25.3ms inference, 0.9ms postprocess per image at shape (1, 3, 384, 640)\n",
      "Saved predicted image: /media/mzc/e4fcae9b-7400-4641-a800-034f249f8d14/mzc/yolo11/YOLO11AllTraining/YOLO11X_Training/42ms/predicted_rgb_frame_1290.png\n",
      "\n",
      "image 1/1 /media/mzc/e4fcae9b-7400-4641-a800-034f249f8d14/mzc/yolo11/MicrosoftVAlidation/video/RGB_images/rgb_frame_60.png: 384x640 6 0s, 24.5ms\n",
      "Speed: 1.9ms preprocess, 24.5ms inference, 0.9ms postprocess per image at shape (1, 3, 384, 640)\n",
      "Saved predicted image: /media/mzc/e4fcae9b-7400-4641-a800-034f249f8d14/mzc/yolo11/YOLO11AllTraining/YOLO11X_Training/42ms/predicted_rgb_frame_60.png\n",
      "\n",
      "image 1/1 /media/mzc/e4fcae9b-7400-4641-a800-034f249f8d14/mzc/yolo11/MicrosoftVAlidation/video/RGB_images/rgb_frame_540.png: 384x640 7 0s, 24.5ms\n",
      "Speed: 1.9ms preprocess, 24.5ms inference, 0.9ms postprocess per image at shape (1, 3, 384, 640)\n",
      "Saved predicted image: /media/mzc/e4fcae9b-7400-4641-a800-034f249f8d14/mzc/yolo11/YOLO11AllTraining/YOLO11X_Training/42ms/predicted_rgb_frame_540.png\n",
      "\n",
      "image 1/1 /media/mzc/e4fcae9b-7400-4641-a800-034f249f8d14/mzc/yolo11/MicrosoftVAlidation/video/RGB_images/rgb_frame_765.png: 384x640 5 0s, 25.2ms\n",
      "Speed: 1.9ms preprocess, 25.2ms inference, 1.1ms postprocess per image at shape (1, 3, 384, 640)\n",
      "Saved predicted image: /media/mzc/e4fcae9b-7400-4641-a800-034f249f8d14/mzc/yolo11/YOLO11AllTraining/YOLO11X_Training/42ms/predicted_rgb_frame_765.png\n",
      "\n",
      "image 1/1 /media/mzc/e4fcae9b-7400-4641-a800-034f249f8d14/mzc/yolo11/MicrosoftVAlidation/video/RGB_images/rgb_frame_345.png: 384x640 6 0s, 24.5ms\n",
      "Speed: 1.8ms preprocess, 24.5ms inference, 0.9ms postprocess per image at shape (1, 3, 384, 640)\n",
      "Saved predicted image: /media/mzc/e4fcae9b-7400-4641-a800-034f249f8d14/mzc/yolo11/YOLO11AllTraining/YOLO11X_Training/42ms/predicted_rgb_frame_345.png\n",
      "\n",
      "image 1/1 /media/mzc/e4fcae9b-7400-4641-a800-034f249f8d14/mzc/yolo11/MicrosoftVAlidation/video/RGB_images/rgb_frame_960.png: 384x640 9 0s, 24.5ms\n",
      "Speed: 1.8ms preprocess, 24.5ms inference, 0.9ms postprocess per image at shape (1, 3, 384, 640)\n",
      "Saved predicted image: /media/mzc/e4fcae9b-7400-4641-a800-034f249f8d14/mzc/yolo11/YOLO11AllTraining/YOLO11X_Training/42ms/predicted_rgb_frame_960.png\n",
      "\n",
      "image 1/1 /media/mzc/e4fcae9b-7400-4641-a800-034f249f8d14/mzc/yolo11/MicrosoftVAlidation/video/RGB_images/rgb_frame_1275.png: 384x640 1 0, 25.6ms\n",
      "Speed: 1.8ms preprocess, 25.6ms inference, 0.9ms postprocess per image at shape (1, 3, 384, 640)\n",
      "Saved predicted image: /media/mzc/e4fcae9b-7400-4641-a800-034f249f8d14/mzc/yolo11/YOLO11AllTraining/YOLO11X_Training/42ms/predicted_rgb_frame_1275.png\n",
      "\n",
      "image 1/1 /media/mzc/e4fcae9b-7400-4641-a800-034f249f8d14/mzc/yolo11/MicrosoftVAlidation/video/RGB_images/rgb_frame_630.png: 384x640 3 0s, 24.5ms\n",
      "Speed: 1.8ms preprocess, 24.5ms inference, 0.9ms postprocess per image at shape (1, 3, 384, 640)\n",
      "Saved predicted image: /media/mzc/e4fcae9b-7400-4641-a800-034f249f8d14/mzc/yolo11/YOLO11AllTraining/YOLO11X_Training/42ms/predicted_rgb_frame_630.png\n",
      "\n",
      "image 1/1 /media/mzc/e4fcae9b-7400-4641-a800-034f249f8d14/mzc/yolo11/MicrosoftVAlidation/video/RGB_images/rgb_frame_840.png: 384x640 7 0s, 24.4ms\n",
      "Speed: 1.8ms preprocess, 24.4ms inference, 0.9ms postprocess per image at shape (1, 3, 384, 640)\n",
      "Saved predicted image: /media/mzc/e4fcae9b-7400-4641-a800-034f249f8d14/mzc/yolo11/YOLO11AllTraining/YOLO11X_Training/42ms/predicted_rgb_frame_840.png\n",
      "\n",
      "image 1/1 /media/mzc/e4fcae9b-7400-4641-a800-034f249f8d14/mzc/yolo11/MicrosoftVAlidation/video/RGB_images/rgb_frame_450.png: 384x640 7 0s, 24.6ms\n",
      "Speed: 1.8ms preprocess, 24.6ms inference, 0.9ms postprocess per image at shape (1, 3, 384, 640)\n",
      "Saved predicted image: /media/mzc/e4fcae9b-7400-4641-a800-034f249f8d14/mzc/yolo11/YOLO11AllTraining/YOLO11X_Training/42ms/predicted_rgb_frame_450.png\n",
      "\n",
      "image 1/1 /media/mzc/e4fcae9b-7400-4641-a800-034f249f8d14/mzc/yolo11/MicrosoftVAlidation/video/RGB_images/rgb_frame_120.png: 384x640 5 0s, 24.5ms\n",
      "Speed: 1.8ms preprocess, 24.5ms inference, 0.9ms postprocess per image at shape (1, 3, 384, 640)\n",
      "Saved predicted image: /media/mzc/e4fcae9b-7400-4641-a800-034f249f8d14/mzc/yolo11/YOLO11AllTraining/YOLO11X_Training/42ms/predicted_rgb_frame_120.png\n",
      "\n",
      "image 1/1 /media/mzc/e4fcae9b-7400-4641-a800-034f249f8d14/mzc/yolo11/MicrosoftVAlidation/video/RGB_images/rgb_frame_390.png: 384x640 7 0s, 24.4ms\n",
      "Speed: 1.8ms preprocess, 24.4ms inference, 0.9ms postprocess per image at shape (1, 3, 384, 640)\n",
      "Saved predicted image: /media/mzc/e4fcae9b-7400-4641-a800-034f249f8d14/mzc/yolo11/YOLO11AllTraining/YOLO11X_Training/42ms/predicted_rgb_frame_390.png\n",
      "\n",
      "image 1/1 /media/mzc/e4fcae9b-7400-4641-a800-034f249f8d14/mzc/yolo11/MicrosoftVAlidation/video/RGB_images/rgb_frame_585.png: 384x640 4 0s, 24.6ms\n",
      "Speed: 1.8ms preprocess, 24.6ms inference, 0.9ms postprocess per image at shape (1, 3, 384, 640)\n",
      "Saved predicted image: /media/mzc/e4fcae9b-7400-4641-a800-034f249f8d14/mzc/yolo11/YOLO11AllTraining/YOLO11X_Training/42ms/predicted_rgb_frame_585.png\n",
      "\n",
      "image 1/1 /media/mzc/e4fcae9b-7400-4641-a800-034f249f8d14/mzc/yolo11/MicrosoftVAlidation/video/RGB_images/rgb_frame_420.png: 384x640 5 0s, 24.7ms\n",
      "Speed: 1.9ms preprocess, 24.7ms inference, 0.9ms postprocess per image at shape (1, 3, 384, 640)\n",
      "Saved predicted image: /media/mzc/e4fcae9b-7400-4641-a800-034f249f8d14/mzc/yolo11/YOLO11AllTraining/YOLO11X_Training/42ms/predicted_rgb_frame_420.png\n",
      "\n",
      "image 1/1 /media/mzc/e4fcae9b-7400-4641-a800-034f249f8d14/mzc/yolo11/MicrosoftVAlidation/video/RGB_images/rgb_frame_285.png: 384x640 10 0s, 24.5ms\n",
      "Speed: 1.8ms preprocess, 24.5ms inference, 0.9ms postprocess per image at shape (1, 3, 384, 640)\n",
      "Saved predicted image: /media/mzc/e4fcae9b-7400-4641-a800-034f249f8d14/mzc/yolo11/YOLO11AllTraining/YOLO11X_Training/42ms/predicted_rgb_frame_285.png\n",
      "\n",
      "image 1/1 /media/mzc/e4fcae9b-7400-4641-a800-034f249f8d14/mzc/yolo11/MicrosoftVAlidation/video/RGB_images/rgb_frame_1260.png: 384x640 4 0s, 24.3ms\n",
      "Speed: 1.8ms preprocess, 24.3ms inference, 0.9ms postprocess per image at shape (1, 3, 384, 640)\n",
      "Saved predicted image: /media/mzc/e4fcae9b-7400-4641-a800-034f249f8d14/mzc/yolo11/YOLO11AllTraining/YOLO11X_Training/42ms/predicted_rgb_frame_1260.png\n",
      "\n",
      "image 1/1 /media/mzc/e4fcae9b-7400-4641-a800-034f249f8d14/mzc/yolo11/MicrosoftVAlidation/video/RGB_images/rgb_frame_270.png: 384x640 7 0s, 24.3ms\n",
      "Speed: 1.8ms preprocess, 24.3ms inference, 0.9ms postprocess per image at shape (1, 3, 384, 640)\n",
      "Saved predicted image: /media/mzc/e4fcae9b-7400-4641-a800-034f249f8d14/mzc/yolo11/YOLO11AllTraining/YOLO11X_Training/42ms/predicted_rgb_frame_270.png\n",
      "\n",
      "image 1/1 /media/mzc/e4fcae9b-7400-4641-a800-034f249f8d14/mzc/yolo11/MicrosoftVAlidation/video/RGB_images/rgb_frame_105.png: 384x640 6 0s, 24.6ms\n",
      "Speed: 1.8ms preprocess, 24.6ms inference, 0.9ms postprocess per image at shape (1, 3, 384, 640)\n",
      "Saved predicted image: /media/mzc/e4fcae9b-7400-4641-a800-034f249f8d14/mzc/yolo11/YOLO11AllTraining/YOLO11X_Training/42ms/predicted_rgb_frame_105.png\n",
      "\n",
      "image 1/1 /media/mzc/e4fcae9b-7400-4641-a800-034f249f8d14/mzc/yolo11/MicrosoftVAlidation/video/RGB_images/rgb_frame_1065.png: 384x640 7 0s, 24.4ms\n",
      "Speed: 1.8ms preprocess, 24.4ms inference, 0.9ms postprocess per image at shape (1, 3, 384, 640)\n",
      "Saved predicted image: /media/mzc/e4fcae9b-7400-4641-a800-034f249f8d14/mzc/yolo11/YOLO11AllTraining/YOLO11X_Training/42ms/predicted_rgb_frame_1065.png\n",
      "\n",
      "image 1/1 /media/mzc/e4fcae9b-7400-4641-a800-034f249f8d14/mzc/yolo11/MicrosoftVAlidation/video/RGB_images/rgb_frame_1350.png: 384x640 3 0s, 24.6ms\n",
      "Speed: 1.9ms preprocess, 24.6ms inference, 1.0ms postprocess per image at shape (1, 3, 384, 640)\n",
      "Saved predicted image: /media/mzc/e4fcae9b-7400-4641-a800-034f249f8d14/mzc/yolo11/YOLO11AllTraining/YOLO11X_Training/42ms/predicted_rgb_frame_1350.png\n",
      "\n",
      "image 1/1 /media/mzc/e4fcae9b-7400-4641-a800-034f249f8d14/mzc/yolo11/MicrosoftVAlidation/video/RGB_images/rgb_frame_195.png: 384x640 4 0s, 24.5ms\n",
      "Speed: 1.9ms preprocess, 24.5ms inference, 0.9ms postprocess per image at shape (1, 3, 384, 640)\n",
      "Saved predicted image: /media/mzc/e4fcae9b-7400-4641-a800-034f249f8d14/mzc/yolo11/YOLO11AllTraining/YOLO11X_Training/42ms/predicted_rgb_frame_195.png\n",
      "\n",
      "image 1/1 /media/mzc/e4fcae9b-7400-4641-a800-034f249f8d14/mzc/yolo11/MicrosoftVAlidation/video/RGB_images/rgb_frame_885.png: 384x640 7 0s, 24.7ms\n",
      "Speed: 1.8ms preprocess, 24.7ms inference, 0.9ms postprocess per image at shape (1, 3, 384, 640)\n",
      "Saved predicted image: /media/mzc/e4fcae9b-7400-4641-a800-034f249f8d14/mzc/yolo11/YOLO11AllTraining/YOLO11X_Training/42ms/predicted_rgb_frame_885.png\n",
      "\n",
      "image 1/1 /media/mzc/e4fcae9b-7400-4641-a800-034f249f8d14/mzc/yolo11/MicrosoftVAlidation/video/RGB_images/rgb_frame_1110.png: 384x640 6 0s, 24.3ms\n",
      "Speed: 1.8ms preprocess, 24.3ms inference, 0.9ms postprocess per image at shape (1, 3, 384, 640)\n",
      "Saved predicted image: /media/mzc/e4fcae9b-7400-4641-a800-034f249f8d14/mzc/yolo11/YOLO11AllTraining/YOLO11X_Training/42ms/predicted_rgb_frame_1110.png\n",
      "\n",
      "image 1/1 /media/mzc/e4fcae9b-7400-4641-a800-034f249f8d14/mzc/yolo11/MicrosoftVAlidation/video/RGB_images/rgb_frame_1590.png: 384x640 28 0s, 24.6ms\n",
      "Speed: 1.8ms preprocess, 24.6ms inference, 0.9ms postprocess per image at shape (1, 3, 384, 640)\n",
      "Saved predicted image: /media/mzc/e4fcae9b-7400-4641-a800-034f249f8d14/mzc/yolo11/YOLO11AllTraining/YOLO11X_Training/42ms/predicted_rgb_frame_1590.png\n",
      "\n",
      "image 1/1 /media/mzc/e4fcae9b-7400-4641-a800-034f249f8d14/mzc/yolo11/MicrosoftVAlidation/video/RGB_images/rgb_frame_570.png: 384x640 4 0s, 24.6ms\n",
      "Speed: 1.8ms preprocess, 24.6ms inference, 0.9ms postprocess per image at shape (1, 3, 384, 640)\n",
      "Saved predicted image: /media/mzc/e4fcae9b-7400-4641-a800-034f249f8d14/mzc/yolo11/YOLO11AllTraining/YOLO11X_Training/42ms/predicted_rgb_frame_570.png\n",
      "\n",
      "image 1/1 /media/mzc/e4fcae9b-7400-4641-a800-034f249f8d14/mzc/yolo11/MicrosoftVAlidation/video/RGB_images/rgb_frame_675.png: 384x640 13 0s, 24.6ms\n",
      "Speed: 1.8ms preprocess, 24.6ms inference, 0.9ms postprocess per image at shape (1, 3, 384, 640)\n",
      "Saved predicted image: /media/mzc/e4fcae9b-7400-4641-a800-034f249f8d14/mzc/yolo11/YOLO11AllTraining/YOLO11X_Training/42ms/predicted_rgb_frame_675.png\n",
      "\n",
      "image 1/1 /media/mzc/e4fcae9b-7400-4641-a800-034f249f8d14/mzc/yolo11/MicrosoftVAlidation/video/RGB_images/rgb_frame_330.png: 384x640 8 0s, 24.7ms\n",
      "Speed: 1.8ms preprocess, 24.7ms inference, 0.8ms postprocess per image at shape (1, 3, 384, 640)\n",
      "Saved predicted image: /media/mzc/e4fcae9b-7400-4641-a800-034f249f8d14/mzc/yolo11/YOLO11AllTraining/YOLO11X_Training/42ms/predicted_rgb_frame_330.png\n",
      "\n",
      "image 1/1 /media/mzc/e4fcae9b-7400-4641-a800-034f249f8d14/mzc/yolo11/MicrosoftVAlidation/video/RGB_images/rgb_frame_1545.png: 384x640 13 0s, 24.6ms\n",
      "Speed: 1.8ms preprocess, 24.6ms inference, 0.9ms postprocess per image at shape (1, 3, 384, 640)\n",
      "Saved predicted image: /media/mzc/e4fcae9b-7400-4641-a800-034f249f8d14/mzc/yolo11/YOLO11AllTraining/YOLO11X_Training/42ms/predicted_rgb_frame_1545.png\n",
      "\n",
      "image 1/1 /media/mzc/e4fcae9b-7400-4641-a800-034f249f8d14/mzc/yolo11/MicrosoftVAlidation/video/RGB_images/rgb_frame_690.png: 384x640 6 0s, 24.8ms\n",
      "Speed: 1.8ms preprocess, 24.8ms inference, 0.9ms postprocess per image at shape (1, 3, 384, 640)\n",
      "Saved predicted image: /media/mzc/e4fcae9b-7400-4641-a800-034f249f8d14/mzc/yolo11/YOLO11AllTraining/YOLO11X_Training/42ms/predicted_rgb_frame_690.png\n",
      "\n",
      "image 1/1 /media/mzc/e4fcae9b-7400-4641-a800-034f249f8d14/mzc/yolo11/MicrosoftVAlidation/video/RGB_images/rgb_frame_180.png: 384x640 6 0s, 24.5ms\n",
      "Speed: 1.9ms preprocess, 24.5ms inference, 0.9ms postprocess per image at shape (1, 3, 384, 640)\n",
      "Saved predicted image: /media/mzc/e4fcae9b-7400-4641-a800-034f249f8d14/mzc/yolo11/YOLO11AllTraining/YOLO11X_Training/42ms/predicted_rgb_frame_180.png\n",
      "\n",
      "image 1/1 /media/mzc/e4fcae9b-7400-4641-a800-034f249f8d14/mzc/yolo11/MicrosoftVAlidation/video/RGB_images/rgb_frame_1440.png: 384x640 5 0s, 26.5ms\n",
      "Speed: 1.9ms preprocess, 26.5ms inference, 1.0ms postprocess per image at shape (1, 3, 384, 640)\n",
      "Saved predicted image: /media/mzc/e4fcae9b-7400-4641-a800-034f249f8d14/mzc/yolo11/YOLO11AllTraining/YOLO11X_Training/42ms/predicted_rgb_frame_1440.png\n",
      "\n",
      "image 1/1 /media/mzc/e4fcae9b-7400-4641-a800-034f249f8d14/mzc/yolo11/MicrosoftVAlidation/video/RGB_images/rgb_frame_1200.png: 384x640 3 0s, 24.3ms\n",
      "Speed: 1.9ms preprocess, 24.3ms inference, 0.9ms postprocess per image at shape (1, 3, 384, 640)\n",
      "Saved predicted image: /media/mzc/e4fcae9b-7400-4641-a800-034f249f8d14/mzc/yolo11/YOLO11AllTraining/YOLO11X_Training/42ms/predicted_rgb_frame_1200.png\n",
      "\n",
      "image 1/1 /media/mzc/e4fcae9b-7400-4641-a800-034f249f8d14/mzc/yolo11/MicrosoftVAlidation/video/RGB_images/rgb_frame_1005.png: 384x640 2 0s, 25.4ms\n",
      "Speed: 1.8ms preprocess, 25.4ms inference, 0.9ms postprocess per image at shape (1, 3, 384, 640)\n",
      "Saved predicted image: /media/mzc/e4fcae9b-7400-4641-a800-034f249f8d14/mzc/yolo11/YOLO11AllTraining/YOLO11X_Training/42ms/predicted_rgb_frame_1005.png\n",
      "\n",
      "image 1/1 /media/mzc/e4fcae9b-7400-4641-a800-034f249f8d14/mzc/yolo11/MicrosoftVAlidation/video/RGB_images/rgb_frame_525.png: 384x640 4 0s, 25.6ms\n",
      "Speed: 1.9ms preprocess, 25.6ms inference, 0.9ms postprocess per image at shape (1, 3, 384, 640)\n",
      "Saved predicted image: /media/mzc/e4fcae9b-7400-4641-a800-034f249f8d14/mzc/yolo11/YOLO11AllTraining/YOLO11X_Training/42ms/predicted_rgb_frame_525.png\n",
      "\n",
      "image 1/1 /media/mzc/e4fcae9b-7400-4641-a800-034f249f8d14/mzc/yolo11/MicrosoftVAlidation/video/RGB_images/rgb_frame_75.png: 384x640 8 0s, 24.5ms\n",
      "Speed: 1.8ms preprocess, 24.5ms inference, 0.9ms postprocess per image at shape (1, 3, 384, 640)\n",
      "Saved predicted image: /media/mzc/e4fcae9b-7400-4641-a800-034f249f8d14/mzc/yolo11/YOLO11AllTraining/YOLO11X_Training/42ms/predicted_rgb_frame_75.png\n",
      "\n",
      "image 1/1 /media/mzc/e4fcae9b-7400-4641-a800-034f249f8d14/mzc/yolo11/MicrosoftVAlidation/video/RGB_images/rgb_frame_1575.png: 384x640 23 0s, 25.6ms\n",
      "Speed: 1.8ms preprocess, 25.6ms inference, 0.9ms postprocess per image at shape (1, 3, 384, 640)\n",
      "Saved predicted image: /media/mzc/e4fcae9b-7400-4641-a800-034f249f8d14/mzc/yolo11/YOLO11AllTraining/YOLO11X_Training/42ms/predicted_rgb_frame_1575.png\n",
      "\n",
      "image 1/1 /media/mzc/e4fcae9b-7400-4641-a800-034f249f8d14/mzc/yolo11/MicrosoftVAlidation/video/RGB_images/rgb_frame_930.png: 384x640 12 0s, 24.3ms\n",
      "Speed: 2.3ms preprocess, 24.3ms inference, 1.1ms postprocess per image at shape (1, 3, 384, 640)\n",
      "Saved predicted image: /media/mzc/e4fcae9b-7400-4641-a800-034f249f8d14/mzc/yolo11/YOLO11AllTraining/YOLO11X_Training/42ms/predicted_rgb_frame_930.png\n",
      "\n",
      "image 1/1 /media/mzc/e4fcae9b-7400-4641-a800-034f249f8d14/mzc/yolo11/MicrosoftVAlidation/video/RGB_images/rgb_frame_1395.png: 384x640 6 0s, 25.6ms\n",
      "Speed: 1.9ms preprocess, 25.6ms inference, 0.9ms postprocess per image at shape (1, 3, 384, 640)\n",
      "Saved predicted image: /media/mzc/e4fcae9b-7400-4641-a800-034f249f8d14/mzc/yolo11/YOLO11AllTraining/YOLO11X_Training/42ms/predicted_rgb_frame_1395.png\n",
      "\n",
      "image 1/1 /media/mzc/e4fcae9b-7400-4641-a800-034f249f8d14/mzc/yolo11/MicrosoftVAlidation/video/RGB_images/rgb_frame_645.png: 384x640 7 0s, 24.5ms\n",
      "Speed: 1.8ms preprocess, 24.5ms inference, 0.8ms postprocess per image at shape (1, 3, 384, 640)\n",
      "Saved predicted image: /media/mzc/e4fcae9b-7400-4641-a800-034f249f8d14/mzc/yolo11/YOLO11AllTraining/YOLO11X_Training/42ms/predicted_rgb_frame_645.png\n",
      "\n",
      "image 1/1 /media/mzc/e4fcae9b-7400-4641-a800-034f249f8d14/mzc/yolo11/MicrosoftVAlidation/video/RGB_images/rgb_frame_915.png: 384x640 11 0s, 24.6ms\n",
      "Speed: 1.8ms preprocess, 24.6ms inference, 0.9ms postprocess per image at shape (1, 3, 384, 640)\n",
      "Saved predicted image: /media/mzc/e4fcae9b-7400-4641-a800-034f249f8d14/mzc/yolo11/YOLO11AllTraining/YOLO11X_Training/42ms/predicted_rgb_frame_915.png\n",
      "\n",
      "image 1/1 /media/mzc/e4fcae9b-7400-4641-a800-034f249f8d14/mzc/yolo11/MicrosoftVAlidation/video/RGB_images/rgb_frame_1530.png: 384x640 9 0s, 24.3ms\n",
      "Speed: 1.9ms preprocess, 24.3ms inference, 0.9ms postprocess per image at shape (1, 3, 384, 640)\n",
      "Saved predicted image: /media/mzc/e4fcae9b-7400-4641-a800-034f249f8d14/mzc/yolo11/YOLO11AllTraining/YOLO11X_Training/42ms/predicted_rgb_frame_1530.png\n",
      "\n",
      "image 1/1 /media/mzc/e4fcae9b-7400-4641-a800-034f249f8d14/mzc/yolo11/MicrosoftVAlidation/video/RGB_images/rgb_frame_465.png: 384x640 6 0s, 24.4ms\n",
      "Speed: 1.8ms preprocess, 24.4ms inference, 0.9ms postprocess per image at shape (1, 3, 384, 640)\n",
      "Saved predicted image: /media/mzc/e4fcae9b-7400-4641-a800-034f249f8d14/mzc/yolo11/YOLO11AllTraining/YOLO11X_Training/42ms/predicted_rgb_frame_465.png\n",
      "\n",
      "image 1/1 /media/mzc/e4fcae9b-7400-4641-a800-034f249f8d14/mzc/yolo11/MicrosoftVAlidation/video/RGB_images/rgb_frame_0.png: 384x640 8 0s, 24.4ms\n",
      "Speed: 1.8ms preprocess, 24.4ms inference, 0.9ms postprocess per image at shape (1, 3, 384, 640)\n",
      "Saved predicted image: /media/mzc/e4fcae9b-7400-4641-a800-034f249f8d14/mzc/yolo11/YOLO11AllTraining/YOLO11X_Training/42ms/predicted_rgb_frame_0.png\n",
      "\n",
      "image 1/1 /media/mzc/e4fcae9b-7400-4641-a800-034f249f8d14/mzc/yolo11/MicrosoftVAlidation/video/RGB_images/rgb_frame_1020.png: 384x640 3 0s, 24.5ms\n",
      "Speed: 1.8ms preprocess, 24.5ms inference, 0.9ms postprocess per image at shape (1, 3, 384, 640)\n",
      "Saved predicted image: /media/mzc/e4fcae9b-7400-4641-a800-034f249f8d14/mzc/yolo11/YOLO11AllTraining/YOLO11X_Training/42ms/predicted_rgb_frame_1020.png\n",
      "\n",
      "image 1/1 /media/mzc/e4fcae9b-7400-4641-a800-034f249f8d14/mzc/yolo11/MicrosoftVAlidation/video/RGB_images/rgb_frame_735.png: 384x640 5 0s, 24.8ms\n",
      "Speed: 1.9ms preprocess, 24.8ms inference, 1.0ms postprocess per image at shape (1, 3, 384, 640)\n",
      "Saved predicted image: /media/mzc/e4fcae9b-7400-4641-a800-034f249f8d14/mzc/yolo11/YOLO11AllTraining/YOLO11X_Training/42ms/predicted_rgb_frame_735.png\n",
      "\n",
      "image 1/1 /media/mzc/e4fcae9b-7400-4641-a800-034f249f8d14/mzc/yolo11/MicrosoftVAlidation/video/RGB_images/rgb_frame_1050.png: 384x640 9 0s, 24.6ms\n",
      "Speed: 1.8ms preprocess, 24.6ms inference, 0.9ms postprocess per image at shape (1, 3, 384, 640)\n",
      "Saved predicted image: /media/mzc/e4fcae9b-7400-4641-a800-034f249f8d14/mzc/yolo11/YOLO11AllTraining/YOLO11X_Training/42ms/predicted_rgb_frame_1050.png\n",
      "\n",
      "image 1/1 /media/mzc/e4fcae9b-7400-4641-a800-034f249f8d14/mzc/yolo11/MicrosoftVAlidation/video/RGB_images/rgb_frame_1140.png: 384x640 5 0s, 25.0ms\n",
      "Speed: 1.9ms preprocess, 25.0ms inference, 0.9ms postprocess per image at shape (1, 3, 384, 640)\n",
      "Saved predicted image: /media/mzc/e4fcae9b-7400-4641-a800-034f249f8d14/mzc/yolo11/YOLO11AllTraining/YOLO11X_Training/42ms/predicted_rgb_frame_1140.png\n",
      "\n",
      "image 1/1 /media/mzc/e4fcae9b-7400-4641-a800-034f249f8d14/mzc/yolo11/MicrosoftVAlidation/video/RGB_images/rgb_frame_1365.png: 384x640 6 0s, 24.4ms\n",
      "Speed: 1.8ms preprocess, 24.4ms inference, 0.9ms postprocess per image at shape (1, 3, 384, 640)\n",
      "Saved predicted image: /media/mzc/e4fcae9b-7400-4641-a800-034f249f8d14/mzc/yolo11/YOLO11AllTraining/YOLO11X_Training/42ms/predicted_rgb_frame_1365.png\n",
      "\n",
      "image 1/1 /media/mzc/e4fcae9b-7400-4641-a800-034f249f8d14/mzc/yolo11/MicrosoftVAlidation/video/RGB_images/rgb_frame_405.png: 384x640 8 0s, 24.5ms\n",
      "Speed: 1.8ms preprocess, 24.5ms inference, 0.9ms postprocess per image at shape (1, 3, 384, 640)\n",
      "Saved predicted image: /media/mzc/e4fcae9b-7400-4641-a800-034f249f8d14/mzc/yolo11/YOLO11AllTraining/YOLO11X_Training/42ms/predicted_rgb_frame_405.png\n",
      "\n",
      "image 1/1 /media/mzc/e4fcae9b-7400-4641-a800-034f249f8d14/mzc/yolo11/MicrosoftVAlidation/video/RGB_images/rgb_frame_495.png: 384x640 3 0s, 25.4ms\n",
      "Speed: 1.9ms preprocess, 25.4ms inference, 0.9ms postprocess per image at shape (1, 3, 384, 640)\n",
      "Saved predicted image: /media/mzc/e4fcae9b-7400-4641-a800-034f249f8d14/mzc/yolo11/YOLO11AllTraining/YOLO11X_Training/42ms/predicted_rgb_frame_495.png\n",
      "\n",
      "image 1/1 /media/mzc/e4fcae9b-7400-4641-a800-034f249f8d14/mzc/yolo11/MicrosoftVAlidation/video/RGB_images/rgb_frame_1320.png: 384x640 11 0s, 24.4ms\n",
      "Speed: 1.8ms preprocess, 24.4ms inference, 0.9ms postprocess per image at shape (1, 3, 384, 640)\n",
      "Saved predicted image: /media/mzc/e4fcae9b-7400-4641-a800-034f249f8d14/mzc/yolo11/YOLO11AllTraining/YOLO11X_Training/42ms/predicted_rgb_frame_1320.png\n",
      "\n",
      "image 1/1 /media/mzc/e4fcae9b-7400-4641-a800-034f249f8d14/mzc/yolo11/MicrosoftVAlidation/video/RGB_images/rgb_frame_225.png: 384x640 7 0s, 24.6ms\n",
      "Speed: 1.8ms preprocess, 24.6ms inference, 0.9ms postprocess per image at shape (1, 3, 384, 640)\n",
      "Saved predicted image: /media/mzc/e4fcae9b-7400-4641-a800-034f249f8d14/mzc/yolo11/YOLO11AllTraining/YOLO11X_Training/42ms/predicted_rgb_frame_225.png\n",
      "\n",
      "image 1/1 /media/mzc/e4fcae9b-7400-4641-a800-034f249f8d14/mzc/yolo11/MicrosoftVAlidation/video/RGB_images/rgb_frame_1035.png: 384x640 13 0s, 24.4ms\n",
      "Speed: 1.8ms preprocess, 24.4ms inference, 0.9ms postprocess per image at shape (1, 3, 384, 640)\n",
      "Saved predicted image: /media/mzc/e4fcae9b-7400-4641-a800-034f249f8d14/mzc/yolo11/YOLO11AllTraining/YOLO11X_Training/42ms/predicted_rgb_frame_1035.png\n",
      "\n",
      "image 1/1 /media/mzc/e4fcae9b-7400-4641-a800-034f249f8d14/mzc/yolo11/MicrosoftVAlidation/video/RGB_images/rgb_frame_1230.png: 384x640 6 0s, 25.0ms\n",
      "Speed: 1.8ms preprocess, 25.0ms inference, 0.9ms postprocess per image at shape (1, 3, 384, 640)\n",
      "Saved predicted image: /media/mzc/e4fcae9b-7400-4641-a800-034f249f8d14/mzc/yolo11/YOLO11AllTraining/YOLO11X_Training/42ms/predicted_rgb_frame_1230.png\n",
      "\n",
      "image 1/1 /media/mzc/e4fcae9b-7400-4641-a800-034f249f8d14/mzc/yolo11/MicrosoftVAlidation/video/RGB_images/rgb_frame_1335.png: 384x640 6 0s, 25.3ms\n",
      "Speed: 1.8ms preprocess, 25.3ms inference, 0.9ms postprocess per image at shape (1, 3, 384, 640)\n",
      "Saved predicted image: /media/mzc/e4fcae9b-7400-4641-a800-034f249f8d14/mzc/yolo11/YOLO11AllTraining/YOLO11X_Training/42ms/predicted_rgb_frame_1335.png\n",
      "\n",
      "image 1/1 /media/mzc/e4fcae9b-7400-4641-a800-034f249f8d14/mzc/yolo11/MicrosoftVAlidation/video/RGB_images/rgb_frame_780.png: 384x640 5 0s, 24.6ms\n",
      "Speed: 1.8ms preprocess, 24.6ms inference, 0.9ms postprocess per image at shape (1, 3, 384, 640)\n",
      "Saved predicted image: /media/mzc/e4fcae9b-7400-4641-a800-034f249f8d14/mzc/yolo11/YOLO11AllTraining/YOLO11X_Training/42ms/predicted_rgb_frame_780.png\n",
      "\n",
      "image 1/1 /media/mzc/e4fcae9b-7400-4641-a800-034f249f8d14/mzc/yolo11/MicrosoftVAlidation/video/RGB_images/rgb_frame_165.png: 384x640 5 0s, 24.9ms\n",
      "Speed: 1.8ms preprocess, 24.9ms inference, 0.9ms postprocess per image at shape (1, 3, 384, 640)\n",
      "Saved predicted image: /media/mzc/e4fcae9b-7400-4641-a800-034f249f8d14/mzc/yolo11/YOLO11AllTraining/YOLO11X_Training/42ms/predicted_rgb_frame_165.png\n",
      "\n",
      "image 1/1 /media/mzc/e4fcae9b-7400-4641-a800-034f249f8d14/mzc/yolo11/MicrosoftVAlidation/video/RGB_images/rgb_frame_810.png: 384x640 4 0s, 24.3ms\n",
      "Speed: 2.8ms preprocess, 24.3ms inference, 1.0ms postprocess per image at shape (1, 3, 384, 640)\n",
      "Saved predicted image: /media/mzc/e4fcae9b-7400-4641-a800-034f249f8d14/mzc/yolo11/YOLO11AllTraining/YOLO11X_Training/42ms/predicted_rgb_frame_810.png\n",
      "\n",
      "image 1/1 /media/mzc/e4fcae9b-7400-4641-a800-034f249f8d14/mzc/yolo11/MicrosoftVAlidation/video/RGB_images/rgb_frame_615.png: 384x640 6 0s, 25.9ms\n",
      "Speed: 1.8ms preprocess, 25.9ms inference, 0.9ms postprocess per image at shape (1, 3, 384, 640)\n",
      "Saved predicted image: /media/mzc/e4fcae9b-7400-4641-a800-034f249f8d14/mzc/yolo11/YOLO11AllTraining/YOLO11X_Training/42ms/predicted_rgb_frame_615.png\n",
      "\n",
      "image 1/1 /media/mzc/e4fcae9b-7400-4641-a800-034f249f8d14/mzc/yolo11/MicrosoftVAlidation/video/RGB_images/rgb_frame_135.png: 384x640 4 0s, 24.5ms\n",
      "Speed: 1.8ms preprocess, 24.5ms inference, 0.9ms postprocess per image at shape (1, 3, 384, 640)\n",
      "Saved predicted image: /media/mzc/e4fcae9b-7400-4641-a800-034f249f8d14/mzc/yolo11/YOLO11AllTraining/YOLO11X_Training/42ms/predicted_rgb_frame_135.png\n",
      "\n",
      "image 1/1 /media/mzc/e4fcae9b-7400-4641-a800-034f249f8d14/mzc/yolo11/MicrosoftVAlidation/video/RGB_images/rgb_frame_315.png: 384x640 4 0s, 24.3ms\n",
      "Speed: 1.8ms preprocess, 24.3ms inference, 0.9ms postprocess per image at shape (1, 3, 384, 640)\n",
      "Saved predicted image: /media/mzc/e4fcae9b-7400-4641-a800-034f249f8d14/mzc/yolo11/YOLO11AllTraining/YOLO11X_Training/42ms/predicted_rgb_frame_315.png\n",
      "\n",
      "image 1/1 /media/mzc/e4fcae9b-7400-4641-a800-034f249f8d14/mzc/yolo11/MicrosoftVAlidation/video/RGB_images/rgb_frame_1155.png: 384x640 6 0s, 24.6ms\n",
      "Speed: 1.8ms preprocess, 24.6ms inference, 0.9ms postprocess per image at shape (1, 3, 384, 640)\n",
      "Saved predicted image: /media/mzc/e4fcae9b-7400-4641-a800-034f249f8d14/mzc/yolo11/YOLO11AllTraining/YOLO11X_Training/42ms/predicted_rgb_frame_1155.png\n",
      "\n",
      "image 1/1 /media/mzc/e4fcae9b-7400-4641-a800-034f249f8d14/mzc/yolo11/MicrosoftVAlidation/video/RGB_images/rgb_frame_90.png: 384x640 7 0s, 24.7ms\n",
      "Speed: 2.2ms preprocess, 24.7ms inference, 1.1ms postprocess per image at shape (1, 3, 384, 640)\n",
      "Saved predicted image: /media/mzc/e4fcae9b-7400-4641-a800-034f249f8d14/mzc/yolo11/YOLO11AllTraining/YOLO11X_Training/42ms/predicted_rgb_frame_90.png\n",
      "\n",
      "image 1/1 /media/mzc/e4fcae9b-7400-4641-a800-034f249f8d14/mzc/yolo11/MicrosoftVAlidation/video/RGB_images/rgb_frame_30.png: 384x640 9 0s, 24.4ms\n",
      "Speed: 1.8ms preprocess, 24.4ms inference, 0.9ms postprocess per image at shape (1, 3, 384, 640)\n",
      "Saved predicted image: /media/mzc/e4fcae9b-7400-4641-a800-034f249f8d14/mzc/yolo11/YOLO11AllTraining/YOLO11X_Training/42ms/predicted_rgb_frame_30.png\n",
      "\n",
      "image 1/1 /media/mzc/e4fcae9b-7400-4641-a800-034f249f8d14/mzc/yolo11/MicrosoftVAlidation/video/RGB_images/rgb_frame_1305.png: 384x640 12 0s, 24.8ms\n",
      "Speed: 1.9ms preprocess, 24.8ms inference, 0.9ms postprocess per image at shape (1, 3, 384, 640)\n",
      "Saved predicted image: /media/mzc/e4fcae9b-7400-4641-a800-034f249f8d14/mzc/yolo11/YOLO11AllTraining/YOLO11X_Training/42ms/predicted_rgb_frame_1305.png\n",
      "\n",
      "image 1/1 /media/mzc/e4fcae9b-7400-4641-a800-034f249f8d14/mzc/yolo11/MicrosoftVAlidation/video/RGB_images/rgb_frame_600.png: 384x640 6 0s, 25.0ms\n",
      "Speed: 1.8ms preprocess, 25.0ms inference, 0.9ms postprocess per image at shape (1, 3, 384, 640)\n",
      "Saved predicted image: /media/mzc/e4fcae9b-7400-4641-a800-034f249f8d14/mzc/yolo11/YOLO11AllTraining/YOLO11X_Training/42ms/predicted_rgb_frame_600.png\n",
      "\n",
      "image 1/1 /media/mzc/e4fcae9b-7400-4641-a800-034f249f8d14/mzc/yolo11/MicrosoftVAlidation/video/RGB_images/rgb_frame_660.png: 384x640 7 0s, 24.3ms\n",
      "Speed: 1.8ms preprocess, 24.3ms inference, 0.9ms postprocess per image at shape (1, 3, 384, 640)\n",
      "Saved predicted image: /media/mzc/e4fcae9b-7400-4641-a800-034f249f8d14/mzc/yolo11/YOLO11AllTraining/YOLO11X_Training/42ms/predicted_rgb_frame_660.png\n",
      "\n",
      "image 1/1 /media/mzc/e4fcae9b-7400-4641-a800-034f249f8d14/mzc/yolo11/MicrosoftVAlidation/video/RGB_images/rgb_frame_900.png: 384x640 6 0s, 24.9ms\n",
      "Speed: 1.9ms preprocess, 24.9ms inference, 0.9ms postprocess per image at shape (1, 3, 384, 640)\n",
      "Saved predicted image: /media/mzc/e4fcae9b-7400-4641-a800-034f249f8d14/mzc/yolo11/YOLO11AllTraining/YOLO11X_Training/42ms/predicted_rgb_frame_900.png\n",
      "\n",
      "image 1/1 /media/mzc/e4fcae9b-7400-4641-a800-034f249f8d14/mzc/yolo11/MicrosoftVAlidation/video/RGB_images/rgb_frame_1245.png: 384x640 7 0s, 26.1ms\n",
      "Speed: 2.0ms preprocess, 26.1ms inference, 0.9ms postprocess per image at shape (1, 3, 384, 640)\n",
      "Saved predicted image: /media/mzc/e4fcae9b-7400-4641-a800-034f249f8d14/mzc/yolo11/YOLO11AllTraining/YOLO11X_Training/42ms/predicted_rgb_frame_1245.png\n",
      "\n",
      "image 1/1 /media/mzc/e4fcae9b-7400-4641-a800-034f249f8d14/mzc/yolo11/MicrosoftVAlidation/video/RGB_images/rgb_frame_240.png: 384x640 8 0s, 25.1ms\n",
      "Speed: 1.8ms preprocess, 25.1ms inference, 0.9ms postprocess per image at shape (1, 3, 384, 640)\n",
      "Saved predicted image: /media/mzc/e4fcae9b-7400-4641-a800-034f249f8d14/mzc/yolo11/YOLO11AllTraining/YOLO11X_Training/42ms/predicted_rgb_frame_240.png\n",
      "\n",
      "image 1/1 /media/mzc/e4fcae9b-7400-4641-a800-034f249f8d14/mzc/yolo11/MicrosoftVAlidation/video/RGB_images/rgb_frame_150.png: 384x640 5 0s, 24.5ms\n",
      "Speed: 1.9ms preprocess, 24.5ms inference, 0.9ms postprocess per image at shape (1, 3, 384, 640)\n",
      "Saved predicted image: /media/mzc/e4fcae9b-7400-4641-a800-034f249f8d14/mzc/yolo11/YOLO11AllTraining/YOLO11X_Training/42ms/predicted_rgb_frame_150.png\n",
      "\n",
      "image 1/1 /media/mzc/e4fcae9b-7400-4641-a800-034f249f8d14/mzc/yolo11/MicrosoftVAlidation/video/RGB_images/rgb_frame_750.png: 384x640 4 0s, 24.7ms\n",
      "Speed: 1.8ms preprocess, 24.7ms inference, 0.9ms postprocess per image at shape (1, 3, 384, 640)\n",
      "Saved predicted image: /media/mzc/e4fcae9b-7400-4641-a800-034f249f8d14/mzc/yolo11/YOLO11AllTraining/YOLO11X_Training/42ms/predicted_rgb_frame_750.png\n",
      "\n",
      "image 1/1 /media/mzc/e4fcae9b-7400-4641-a800-034f249f8d14/mzc/yolo11/MicrosoftVAlidation/video/RGB_images/rgb_frame_1080.png: 384x640 5 0s, 26.0ms\n",
      "Speed: 1.7ms preprocess, 26.0ms inference, 0.9ms postprocess per image at shape (1, 3, 384, 640)\n",
      "Saved predicted image: /media/mzc/e4fcae9b-7400-4641-a800-034f249f8d14/mzc/yolo11/YOLO11AllTraining/YOLO11X_Training/42ms/predicted_rgb_frame_1080.png\n",
      "\n",
      "image 1/1 /media/mzc/e4fcae9b-7400-4641-a800-034f249f8d14/mzc/yolo11/MicrosoftVAlidation/video/RGB_images/rgb_frame_975.png: 384x640 5 0s, 25.2ms\n",
      "Speed: 1.8ms preprocess, 25.2ms inference, 0.9ms postprocess per image at shape (1, 3, 384, 640)\n",
      "Saved predicted image: /media/mzc/e4fcae9b-7400-4641-a800-034f249f8d14/mzc/yolo11/YOLO11AllTraining/YOLO11X_Training/42ms/predicted_rgb_frame_975.png\n",
      "\n",
      "image 1/1 /media/mzc/e4fcae9b-7400-4641-a800-034f249f8d14/mzc/yolo11/MicrosoftVAlidation/video/RGB_images/rgb_frame_1455.png: 384x640 4 0s, 24.3ms\n",
      "Speed: 1.8ms preprocess, 24.3ms inference, 0.8ms postprocess per image at shape (1, 3, 384, 640)\n",
      "Saved predicted image: /media/mzc/e4fcae9b-7400-4641-a800-034f249f8d14/mzc/yolo11/YOLO11AllTraining/YOLO11X_Training/42ms/predicted_rgb_frame_1455.png\n",
      "\n",
      "image 1/1 /media/mzc/e4fcae9b-7400-4641-a800-034f249f8d14/mzc/yolo11/MicrosoftVAlidation/video/RGB_images/rgb_frame_210.png: 384x640 6 0s, 24.6ms\n",
      "Speed: 1.8ms preprocess, 24.6ms inference, 0.9ms postprocess per image at shape (1, 3, 384, 640)\n",
      "Saved predicted image: /media/mzc/e4fcae9b-7400-4641-a800-034f249f8d14/mzc/yolo11/YOLO11AllTraining/YOLO11X_Training/42ms/predicted_rgb_frame_210.png\n",
      "\n",
      "image 1/1 /media/mzc/e4fcae9b-7400-4641-a800-034f249f8d14/mzc/yolo11/MicrosoftVAlidation/video/RGB_images/rgb_frame_435.png: 384x640 3 0s, 24.6ms\n",
      "Speed: 1.9ms preprocess, 24.6ms inference, 0.8ms postprocess per image at shape (1, 3, 384, 640)\n",
      "Saved predicted image: /media/mzc/e4fcae9b-7400-4641-a800-034f249f8d14/mzc/yolo11/YOLO11AllTraining/YOLO11X_Training/42ms/predicted_rgb_frame_435.png\n",
      "\n",
      "image 1/1 /media/mzc/e4fcae9b-7400-4641-a800-034f249f8d14/mzc/yolo11/MicrosoftVAlidation/video/RGB_images/rgb_frame_1095.png: 384x640 9 0s, 24.4ms\n",
      "Speed: 1.8ms preprocess, 24.4ms inference, 0.9ms postprocess per image at shape (1, 3, 384, 640)\n",
      "Saved predicted image: /media/mzc/e4fcae9b-7400-4641-a800-034f249f8d14/mzc/yolo11/YOLO11AllTraining/YOLO11X_Training/42ms/predicted_rgb_frame_1095.png\n",
      "\n",
      "image 1/1 /media/mzc/e4fcae9b-7400-4641-a800-034f249f8d14/mzc/yolo11/MicrosoftVAlidation/video/RGB_images/rgb_frame_825.png: 384x640 7 0s, 24.4ms\n",
      "Speed: 1.8ms preprocess, 24.4ms inference, 0.9ms postprocess per image at shape (1, 3, 384, 640)\n",
      "Saved predicted image: /media/mzc/e4fcae9b-7400-4641-a800-034f249f8d14/mzc/yolo11/YOLO11AllTraining/YOLO11X_Training/42ms/predicted_rgb_frame_825.png\n",
      "\n",
      "image 1/1 /media/mzc/e4fcae9b-7400-4641-a800-034f249f8d14/mzc/yolo11/MicrosoftVAlidation/video/RGB_images/rgb_frame_480.png: 384x640 3 0s, 26.5ms\n",
      "Speed: 1.8ms preprocess, 26.5ms inference, 0.9ms postprocess per image at shape (1, 3, 384, 640)\n",
      "Saved predicted image: /media/mzc/e4fcae9b-7400-4641-a800-034f249f8d14/mzc/yolo11/YOLO11AllTraining/YOLO11X_Training/42ms/predicted_rgb_frame_480.png\n",
      "\n",
      "image 1/1 /media/mzc/e4fcae9b-7400-4641-a800-034f249f8d14/mzc/yolo11/MicrosoftVAlidation/video/RGB_images/rgb_frame_990.png: 384x640 5 0s, 24.6ms\n",
      "Speed: 1.8ms preprocess, 24.6ms inference, 0.9ms postprocess per image at shape (1, 3, 384, 640)\n",
      "Saved predicted image: /media/mzc/e4fcae9b-7400-4641-a800-034f249f8d14/mzc/yolo11/YOLO11AllTraining/YOLO11X_Training/42ms/predicted_rgb_frame_990.png\n",
      "\n",
      "image 1/1 /media/mzc/e4fcae9b-7400-4641-a800-034f249f8d14/mzc/yolo11/MicrosoftVAlidation/video/RGB_images/rgb_frame_255.png: 384x640 10 0s, 24.6ms\n",
      "Speed: 1.9ms preprocess, 24.6ms inference, 0.9ms postprocess per image at shape (1, 3, 384, 640)\n",
      "Saved predicted image: /media/mzc/e4fcae9b-7400-4641-a800-034f249f8d14/mzc/yolo11/YOLO11AllTraining/YOLO11X_Training/42ms/predicted_rgb_frame_255.png\n",
      "\n",
      "image 1/1 /media/mzc/e4fcae9b-7400-4641-a800-034f249f8d14/mzc/yolo11/MicrosoftVAlidation/video/RGB_images/rgb_frame_1485.png: 384x640 4 0s, 24.6ms\n",
      "Speed: 1.8ms preprocess, 24.6ms inference, 0.9ms postprocess per image at shape (1, 3, 384, 640)\n",
      "Saved predicted image: /media/mzc/e4fcae9b-7400-4641-a800-034f249f8d14/mzc/yolo11/YOLO11AllTraining/YOLO11X_Training/42ms/predicted_rgb_frame_1485.png\n",
      "\n",
      "image 1/1 /media/mzc/e4fcae9b-7400-4641-a800-034f249f8d14/mzc/yolo11/MicrosoftVAlidation/video/RGB_images/rgb_frame_1185.png: 384x640 3 0s, 24.7ms\n",
      "Speed: 1.8ms preprocess, 24.7ms inference, 0.9ms postprocess per image at shape (1, 3, 384, 640)\n",
      "Saved predicted image: /media/mzc/e4fcae9b-7400-4641-a800-034f249f8d14/mzc/yolo11/YOLO11AllTraining/YOLO11X_Training/42ms/predicted_rgb_frame_1185.png\n",
      "\n",
      "image 1/1 /media/mzc/e4fcae9b-7400-4641-a800-034f249f8d14/mzc/yolo11/MicrosoftVAlidation/video/RGB_images/rgb_frame_855.png: 384x640 9 0s, 24.5ms\n",
      "Speed: 1.7ms preprocess, 24.5ms inference, 0.9ms postprocess per image at shape (1, 3, 384, 640)\n",
      "Saved predicted image: /media/mzc/e4fcae9b-7400-4641-a800-034f249f8d14/mzc/yolo11/YOLO11AllTraining/YOLO11X_Training/42ms/predicted_rgb_frame_855.png\n",
      "\n",
      "image 1/1 /media/mzc/e4fcae9b-7400-4641-a800-034f249f8d14/mzc/yolo11/MicrosoftVAlidation/video/RGB_images/rgb_frame_1500.png: 384x640 12 0s, 24.6ms\n",
      "Speed: 1.8ms preprocess, 24.6ms inference, 0.9ms postprocess per image at shape (1, 3, 384, 640)\n",
      "Saved predicted image: /media/mzc/e4fcae9b-7400-4641-a800-034f249f8d14/mzc/yolo11/YOLO11AllTraining/YOLO11X_Training/42ms/predicted_rgb_frame_1500.png\n",
      "\n",
      "image 1/1 /media/mzc/e4fcae9b-7400-4641-a800-034f249f8d14/mzc/yolo11/MicrosoftVAlidation/video/RGB_images/rgb_frame_945.png: 384x640 9 0s, 24.4ms\n",
      "Speed: 1.8ms preprocess, 24.4ms inference, 0.9ms postprocess per image at shape (1, 3, 384, 640)\n",
      "Saved predicted image: /media/mzc/e4fcae9b-7400-4641-a800-034f249f8d14/mzc/yolo11/YOLO11AllTraining/YOLO11X_Training/42ms/predicted_rgb_frame_945.png\n",
      "\n",
      "image 1/1 /media/mzc/e4fcae9b-7400-4641-a800-034f249f8d14/mzc/yolo11/MicrosoftVAlidation/video/RGB_images/rgb_frame_1380.png: 384x640 6 0s, 24.3ms\n",
      "Speed: 2.2ms preprocess, 24.3ms inference, 1.2ms postprocess per image at shape (1, 3, 384, 640)\n",
      "Saved predicted image: /media/mzc/e4fcae9b-7400-4641-a800-034f249f8d14/mzc/yolo11/YOLO11AllTraining/YOLO11X_Training/42ms/predicted_rgb_frame_1380.png\n",
      "\n",
      "image 1/1 /media/mzc/e4fcae9b-7400-4641-a800-034f249f8d14/mzc/yolo11/MicrosoftVAlidation/video/RGB_images/rgb_frame_1515.png: 384x640 7 0s, 27.3ms\n",
      "Speed: 1.9ms preprocess, 27.3ms inference, 1.1ms postprocess per image at shape (1, 3, 384, 640)\n",
      "Saved predicted image: /media/mzc/e4fcae9b-7400-4641-a800-034f249f8d14/mzc/yolo11/YOLO11AllTraining/YOLO11X_Training/42ms/predicted_rgb_frame_1515.png\n",
      "\n",
      "image 1/1 /media/mzc/e4fcae9b-7400-4641-a800-034f249f8d14/mzc/yolo11/MicrosoftVAlidation/video/RGB_images/rgb_frame_1470.png: 384x640 3 0s, 24.5ms\n",
      "Speed: 1.8ms preprocess, 24.5ms inference, 1.0ms postprocess per image at shape (1, 3, 384, 640)\n",
      "Saved predicted image: /media/mzc/e4fcae9b-7400-4641-a800-034f249f8d14/mzc/yolo11/YOLO11AllTraining/YOLO11X_Training/42ms/predicted_rgb_frame_1470.png\n",
      "\n",
      "image 1/1 /media/mzc/e4fcae9b-7400-4641-a800-034f249f8d14/mzc/yolo11/MicrosoftVAlidation/video/RGB_images/rgb_frame_1125.png: 384x640 3 0s, 24.7ms\n",
      "Speed: 1.9ms preprocess, 24.7ms inference, 0.9ms postprocess per image at shape (1, 3, 384, 640)\n",
      "Saved predicted image: /media/mzc/e4fcae9b-7400-4641-a800-034f249f8d14/mzc/yolo11/YOLO11AllTraining/YOLO11X_Training/42ms/predicted_rgb_frame_1125.png\n",
      "\n",
      "image 1/1 /media/mzc/e4fcae9b-7400-4641-a800-034f249f8d14/mzc/yolo11/MicrosoftVAlidation/video/RGB_images/rgb_frame_555.png: 384x640 4 0s, 25.9ms\n",
      "Speed: 1.8ms preprocess, 25.9ms inference, 0.9ms postprocess per image at shape (1, 3, 384, 640)\n",
      "Saved predicted image: /media/mzc/e4fcae9b-7400-4641-a800-034f249f8d14/mzc/yolo11/YOLO11AllTraining/YOLO11X_Training/42ms/predicted_rgb_frame_555.png\n",
      "\n",
      "image 1/1 /media/mzc/e4fcae9b-7400-4641-a800-034f249f8d14/mzc/yolo11/MicrosoftVAlidation/video/RGB_images/rgb_frame_510.png: 384x640 3 0s, 24.6ms\n",
      "Speed: 1.8ms preprocess, 24.6ms inference, 0.9ms postprocess per image at shape (1, 3, 384, 640)\n",
      "Saved predicted image: /media/mzc/e4fcae9b-7400-4641-a800-034f249f8d14/mzc/yolo11/YOLO11AllTraining/YOLO11X_Training/42ms/predicted_rgb_frame_510.png\n",
      "\n",
      "image 1/1 /media/mzc/e4fcae9b-7400-4641-a800-034f249f8d14/mzc/yolo11/MicrosoftVAlidation/video/RGB_images/rgb_frame_360.png: 384x640 6 0s, 24.5ms\n",
      "Speed: 1.8ms preprocess, 24.5ms inference, 0.9ms postprocess per image at shape (1, 3, 384, 640)\n",
      "Saved predicted image: /media/mzc/e4fcae9b-7400-4641-a800-034f249f8d14/mzc/yolo11/YOLO11AllTraining/YOLO11X_Training/42ms/predicted_rgb_frame_360.png\n",
      "All predictions have been saved!\n"
     ]
    }
   ],
   "source": [
    "# Import necessary libraries\n",
    "from ultralytics import YOLO\n",
    "import cv2\n",
    "import os\n",
    "\n",
    "# Define paths\n",
    "model_path = '/media/mzc/e4fcae9b-7400-4641-a800-034f249f8d14/mzc/yolo11/YOLO11AllTraining/YOLO11X_Training/YOLO11X_Training2/weights/last.pt'\n",
    "image_directory = '/media/mzc/e4fcae9b-7400-4641-a800-034f249f8d14/mzc/yolo11/MicrosoftVAlidation/video/RGB_images'\n",
    "output_directory = '/media/mzc/e4fcae9b-7400-4641-a800-034f249f8d14/mzc/yolo11/YOLO11AllTraining/YOLO11X_Training/42ms'\n",
    "\n",
    "# Load the YOLO11n model\n",
    "model = YOLO(model_path)\n",
    "\n",
    "# Ensure output directory exists\n",
    "if not os.path.exists(output_directory):\n",
    "    os.makedirs(output_directory)\n",
    "\n",
    "# Iterate over each image in the image directory\n",
    "for image_file in os.listdir(image_directory):\n",
    "    if image_file.lower().endswith(('.png', '.jpg', '.jpeg')):  # Filter for image files\n",
    "        image_path = os.path.join(image_directory, image_file)\n",
    "        img = cv2.imread(image_path)\n",
    "\n",
    "        if img is not None:\n",
    "            # Run inference on the image\n",
    "            results = model(image_path)\n",
    "\n",
    "            # Get the annotated image with predictions\n",
    "            annotated_img = results[0].plot()\n",
    "\n",
    "            # Save the annotated image to the output directory\n",
    "            output_image_path = os.path.join(output_directory, f\"predicted_{image_file}\")\n",
    "            cv2.imwrite(output_image_path, annotated_img)\n",
    "            print(f\"Saved predicted image: {output_image_path}\")\n",
    "        else:\n",
    "            print(f\"Failed to load image: {image_path}\")\n",
    "\n",
    "print(\"All predictions have been saved!\")\n"
   ]
  },
  {
   "cell_type": "code",
   "execution_count": null,
   "id": "b081ac9e-9c9a-40ea-9f17-4a13c4537a0b",
   "metadata": {},
   "outputs": [],
   "source": []
  }
 ],
 "metadata": {
  "kernelspec": {
   "display_name": "Python 3 (ipykernel)",
   "language": "python",
   "name": "python3"
  },
  "language_info": {
   "codemirror_mode": {
    "name": "ipython",
    "version": 3
   },
   "file_extension": ".py",
   "mimetype": "text/x-python",
   "name": "python",
   "nbconvert_exporter": "python",
   "pygments_lexer": "ipython3",
   "version": "3.11.7"
  }
 },
 "nbformat": 4,
 "nbformat_minor": 5
}
